{
  "nbformat": 4,
  "nbformat_minor": 0,
  "metadata": {
    "colab": {
      "provenance": [],
      "authorship_tag": "ABX9TyPdOBE/R+whV/ith+5iZcHQ",
      "include_colab_link": true
    },
    "kernelspec": {
      "name": "python3",
      "display_name": "Python 3"
    },
    "language_info": {
      "name": "python"
    }
  },
  "cells": [
    {
      "cell_type": "markdown",
      "metadata": {
        "id": "view-in-github",
        "colab_type": "text"
      },
      "source": [
        "<a href=\"https://colab.research.google.com/github/nisha1365/THINK-BAYES/blob/main/Chapter_4.ipynb\" target=\"_parent\"><img src=\"https://colab.research.google.com/assets/colab-badge.svg\" alt=\"Open In Colab\"/></a>"
      ]
    },
    {
      "cell_type": "code",
      "execution_count": null,
      "metadata": {
        "colab": {
          "base_uri": "https://localhost:8080/"
        },
        "id": "sYqxSKNbji_G",
        "outputId": "174fb43f-224b-4d39-872b-abe1794f6f84"
      },
      "outputs": [
        {
          "output_type": "stream",
          "name": "stdout",
          "text": [
            "Looking in indexes: https://pypi.org/simple, https://us-python.pkg.dev/colab-wheels/public/simple/\n",
            "Collecting empiricaldist\n",
            "  Downloading empiricaldist-0.6.7.tar.gz (11 kB)\n",
            "Building wheels for collected packages: empiricaldist\n",
            "  Building wheel for empiricaldist (setup.py) ... \u001b[?25l\u001b[?25hdone\n",
            "  Created wheel for empiricaldist: filename=empiricaldist-0.6.7-py3-none-any.whl size=11972 sha256=d7908dd1e4b7ee221d4e3fa6cd0d14248bf52198f7e17c3ca4792f029beab684\n",
            "  Stored in directory: /root/.cache/pip/wheels/dd/dc/1c/c472efa84814edbb5b67d132ad3950534d0d7fd808543a659c\n",
            "Successfully built empiricaldist\n",
            "Installing collected packages: empiricaldist\n",
            "Successfully installed empiricaldist-0.6.7\n"
          ]
        }
      ],
      "source": [
        "import sys\n",
        "IN_COLAB = 'google.colab' in sys.modules\n",
        "\n",
        "if IN_COLAB:\n",
        "    !pip install empiricaldist"
      ]
    },
    {
      "cell_type": "code",
      "source": [
        "# Get utils.py\n",
        "\n",
        "from os.path import basename, exists\n",
        "\n",
        "def download(url):\n",
        "    filename = basename(url)\n",
        "    if not exists(filename):\n",
        "        from urllib.request import urlretrieve\n",
        "        local, _ = urlretrieve(url, filename)\n",
        "        print('Downloaded ' + local)\n",
        "    \n",
        "download('https://github.com/AllenDowney/ThinkBayes2/raw/master/soln/utils.py')"
      ],
      "metadata": {
        "colab": {
          "base_uri": "https://localhost:8080/"
        },
        "id": "xNNDn93bkj8m",
        "outputId": "29674ac0-48a2-4f57-c57a-ebcd6efb6a73"
      },
      "execution_count": null,
      "outputs": [
        {
          "output_type": "stream",
          "name": "stdout",
          "text": [
            "Downloaded utils.py\n"
          ]
        }
      ]
    },
    {
      "cell_type": "code",
      "source": [
        "from utils import set_pyplot_params\n",
        "set_pyplot_params()"
      ],
      "metadata": {
        "id": "ns1rNYtCkmn6"
      },
      "execution_count": null,
      "outputs": []
    },
    {
      "cell_type": "markdown",
      "source": [
        "The Euro Problem\n",
        "\n",
        "\n",
        "When spun on edge 250 times, a Belgian one-euro coin came up heads 140 times and tails 110. `It looks very suspicious to me,' said Barry Blight, a statistics lecturer at the London School of Economics. `If the coin were unbiased, the chance of getting a result as extreme as that would be less than 7%.'"
      ],
      "metadata": {
        "id": "aszdglrHlptU"
      }
    },
    {
      "cell_type": "markdown",
      "source": [
        "To answer that question, we'll proceed in two steps. First we'll use the binomial distribution to see where that 7% came from; then we'll use Bayes's Theorem to estimate the probability that this coin comes up heads.\n",
        "\n"
      ],
      "metadata": {
        "id": "z-CvxNI4mOYJ"
      }
    },
    {
      "cell_type": "markdown",
      "source": [
        "The Binomial Distribution"
      ],
      "metadata": {
        "id": "72Fv7dUEm5nt"
      }
    },
    {
      "cell_type": "markdown",
      "source": [
        "Suppose I tell you that a coin is \"fair\", that is, the probability of heads is 50%. If you spin it twice, there are four outcomes: HH, HT, TH, and TT. All four outcomes have the same probability, 25%."
      ],
      "metadata": {
        "id": "ZQWKLYC3m9cK"
      }
    },
    {
      "cell_type": "markdown",
      "source": [
        "We could evaluate this expression ourselves, but we can also use the SciPy function binom.pmf. For example, if we flip a coin n=2 times and the probability of heads is p=0.5, here's the probability of getting k=1 heads:"
      ],
      "metadata": {
        "id": "I8-o2fH6njmv"
      }
    },
    {
      "cell_type": "code",
      "source": [
        "from scipy.stats import binom\n",
        "\n",
        "n = 2\n",
        "p = 0.5\n",
        "k = 1\n",
        "\n",
        "binom.pmf(k, n, p)"
      ],
      "metadata": {
        "colab": {
          "base_uri": "https://localhost:8080/"
        },
        "id": "rJtzXFxenqTv",
        "outputId": "94e8279c-5f18-4039-fc94-1accca911a3c"
      },
      "execution_count": null,
      "outputs": [
        {
          "output_type": "execute_result",
          "data": {
            "text/plain": [
              "0.5000000000000002"
            ]
          },
          "metadata": {},
          "execution_count": 4
        }
      ]
    },
    {
      "cell_type": "markdown",
      "source": [
        "Instead of providing a single value for k, we can also call binom.pmf with an array of values."
      ],
      "metadata": {
        "id": "J9XcGNdhnvgM"
      }
    },
    {
      "cell_type": "code",
      "source": [
        "import numpy as np\n",
        "ks = np.arange(n+1)\n",
        "\n",
        "ps = binom.pmf(ks, n, p)\n",
        "ps"
      ],
      "metadata": {
        "colab": {
          "base_uri": "https://localhost:8080/"
        },
        "id": "F33w0mE1nz88",
        "outputId": "fbbb88d5-6354-4838-beb7-99d4ecf93949"
      },
      "execution_count": null,
      "outputs": [
        {
          "output_type": "execute_result",
          "data": {
            "text/plain": [
              "array([0.25, 0.5 , 0.25])"
            ]
          },
          "metadata": {},
          "execution_count": 5
        }
      ]
    },
    {
      "cell_type": "code",
      "source": [
        "from empiricaldist import Pmf\n",
        "\n",
        "pmf_k = Pmf(ps, ks)\n",
        "pmf_k"
      ],
      "metadata": {
        "colab": {
          "base_uri": "https://localhost:8080/",
          "height": 143
        },
        "id": "p0Osz29aoMDM",
        "outputId": "6f7e2142-6a5f-42cb-d3cb-266d8af6f204"
      },
      "execution_count": null,
      "outputs": [
        {
          "output_type": "execute_result",
          "data": {
            "text/plain": [
              "0    0.25\n",
              "1    0.50\n",
              "2    0.25\n",
              "Name: , dtype: float64"
            ],
            "text/html": [
              "<div>\n",
              "<style scoped>\n",
              "    .dataframe tbody tr th:only-of-type {\n",
              "        vertical-align: middle;\n",
              "    }\n",
              "\n",
              "    .dataframe tbody tr th {\n",
              "        vertical-align: top;\n",
              "    }\n",
              "\n",
              "    .dataframe thead th {\n",
              "        text-align: right;\n",
              "    }\n",
              "</style>\n",
              "<table border=\"1\" class=\"dataframe\">\n",
              "  <thead>\n",
              "    <tr style=\"text-align: right;\">\n",
              "      <th></th>\n",
              "      <th>probs</th>\n",
              "    </tr>\n",
              "  </thead>\n",
              "  <tbody>\n",
              "    <tr>\n",
              "      <th>0</th>\n",
              "      <td>0.25</td>\n",
              "    </tr>\n",
              "    <tr>\n",
              "      <th>1</th>\n",
              "      <td>0.50</td>\n",
              "    </tr>\n",
              "    <tr>\n",
              "      <th>2</th>\n",
              "      <td>0.25</td>\n",
              "    </tr>\n",
              "  </tbody>\n",
              "</table>\n",
              "</div>"
            ]
          },
          "metadata": {},
          "execution_count": 6
        }
      ]
    },
    {
      "cell_type": "markdown",
      "source": [
        "The following function computes the binomial distribution for given values of n and p and returns a Pmf that represents the result."
      ],
      "metadata": {
        "id": "8UOptfjloULx"
      }
    },
    {
      "cell_type": "code",
      "source": [
        "def make_binomial(n, p):\n",
        "    \"\"\"Make a binomial Pmf.\"\"\"\n",
        "    ks = np.arange(n+1)\n",
        "    ps = binom.pmf(ks, n, p)\n",
        "    return Pmf(ps, ks)"
      ],
      "metadata": {
        "id": "UgK1tzYMoaUc"
      },
      "execution_count": null,
      "outputs": []
    },
    {
      "cell_type": "markdown",
      "source": [
        "Here's what it looks like with n=250 and p=0.5:"
      ],
      "metadata": {
        "id": "fC8v8Yc9oeCs"
      }
    },
    {
      "cell_type": "code",
      "source": [
        "pmf_k = make_binomial(n=250, p=0.5)"
      ],
      "metadata": {
        "id": "npAyoq3ioepy"
      },
      "execution_count": null,
      "outputs": []
    },
    {
      "cell_type": "code",
      "source": [
        "from utils import decorate\n",
        "\n",
        "pmf_k.plot(label='n=250, p=0.5')\n",
        "\n",
        "decorate(xlabel='Number of heads (k)',\n",
        "         ylabel='PMF',\n",
        "         title='Binomial distribution')"
      ],
      "metadata": {
        "colab": {
          "base_uri": "https://localhost:8080/",
          "height": 297
        },
        "id": "WVlmJMv_n0Yc",
        "outputId": "80a0cb54-49ab-4a81-f5aa-d9f708b8af63"
      },
      "execution_count": null,
      "outputs": [
        {
          "output_type": "display_data",
          "data": {
            "text/plain": [
              "<Figure size 432x288 with 1 Axes>"
            ],
            "image/png": "[encoded data removed]"
          },
          "metadata": {
            "needs_background": "light"
          }
        }
      ]
    },
    {
      "cell_type": "markdown",
      "source": [
        "The most likely quantity in this distribution is 125:"
      ],
      "metadata": {
        "id": "kJRdrUj8onNQ"
      }
    },
    {
      "cell_type": "code",
      "source": [
        "pmf_k.max_prob()"
      ],
      "metadata": {
        "colab": {
          "base_uri": "https://localhost:8080/"
        },
        "id": "2yG0SpSHorM0",
        "outputId": "5df78cf1-857a-479a-b051-1f8103a57181"
      },
      "execution_count": null,
      "outputs": [
        {
          "output_type": "execute_result",
          "data": {
            "text/plain": [
              "125"
            ]
          },
          "metadata": {},
          "execution_count": 10
        }
      ]
    },
    {
      "cell_type": "markdown",
      "source": [
        "But even though it is the most likely quantity, the probability that we get exactly 125 heads is only about 5%."
      ],
      "metadata": {
        "id": "b1Vr017lowzA"
      }
    },
    {
      "cell_type": "code",
      "source": [
        "pmf_k[125]\n"
      ],
      "metadata": {
        "colab": {
          "base_uri": "https://localhost:8080/"
        },
        "id": "N_7ImLInoxU3",
        "outputId": "98e11e7f-95a2-40e1-998e-2c966156574e"
      },
      "execution_count": null,
      "outputs": [
        {
          "output_type": "execute_result",
          "data": {
            "text/plain": [
              "0.050412213147309655"
            ]
          },
          "metadata": {},
          "execution_count": 11
        }
      ]
    },
    {
      "cell_type": "markdown",
      "source": [
        "In MacKay's example, we got 140 heads, which is even less likely than 125:"
      ],
      "metadata": {
        "id": "nJRnntDAo3hQ"
      }
    },
    {
      "cell_type": "code",
      "source": [
        "pmf_k[140]"
      ],
      "metadata": {
        "colab": {
          "base_uri": "https://localhost:8080/"
        },
        "id": "uxcdFDiOo-Iw",
        "outputId": "e603db14-f048-45dd-d70d-4da95e7306d1"
      },
      "execution_count": null,
      "outputs": [
        {
          "output_type": "execute_result",
          "data": {
            "text/plain": [
              "0.008357181724918204"
            ]
          },
          "metadata": {},
          "execution_count": 12
        }
      ]
    },
    {
      "cell_type": "code",
      "source": [
        "def prob_ge(pmf, threshold):\n",
        "    \"\"\"Probability of quantities greater than threshold.\"\"\"\n",
        "    ge = (pmf.qs >= threshold)\n",
        "    total = pmf[ge].sum()\n",
        "    return total"
      ],
      "metadata": {
        "id": "DMxsI_wRo-bh"
      },
      "execution_count": null,
      "outputs": []
    },
    {
      "cell_type": "markdown",
      "source": [
        "Here's the probability of getting 140 heads or more:"
      ],
      "metadata": {
        "id": "B-_EJDERpI2o"
      }
    },
    {
      "cell_type": "code",
      "source": [
        "prob_ge(pmf_k, 140)"
      ],
      "metadata": {
        "colab": {
          "base_uri": "https://localhost:8080/"
        },
        "id": "2XsQxmc0pKhP",
        "outputId": "fbb0f936-6e70-474b-dc97-2a807be03f7d"
      },
      "execution_count": null,
      "outputs": [
        {
          "output_type": "execute_result",
          "data": {
            "text/plain": [
              "0.03321057562002163"
            ]
          },
          "metadata": {},
          "execution_count": 14
        }
      ]
    },
    {
      "cell_type": "markdown",
      "source": [
        "Pmf provides a method that does the same computation."
      ],
      "metadata": {
        "id": "ArZaKJvupOXc"
      }
    },
    {
      "cell_type": "code",
      "source": [
        "pmf_k.prob_ge(140)"
      ],
      "metadata": {
        "colab": {
          "base_uri": "https://localhost:8080/"
        },
        "id": "uWNgZg8XpO7Q",
        "outputId": "1acb599c-4bd8-43e9-99fe-a6564a9fa073"
      },
      "execution_count": null,
      "outputs": [
        {
          "output_type": "execute_result",
          "data": {
            "text/plain": [
              "0.03321057562002163"
            ]
          },
          "metadata": {},
          "execution_count": 15
        }
      ]
    },
    {
      "cell_type": "markdown",
      "source": [
        "The result is about 3.3%, which is less than the quoted 7%. The reason for the difference is that the statistician includes all outcomes \"as extreme as\" 140, which includes outcomes less than or equal to 110.\n",
        "\n",
        "To see where that comes from, recall that the expected number of heads is 125. If we get 140, we've exceeded that expectation by 15. And if we get 110, we have come up short by 15.\n",
        "\n",
        "7% is the sum of both of these \"tails\", as shown in the following figure."
      ],
      "metadata": {
        "id": "fxfCjbTuppDl"
      }
    },
    {
      "cell_type": "code",
      "source": [
        "import matplotlib.pyplot as plt\n",
        "\n",
        "def fill_below(pmf):\n",
        "    qs = pmf.index\n",
        "    ps = pmf.values\n",
        "    plt.fill_between(qs, ps, 0, color='C5', alpha=0.4)\n",
        "\n",
        "qs = pmf_k.index\n",
        "fill_below(pmf_k[qs>=140])\n",
        "fill_below(pmf_k[qs<=110])\n",
        "pmf_k.plot(label='n=250, p=0.5')\n",
        "\n",
        "decorate(xlabel='Number of heads (k)',\n",
        "         ylabel='PMF',\n",
        "         title='Binomial distribution')"
      ],
      "metadata": {
        "colab": {
          "base_uri": "https://localhost:8080/",
          "height": 297
        },
        "id": "U8U8_az9pqre",
        "outputId": "2bb14cb5-4585-4079-e857-503a8890fb3c"
      },
      "execution_count": null,
      "outputs": [
        {
          "output_type": "display_data",
          "data": {
            "text/plain": [
              "<Figure size 432x288 with 1 Axes>"
            ],
            "image/png": "[encoded data removed]"
          },
          "metadata": {
            "needs_background": "light"
          }
        }
      ]
    },
    {
      "cell_type": "markdown",
      "source": [
        "Here's how we compute the total probability of the left tail."
      ],
      "metadata": {
        "id": "zjtt58eTpwhJ"
      }
    },
    {
      "cell_type": "code",
      "source": [
        "pmf_k.prob_le(110)"
      ],
      "metadata": {
        "colab": {
          "base_uri": "https://localhost:8080/"
        },
        "id": "vsnlqmNppxEF",
        "outputId": "d0eebfe7-4623-4f20-f892-8f55090c5f51"
      },
      "execution_count": null,
      "outputs": [
        {
          "output_type": "execute_result",
          "data": {
            "text/plain": [
              "0.03321057562002164"
            ]
          },
          "metadata": {},
          "execution_count": 17
        }
      ]
    },
    {
      "cell_type": "markdown",
      "source": [
        "The probability of outcomes less than or equal to 110 is also 3.3%, so the total probability of outcomes \"as extreme\" as 140 is 6.6%.\n",
        "\n",
        "The point of this calculation is that these extreme outcomes are unlikely if the coin is fair."
      ],
      "metadata": {
        "id": "QA6G9wqawor3"
      }
    },
    {
      "cell_type": "markdown",
      "source": [
        "Bayesian Estimation\n",
        "\n",
        "\n",
        "\n",
        "Any given coin has some probability of landing heads up when spun on edge; I'll call this probability x. It seems reasonable to believe that x depends on physical characteristics of the coin, like the distribution of weight. If a coin is perfectly balanced, we expect x to be close to 50%, but for a lopsided coin, x might be substantially different. We can use Bayes's theorem and the observed data to estimate x.\n",
        "\n",
        "For simplicity, I'll start with a uniform prior, which assumes that all values of x are equally likely. That might not be a reasonable assumption, so we'll come back and consider other priors later."
      ],
      "metadata": {
        "id": "gB9gORHzp5H0"
      }
    },
    {
      "cell_type": "code",
      "source": [
        "hypos = np.linspace(0, 1, 101)\n",
        "prior = Pmf(1, hypos)"
      ],
      "metadata": {
        "id": "UviE8fPupKzm"
      },
      "execution_count": null,
      "outputs": []
    },
    {
      "cell_type": "markdown",
      "source": [
        "We can use the hypotheses to compute the likelihoods, like this:"
      ],
      "metadata": {
        "id": "UO_2MrOWqRqN"
      }
    },
    {
      "cell_type": "code",
      "source": [
        "likelihood_heads = hypos\n",
        "likelihood_tails = 1 - hypos"
      ],
      "metadata": {
        "id": "sIiw_-4QqTYw"
      },
      "execution_count": null,
      "outputs": []
    },
    {
      "cell_type": "markdown",
      "source": [
        "I'll put the likelihoods for heads and tails in a dictionary to make it easier to do the update."
      ],
      "metadata": {
        "id": "F3Yq7BTMqXA9"
      }
    },
    {
      "cell_type": "code",
      "source": [
        "likelihood = {\n",
        "    'H': likelihood_heads,\n",
        "    'T': likelihood_tails\n",
        "}"
      ],
      "metadata": {
        "id": "x66J3UcBqXgz"
      },
      "execution_count": null,
      "outputs": []
    },
    {
      "cell_type": "markdown",
      "source": [
        "To represent the data, I'll construct a string with H repeated 140 times and T repeated 110 times."
      ],
      "metadata": {
        "id": "Luz8vjBnqelE"
      }
    },
    {
      "cell_type": "code",
      "source": [
        "dataset = 'H' * 140 + 'T' * 110"
      ],
      "metadata": {
        "id": "_yHVz7ryqgl2"
      },
      "execution_count": null,
      "outputs": []
    },
    {
      "cell_type": "markdown",
      "source": [
        "The following function does the update."
      ],
      "metadata": {
        "id": "oBo8XUyAqj-5"
      }
    },
    {
      "cell_type": "code",
      "source": [
        "def update_euro(pmf, dataset):\n",
        "    \"\"\"Update pmf with a given sequence of H and T.\"\"\"\n",
        "    for data in dataset:\n",
        "        pmf *= likelihood[data]\n",
        "\n",
        "    pmf.normalize()"
      ],
      "metadata": {
        "id": "VeOFfPbUqlyb"
      },
      "execution_count": null,
      "outputs": []
    },
    {
      "cell_type": "code",
      "source": [
        "posterior = prior.copy()\n",
        "update_euro(posterior, dataset)"
      ],
      "metadata": {
        "id": "JWsS_SXAqZgq"
      },
      "execution_count": null,
      "outputs": []
    },
    {
      "cell_type": "markdown",
      "source": [
        "And here's what the posterior looks like."
      ],
      "metadata": {
        "id": "WTk0xoeeq3js"
      }
    },
    {
      "cell_type": "code",
      "source": [
        "def decorate_euro(title):\n",
        "    decorate(xlabel='Proportion of heads (x)',\n",
        "             ylabel='Probability',\n",
        "             title=title)"
      ],
      "metadata": {
        "id": "3Z5IleKvq55e"
      },
      "execution_count": null,
      "outputs": []
    },
    {
      "cell_type": "code",
      "source": [
        "posterior.plot(label='140 heads out of 250', color='C4')\n",
        "decorate_euro(title='Posterior distribution of x')"
      ],
      "metadata": {
        "colab": {
          "base_uri": "https://localhost:8080/",
          "height": 297
        },
        "id": "SZiQPkOsq1Dt",
        "outputId": "343c28b2-e96c-4b00-ffe4-703a31bcf88c"
      },
      "execution_count": null,
      "outputs": [
        {
          "output_type": "display_data",
          "data": {
            "text/plain": [
              "<Figure size 432x288 with 1 Axes>"
            ],
            "image/png": "[encoded data removed]"
          },
          "metadata": {
            "needs_background": "light"
          }
        }
      ]
    },
    {
      "cell_type": "code",
      "source": [
        "posterior.max_prob()"
      ],
      "metadata": {
        "colab": {
          "base_uri": "https://localhost:8080/"
        },
        "id": "HlWml0qxq8Dx",
        "outputId": "aab784c0-363f-4133-fb7e-b1e9d5e211d1"
      },
      "execution_count": null,
      "outputs": [
        {
          "output_type": "execute_result",
          "data": {
            "text/plain": [
              "0.56"
            ]
          },
          "metadata": {},
          "execution_count": 26
        }
      ]
    },
    {
      "cell_type": "markdown",
      "source": [
        "The posterior distribution represents our beliefs about x after seeing the data. It indicates that values less than 0.4 and greater than 0.7 are unlikely; values between 0.5 and 0.6 are the most likely."
      ],
      "metadata": {
        "id": "QuBngOT80z3M"
      }
    },
    {
      "cell_type": "markdown",
      "source": [
        "Triangle Prior"
      ],
      "metadata": {
        "id": "psR9FONbrKKg"
      }
    },
    {
      "cell_type": "code",
      "source": [
        "uniform = Pmf(1, hypos, name='uniform')\n",
        "uniform.normalize()"
      ],
      "metadata": {
        "colab": {
          "base_uri": "https://localhost:8080/"
        },
        "id": "I4viHDhMrMj1",
        "outputId": "611d56fe-1ae7-47b8-8fd0-32f4cbc21146"
      },
      "execution_count": null,
      "outputs": [
        {
          "output_type": "execute_result",
          "data": {
            "text/plain": [
              "101"
            ]
          },
          "metadata": {},
          "execution_count": 27
        }
      ]
    },
    {
      "cell_type": "markdown",
      "source": [
        "But that might not be a reasonable choice based on what we know about coins. I can believe that if a coin is lopsided, x might deviate substantially from 0.5, but it seems unlikely that the Belgian Euro coin is so imbalanced that x is 0.1 or 0.9.\n",
        "\n",
        "It might be more reasonable to choose a prior that gives higher probability to values of x near 0.5 and lower probability to extreme values.\n",
        "\n",
        "As an example, let's try a triangle-shaped prior. Here's the code that constructs it:"
      ],
      "metadata": {
        "id": "9d7D8gwErYIb"
      }
    },
    {
      "cell_type": "code",
      "source": [
        "ramp_up = np.arange(50)\n",
        "ramp_down = np.arange(50, -1, -1)\n",
        "\n",
        "a = np.append(ramp_up, ramp_down)\n",
        "\n",
        "triangle = Pmf(a, hypos, name='triangle')\n",
        "triangle.normalize()"
      ],
      "metadata": {
        "colab": {
          "base_uri": "https://localhost:8080/"
        },
        "id": "sMurg2xWrYvv",
        "outputId": "e8157e27-7704-4b33-b92b-a3576bb8e09c"
      },
      "execution_count": null,
      "outputs": [
        {
          "output_type": "execute_result",
          "data": {
            "text/plain": [
              "2500"
            ]
          },
          "metadata": {},
          "execution_count": 28
        }
      ]
    },
    {
      "cell_type": "code",
      "source": [
        "uniform.plot()\n",
        "triangle.plot()\n",
        "decorate_euro(title='Uniform and triangle prior distributions')\n"
      ],
      "metadata": {
        "colab": {
          "base_uri": "https://localhost:8080/",
          "height": 297
        },
        "id": "Rwqnk8G4rdHs",
        "outputId": "c3edcce0-112d-43c8-b648-84b6c9bc8b75"
      },
      "execution_count": null,
      "outputs": [
        {
          "output_type": "display_data",
          "data": {
            "text/plain": [
              "<Figure size 432x288 with 1 Axes>"
            ],
            "image/png": "[encoded data removed]"
          },
          "metadata": {
            "needs_background": "light"
          }
        }
      ]
    },
    {
      "cell_type": "markdown",
      "source": [
        "Now we can update both priors with the same data:"
      ],
      "metadata": {
        "id": "-LKmpbJLrhRh"
      }
    },
    {
      "cell_type": "code",
      "source": [
        "update_euro(uniform, dataset)\n",
        "update_euro(triangle, dataset)"
      ],
      "metadata": {
        "id": "prXrrBfmrjfr"
      },
      "execution_count": null,
      "outputs": []
    },
    {
      "cell_type": "markdown",
      "source": [
        "Here are the posteriors."
      ],
      "metadata": {
        "id": "RZ8W7987rnSS"
      }
    },
    {
      "cell_type": "code",
      "source": [
        "uniform.plot()\n",
        "triangle.plot()\n",
        "decorate_euro(title='Posterior distributions')"
      ],
      "metadata": {
        "colab": {
          "base_uri": "https://localhost:8080/",
          "height": 297
        },
        "id": "E_j42LNlro7-",
        "outputId": "0d4b5fe9-e59f-468f-b9a2-1c5d8c0e528a"
      },
      "execution_count": null,
      "outputs": [
        {
          "output_type": "display_data",
          "data": {
            "text/plain": [
              "<Figure size 432x288 with 1 Axes>"
            ],
            "image/png": "[encoded data removed]"
          },
          "metadata": {
            "needs_background": "light"
          }
        }
      ]
    },
    {
      "cell_type": "markdown",
      "source": [
        "The Binomial Likelihood Function"
      ],
      "metadata": {
        "id": "dCo4CpcTsTug"
      }
    },
    {
      "cell_type": "code",
      "source": [
        "from scipy.stats import binom\n",
        "\n",
        "def update_binomial(pmf, data):\n",
        "    \"\"\"Update pmf using the binomial distribution.\"\"\"\n",
        "    k, n = data\n",
        "    xs = pmf.qs\n",
        "    likelihood = binom.pmf(k, n, xs)\n",
        "    pmf *= likelihood\n",
        "    pmf.normalize()"
      ],
      "metadata": {
        "id": "_Y7hETdSsWHC"
      },
      "execution_count": null,
      "outputs": []
    },
    {
      "cell_type": "code",
      "source": [
        "uniform2 = Pmf(1, hypos, name='uniform2')\n",
        "data = 140, 250\n",
        "update_binomial(uniform2, data)"
      ],
      "metadata": {
        "id": "iEaqaauZrjyF"
      },
      "execution_count": null,
      "outputs": []
    },
    {
      "cell_type": "code",
      "source": [
        "uniform.plot()\n",
        "uniform2.plot()\n",
        "decorate_euro(title='Posterior distributions computed two ways')"
      ],
      "metadata": {
        "colab": {
          "base_uri": "https://localhost:8080/",
          "height": 297
        },
        "id": "flyzIGIWsaAn",
        "outputId": "76b690f5-a10e-4d9f-b8f7-c856f9323fa0"
      },
      "execution_count": null,
      "outputs": [
        {
          "output_type": "display_data",
          "data": {
            "text/plain": [
              "<Figure size 432x288 with 1 Axes>"
            ],
            "image/png": "[encoded data removed]"
          },
          "metadata": {
            "needs_background": "light"
          }
        }
      ]
    },
    {
      "cell_type": "markdown",
      "source": [
        "For this exercise, I'll construct the prior distribution by starting with a uniform distribution and updating it with imaginary data until it has a shape that reflects my background knowledge of batting averages."
      ],
      "metadata": {
        "id": "ckgwBg5-sjkL"
      }
    },
    {
      "cell_type": "code",
      "source": [
        "hypos = np.linspace(0.1, 0.4, 101)\n",
        "prior = Pmf(1, hypos)"
      ],
      "metadata": {
        "id": "MyuQfxT6slcc"
      },
      "execution_count": null,
      "outputs": []
    },
    {
      "cell_type": "markdown",
      "source": [
        "And here is a dictionary of likelihoods, with Y for getting a hit and N for not getting a hit."
      ],
      "metadata": {
        "id": "iiGYkg0WsqhX"
      }
    },
    {
      "cell_type": "code",
      "source": [
        "likelihood = {\n",
        "    'Y': hypos,\n",
        "    'N': 1-hypos\n",
        "}"
      ],
      "metadata": {
        "id": "qYmc80q3ssJa"
      },
      "execution_count": null,
      "outputs": []
    },
    {
      "cell_type": "markdown",
      "source": [
        "Here's a dataset that yields a reasonable prior distribution."
      ],
      "metadata": {
        "id": "7D6U2qrusvJb"
      }
    },
    {
      "cell_type": "code",
      "source": [
        "dataset = 'Y' * 25 + 'N' * 75"
      ],
      "metadata": {
        "id": "ikbvIcrksxi8"
      },
      "execution_count": null,
      "outputs": []
    },
    {
      "cell_type": "markdown",
      "source": [
        "And here's the update with the imaginary data."
      ],
      "metadata": {
        "id": "3BSVvI3js1GO"
      }
    },
    {
      "cell_type": "code",
      "source": [
        "for data in dataset:\n",
        "    prior *= likelihood[data]\n",
        "\n",
        "prior.normalize()"
      ],
      "metadata": {
        "colab": {
          "base_uri": "https://localhost:8080/"
        },
        "id": "U4dznXVis1o0",
        "outputId": "b3e9ea99-c886-47af-c0b7-b10011ab07eb"
      },
      "execution_count": null,
      "outputs": [
        {
          "output_type": "execute_result",
          "data": {
            "text/plain": [
              "1.3596964206970507e-23"
            ]
          },
          "metadata": {},
          "execution_count": 38
        }
      ]
    },
    {
      "cell_type": "markdown",
      "source": [
        "prior looks like:-"
      ],
      "metadata": {
        "id": "9G8zKXrRs8YP"
      }
    },
    {
      "cell_type": "code",
      "source": [
        "prior.plot(label='prior')\n",
        "decorate(xlabel='Probability of getting a hit',\n",
        "         ylabel='PMF')"
      ],
      "metadata": {
        "colab": {
          "base_uri": "https://localhost:8080/",
          "height": 297
        },
        "id": "DA54L2Xcs65P",
        "outputId": "13c68b39-82e4-4023-b1f4-011e36508743"
      },
      "execution_count": null,
      "outputs": [
        {
          "output_type": "display_data",
          "data": {
            "text/plain": [
              "<Figure size 432x288 with 1 Axes>"
            ],
            "image/png": "[encoded data removed]"
          },
          "metadata": {
            "needs_background": "light"
          }
        }
      ]
    },
    {
      "cell_type": "code",
      "source": [],
      "metadata": {
        "id": "tSXADdO9sccB"
      },
      "execution_count": null,
      "outputs": []
    }
  ]
}