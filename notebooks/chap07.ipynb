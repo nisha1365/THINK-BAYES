{
  "cells": [
    {
      "cell_type": "markdown",
      "metadata": {
        "id": "WyktPtSINdpK"
      },
      "source": [
        "# Minimum, Maximum, and Mixture"
      ]
    },
    {
      "cell_type": "code",
      "execution_count": 1,
      "metadata": {
        "execution": {
          "iopub.execute_input": "2021-04-16T19:35:30.749769Z",
          "iopub.status.busy": "2021-04-16T19:35:30.748995Z",
          "iopub.status.idle": "2021-04-16T19:35:30.752221Z",
          "shell.execute_reply": "2021-04-16T19:35:30.751509Z"
        },
        "tags": [],
        "id": "Qe6iA0CpNdpQ",
        "outputId": "19493163-a7a6-435f-8cf3-9289b73887b9",
        "colab": {
          "base_uri": "https://localhost:8080/"
        }
      },
      "outputs": [
        {
          "output_type": "stream",
          "name": "stdout",
          "text": [
            "Looking in indexes: https://pypi.org/simple, https://us-python.pkg.dev/colab-wheels/public/simple/\n",
            "Collecting empiricaldist\n",
            "  Downloading empiricaldist-0.6.8.tar.gz (12 kB)\n",
            "  Installing build dependencies ... \u001b[?25l\u001b[?25hdone\n",
            "  Getting requirements to build wheel ... \u001b[?25l\u001b[?25hdone\n",
            "  Preparing metadata (pyproject.toml) ... \u001b[?25l\u001b[?25hdone\n",
            "Building wheels for collected packages: empiricaldist\n",
            "  Building wheel for empiricaldist (pyproject.toml) ... \u001b[?25l\u001b[?25hdone\n",
            "  Created wheel for empiricaldist: filename=empiricaldist-0.6.8-py3-none-any.whl size=12125 sha256=d469ee93a728247ce4193cddaff54b63e1d43f4358873e25856a922ac5df051c\n",
            "  Stored in directory: /root/.cache/pip/wheels/c2/3f/cf/74b5adbcea4efaae43ce168e622e3eb8dbc1251d5d730dd245\n",
            "Successfully built empiricaldist\n",
            "Installing collected packages: empiricaldist\n",
            "Successfully installed empiricaldist-0.6.8\n"
          ]
        }
      ],
      "source": [
        "# If we're running on Colab, install empiricaldist\n",
        "# https://pypi.org/project/empiricaldist/\n",
        "\n",
        "import sys\n",
        "IN_COLAB = 'google.colab' in sys.modules\n",
        "\n",
        "if IN_COLAB:\n",
        "    !pip install empiricaldist"
      ]
    },
    {
      "cell_type": "code",
      "execution_count": 2,
      "metadata": {
        "execution": {
          "iopub.execute_input": "2021-04-16T19:35:30.756174Z",
          "iopub.status.busy": "2021-04-16T19:35:30.755765Z",
          "iopub.status.idle": "2021-04-16T19:35:30.757511Z",
          "shell.execute_reply": "2021-04-16T19:35:30.757889Z"
        },
        "tags": [],
        "id": "60DokTynNdpR",
        "outputId": "31269b87-6af3-4b02-c9cf-a0d1c04f194c",
        "colab": {
          "base_uri": "https://localhost:8080/"
        }
      },
      "outputs": [
        {
          "output_type": "stream",
          "name": "stdout",
          "text": [
            "Downloaded utils.py\n"
          ]
        }
      ],
      "source": [
        "# Get utils.py\n",
        "\n",
        "from os.path import basename, exists\n",
        "\n",
        "def download(url):\n",
        "    filename = basename(url)\n",
        "    if not exists(filename):\n",
        "        from urllib.request import urlretrieve\n",
        "        local, _ = urlretrieve(url, filename)\n",
        "        print('Downloaded ' + local)\n",
        "    \n",
        "download('https://github.com/AllenDowney/ThinkBayes2/raw/master/soln/utils.py')"
      ]
    },
    {
      "cell_type": "code",
      "execution_count": 3,
      "metadata": {
        "execution": {
          "iopub.execute_input": "2021-04-16T19:35:30.760611Z",
          "iopub.status.busy": "2021-04-16T19:35:30.760188Z",
          "iopub.status.idle": "2021-04-16T19:35:31.437686Z",
          "shell.execute_reply": "2021-04-16T19:35:31.438042Z"
        },
        "tags": [],
        "id": "yo_sA8rvNdpR"
      },
      "outputs": [],
      "source": [
        "from utils import set_pyplot_params\n",
        "set_pyplot_params()"
      ]
    },
    {
      "cell_type": "markdown",
      "metadata": {
        "id": "ZAeljdW7NdpS"
      },
      "source": [
        "In the previous chapter we computed distributions of sums.\n",
        "In this chapter, we'll compute distributions of minimums and maximums, and use them to solve both forward and inverse problems.\n",
        "\n",
        "Then we'll look at distributions that are mixtures of other distributions, which will turn out to be particularly useful for making predictions.\n",
        "\n",
        "But we'll start with a powerful tool for working with distributions, the cumulative distribution function."
      ]
    },
    {
      "cell_type": "markdown",
      "metadata": {
        "id": "DR50Lz9mNdpT"
      },
      "source": [
        "## Cumulative Distribution Functions\n",
        "\n",
        "So far we have been using probability mass functions to represent distributions.\n",
        "A useful alternative is the **cumulative distribution function**, or CDF.\n",
        "\n",
        "As an example, I'll use the posterior distribution from the Euro problem, which we computed in <<_BayesianEstimation>>.\n",
        "\n",
        "Here's the uniform prior we started with."
      ]
    },
    {
      "cell_type": "code",
      "execution_count": 4,
      "metadata": {
        "execution": {
          "iopub.execute_input": "2021-04-16T19:35:31.442337Z",
          "iopub.status.busy": "2021-04-16T19:35:31.441797Z",
          "iopub.status.idle": "2021-04-16T19:35:31.443480Z",
          "shell.execute_reply": "2021-04-16T19:35:31.443832Z"
        },
        "id": "a6XWo5JjNdpT"
      },
      "outputs": [],
      "source": [
        "import numpy as np\n",
        "from empiricaldist import Pmf\n",
        "\n",
        "hypos = np.linspace(0, 1, 101)\n",
        "pmf = Pmf(1, hypos)\n",
        "data = 140, 250"
      ]
    },
    {
      "cell_type": "markdown",
      "metadata": {
        "id": "9kI289l-NdpT"
      },
      "source": [
        "And here's the update."
      ]
    },
    {
      "cell_type": "code",
      "execution_count": 5,
      "metadata": {
        "execution": {
          "iopub.execute_input": "2021-04-16T19:35:31.447686Z",
          "iopub.status.busy": "2021-04-16T19:35:31.447185Z",
          "iopub.status.idle": "2021-04-16T19:35:31.449283Z",
          "shell.execute_reply": "2021-04-16T19:35:31.448866Z"
        },
        "id": "T6OpEJcENdpU"
      },
      "outputs": [],
      "source": [
        "from scipy.stats import binom\n",
        "\n",
        "def update_binomial(pmf, data):\n",
        "    \"\"\"Update pmf using the binomial distribution.\"\"\"\n",
        "    k, n = data\n",
        "    xs = pmf.qs\n",
        "    likelihood = binom.pmf(k, n, xs)\n",
        "    pmf *= likelihood\n",
        "    pmf.normalize()"
      ]
    },
    {
      "cell_type": "code",
      "execution_count": 6,
      "metadata": {
        "execution": {
          "iopub.execute_input": "2021-04-16T19:35:31.454274Z",
          "iopub.status.busy": "2021-04-16T19:35:31.453576Z",
          "iopub.status.idle": "2021-04-16T19:35:31.459248Z",
          "shell.execute_reply": "2021-04-16T19:35:31.458812Z"
        },
        "id": "IusRxrEpNdpU"
      },
      "outputs": [],
      "source": [
        "update_binomial(pmf, data)"
      ]
    },
    {
      "cell_type": "markdown",
      "metadata": {
        "id": "XB0wEyUuNdpU"
      },
      "source": [
        "The CDF is the cumulative sum of the PMF, so we can compute it like this:"
      ]
    },
    {
      "cell_type": "code",
      "execution_count": 7,
      "metadata": {
        "execution": {
          "iopub.execute_input": "2021-04-16T19:35:31.462631Z",
          "iopub.status.busy": "2021-04-16T19:35:31.462163Z",
          "iopub.status.idle": "2021-04-16T19:35:31.463845Z",
          "shell.execute_reply": "2021-04-16T19:35:31.464199Z"
        },
        "id": "g7k6A4PwNdpU"
      },
      "outputs": [],
      "source": [
        "cumulative = pmf.cumsum()"
      ]
    },
    {
      "cell_type": "markdown",
      "metadata": {
        "id": "c9sl4o1CNdpV"
      },
      "source": [
        "Here's what it looks like, along with the PMF."
      ]
    },
    {
      "cell_type": "code",
      "execution_count": 8,
      "metadata": {
        "execution": {
          "iopub.execute_input": "2021-04-16T19:35:31.467579Z",
          "iopub.status.busy": "2021-04-16T19:35:31.467137Z",
          "iopub.status.idle": "2021-04-16T19:35:31.469147Z",
          "shell.execute_reply": "2021-04-16T19:35:31.468672Z"
        },
        "tags": [],
        "id": "XRmwqBtzNdpV"
      },
      "outputs": [],
      "source": [
        "from utils import decorate\n",
        "\n",
        "def decorate_euro(title):\n",
        "    decorate(xlabel='Proportion of heads (x)',\n",
        "             ylabel='Probability',\n",
        "             title=title)"
      ]
    },
    {
      "cell_type": "code",
      "execution_count": 9,
      "metadata": {
        "execution": {
          "iopub.execute_input": "2021-04-16T19:35:31.474021Z",
          "iopub.status.busy": "2021-04-16T19:35:31.472944Z",
          "iopub.status.idle": "2021-04-16T19:35:31.677455Z",
          "shell.execute_reply": "2021-04-16T19:35:31.677848Z"
        },
        "tags": [],
        "id": "cXh1BBOONdpV",
        "outputId": "58fd9e37-2985-4177-d158-8859d3b028e5",
        "colab": {
          "base_uri": "https://localhost:8080/",
          "height": 297
        }
      },
      "outputs": [
        {
          "output_type": "display_data",
          "data": {
            "text/plain": [
              "<Figure size 432x288 with 1 Axes>"
            ],
            "image/png": "[encoded data removed]"
          },
          "metadata": {
            "needs_background": "light"
          }
        }
      ],
      "source": [
        "cumulative.plot(label='CDF')\n",
        "pmf.plot(label='PMF')\n",
        "decorate_euro(title='Posterior distribution for the Euro problem')"
      ]
    },
    {
      "cell_type": "markdown",
      "metadata": {
        "id": "9Mnf1hvNNdpV"
      },
      "source": [
        "The range of the CDF is always from 0 to 1, in contrast with the PMF, where the maximum can be any probability.\n",
        "\n",
        "The result from `cumsum` is a Pandas `Series`, so we can use the bracket operator to select an element:"
      ]
    },
    {
      "cell_type": "code",
      "execution_count": 10,
      "metadata": {
        "execution": {
          "iopub.execute_input": "2021-04-16T19:35:31.681378Z",
          "iopub.status.busy": "2021-04-16T19:35:31.680792Z",
          "iopub.status.idle": "2021-04-16T19:35:31.684176Z",
          "shell.execute_reply": "2021-04-16T19:35:31.683818Z"
        },
        "id": "7EuP-EhANdpV",
        "outputId": "56473ce6-3477-4254-d39a-b1890ca98b4e",
        "colab": {
          "base_uri": "https://localhost:8080/"
        }
      },
      "outputs": [
        {
          "output_type": "execute_result",
          "data": {
            "text/plain": [
              "0.9638303193984255"
            ]
          },
          "metadata": {},
          "execution_count": 10
        }
      ],
      "source": [
        "cumulative[0.61]"
      ]
    },
    {
      "cell_type": "markdown",
      "metadata": {
        "id": "M27QhuYENdpW"
      },
      "source": [
        "The result is about 0.96, which means that the total probability of all quantities less than or equal to 0.61 is 96%.\n",
        "\n",
        "To go the other way --- to look up a probability and get the corresponding quantile --- we can use interpolation:"
      ]
    },
    {
      "cell_type": "code",
      "execution_count": 11,
      "metadata": {
        "execution": {
          "iopub.execute_input": "2021-04-16T19:35:31.688718Z",
          "iopub.status.busy": "2021-04-16T19:35:31.688069Z",
          "iopub.status.idle": "2021-04-16T19:35:31.691063Z",
          "shell.execute_reply": "2021-04-16T19:35:31.690624Z"
        },
        "id": "fO_u1qnYNdpW",
        "outputId": "4605f1c4-dc73-42ca-956c-cc79db3910c3",
        "colab": {
          "base_uri": "https://localhost:8080/"
        }
      },
      "outputs": [
        {
          "output_type": "execute_result",
          "data": {
            "text/plain": [
              "array(0.60890171)"
            ]
          },
          "metadata": {},
          "execution_count": 11
        }
      ],
      "source": [
        "from scipy.interpolate import interp1d\n",
        "\n",
        "ps = cumulative.values\n",
        "qs = cumulative.index\n",
        "\n",
        "interp = interp1d(ps, qs)\n",
        "interp(0.96)"
      ]
    },
    {
      "cell_type": "markdown",
      "metadata": {
        "id": "5N353WG0NdpW"
      },
      "source": [
        "The result is about 0.61, so that confirms that the 96th percentile of this distribution is 0.61.\n",
        "\n",
        "`empiricaldist` provides a class called `Cdf` that represents a cumulative distribution function.\n",
        "Given a `Pmf`, you can compute a `Cdf` like this:"
      ]
    },
    {
      "cell_type": "code",
      "execution_count": 12,
      "metadata": {
        "execution": {
          "iopub.execute_input": "2021-04-16T19:35:31.694831Z",
          "iopub.status.busy": "2021-04-16T19:35:31.694113Z",
          "iopub.status.idle": "2021-04-16T19:35:31.696012Z",
          "shell.execute_reply": "2021-04-16T19:35:31.696439Z"
        },
        "id": "Rj5J0RG2NdpW"
      },
      "outputs": [],
      "source": [
        "cdf = pmf.make_cdf()"
      ]
    },
    {
      "cell_type": "markdown",
      "metadata": {
        "id": "YnbFrXJcNdpW"
      },
      "source": [
        "`make_cdf` uses `np.cumsum` to compute the cumulative sum of the probabilities.\n",
        "\n",
        "You can use brackets to select an element from a `Cdf`:"
      ]
    },
    {
      "cell_type": "code",
      "execution_count": 13,
      "metadata": {
        "execution": {
          "iopub.execute_input": "2021-04-16T19:35:31.700286Z",
          "iopub.status.busy": "2021-04-16T19:35:31.699659Z",
          "iopub.status.idle": "2021-04-16T19:35:31.702626Z",
          "shell.execute_reply": "2021-04-16T19:35:31.703050Z"
        },
        "id": "6SHyklLLNdpW",
        "outputId": "1db8ffe8-4ebc-4cb1-96a3-0aacca322c5e",
        "colab": {
          "base_uri": "https://localhost:8080/"
        }
      },
      "outputs": [
        {
          "output_type": "execute_result",
          "data": {
            "text/plain": [
              "0.9638303193984255"
            ]
          },
          "metadata": {},
          "execution_count": 13
        }
      ],
      "source": [
        "cdf[0.61]"
      ]
    },
    {
      "cell_type": "markdown",
      "metadata": {
        "id": "fmg-iMgNNdpW"
      },
      "source": [
        "But if you look up a quantity that's not in the distribution, you get a `KeyError`.\n"
      ]
    },
    {
      "cell_type": "code",
      "execution_count": 14,
      "metadata": {
        "execution": {
          "iopub.execute_input": "2021-04-16T19:35:31.707236Z",
          "iopub.status.busy": "2021-04-16T19:35:31.706612Z",
          "iopub.status.idle": "2021-04-16T19:35:31.709290Z",
          "shell.execute_reply": "2021-04-16T19:35:31.709801Z"
        },
        "tags": [],
        "id": "WztcvgCyNdpW",
        "outputId": "f765990d-ebe1-446b-aed2-e6d2eca129d5",
        "colab": {
          "base_uri": "https://localhost:8080/"
        }
      },
      "outputs": [
        {
          "output_type": "stream",
          "name": "stdout",
          "text": [
            "KeyError(0.615)\n"
          ]
        }
      ],
      "source": [
        "try:\n",
        "    cdf[0.615]\n",
        "except KeyError as e:\n",
        "    print(repr(e))"
      ]
    },
    {
      "cell_type": "markdown",
      "metadata": {
        "id": "EhMlMyFdNdpX"
      },
      "source": [
        "To avoid this problem, you can call a `Cdf` as a function, using parentheses.\n",
        "If the argument does not appear in the `Cdf`, it interpolates between quantities."
      ]
    },
    {
      "cell_type": "code",
      "execution_count": 15,
      "metadata": {
        "execution": {
          "iopub.execute_input": "2021-04-16T19:35:31.714823Z",
          "iopub.status.busy": "2021-04-16T19:35:31.714082Z",
          "iopub.status.idle": "2021-04-16T19:35:31.718078Z",
          "shell.execute_reply": "2021-04-16T19:35:31.717545Z"
        },
        "id": "_5SXvvB7NdpX",
        "outputId": "3dfcc940-b9bf-4377-99e2-f0e7c0bc3609",
        "colab": {
          "base_uri": "https://localhost:8080/"
        }
      },
      "outputs": [
        {
          "output_type": "execute_result",
          "data": {
            "text/plain": [
              "array(0.96383032)"
            ]
          },
          "metadata": {},
          "execution_count": 15
        }
      ],
      "source": [
        "cdf(0.615)"
      ]
    },
    {
      "cell_type": "markdown",
      "metadata": {
        "id": "YBk7g5aeNdpX"
      },
      "source": [
        "Going the other way, you can use `quantile` to look up a cumulative probability and get the corresponding quantity:\n"
      ]
    },
    {
      "cell_type": "code",
      "execution_count": 16,
      "metadata": {
        "execution": {
          "iopub.execute_input": "2021-04-16T19:35:31.722903Z",
          "iopub.status.busy": "2021-04-16T19:35:31.722203Z",
          "iopub.status.idle": "2021-04-16T19:35:31.725892Z",
          "shell.execute_reply": "2021-04-16T19:35:31.725379Z"
        },
        "id": "yulc8MrwNdpX",
        "outputId": "72fc3bb5-1d82-47de-8e9b-7741ae7602d1",
        "colab": {
          "base_uri": "https://localhost:8080/"
        }
      },
      "outputs": [
        {
          "output_type": "execute_result",
          "data": {
            "text/plain": [
              "array(0.61)"
            ]
          },
          "metadata": {},
          "execution_count": 16
        }
      ],
      "source": [
        "cdf.quantile(0.9638303)"
      ]
    },
    {
      "cell_type": "markdown",
      "metadata": {
        "id": "UCQuv8ZoNdpX"
      },
      "source": [
        "`Cdf` also provides `credible_interval`, which computes a credible interval that contains the given probability:\n"
      ]
    },
    {
      "cell_type": "code",
      "execution_count": 17,
      "metadata": {
        "execution": {
          "iopub.execute_input": "2021-04-16T19:35:31.730655Z",
          "iopub.status.busy": "2021-04-16T19:35:31.730044Z",
          "iopub.status.idle": "2021-04-16T19:35:31.733376Z",
          "shell.execute_reply": "2021-04-16T19:35:31.733908Z"
        },
        "id": "t2mwN2KKNdpX",
        "outputId": "73029eb4-751c-4c4d-8a80-de82af864cb0",
        "colab": {
          "base_uri": "https://localhost:8080/"
        }
      },
      "outputs": [
        {
          "output_type": "execute_result",
          "data": {
            "text/plain": [
              "array([0.51, 0.61])"
            ]
          },
          "metadata": {},
          "execution_count": 17
        }
      ],
      "source": [
        "cdf.credible_interval(0.9)"
      ]
    },
    {
      "cell_type": "markdown",
      "metadata": {
        "id": "nwG0mPk7NdpX"
      },
      "source": [
        "CDFs and PMFs are equivalent in the sense that they contain the\n",
        "same information about the distribution, and you can always convert\n",
        "from one to the other.\n",
        "Given a `Cdf`, you can get the equivalent `Pmf` like this:"
      ]
    },
    {
      "cell_type": "code",
      "execution_count": 18,
      "metadata": {
        "execution": {
          "iopub.execute_input": "2021-04-16T19:35:31.738651Z",
          "iopub.status.busy": "2021-04-16T19:35:31.738024Z",
          "iopub.status.idle": "2021-04-16T19:35:31.740320Z",
          "shell.execute_reply": "2021-04-16T19:35:31.740851Z"
        },
        "id": "tazEhKDDNdpX"
      },
      "outputs": [],
      "source": [
        "pmf = cdf.make_pmf()"
      ]
    },
    {
      "cell_type": "markdown",
      "metadata": {
        "id": "VkgTkvI6NdpX"
      },
      "source": [
        "`make_pmf` uses `np.diff` to compute differences between consecutive cumulative probabilities.\n",
        "\n",
        "One reason `Cdf` objects are useful is that they compute quantiles efficiently.\n",
        "Another is that they make it easy to compute the distribution of a maximum or minimum, as we'll see in the next section."
      ]
    },
    {
      "cell_type": "markdown",
      "metadata": {
        "id": "BkmNXHSXNdpY"
      },
      "source": [
        "## Best Three of Four\n",
        "\n",
        "In *Dungeons & Dragons*, each character has six attributes: strength, intelligence, wisdom, dexterity, constitution, and charisma.\n",
        "\n",
        "To generate a new character, players roll four 6-sided dice for each attribute and add up the best three.\n",
        "For example, if I roll for strength and get 1, 2, 3, 4 on the dice, my character's strength would be the sum of 2, 3, and 4, which is 9.\n",
        "\n",
        "As an exercise, let's figure out the distribution of these attributes.\n",
        "Then, for each character, we'll figure out the distribution of their best attribute.\n",
        "\n",
        "I'll import two functions from the previous chapter: `make_die`, which makes a `Pmf` that represents the outcome of rolling a die, and `add_dist_seq`, which takes a sequence of `Pmf` objects and computes the distribution of their sum.\n",
        "\n",
        "Here's a `Pmf` that represents a six-sided die and a sequence with three references to it."
      ]
    },
    {
      "cell_type": "code",
      "execution_count": 19,
      "metadata": {
        "execution": {
          "iopub.execute_input": "2021-04-16T19:35:31.746067Z",
          "iopub.status.busy": "2021-04-16T19:35:31.745270Z",
          "iopub.status.idle": "2021-04-16T19:35:31.748598Z",
          "shell.execute_reply": "2021-04-16T19:35:31.747789Z"
        },
        "id": "K9iR7Cg_NdpY"
      },
      "outputs": [],
      "source": [
        "from utils import make_die\n",
        "\n",
        "die = make_die(6)\n",
        "dice = [die] * 3"
      ]
    },
    {
      "cell_type": "markdown",
      "metadata": {
        "id": "1YdaF23oNdpY"
      },
      "source": [
        "And here's the distribution of the sum of three dice."
      ]
    },
    {
      "cell_type": "code",
      "execution_count": 20,
      "metadata": {
        "execution": {
          "iopub.execute_input": "2021-04-16T19:35:31.755067Z",
          "iopub.status.busy": "2021-04-16T19:35:31.753615Z",
          "iopub.status.idle": "2021-04-16T19:35:31.757421Z",
          "shell.execute_reply": "2021-04-16T19:35:31.757933Z"
        },
        "id": "gWTsvvR-NdpY"
      },
      "outputs": [],
      "source": [
        "from utils import add_dist_seq\n",
        "\n",
        "pmf_3d6 = add_dist_seq(dice)"
      ]
    },
    {
      "cell_type": "markdown",
      "metadata": {
        "id": "qHtP942GNdpY"
      },
      "source": [
        "Here's what it looks like:"
      ]
    },
    {
      "cell_type": "code",
      "execution_count": 21,
      "metadata": {
        "execution": {
          "iopub.execute_input": "2021-04-16T19:35:31.762372Z",
          "iopub.status.busy": "2021-04-16T19:35:31.761881Z",
          "iopub.status.idle": "2021-04-16T19:35:31.764211Z",
          "shell.execute_reply": "2021-04-16T19:35:31.763786Z"
        },
        "tags": [],
        "id": "Ee4M4Tu5NdpY"
      },
      "outputs": [],
      "source": [
        "def decorate_dice(title=''):\n",
        "    decorate(xlabel='Outcome',\n",
        "             ylabel='PMF',\n",
        "             title=title)"
      ]
    },
    {
      "cell_type": "code",
      "execution_count": 22,
      "metadata": {
        "execution": {
          "iopub.execute_input": "2021-04-16T19:35:31.799186Z",
          "iopub.status.busy": "2021-04-16T19:35:31.784859Z",
          "iopub.status.idle": "2021-04-16T19:35:31.931262Z",
          "shell.execute_reply": "2021-04-16T19:35:31.930892Z"
        },
        "tags": [],
        "id": "s0Rtt-LYNdpY",
        "outputId": "879d1d74-8cc9-4054-d5cd-b0ce2fd8ba9e",
        "colab": {
          "base_uri": "https://localhost:8080/",
          "height": 297
        }
      },
      "outputs": [
        {
          "output_type": "display_data",
          "data": {
            "text/plain": [
              "<Figure size 432x288 with 1 Axes>"
            ],
            "image/png": "[encoded data removed]"
          },
          "metadata": {
            "needs_background": "light"
          }
        }
      ],
      "source": [
        "pmf_3d6.plot()\n",
        "decorate_dice('Distribution of attributes')"
      ]
    },
    {
      "cell_type": "markdown",
      "metadata": {
        "id": "cdLTRrKhNdpY"
      },
      "source": [
        "If we roll four dice and add up the best three, computing the distribution of the sum is a bit more complicated.\n",
        "I'll estimate the distribution by simulating 10,000 rolls.\n",
        "\n",
        "First I'll create an array of random values from 1 to 6, with 10,000 rows and 4 columns:"
      ]
    },
    {
      "cell_type": "code",
      "execution_count": 23,
      "metadata": {
        "execution": {
          "iopub.execute_input": "2021-04-16T19:35:31.934466Z",
          "iopub.status.busy": "2021-04-16T19:35:31.934017Z",
          "iopub.status.idle": "2021-04-16T19:35:31.936034Z",
          "shell.execute_reply": "2021-04-16T19:35:31.936379Z"
        },
        "id": "V2eWLR4XNdpY"
      },
      "outputs": [],
      "source": [
        "n = 10000\n",
        "a = np.random.randint(1, 7, size=(n, 4))"
      ]
    },
    {
      "cell_type": "markdown",
      "metadata": {
        "id": "nb5SyZhqNdpY"
      },
      "source": [
        "To find the best three outcomes in each row, I'll use `sort` with `axis=1`, which sorts the rows in ascending order."
      ]
    },
    {
      "cell_type": "code",
      "execution_count": 24,
      "metadata": {
        "execution": {
          "iopub.execute_input": "2021-04-16T19:35:31.939312Z",
          "iopub.status.busy": "2021-04-16T19:35:31.938870Z",
          "iopub.status.idle": "2021-04-16T19:35:31.940846Z",
          "shell.execute_reply": "2021-04-16T19:35:31.941280Z"
        },
        "id": "BuPYPvjgNdpZ"
      },
      "outputs": [],
      "source": [
        "a.sort(axis=1)"
      ]
    },
    {
      "cell_type": "markdown",
      "metadata": {
        "id": "JzWKIiz1NdpZ"
      },
      "source": [
        "Finally, I'll select the last three columns and add them up."
      ]
    },
    {
      "cell_type": "code",
      "execution_count": 25,
      "metadata": {
        "execution": {
          "iopub.execute_input": "2021-04-16T19:35:31.944292Z",
          "iopub.status.busy": "2021-04-16T19:35:31.943874Z",
          "iopub.status.idle": "2021-04-16T19:35:31.945874Z",
          "shell.execute_reply": "2021-04-16T19:35:31.946275Z"
        },
        "id": "e5DgwHYhNdpZ"
      },
      "outputs": [],
      "source": [
        "t = a[:, 1:].sum(axis=1)"
      ]
    },
    {
      "cell_type": "markdown",
      "metadata": {
        "id": "gLzThX0SNdpZ"
      },
      "source": [
        "Now `t` is an array with a single column and 10,000 rows.\n",
        "We can compute the PMF of the values in `t` like this:"
      ]
    },
    {
      "cell_type": "code",
      "execution_count": 26,
      "metadata": {
        "execution": {
          "iopub.execute_input": "2021-04-16T19:35:31.950862Z",
          "iopub.status.busy": "2021-04-16T19:35:31.949475Z",
          "iopub.status.idle": "2021-04-16T19:35:31.953994Z",
          "shell.execute_reply": "2021-04-16T19:35:31.953526Z"
        },
        "id": "ASH4ZEpQNdpZ"
      },
      "outputs": [],
      "source": [
        "pmf_best3 = Pmf.from_seq(t)"
      ]
    },
    {
      "cell_type": "markdown",
      "metadata": {
        "id": "AHLSlcr9NdpZ"
      },
      "source": [
        "The following figure shows the distribution of the sum of three dice, `pmf_3d6`, and the distribution of the best three out of four, `pmf_best3`."
      ]
    },
    {
      "cell_type": "code",
      "execution_count": 27,
      "metadata": {
        "execution": {
          "iopub.execute_input": "2021-04-16T19:35:31.997678Z",
          "iopub.status.busy": "2021-04-16T19:35:31.996921Z",
          "iopub.status.idle": "2021-04-16T19:35:32.130553Z",
          "shell.execute_reply": "2021-04-16T19:35:32.130960Z"
        },
        "tags": [],
        "id": "gucOIBSYNdpa",
        "outputId": "3a324249-7b67-4dc3-dbee-222ad318398c",
        "colab": {
          "base_uri": "https://localhost:8080/",
          "height": 297
        }
      },
      "outputs": [
        {
          "output_type": "display_data",
          "data": {
            "text/plain": [
              "<Figure size 432x288 with 1 Axes>"
            ],
            "image/png": "[encoded data removed]"
          },
          "metadata": {
            "needs_background": "light"
          }
        }
      ],
      "source": [
        "pmf_3d6.plot(label='sum of 3 dice')\n",
        "pmf_best3.plot(label='best 3 of 4', ls='--')\n",
        "\n",
        "decorate_dice('Distribution of attributes')"
      ]
    },
    {
      "cell_type": "markdown",
      "metadata": {
        "id": "XM2eU_p4Ndpa"
      },
      "source": [
        "As you might expect, choosing the best three out of four tends to yield higher values.\n",
        "\n",
        "Next we'll find the distribution for the maximum of six attributes, each the sum of the best three of four dice."
      ]
    },
    {
      "cell_type": "markdown",
      "metadata": {
        "id": "rpibaeKPNdpa"
      },
      "source": [
        "## Maximum\n",
        "\n",
        "To compute the distribution of a maximum or minimum, we can make good use of the cumulative distribution function.\n",
        "First, I'll compute the `Cdf` of the best three of four distribution:"
      ]
    },
    {
      "cell_type": "code",
      "execution_count": 28,
      "metadata": {
        "execution": {
          "iopub.execute_input": "2021-04-16T19:35:32.134886Z",
          "iopub.status.busy": "2021-04-16T19:35:32.134220Z",
          "iopub.status.idle": "2021-04-16T19:35:32.135956Z",
          "shell.execute_reply": "2021-04-16T19:35:32.136306Z"
        },
        "id": "_cBCehE4Ndpa"
      },
      "outputs": [],
      "source": [
        "cdf_best3 = pmf_best3.make_cdf()"
      ]
    },
    {
      "cell_type": "markdown",
      "metadata": {
        "id": "2n_DhO3ANdpa"
      },
      "source": [
        "Recall that `Cdf(x)` is the sum of probabilities for quantities less than or equal to `x`.\n",
        "Equivalently, it is the probability that a random value chosen from the distribution is less than or equal to `x`.\n",
        "\n",
        "Now suppose I draw 6 values from this distribution.\n",
        "The probability that all 6 of them are less than or equal to `x` is `Cdf(x)` raised to the 6th power, which we can compute like this:"
      ]
    },
    {
      "cell_type": "code",
      "execution_count": 29,
      "metadata": {
        "execution": {
          "iopub.execute_input": "2021-04-16T19:35:32.141260Z",
          "iopub.status.busy": "2021-04-16T19:35:32.140745Z",
          "iopub.status.idle": "2021-04-16T19:35:32.143280Z",
          "shell.execute_reply": "2021-04-16T19:35:32.143621Z"
        },
        "tags": [],
        "id": "zSTcDurNNdpa",
        "outputId": "fed04b0e-a640-4616-d2e4-c09566926683",
        "colab": {
          "base_uri": "https://localhost:8080/"
        }
      },
      "outputs": [
        {
          "output_type": "execute_result",
          "data": {
            "text/plain": [
              "3     1.176490e-19\n",
              "4     1.911030e-16\n",
              "5     1.000000e-12\n",
              "6     4.049612e-10\n",
              "7     4.132986e-08\n",
              "8     1.667890e-06\n",
              "9     3.116892e-05\n",
              "10    3.805838e-04\n",
              "11    2.894021e-03\n",
              "12    1.712549e-02\n",
              "13    6.699826e-02\n",
              "14    1.959168e-01\n",
              "15    4.348238e-01\n",
              "16    7.022916e-01\n",
              "17    9.110852e-01\n",
              "18    1.000000e+00\n",
              "Name: , dtype: float64"
            ]
          },
          "metadata": {},
          "execution_count": 29
        }
      ],
      "source": [
        "cdf_best3**6"
      ]
    },
    {
      "cell_type": "markdown",
      "metadata": {
        "id": "cDBX8JT8Ndpa"
      },
      "source": [
        "If all 6 values are less than or equal to `x`, that means that their maximum is less than or equal to `x`.\n",
        "So the result is the CDF of their maximum.\n",
        "We can convert it to a `Cdf` object, like this:"
      ]
    },
    {
      "cell_type": "code",
      "execution_count": 30,
      "metadata": {
        "execution": {
          "iopub.execute_input": "2021-04-16T19:35:32.147141Z",
          "iopub.status.busy": "2021-04-16T19:35:32.146607Z",
          "iopub.status.idle": "2021-04-16T19:35:32.148575Z",
          "shell.execute_reply": "2021-04-16T19:35:32.148928Z"
        },
        "id": "TeX8jSNNNdpb"
      },
      "outputs": [],
      "source": [
        "from empiricaldist import Cdf\n",
        "\n",
        "cdf_max6 = Cdf(cdf_best3**6)"
      ]
    },
    {
      "cell_type": "markdown",
      "metadata": {
        "tags": [],
        "id": "q9hrI7dvNdpb"
      },
      "source": [
        "And compute the equivalent `Pmf` like this:"
      ]
    },
    {
      "cell_type": "code",
      "execution_count": 31,
      "metadata": {
        "execution": {
          "iopub.execute_input": "2021-04-16T19:35:32.152335Z",
          "iopub.status.busy": "2021-04-16T19:35:32.151777Z",
          "iopub.status.idle": "2021-04-16T19:35:32.153560Z",
          "shell.execute_reply": "2021-04-16T19:35:32.154071Z"
        },
        "tags": [],
        "id": "Bv8YdseWNdpb"
      },
      "outputs": [],
      "source": [
        "pmf_max6 = cdf_max6.make_pmf()"
      ]
    },
    {
      "cell_type": "markdown",
      "metadata": {
        "tags": [],
        "id": "_NaBtNVYNdpb"
      },
      "source": [
        "The following figure shows the result."
      ]
    },
    {
      "cell_type": "code",
      "execution_count": 32,
      "metadata": {
        "execution": {
          "iopub.execute_input": "2021-04-16T19:35:32.174609Z",
          "iopub.status.busy": "2021-04-16T19:35:32.169559Z",
          "iopub.status.idle": "2021-04-16T19:35:32.328490Z",
          "shell.execute_reply": "2021-04-16T19:35:32.328844Z"
        },
        "tags": [],
        "id": "-Pe8ZbviNdpb",
        "outputId": "7524b5be-d488-459b-c2e5-a6229c1d2179",
        "colab": {
          "base_uri": "https://localhost:8080/",
          "height": 297
        }
      },
      "outputs": [
        {
          "output_type": "display_data",
          "data": {
            "text/plain": [
              "<Figure size 432x288 with 1 Axes>"
            ],
            "image/png": "[encoded data removed]"
          },
          "metadata": {
            "needs_background": "light"
          }
        }
      ],
      "source": [
        "pmf_max6.plot(label='max of 6 attributes')\n",
        "\n",
        "decorate_dice('Distribution of attributes')"
      ]
    },
    {
      "cell_type": "markdown",
      "metadata": {
        "tags": [],
        "id": "oJDCTHXcNdpb"
      },
      "source": [
        "Most characters have at least one attribute greater than 12; almost 10% of them have an 18."
      ]
    },
    {
      "cell_type": "markdown",
      "metadata": {
        "id": "Ko5pU-YXNdpb"
      },
      "source": [
        "The following figure shows the CDFs for the three distributions we have computed."
      ]
    },
    {
      "cell_type": "code",
      "execution_count": 33,
      "metadata": {
        "execution": {
          "iopub.execute_input": "2021-04-16T19:35:32.376448Z",
          "iopub.status.busy": "2021-04-16T19:35:32.371540Z",
          "iopub.status.idle": "2021-04-16T19:35:32.535663Z",
          "shell.execute_reply": "2021-04-16T19:35:32.536011Z"
        },
        "tags": [],
        "id": "4NxC4R5cNdpb",
        "outputId": "133c4808-23a8-44f1-b186-9552b90f2c9c",
        "colab": {
          "base_uri": "https://localhost:8080/",
          "height": 297
        }
      },
      "outputs": [
        {
          "output_type": "display_data",
          "data": {
            "text/plain": [
              "<Figure size 432x288 with 1 Axes>"
            ],
            "image/png": "[encoded data removed]"
          },
          "metadata": {
            "needs_background": "light"
          }
        }
      ],
      "source": [
        "import matplotlib.pyplot as plt\n",
        "\n",
        "cdf_3d6 = pmf_3d6.make_cdf()\n",
        "cdf_3d6.plot(label='sum of 3 dice')\n",
        "\n",
        "cdf_best3 = pmf_best3.make_cdf()\n",
        "cdf_best3.plot(label='best 3 of 4 dice', ls='--')\n",
        "\n",
        "cdf_max6.plot(label='max of 6 attributes', ls=':')\n",
        "\n",
        "decorate_dice('Distribution of attributes')\n",
        "plt.ylabel('CDF');"
      ]
    },
    {
      "cell_type": "markdown",
      "metadata": {
        "id": "N6vlTAsGNdpc"
      },
      "source": [
        "`Cdf` provides `max_dist`, which does the same computation, so we can also compute the `Cdf` of the maximum like this:"
      ]
    },
    {
      "cell_type": "code",
      "execution_count": 34,
      "metadata": {
        "execution": {
          "iopub.execute_input": "2021-04-16T19:35:32.539561Z",
          "iopub.status.busy": "2021-04-16T19:35:32.539069Z",
          "iopub.status.idle": "2021-04-16T19:35:32.541075Z",
          "shell.execute_reply": "2021-04-16T19:35:32.540695Z"
        },
        "id": "R3VU20mmNdpc"
      },
      "outputs": [],
      "source": [
        "cdf_max_dist6 = cdf_best3.max_dist(6)"
      ]
    },
    {
      "cell_type": "markdown",
      "metadata": {
        "tags": [],
        "id": "s6MJ3sQmNdpc"
      },
      "source": [
        "And we can confirm that the differences are small."
      ]
    },
    {
      "cell_type": "code",
      "execution_count": 35,
      "metadata": {
        "execution": {
          "iopub.execute_input": "2021-04-16T19:35:32.544620Z",
          "iopub.status.busy": "2021-04-16T19:35:32.544171Z",
          "iopub.status.idle": "2021-04-16T19:35:32.546496Z",
          "shell.execute_reply": "2021-04-16T19:35:32.546875Z"
        },
        "tags": [],
        "id": "JbsnfUlONdpc",
        "outputId": "01dab8a3-56ba-4163-abea-03f292ea0eac",
        "colab": {
          "base_uri": "https://localhost:8080/"
        }
      },
      "outputs": [
        {
          "output_type": "execute_result",
          "data": {
            "text/plain": [
              "True"
            ]
          },
          "metadata": {},
          "execution_count": 35
        }
      ],
      "source": [
        "np.allclose(cdf_max_dist6, cdf_max6)"
      ]
    },
    {
      "cell_type": "markdown",
      "metadata": {
        "id": "7yVVJchmNdpd"
      },
      "source": [
        "In the next section we'll find the distribution of the minimum.\n",
        "The process is similar, but a little more complicated.\n",
        "See if you can figure it out before you go on."
      ]
    },
    {
      "cell_type": "markdown",
      "metadata": {
        "id": "W2c72IvjNdpd"
      },
      "source": [
        "## Minimum\n",
        "\n",
        "In the previous section we computed the distribution of a character's best attribute.\n",
        "Now let's compute the distribution of the worst.\n",
        "\n",
        "To compute the distribution of the minimum, we'll use the **complementary CDF**, which we can compute like this:"
      ]
    },
    {
      "cell_type": "code",
      "execution_count": 36,
      "metadata": {
        "execution": {
          "iopub.execute_input": "2021-04-16T19:35:32.550107Z",
          "iopub.status.busy": "2021-04-16T19:35:32.549668Z",
          "iopub.status.idle": "2021-04-16T19:35:32.551795Z",
          "shell.execute_reply": "2021-04-16T19:35:32.552222Z"
        },
        "id": "YvM5jYJUNdpd"
      },
      "outputs": [],
      "source": [
        "prob_gt = 1 - cdf_best3"
      ]
    },
    {
      "cell_type": "markdown",
      "metadata": {
        "id": "FwD025wpNdpd"
      },
      "source": [
        "As the variable name suggests, the complementary CDF is the probability that a value from the distribution is greater than `x`.\n",
        "If we draw 6 values from the distribution, the probability that all 6 exceed `x` is:"
      ]
    },
    {
      "cell_type": "code",
      "execution_count": 37,
      "metadata": {
        "execution": {
          "iopub.execute_input": "2021-04-16T19:35:32.556052Z",
          "iopub.status.busy": "2021-04-16T19:35:32.555455Z",
          "iopub.status.idle": "2021-04-16T19:35:32.557352Z",
          "shell.execute_reply": "2021-04-16T19:35:32.557778Z"
        },
        "id": "W_mtibDtNdpe"
      },
      "outputs": [],
      "source": [
        "prob_gt6 = prob_gt**6"
      ]
    },
    {
      "cell_type": "markdown",
      "metadata": {
        "id": "DXd88rRPNdpe"
      },
      "source": [
        "If all 6 exceed `x`, that means their minimum exceeds `x`, so `prob_gt6` is the complementary CDF of the minimum.\n",
        "And that means we can compute the CDF of the minimum like this:"
      ]
    },
    {
      "cell_type": "code",
      "execution_count": 38,
      "metadata": {
        "execution": {
          "iopub.execute_input": "2021-04-16T19:35:32.561848Z",
          "iopub.status.busy": "2021-04-16T19:35:32.561049Z",
          "iopub.status.idle": "2021-04-16T19:35:32.562922Z",
          "shell.execute_reply": "2021-04-16T19:35:32.563376Z"
        },
        "id": "0RJPqeFbNdpe"
      },
      "outputs": [],
      "source": [
        "prob_le6 = 1 - prob_gt6"
      ]
    },
    {
      "cell_type": "markdown",
      "metadata": {
        "id": "EYozHysENdpe"
      },
      "source": [
        "The result is a Pandas `Series` that represents the CDF of the minimum of six attributes.  We can put those values in a `Cdf` object like this:"
      ]
    },
    {
      "cell_type": "code",
      "execution_count": 39,
      "metadata": {
        "execution": {
          "iopub.execute_input": "2021-04-16T19:35:32.566892Z",
          "iopub.status.busy": "2021-04-16T19:35:32.566369Z",
          "iopub.status.idle": "2021-04-16T19:35:32.568328Z",
          "shell.execute_reply": "2021-04-16T19:35:32.568768Z"
        },
        "id": "kPARVawTNdpe"
      },
      "outputs": [],
      "source": [
        "cdf_min6 = Cdf(prob_le6)"
      ]
    },
    {
      "cell_type": "markdown",
      "metadata": {
        "id": "t38aVt27Ndpe"
      },
      "source": [
        "Here's what it looks like, along with the distribution of the maximum."
      ]
    },
    {
      "cell_type": "code",
      "execution_count": 40,
      "metadata": {
        "execution": {
          "iopub.execute_input": "2021-04-16T19:35:32.613126Z",
          "iopub.status.busy": "2021-04-16T19:35:32.604907Z",
          "iopub.status.idle": "2021-04-16T19:35:32.762095Z",
          "shell.execute_reply": "2021-04-16T19:35:32.761655Z"
        },
        "tags": [],
        "id": "NuL0J_APNdpe",
        "outputId": "528c8f5b-66de-48eb-d61b-60c7961d8d95",
        "colab": {
          "base_uri": "https://localhost:8080/",
          "height": 297
        }
      },
      "outputs": [
        {
          "output_type": "display_data",
          "data": {
            "text/plain": [
              "<Figure size 432x288 with 1 Axes>"
            ],
            "image/png": "[encoded data removed]"
          },
          "metadata": {
            "needs_background": "light"
          }
        }
      ],
      "source": [
        "cdf_min6.plot(color='C4', label='minimum of 6')\n",
        "cdf_max6.plot(color='C2', label='maximum of 6', ls=':')\n",
        "decorate_dice('Minimum and maximum of six attributes')\n",
        "plt.ylabel('CDF');"
      ]
    },
    {
      "cell_type": "markdown",
      "metadata": {
        "id": "giPC8OwlNdpe"
      },
      "source": [
        "`Cdf` provides `min_dist`, which does the same computation, so we can also compute the `Cdf` of the minimum like this:"
      ]
    },
    {
      "cell_type": "code",
      "execution_count": 41,
      "metadata": {
        "execution": {
          "iopub.execute_input": "2021-04-16T19:35:32.766536Z",
          "iopub.status.busy": "2021-04-16T19:35:32.766111Z",
          "iopub.status.idle": "2021-04-16T19:35:32.767892Z",
          "shell.execute_reply": "2021-04-16T19:35:32.768318Z"
        },
        "id": "S2zd9wj1Ndpf"
      },
      "outputs": [],
      "source": [
        "cdf_min_dist6 = cdf_best3.min_dist(6)"
      ]
    },
    {
      "cell_type": "markdown",
      "metadata": {
        "id": "TB9nPadfNdpf"
      },
      "source": [
        "And we can confirm that the differences are small."
      ]
    },
    {
      "cell_type": "code",
      "execution_count": 42,
      "metadata": {
        "execution": {
          "iopub.execute_input": "2021-04-16T19:35:32.772657Z",
          "iopub.status.busy": "2021-04-16T19:35:32.772097Z",
          "iopub.status.idle": "2021-04-16T19:35:32.774638Z",
          "shell.execute_reply": "2021-04-16T19:35:32.775069Z"
        },
        "id": "hspbg2ELNdpf",
        "outputId": "42a3e7f0-d8b3-4834-cfa6-849c9d33d9eb",
        "colab": {
          "base_uri": "https://localhost:8080/"
        }
      },
      "outputs": [
        {
          "output_type": "execute_result",
          "data": {
            "text/plain": [
              "True"
            ]
          },
          "metadata": {},
          "execution_count": 42
        }
      ],
      "source": [
        "np.allclose(cdf_min_dist6, cdf_min6)"
      ]
    },
    {
      "cell_type": "markdown",
      "metadata": {
        "id": "496SeA6WNdpf"
      },
      "source": [
        "In the exercises at the end of this chapter, you'll use distributions of the minimum and maximum to do Bayesian inference.\n",
        "But first we'll see what happens when we mix distributions."
      ]
    },
    {
      "cell_type": "markdown",
      "metadata": {
        "id": "4DFYKSheNdpf"
      },
      "source": [
        "## Mixture\n",
        "\n",
        "In this section I'll show how we can compute a distribution which is a mixture of other distributions.\n",
        "I'll explain what that means with some simple examples;\n",
        "then, more usefully, we'll see how these mixtures are used to make predictions.\n",
        "\n",
        "Here's another example inspired by *Dungeons & Dragons*:\n",
        "\n",
        "* Suppose your character is armed with a dagger in one hand and a short sword in the other.\n",
        "\n",
        "* During each round, you attack a monster with one of your two weapons, chosen at random.\n",
        "\n",
        "* The dagger causes one 4-sided die of damage; the short sword causes one 6-sided die of damage.\n",
        "\n",
        "What is the distribution of damage you inflict in each round?\n",
        "\n",
        "To answer this question, I'll make a `Pmf` to represent the 4-sided and 6-sided dice:"
      ]
    },
    {
      "cell_type": "code",
      "execution_count": 43,
      "metadata": {
        "execution": {
          "iopub.execute_input": "2021-04-16T19:35:32.779457Z",
          "iopub.status.busy": "2021-04-16T19:35:32.778936Z",
          "iopub.status.idle": "2021-04-16T19:35:32.781650Z",
          "shell.execute_reply": "2021-04-16T19:35:32.781084Z"
        },
        "id": "HvlzATwKNdpf"
      },
      "outputs": [],
      "source": [
        "d4 = make_die(4)\n",
        "d6 = make_die(6)"
      ]
    },
    {
      "cell_type": "markdown",
      "metadata": {
        "id": "9oW1itvINdpf"
      },
      "source": [
        "Now, let's compute the probability you inflict 1 point of damage.\n",
        "\n",
        "* If you attacked with the dagger, it's 1/4.\n",
        "\n",
        "* If you attacked with the short sword, it's 1/6.\n",
        "\n",
        "Because the probability of choosing either weapon is 1/2, the total probability is the average:"
      ]
    },
    {
      "cell_type": "code",
      "execution_count": 44,
      "metadata": {
        "execution": {
          "iopub.execute_input": "2021-04-16T19:35:32.786557Z",
          "iopub.status.busy": "2021-04-16T19:35:32.785642Z",
          "iopub.status.idle": "2021-04-16T19:35:32.788922Z",
          "shell.execute_reply": "2021-04-16T19:35:32.789450Z"
        },
        "id": "zRRIKJDuNdpf",
        "outputId": "bf743f0a-db6b-45f6-e4b2-4eee177f9a98",
        "colab": {
          "base_uri": "https://localhost:8080/"
        }
      },
      "outputs": [
        {
          "output_type": "execute_result",
          "data": {
            "text/plain": [
              "0.20833333333333331"
            ]
          },
          "metadata": {},
          "execution_count": 44
        }
      ],
      "source": [
        "prob_1 = (d4(1) + d6(1)) / 2\n",
        "prob_1"
      ]
    },
    {
      "cell_type": "markdown",
      "metadata": {
        "id": "tCLgRmBONdpf"
      },
      "source": [
        "For the outcomes 2, 3, and 4, the probability is the same, but for 5 and 6 it's different, because those outcomes are impossible with the 4-sided die."
      ]
    },
    {
      "cell_type": "code",
      "execution_count": 45,
      "metadata": {
        "execution": {
          "iopub.execute_input": "2021-04-16T19:35:32.794121Z",
          "iopub.status.busy": "2021-04-16T19:35:32.793553Z",
          "iopub.status.idle": "2021-04-16T19:35:32.796490Z",
          "shell.execute_reply": "2021-04-16T19:35:32.796042Z"
        },
        "id": "XCPB28KLNdpf",
        "outputId": "4185ecd6-c8dc-4dd2-e6c8-70cb89c9efab",
        "colab": {
          "base_uri": "https://localhost:8080/"
        }
      },
      "outputs": [
        {
          "output_type": "execute_result",
          "data": {
            "text/plain": [
              "0.08333333333333333"
            ]
          },
          "metadata": {},
          "execution_count": 45
        }
      ],
      "source": [
        "prob_6 = (d4(6) + d6(6)) / 2\n",
        "prob_6"
      ]
    },
    {
      "cell_type": "markdown",
      "metadata": {
        "id": "WYb-c5cGNdpg"
      },
      "source": [
        "To compute the distribution of the mixture, we could loop through the possible outcomes and compute their probabilities.\n",
        "\n",
        "But we can do the same computation using the `+` operator:"
      ]
    },
    {
      "cell_type": "code",
      "execution_count": 46,
      "metadata": {
        "execution": {
          "iopub.execute_input": "2021-04-16T19:35:32.802178Z",
          "iopub.status.busy": "2021-04-16T19:35:32.801710Z",
          "iopub.status.idle": "2021-04-16T19:35:32.803562Z",
          "shell.execute_reply": "2021-04-16T19:35:32.803939Z"
        },
        "id": "_v_Zm6fANdpg"
      },
      "outputs": [],
      "source": [
        "mix1 = (d4 + d6) / 2"
      ]
    },
    {
      "cell_type": "markdown",
      "metadata": {
        "id": "88ILdgm2Ndpg"
      },
      "source": [
        "Here's what the mixture of these distributions looks like."
      ]
    },
    {
      "cell_type": "code",
      "execution_count": 47,
      "metadata": {
        "execution": {
          "iopub.execute_input": "2021-04-16T19:35:32.828505Z",
          "iopub.status.busy": "2021-04-16T19:35:32.820367Z",
          "iopub.status.idle": "2021-04-16T19:35:32.966618Z",
          "shell.execute_reply": "2021-04-16T19:35:32.966177Z"
        },
        "tags": [],
        "id": "EcHpVxwoNdpg",
        "outputId": "d02ec084-2173-433c-9dc2-ad07470e87ae",
        "colab": {
          "base_uri": "https://localhost:8080/",
          "height": 297
        }
      },
      "outputs": [
        {
          "output_type": "display_data",
          "data": {
            "text/plain": [
              "<Figure size 432x288 with 1 Axes>"
            ],
            "image/png": "[encoded data removed]"
          },
          "metadata": {
            "needs_background": "light"
          }
        }
      ],
      "source": [
        "mix1.bar(alpha=0.7)\n",
        "decorate_dice('Mixture of one 4-sided and one 6-sided die')"
      ]
    },
    {
      "cell_type": "markdown",
      "metadata": {
        "id": "4Me1c870Ndph"
      },
      "source": [
        "Now suppose you are fighting three monsters:\n",
        "\n",
        "* One has a club, which causes one 4-sided die of damage.\n",
        "\n",
        "* One has a mace, which causes one 6-sided die.\n",
        "\n",
        "* And one has a quarterstaff, which also causes one 6-sided die. \n",
        "\n",
        "Because the melee is disorganized, you are attacked by one of these monsters each round, chosen at random.\n",
        "To find the distribution of the damage they inflict, we can compute a weighted average of the distributions, like this:"
      ]
    },
    {
      "cell_type": "code",
      "execution_count": 48,
      "metadata": {
        "execution": {
          "iopub.execute_input": "2021-04-16T19:35:32.971304Z",
          "iopub.status.busy": "2021-04-16T19:35:32.970806Z",
          "iopub.status.idle": "2021-04-16T19:35:32.972845Z",
          "shell.execute_reply": "2021-04-16T19:35:32.972416Z"
        },
        "id": "bwgRH6PeNdph"
      },
      "outputs": [],
      "source": [
        "mix2 = (d4 + 2*d6) / 3"
      ]
    },
    {
      "cell_type": "markdown",
      "metadata": {
        "id": "oQVTaEaoNdph"
      },
      "source": [
        "This distribution is a mixture of one 4-sided die and two 6-sided dice.\n",
        "Here's what it looks like."
      ]
    },
    {
      "cell_type": "code",
      "execution_count": 49,
      "metadata": {
        "execution": {
          "iopub.execute_input": "2021-04-16T19:35:32.995932Z",
          "iopub.status.busy": "2021-04-16T19:35:32.995150Z",
          "iopub.status.idle": "2021-04-16T19:35:33.117724Z",
          "shell.execute_reply": "2021-04-16T19:35:33.117207Z"
        },
        "tags": [],
        "id": "rUQ6LLH-Ndpi",
        "outputId": "120f71ca-9377-4b7a-a5e8-8cdfd230585b",
        "colab": {
          "base_uri": "https://localhost:8080/",
          "height": 297
        }
      },
      "outputs": [
        {
          "output_type": "display_data",
          "data": {
            "text/plain": [
              "<Figure size 432x288 with 1 Axes>"
            ],
            "image/png": "[encoded data removed]"
          },
          "metadata": {
            "needs_background": "light"
          }
        }
      ],
      "source": [
        "mix2.bar(alpha=0.7)\n",
        "decorate_dice('Mixture of one 4-sided and two 6-sided die')"
      ]
    },
    {
      "cell_type": "markdown",
      "metadata": {
        "id": "cORNiEElNdpi"
      },
      "source": [
        "In this section we used the `+` operator, which adds the probabilities in the distributions, not to be confused with `Pmf.add_dist`, which computes the distribution of the sum of the distributions.\n",
        "\n",
        "To demonstrate the difference, I'll use `Pmf.add_dist` to compute the distribution of the total damage done per round, which is the sum of the two mixtures:"
      ]
    },
    {
      "cell_type": "code",
      "execution_count": 50,
      "metadata": {
        "execution": {
          "iopub.execute_input": "2021-04-16T19:35:33.122025Z",
          "iopub.status.busy": "2021-04-16T19:35:33.121481Z",
          "iopub.status.idle": "2021-04-16T19:35:33.123747Z",
          "shell.execute_reply": "2021-04-16T19:35:33.123236Z"
        },
        "id": "19UDRMgoNdpi"
      },
      "outputs": [],
      "source": [
        "total_damage = Pmf.add_dist(mix1, mix2)"
      ]
    },
    {
      "cell_type": "markdown",
      "metadata": {
        "id": "l2qCGL4zNdpi"
      },
      "source": [
        "And here's what it looks like."
      ]
    },
    {
      "cell_type": "code",
      "execution_count": 51,
      "metadata": {
        "execution": {
          "iopub.execute_input": "2021-04-16T19:35:33.139228Z",
          "iopub.status.busy": "2021-04-16T19:35:33.136581Z",
          "iopub.status.idle": "2021-04-16T19:35:33.278941Z",
          "shell.execute_reply": "2021-04-16T19:35:33.279427Z"
        },
        "id": "VYgHUkB7Ndpi",
        "outputId": "eb9862cd-4d2f-40fe-8d33-6ac1656622d8",
        "colab": {
          "base_uri": "https://localhost:8080/",
          "height": 297
        }
      },
      "outputs": [
        {
          "output_type": "display_data",
          "data": {
            "text/plain": [
              "<Figure size 432x288 with 1 Axes>"
            ],
            "image/png": "[encoded data removed]"
          },
          "metadata": {
            "needs_background": "light"
          }
        }
      ],
      "source": [
        "total_damage.bar(alpha=0.7)\n",
        "decorate_dice('Total damage inflicted by both parties')"
      ]
    },
    {
      "cell_type": "markdown",
      "metadata": {
        "id": "YUB_c-UINdpi"
      },
      "source": [
        "## General Mixtures\n",
        "\n",
        "In the previous section we computed mixtures in an *ad hoc* way.\n",
        "Now we'll see a more general solution.\n",
        "In future chapters, we'll use this solution to generate predictions for real-world problems, not just role-playing games.\n",
        "But if you'll bear with me, we'll continue the previous example for one more section.\n",
        "\n",
        "Suppose three more monsters join the combat, each of them with a battle axe that causes one 8-sided die of damage.\n",
        "Still, only one monster attacks per round, chosen at random, so the damage they inflict is a mixture of:\n",
        "\n",
        "* One 4-sided die,\n",
        "* Two 6-sided dice, and\n",
        "* Three 8-sided dice.\n",
        "\n",
        "I'll use a `Pmf` to represent a randomly chosen monster:"
      ]
    },
    {
      "cell_type": "code",
      "execution_count": 52,
      "metadata": {
        "execution": {
          "iopub.execute_input": "2021-04-16T19:35:33.286725Z",
          "iopub.status.busy": "2021-04-16T19:35:33.284730Z",
          "iopub.status.idle": "2021-04-16T19:35:33.290910Z",
          "shell.execute_reply": "2021-04-16T19:35:33.290555Z"
        },
        "id": "hY6SrbqINdpi",
        "outputId": "0a16c03a-7cb3-4376-f42d-e9bdd2b5542a",
        "colab": {
          "base_uri": "https://localhost:8080/",
          "height": 143
        }
      },
      "outputs": [
        {
          "output_type": "execute_result",
          "data": {
            "text/plain": [
              "4    0.166667\n",
              "6    0.333333\n",
              "8    0.500000\n",
              "Name: , dtype: float64"
            ],
            "text/html": [
              "<div>\n",
              "<style scoped>\n",
              "    .dataframe tbody tr th:only-of-type {\n",
              "        vertical-align: middle;\n",
              "    }\n",
              "\n",
              "    .dataframe tbody tr th {\n",
              "        vertical-align: top;\n",
              "    }\n",
              "\n",
              "    .dataframe thead th {\n",
              "        text-align: right;\n",
              "    }\n",
              "</style>\n",
              "<table border=\"1\" class=\"dataframe\">\n",
              "  <thead>\n",
              "    <tr style=\"text-align: right;\">\n",
              "      <th></th>\n",
              "      <th>probs</th>\n",
              "    </tr>\n",
              "  </thead>\n",
              "  <tbody>\n",
              "    <tr>\n",
              "      <th>4</th>\n",
              "      <td>0.166667</td>\n",
              "    </tr>\n",
              "    <tr>\n",
              "      <th>6</th>\n",
              "      <td>0.333333</td>\n",
              "    </tr>\n",
              "    <tr>\n",
              "      <th>8</th>\n",
              "      <td>0.500000</td>\n",
              "    </tr>\n",
              "  </tbody>\n",
              "</table>\n",
              "</div>"
            ]
          },
          "metadata": {},
          "execution_count": 52
        }
      ],
      "source": [
        "hypos = [4,6,8]\n",
        "counts = [1,2,3]\n",
        "pmf_dice = Pmf(counts, hypos)\n",
        "pmf_dice.normalize()\n",
        "pmf_dice"
      ]
    },
    {
      "cell_type": "markdown",
      "metadata": {
        "id": "K49EqFzmNdpi"
      },
      "source": [
        "This distribution represents the number of sides on the die we'll roll and the probability of rolling each one.\n",
        "For example, one of the six monsters has a dagger, so the probability is $1/6$ that we roll a 4-sided die.\n",
        "\n",
        "Next I'll make a sequence of `Pmf` objects to represent the dice:"
      ]
    },
    {
      "cell_type": "code",
      "execution_count": 53,
      "metadata": {
        "execution": {
          "iopub.execute_input": "2021-04-16T19:35:33.294783Z",
          "iopub.status.busy": "2021-04-16T19:35:33.294222Z",
          "iopub.status.idle": "2021-04-16T19:35:33.295894Z",
          "shell.execute_reply": "2021-04-16T19:35:33.296242Z"
        },
        "id": "oNB2yuvdNdpi"
      },
      "outputs": [],
      "source": [
        "dice = [make_die(sides) for sides in hypos]"
      ]
    },
    {
      "cell_type": "markdown",
      "metadata": {
        "id": "np8jRzH-Ndpi"
      },
      "source": [
        "To compute the distribution of the mixture, I'll compute the weighted average of the dice, using the probabilities in `pmf_dice` as the weights.\n",
        "\n",
        "To express this computation concisely, it is convenient to put the distributions into a Pandas `DataFrame`:"
      ]
    },
    {
      "cell_type": "code",
      "execution_count": 54,
      "metadata": {
        "execution": {
          "iopub.execute_input": "2021-04-16T19:35:33.300969Z",
          "iopub.status.busy": "2021-04-16T19:35:33.300520Z",
          "iopub.status.idle": "2021-04-16T19:35:33.309423Z",
          "shell.execute_reply": "2021-04-16T19:35:33.309778Z"
        },
        "id": "ZxoQeAIuNdpi",
        "outputId": "73a797a1-9dc1-469f-9394-b7e74b344bb5",
        "colab": {
          "base_uri": "https://localhost:8080/",
          "height": 143
        }
      },
      "outputs": [
        {
          "output_type": "execute_result",
          "data": {
            "text/plain": [
              "         1         2         3         4         5         6      7      8\n",
              "  0.250000  0.250000  0.250000  0.250000       NaN       NaN    NaN    NaN\n",
              "  0.166667  0.166667  0.166667  0.166667  0.166667  0.166667    NaN    NaN\n",
              "  0.125000  0.125000  0.125000  0.125000  0.125000  0.125000  0.125  0.125"
            ],
            "text/html": [
              "\n",
              "  <div id=\"df-3757ebfc-c210-4b52-8655-75b280e48faa\">\n",
              "    <div class=\"colab-df-container\">\n",
              "      <div>\n",
              "<style scoped>\n",
              "    .dataframe tbody tr th:only-of-type {\n",
              "        vertical-align: middle;\n",
              "    }\n",
              "\n",
              "    .dataframe tbody tr th {\n",
              "        vertical-align: top;\n",
              "    }\n",
              "\n",
              "    .dataframe thead th {\n",
              "        text-align: right;\n",
              "    }\n",
              "</style>\n",
              "<table border=\"1\" class=\"dataframe\">\n",
              "  <thead>\n",
              "    <tr style=\"text-align: right;\">\n",
              "      <th></th>\n",
              "      <th>1</th>\n",
              "      <th>2</th>\n",
              "      <th>3</th>\n",
              "      <th>4</th>\n",
              "      <th>5</th>\n",
              "      <th>6</th>\n",
              "      <th>7</th>\n",
              "      <th>8</th>\n",
              "    </tr>\n",
              "  </thead>\n",
              "  <tbody>\n",
              "    <tr>\n",
              "      <th></th>\n",
              "      <td>0.250000</td>\n",
              "      <td>0.250000</td>\n",
              "      <td>0.250000</td>\n",
              "      <td>0.250000</td>\n",
              "      <td>NaN</td>\n",
              "      <td>NaN</td>\n",
              "      <td>NaN</td>\n",
              "      <td>NaN</td>\n",
              "    </tr>\n",
              "    <tr>\n",
              "      <th></th>\n",
              "      <td>0.166667</td>\n",
              "      <td>0.166667</td>\n",
              "      <td>0.166667</td>\n",
              "      <td>0.166667</td>\n",
              "      <td>0.166667</td>\n",
              "      <td>0.166667</td>\n",
              "      <td>NaN</td>\n",
              "      <td>NaN</td>\n",
              "    </tr>\n",
              "    <tr>\n",
              "      <th></th>\n",
              "      <td>0.125000</td>\n",
              "      <td>0.125000</td>\n",
              "      <td>0.125000</td>\n",
              "      <td>0.125000</td>\n",
              "      <td>0.125000</td>\n",
              "      <td>0.125000</td>\n",
              "      <td>0.125</td>\n",
              "      <td>0.125</td>\n",
              "    </tr>\n",
              "  </tbody>\n",
              "</table>\n",
              "</div>\n",
              "      <button class=\"colab-df-convert\" onclick=\"convertToInteractive('df-3757ebfc-c210-4b52-8655-75b280e48faa')\"\n",
              "              title=\"Convert this dataframe to an interactive table.\"\n",
              "              style=\"display:none;\">\n",
              "        \n",
              "  <svg xmlns=\"http://www.w3.org/2000/svg\" height=\"24px\"viewBox=\"0 0 24 24\"\n",
              "       width=\"24px\">\n",
              "    <path d=\"M0 0h24v24H0V0z\" fill=\"none\"/>\n",
              "    <path d=\"M18.56 5.44l.94 2.06.94-2.06 2.06-.94-2.06-.94-.94-2.06-.94 2.06-2.06.94zm-11 1L8.5 8.5l.94-2.06 2.06-.94-2.06-.94L8.5 2.5l-.94 2.06-2.06.94zm10 10l.94 2.06.94-2.06 2.06-.94-2.06-.94-.94-2.06-.94 2.06-2.06.94z\"/><path d=\"M17.41 7.96l-1.37-1.37c-.4-.4-.92-.59-1.43-.59-.52 0-1.04.2-1.43.59L10.3 9.45l-7.72 7.72c-.78.78-.78 2.05 0 2.83L4 21.41c.39.39.9.59 1.41.59.51 0 1.02-.2 1.41-.59l7.78-7.78 2.81-2.81c.8-.78.8-2.07 0-2.86zM5.41 20L4 18.59l7.72-7.72 1.47 1.35L5.41 20z\"/>\n",
              "  </svg>\n",
              "      </button>\n",
              "      \n",
              "  <style>\n",
              "    .colab-df-container {\n",
              "      display:flex;\n",
              "      flex-wrap:wrap;\n",
              "      gap: 12px;\n",
              "    }\n",
              "\n",
              "    .colab-df-convert {\n",
              "      background-color: #E8F0FE;\n",
              "      border: none;\n",
              "      border-radius: 50%;\n",
              "      cursor: pointer;\n",
              "      display: none;\n",
              "      fill: #1967D2;\n",
              "      height: 32px;\n",
              "      padding: 0 0 0 0;\n",
              "      width: 32px;\n",
              "    }\n",
              "\n",
              "    .colab-df-convert:hover {\n",
              "      background-color: #E2EBFA;\n",
              "      box-shadow: 0px 1px 2px rgba(60, 64, 67, 0.3), 0px 1px 3px 1px rgba(60, 64, 67, 0.15);\n",
              "      fill: #174EA6;\n",
              "    }\n",
              "\n",
              "    [theme=dark] .colab-df-convert {\n",
              "      background-color: #3B4455;\n",
              "      fill: #D2E3FC;\n",
              "    }\n",
              "\n",
              "    [theme=dark] .colab-df-convert:hover {\n",
              "      background-color: #434B5C;\n",
              "      box-shadow: 0px 1px 3px 1px rgba(0, 0, 0, 0.15);\n",
              "      filter: drop-shadow(0px 1px 2px rgba(0, 0, 0, 0.3));\n",
              "      fill: #FFFFFF;\n",
              "    }\n",
              "  </style>\n",
              "\n",
              "      <script>\n",
              "        const buttonEl =\n",
              "          document.querySelector('#df-3757ebfc-c210-4b52-8655-75b280e48faa button.colab-df-convert');\n",
              "        buttonEl.style.display =\n",
              "          google.colab.kernel.accessAllowed ? 'block' : 'none';\n",
              "\n",
              "        async function convertToInteractive(key) {\n",
              "          const element = document.querySelector('#df-3757ebfc-c210-4b52-8655-75b280e48faa');\n",
              "          const dataTable =\n",
              "            await google.colab.kernel.invokeFunction('convertToInteractive',\n",
              "                                                     [key], {});\n",
              "          if (!dataTable) return;\n",
              "\n",
              "          const docLinkHtml = 'Like what you see? Visit the ' +\n",
              "            '<a target=\"_blank\" href=https://colab.research.google.com/notebooks/data_table.ipynb>data table notebook</a>'\n",
              "            + ' to learn more about interactive tables.';\n",
              "          element.innerHTML = '';\n",
              "          dataTable['output_type'] = 'display_data';\n",
              "          await google.colab.output.renderOutput(dataTable, element);\n",
              "          const docLink = document.createElement('div');\n",
              "          docLink.innerHTML = docLinkHtml;\n",
              "          element.appendChild(docLink);\n",
              "        }\n",
              "      </script>\n",
              "    </div>\n",
              "  </div>\n",
              "  "
            ]
          },
          "metadata": {},
          "execution_count": 54
        }
      ],
      "source": [
        "import pandas as pd\n",
        "\n",
        "pd.DataFrame(dice)"
      ]
    },
    {
      "cell_type": "markdown",
      "metadata": {
        "id": "ACNabefKNdpj"
      },
      "source": [
        "The result is a `DataFrame` with one row for each distribution and one column for each possible outcome.\n",
        "Not all rows are the same length, so Pandas fills the extra spaces with the special value `NaN`, which stands for \"not a number\".\n",
        "We can use `fillna` to replace the `NaN` values with 0."
      ]
    },
    {
      "cell_type": "raw",
      "metadata": {
        "execution": {
          "iopub.execute_input": "2021-04-12T15:01:40.666810Z",
          "iopub.status.busy": "2021-04-12T15:01:40.666262Z",
          "iopub.status.idle": "2021-04-12T15:01:40.669604Z",
          "shell.execute_reply": "2021-04-12T15:01:40.669178Z"
        },
        "id": "B0qZt2cXNdpj"
      },
      "source": [
        "pd.DataFrame(dice).fillna(0)"
      ]
    },
    {
      "cell_type": "markdown",
      "metadata": {
        "id": "mC6Cvma2Ndpj"
      },
      "source": [
        "The next step is to multiply each row by the probabilities in `pmf_dice`, which turns out to be easier if we transpose the matrix so the distributions run down the columns rather than across the rows:"
      ]
    },
    {
      "cell_type": "code",
      "execution_count": 55,
      "metadata": {
        "execution": {
          "iopub.execute_input": "2021-04-16T19:35:33.314949Z",
          "iopub.status.busy": "2021-04-16T19:35:33.314409Z",
          "iopub.status.idle": "2021-04-16T19:35:33.316129Z",
          "shell.execute_reply": "2021-04-16T19:35:33.316499Z"
        },
        "id": "LAFEyM6BNdpj"
      },
      "outputs": [],
      "source": [
        "df = pd.DataFrame(dice).fillna(0).transpose()"
      ]
    },
    {
      "cell_type": "code",
      "execution_count": 56,
      "metadata": {
        "execution": {
          "iopub.execute_input": "2021-04-16T19:35:33.324161Z",
          "iopub.status.busy": "2021-04-16T19:35:33.323375Z",
          "iopub.status.idle": "2021-04-16T19:35:33.326601Z",
          "shell.execute_reply": "2021-04-16T19:35:33.326987Z"
        },
        "tags": [],
        "id": "9onZAbTRNdpj",
        "outputId": "aeb7ee3e-b43c-4454-eb80-bba1655718f7",
        "colab": {
          "base_uri": "https://localhost:8080/",
          "height": 283
        }
      },
      "outputs": [
        {
          "output_type": "execute_result",
          "data": {
            "text/plain": [
              "                        \n",
              "1  0.25  0.166667  0.125\n",
              "2  0.25  0.166667  0.125\n",
              "3  0.25  0.166667  0.125\n",
              "4  0.25  0.166667  0.125\n",
              "5  0.00  0.166667  0.125\n",
              "6  0.00  0.166667  0.125\n",
              "7  0.00  0.000000  0.125\n",
              "8  0.00  0.000000  0.125"
            ],
            "text/html": [
              "\n",
              "  <div id=\"df-a636acb4-37f9-424a-8a3e-40d6d94a30b2\">\n",
              "    <div class=\"colab-df-container\">\n",
              "      <div>\n",
              "<style scoped>\n",
              "    .dataframe tbody tr th:only-of-type {\n",
              "        vertical-align: middle;\n",
              "    }\n",
              "\n",
              "    .dataframe tbody tr th {\n",
              "        vertical-align: top;\n",
              "    }\n",
              "\n",
              "    .dataframe thead th {\n",
              "        text-align: right;\n",
              "    }\n",
              "</style>\n",
              "<table border=\"1\" class=\"dataframe\">\n",
              "  <thead>\n",
              "    <tr style=\"text-align: right;\">\n",
              "      <th></th>\n",
              "      <th></th>\n",
              "      <th></th>\n",
              "      <th></th>\n",
              "    </tr>\n",
              "  </thead>\n",
              "  <tbody>\n",
              "    <tr>\n",
              "      <th>1</th>\n",
              "      <td>0.25</td>\n",
              "      <td>0.166667</td>\n",
              "      <td>0.125</td>\n",
              "    </tr>\n",
              "    <tr>\n",
              "      <th>2</th>\n",
              "      <td>0.25</td>\n",
              "      <td>0.166667</td>\n",
              "      <td>0.125</td>\n",
              "    </tr>\n",
              "    <tr>\n",
              "      <th>3</th>\n",
              "      <td>0.25</td>\n",
              "      <td>0.166667</td>\n",
              "      <td>0.125</td>\n",
              "    </tr>\n",
              "    <tr>\n",
              "      <th>4</th>\n",
              "      <td>0.25</td>\n",
              "      <td>0.166667</td>\n",
              "      <td>0.125</td>\n",
              "    </tr>\n",
              "    <tr>\n",
              "      <th>5</th>\n",
              "      <td>0.00</td>\n",
              "      <td>0.166667</td>\n",
              "      <td>0.125</td>\n",
              "    </tr>\n",
              "    <tr>\n",
              "      <th>6</th>\n",
              "      <td>0.00</td>\n",
              "      <td>0.166667</td>\n",
              "      <td>0.125</td>\n",
              "    </tr>\n",
              "    <tr>\n",
              "      <th>7</th>\n",
              "      <td>0.00</td>\n",
              "      <td>0.000000</td>\n",
              "      <td>0.125</td>\n",
              "    </tr>\n",
              "    <tr>\n",
              "      <th>8</th>\n",
              "      <td>0.00</td>\n",
              "      <td>0.000000</td>\n",
              "      <td>0.125</td>\n",
              "    </tr>\n",
              "  </tbody>\n",
              "</table>\n",
              "</div>\n",
              "      <button class=\"colab-df-convert\" onclick=\"convertToInteractive('df-a636acb4-37f9-424a-8a3e-40d6d94a30b2')\"\n",
              "              title=\"Convert this dataframe to an interactive table.\"\n",
              "              style=\"display:none;\">\n",
              "        \n",
              "  <svg xmlns=\"http://www.w3.org/2000/svg\" height=\"24px\"viewBox=\"0 0 24 24\"\n",
              "       width=\"24px\">\n",
              "    <path d=\"M0 0h24v24H0V0z\" fill=\"none\"/>\n",
              "    <path d=\"M18.56 5.44l.94 2.06.94-2.06 2.06-.94-2.06-.94-.94-2.06-.94 2.06-2.06.94zm-11 1L8.5 8.5l.94-2.06 2.06-.94-2.06-.94L8.5 2.5l-.94 2.06-2.06.94zm10 10l.94 2.06.94-2.06 2.06-.94-2.06-.94-.94-2.06-.94 2.06-2.06.94z\"/><path d=\"M17.41 7.96l-1.37-1.37c-.4-.4-.92-.59-1.43-.59-.52 0-1.04.2-1.43.59L10.3 9.45l-7.72 7.72c-.78.78-.78 2.05 0 2.83L4 21.41c.39.39.9.59 1.41.59.51 0 1.02-.2 1.41-.59l7.78-7.78 2.81-2.81c.8-.78.8-2.07 0-2.86zM5.41 20L4 18.59l7.72-7.72 1.47 1.35L5.41 20z\"/>\n",
              "  </svg>\n",
              "      </button>\n",
              "      \n",
              "  <style>\n",
              "    .colab-df-container {\n",
              "      display:flex;\n",
              "      flex-wrap:wrap;\n",
              "      gap: 12px;\n",
              "    }\n",
              "\n",
              "    .colab-df-convert {\n",
              "      background-color: #E8F0FE;\n",
              "      border: none;\n",
              "      border-radius: 50%;\n",
              "      cursor: pointer;\n",
              "      display: none;\n",
              "      fill: #1967D2;\n",
              "      height: 32px;\n",
              "      padding: 0 0 0 0;\n",
              "      width: 32px;\n",
              "    }\n",
              "\n",
              "    .colab-df-convert:hover {\n",
              "      background-color: #E2EBFA;\n",
              "      box-shadow: 0px 1px 2px rgba(60, 64, 67, 0.3), 0px 1px 3px 1px rgba(60, 64, 67, 0.15);\n",
              "      fill: #174EA6;\n",
              "    }\n",
              "\n",
              "    [theme=dark] .colab-df-convert {\n",
              "      background-color: #3B4455;\n",
              "      fill: #D2E3FC;\n",
              "    }\n",
              "\n",
              "    [theme=dark] .colab-df-convert:hover {\n",
              "      background-color: #434B5C;\n",
              "      box-shadow: 0px 1px 3px 1px rgba(0, 0, 0, 0.15);\n",
              "      filter: drop-shadow(0px 1px 2px rgba(0, 0, 0, 0.3));\n",
              "      fill: #FFFFFF;\n",
              "    }\n",
              "  </style>\n",
              "\n",
              "      <script>\n",
              "        const buttonEl =\n",
              "          document.querySelector('#df-a636acb4-37f9-424a-8a3e-40d6d94a30b2 button.colab-df-convert');\n",
              "        buttonEl.style.display =\n",
              "          google.colab.kernel.accessAllowed ? 'block' : 'none';\n",
              "\n",
              "        async function convertToInteractive(key) {\n",
              "          const element = document.querySelector('#df-a636acb4-37f9-424a-8a3e-40d6d94a30b2');\n",
              "          const dataTable =\n",
              "            await google.colab.kernel.invokeFunction('convertToInteractive',\n",
              "                                                     [key], {});\n",
              "          if (!dataTable) return;\n",
              "\n",
              "          const docLinkHtml = 'Like what you see? Visit the ' +\n",
              "            '<a target=\"_blank\" href=https://colab.research.google.com/notebooks/data_table.ipynb>data table notebook</a>'\n",
              "            + ' to learn more about interactive tables.';\n",
              "          element.innerHTML = '';\n",
              "          dataTable['output_type'] = 'display_data';\n",
              "          await google.colab.output.renderOutput(dataTable, element);\n",
              "          const docLink = document.createElement('div');\n",
              "          docLink.innerHTML = docLinkHtml;\n",
              "          element.appendChild(docLink);\n",
              "        }\n",
              "      </script>\n",
              "    </div>\n",
              "  </div>\n",
              "  "
            ]
          },
          "metadata": {},
          "execution_count": 56
        }
      ],
      "source": [
        "df"
      ]
    },
    {
      "cell_type": "markdown",
      "metadata": {
        "id": "wClVAQxrNdpj"
      },
      "source": [
        "Now we can multiply by the probabilities in `pmf_dice`:\n"
      ]
    },
    {
      "cell_type": "code",
      "execution_count": 57,
      "metadata": {
        "execution": {
          "iopub.execute_input": "2021-04-16T19:35:33.330625Z",
          "iopub.status.busy": "2021-04-16T19:35:33.328502Z",
          "iopub.status.idle": "2021-04-16T19:35:33.332816Z",
          "shell.execute_reply": "2021-04-16T19:35:33.332380Z"
        },
        "id": "tgOZA-mXNdpj"
      },
      "outputs": [],
      "source": [
        "df *= pmf_dice.ps"
      ]
    },
    {
      "cell_type": "code",
      "execution_count": 58,
      "metadata": {
        "execution": {
          "iopub.execute_input": "2021-04-16T19:35:33.340823Z",
          "iopub.status.busy": "2021-04-16T19:35:33.340224Z",
          "iopub.status.idle": "2021-04-16T19:35:33.343890Z",
          "shell.execute_reply": "2021-04-16T19:35:33.343386Z"
        },
        "id": "SaLIzvfWNdpj",
        "outputId": "3225d3fb-a378-4758-89ea-d5b2b318691f",
        "colab": {
          "base_uri": "https://localhost:8080/",
          "height": 283
        }
      },
      "outputs": [
        {
          "output_type": "execute_result",
          "data": {
            "text/plain": [
              "                             \n",
              "1  0.041667  0.055556  0.0625\n",
              "2  0.041667  0.055556  0.0625\n",
              "3  0.041667  0.055556  0.0625\n",
              "4  0.041667  0.055556  0.0625\n",
              "5  0.000000  0.055556  0.0625\n",
              "6  0.000000  0.055556  0.0625\n",
              "7  0.000000  0.000000  0.0625\n",
              "8  0.000000  0.000000  0.0625"
            ],
            "text/html": [
              "\n",
              "  <div id=\"df-002fd0f9-3b2b-4340-a54b-f3f37c7c73b7\">\n",
              "    <div class=\"colab-df-container\">\n",
              "      <div>\n",
              "<style scoped>\n",
              "    .dataframe tbody tr th:only-of-type {\n",
              "        vertical-align: middle;\n",
              "    }\n",
              "\n",
              "    .dataframe tbody tr th {\n",
              "        vertical-align: top;\n",
              "    }\n",
              "\n",
              "    .dataframe thead th {\n",
              "        text-align: right;\n",
              "    }\n",
              "</style>\n",
              "<table border=\"1\" class=\"dataframe\">\n",
              "  <thead>\n",
              "    <tr style=\"text-align: right;\">\n",
              "      <th></th>\n",
              "      <th></th>\n",
              "      <th></th>\n",
              "      <th></th>\n",
              "    </tr>\n",
              "  </thead>\n",
              "  <tbody>\n",
              "    <tr>\n",
              "      <th>1</th>\n",
              "      <td>0.041667</td>\n",
              "      <td>0.055556</td>\n",
              "      <td>0.0625</td>\n",
              "    </tr>\n",
              "    <tr>\n",
              "      <th>2</th>\n",
              "      <td>0.041667</td>\n",
              "      <td>0.055556</td>\n",
              "      <td>0.0625</td>\n",
              "    </tr>\n",
              "    <tr>\n",
              "      <th>3</th>\n",
              "      <td>0.041667</td>\n",
              "      <td>0.055556</td>\n",
              "      <td>0.0625</td>\n",
              "    </tr>\n",
              "    <tr>\n",
              "      <th>4</th>\n",
              "      <td>0.041667</td>\n",
              "      <td>0.055556</td>\n",
              "      <td>0.0625</td>\n",
              "    </tr>\n",
              "    <tr>\n",
              "      <th>5</th>\n",
              "      <td>0.000000</td>\n",
              "      <td>0.055556</td>\n",
              "      <td>0.0625</td>\n",
              "    </tr>\n",
              "    <tr>\n",
              "      <th>6</th>\n",
              "      <td>0.000000</td>\n",
              "      <td>0.055556</td>\n",
              "      <td>0.0625</td>\n",
              "    </tr>\n",
              "    <tr>\n",
              "      <th>7</th>\n",
              "      <td>0.000000</td>\n",
              "      <td>0.000000</td>\n",
              "      <td>0.0625</td>\n",
              "    </tr>\n",
              "    <tr>\n",
              "      <th>8</th>\n",
              "      <td>0.000000</td>\n",
              "      <td>0.000000</td>\n",
              "      <td>0.0625</td>\n",
              "    </tr>\n",
              "  </tbody>\n",
              "</table>\n",
              "</div>\n",
              "      <button class=\"colab-df-convert\" onclick=\"convertToInteractive('df-002fd0f9-3b2b-4340-a54b-f3f37c7c73b7')\"\n",
              "              title=\"Convert this dataframe to an interactive table.\"\n",
              "              style=\"display:none;\">\n",
              "        \n",
              "  <svg xmlns=\"http://www.w3.org/2000/svg\" height=\"24px\"viewBox=\"0 0 24 24\"\n",
              "       width=\"24px\">\n",
              "    <path d=\"M0 0h24v24H0V0z\" fill=\"none\"/>\n",
              "    <path d=\"M18.56 5.44l.94 2.06.94-2.06 2.06-.94-2.06-.94-.94-2.06-.94 2.06-2.06.94zm-11 1L8.5 8.5l.94-2.06 2.06-.94-2.06-.94L8.5 2.5l-.94 2.06-2.06.94zm10 10l.94 2.06.94-2.06 2.06-.94-2.06-.94-.94-2.06-.94 2.06-2.06.94z\"/><path d=\"M17.41 7.96l-1.37-1.37c-.4-.4-.92-.59-1.43-.59-.52 0-1.04.2-1.43.59L10.3 9.45l-7.72 7.72c-.78.78-.78 2.05 0 2.83L4 21.41c.39.39.9.59 1.41.59.51 0 1.02-.2 1.41-.59l7.78-7.78 2.81-2.81c.8-.78.8-2.07 0-2.86zM5.41 20L4 18.59l7.72-7.72 1.47 1.35L5.41 20z\"/>\n",
              "  </svg>\n",
              "      </button>\n",
              "      \n",
              "  <style>\n",
              "    .colab-df-container {\n",
              "      display:flex;\n",
              "      flex-wrap:wrap;\n",
              "      gap: 12px;\n",
              "    }\n",
              "\n",
              "    .colab-df-convert {\n",
              "      background-color: #E8F0FE;\n",
              "      border: none;\n",
              "      border-radius: 50%;\n",
              "      cursor: pointer;\n",
              "      display: none;\n",
              "      fill: #1967D2;\n",
              "      height: 32px;\n",
              "      padding: 0 0 0 0;\n",
              "      width: 32px;\n",
              "    }\n",
              "\n",
              "    .colab-df-convert:hover {\n",
              "      background-color: #E2EBFA;\n",
              "      box-shadow: 0px 1px 2px rgba(60, 64, 67, 0.3), 0px 1px 3px 1px rgba(60, 64, 67, 0.15);\n",
              "      fill: #174EA6;\n",
              "    }\n",
              "\n",
              "    [theme=dark] .colab-df-convert {\n",
              "      background-color: #3B4455;\n",
              "      fill: #D2E3FC;\n",
              "    }\n",
              "\n",
              "    [theme=dark] .colab-df-convert:hover {\n",
              "      background-color: #434B5C;\n",
              "      box-shadow: 0px 1px 3px 1px rgba(0, 0, 0, 0.15);\n",
              "      filter: drop-shadow(0px 1px 2px rgba(0, 0, 0, 0.3));\n",
              "      fill: #FFFFFF;\n",
              "    }\n",
              "  </style>\n",
              "\n",
              "      <script>\n",
              "        const buttonEl =\n",
              "          document.querySelector('#df-002fd0f9-3b2b-4340-a54b-f3f37c7c73b7 button.colab-df-convert');\n",
              "        buttonEl.style.display =\n",
              "          google.colab.kernel.accessAllowed ? 'block' : 'none';\n",
              "\n",
              "        async function convertToInteractive(key) {\n",
              "          const element = document.querySelector('#df-002fd0f9-3b2b-4340-a54b-f3f37c7c73b7');\n",
              "          const dataTable =\n",
              "            await google.colab.kernel.invokeFunction('convertToInteractive',\n",
              "                                                     [key], {});\n",
              "          if (!dataTable) return;\n",
              "\n",
              "          const docLinkHtml = 'Like what you see? Visit the ' +\n",
              "            '<a target=\"_blank\" href=https://colab.research.google.com/notebooks/data_table.ipynb>data table notebook</a>'\n",
              "            + ' to learn more about interactive tables.';\n",
              "          element.innerHTML = '';\n",
              "          dataTable['output_type'] = 'display_data';\n",
              "          await google.colab.output.renderOutput(dataTable, element);\n",
              "          const docLink = document.createElement('div');\n",
              "          docLink.innerHTML = docLinkHtml;\n",
              "          element.appendChild(docLink);\n",
              "        }\n",
              "      </script>\n",
              "    </div>\n",
              "  </div>\n",
              "  "
            ]
          },
          "metadata": {},
          "execution_count": 58
        }
      ],
      "source": [
        "df"
      ]
    },
    {
      "cell_type": "markdown",
      "metadata": {
        "id": "C45RjaqJNdpj"
      },
      "source": [
        "And add up the weighted distributions:"
      ]
    },
    {
      "cell_type": "code",
      "execution_count": 59,
      "metadata": {
        "execution": {
          "iopub.execute_input": "2021-04-16T19:35:33.349701Z",
          "iopub.status.busy": "2021-04-16T19:35:33.348913Z",
          "iopub.status.idle": "2021-04-16T19:35:33.352453Z",
          "shell.execute_reply": "2021-04-16T19:35:33.351964Z"
        },
        "tags": [],
        "id": "d37XoM4cNdpj",
        "outputId": "77b5f589-be53-4ad9-86b4-129a84c09d0e",
        "colab": {
          "base_uri": "https://localhost:8080/"
        }
      },
      "outputs": [
        {
          "output_type": "execute_result",
          "data": {
            "text/plain": [
              "1    0.159722\n",
              "2    0.159722\n",
              "3    0.159722\n",
              "4    0.159722\n",
              "5    0.118056\n",
              "6    0.118056\n",
              "7    0.062500\n",
              "8    0.062500\n",
              "dtype: float64"
            ]
          },
          "metadata": {},
          "execution_count": 59
        }
      ],
      "source": [
        "df.sum(axis=1)"
      ]
    },
    {
      "cell_type": "markdown",
      "metadata": {
        "id": "8Y5hx2GuNdpj"
      },
      "source": [
        "The argument `axis=1` means we want to sum across the rows.\n",
        "The result is a Pandas `Series`.\n",
        "\n",
        "Putting it all together, here's a function that makes a weighted mixture of distributions."
      ]
    },
    {
      "cell_type": "code",
      "execution_count": 60,
      "metadata": {
        "execution": {
          "iopub.execute_input": "2021-04-16T19:35:33.356915Z",
          "iopub.status.busy": "2021-04-16T19:35:33.356141Z",
          "iopub.status.idle": "2021-04-16T19:35:33.358351Z",
          "shell.execute_reply": "2021-04-16T19:35:33.358991Z"
        },
        "id": "49uUq0jINdpk"
      },
      "outputs": [],
      "source": [
        "def make_mixture(pmf, pmf_seq):\n",
        "    \"\"\"Make a mixture of distributions.\"\"\"\n",
        "    df = pd.DataFrame(pmf_seq).fillna(0).transpose()\n",
        "    df *= np.array(pmf)\n",
        "    total = df.sum(axis=1)\n",
        "    return Pmf(total)"
      ]
    },
    {
      "cell_type": "markdown",
      "metadata": {
        "id": "VsfFZSjSNdpk"
      },
      "source": [
        "The first parameter is a `Pmf` that maps from each hypothesis to a probability.\n",
        "The second parameter is a sequence of `Pmf` objects, one for each hypothesis.\n",
        "We can call it like this:"
      ]
    },
    {
      "cell_type": "code",
      "execution_count": 61,
      "metadata": {
        "execution": {
          "iopub.execute_input": "2021-04-16T19:35:33.365638Z",
          "iopub.status.busy": "2021-04-16T19:35:33.363553Z",
          "iopub.status.idle": "2021-04-16T19:35:33.367689Z",
          "shell.execute_reply": "2021-04-16T19:35:33.368168Z"
        },
        "id": "i07gCYxgNdpk"
      },
      "outputs": [],
      "source": [
        "mix = make_mixture(pmf_dice, dice)"
      ]
    },
    {
      "cell_type": "markdown",
      "metadata": {
        "id": "9hQEEsAuNdpk"
      },
      "source": [
        "And here's what it looks like."
      ]
    },
    {
      "cell_type": "code",
      "execution_count": 62,
      "metadata": {
        "execution": {
          "iopub.execute_input": "2021-04-16T19:35:33.399930Z",
          "iopub.status.busy": "2021-04-16T19:35:33.390116Z",
          "iopub.status.idle": "2021-04-16T19:35:33.566607Z",
          "shell.execute_reply": "2021-04-16T19:35:33.566961Z"
        },
        "tags": [],
        "id": "lhyUm8jANdpk",
        "outputId": "b10cc882-8371-43ec-eb13-c80515e8f0ab",
        "colab": {
          "base_uri": "https://localhost:8080/",
          "height": 297
        }
      },
      "outputs": [
        {
          "output_type": "display_data",
          "data": {
            "text/plain": [
              "<Figure size 432x288 with 1 Axes>"
            ],
            "image/png": "[encoded data removed]"
          },
          "metadata": {
            "needs_background": "light"
          }
        }
      ],
      "source": [
        "mix.bar(label='mixture', alpha=0.6)\n",
        "decorate_dice('Distribution of damage with three different weapons')"
      ]
    },
    {
      "cell_type": "markdown",
      "metadata": {
        "id": "-NXoncOGNdpk"
      },
      "source": [
        "In this section I used Pandas so that `make_mixture` is concise, efficient, and hopefully not too hard to understand.\n",
        "In the exercises at the end of the chapter, you'll have a chance to practice with mixtures, and we will use `make_mixture` again in the next chapter."
      ]
    },
    {
      "cell_type": "markdown",
      "metadata": {
        "id": "mFkLomMENdpk"
      },
      "source": [
        "## Summary\n",
        "\n",
        "This chapter introduces the `Cdf` object, which represents the cumulative distribution function (CDF).\n",
        "\n",
        "A `Pmf` and the corresponding `Cdf` are equivalent in the sense that they contain the same information, so you can convert from one to the other.  \n",
        "The primary difference between them is performance: some operations are faster and easier with a `Pmf`; others are faster with a `Cdf`.\n",
        "\n",
        "In this chapter we used `Cdf` objects to compute distributions of maximums and minimums; these distributions are useful for inference if we are given a maximum or minimum as data.\n",
        "You will see some examples in the exercises, and in future chapters.\n",
        "We also computed mixtures of distributions, which we will use in the next chapter to make predictions.\n",
        "\n",
        "But first you might want to work on these exercises."
      ]
    },
    {
      "cell_type": "markdown",
      "metadata": {
        "id": "ytfh6x48Ndpk"
      },
      "source": [
        "## Exercises"
      ]
    },
    {
      "cell_type": "markdown",
      "metadata": {
        "id": "oAZj0WpHNdpk"
      },
      "source": [
        "**Exercise:** When you generate a D&D character, instead of rolling dice, you can use the \"standard array\" of attributes, which is 15, 14, 13, 12, 10, and 8.\n",
        "Do you think you are better off using the standard array or (literally) rolling the dice?\n",
        "\n",
        "Compare the distribution of the values in the standard array to the distribution we computed for the best three out of four:\n",
        "\n",
        "* Which distribution has higher mean?  Use the `mean` method.\n",
        "\n",
        "* Which distribution has higher standard deviation?  Use the `std` method.\n",
        "\n",
        "* The lowest value in the standard array is 8.  For each attribute, what is the probability of getting a value less than 8?  If you roll the dice six times, what's the probability that at least one of your attributes is less than 8?\n",
        "\n",
        "* The highest value in the standard array is 15.  For each attribute, what is the probability of getting a value greater than 15?  If you roll the dice six times, what's the probability that at least one of your attributes is greater than 15?"
      ]
    },
    {
      "cell_type": "markdown",
      "metadata": {
        "tags": [],
        "id": "E2EidrnRNdpk"
      },
      "source": [
        "To get you started, here's a `Cdf` that represents the distribution of attributes in the standard array:"
      ]
    },
    {
      "cell_type": "code",
      "execution_count": 63,
      "metadata": {
        "execution": {
          "iopub.execute_input": "2021-04-16T19:35:33.571476Z",
          "iopub.status.busy": "2021-04-16T19:35:33.571037Z",
          "iopub.status.idle": "2021-04-16T19:35:33.573281Z",
          "shell.execute_reply": "2021-04-16T19:35:33.572815Z"
        },
        "tags": [],
        "id": "zXvI2x4DNdpk"
      },
      "outputs": [],
      "source": [
        "standard = [15,14,13,12,10,8]\n",
        "cdf_standard = Cdf.from_seq(standard)"
      ]
    },
    {
      "cell_type": "markdown",
      "metadata": {
        "tags": [],
        "id": "fVvc9l1ONdpl"
      },
      "source": [
        "We can compare it to the distribution of attributes you get by rolling four dice at adding up the best three."
      ]
    },
    {
      "cell_type": "code",
      "execution_count": 64,
      "metadata": {
        "execution": {
          "iopub.execute_input": "2021-04-16T19:35:33.667038Z",
          "iopub.status.busy": "2021-04-16T19:35:33.649741Z",
          "iopub.status.idle": "2021-04-16T19:35:33.820988Z",
          "shell.execute_reply": "2021-04-16T19:35:33.820486Z"
        },
        "tags": [],
        "id": "INZR0PI7Ndpl",
        "outputId": "b96e7e84-21a5-4cb0-9b42-073f0722c4bb",
        "colab": {
          "base_uri": "https://localhost:8080/",
          "height": 297
        }
      },
      "outputs": [
        {
          "output_type": "display_data",
          "data": {
            "text/plain": [
              "<Figure size 432x288 with 1 Axes>"
            ],
            "image/png": "[encoded data removed]"
          },
          "metadata": {
            "needs_background": "light"
          }
        }
      ],
      "source": [
        "cdf_best3.plot(label='best 3 of 4', color='C1', ls='--')\n",
        "cdf_standard.step(label='standard set', color='C7')\n",
        "\n",
        "decorate_dice('Distribution of attributes')\n",
        "plt.ylabel('CDF');"
      ]
    },
    {
      "cell_type": "markdown",
      "metadata": {
        "tags": [],
        "id": "zcyQt3YhNdpl"
      },
      "source": [
        "I plotted `cdf_standard` as a step function to show more clearly that it contains only a few quantities."
      ]
    },
    {
      "cell_type": "code",
      "execution_count": 65,
      "metadata": {
        "execution": {
          "iopub.execute_input": "2021-04-16T19:35:33.825146Z",
          "iopub.status.busy": "2021-04-16T19:35:33.824423Z",
          "iopub.status.idle": "2021-04-16T19:35:33.827188Z",
          "shell.execute_reply": "2021-04-16T19:35:33.826753Z"
        },
        "id": "z05pQAMDNdpl",
        "outputId": "3d3751ce-fcbd-4ff4-c396-989fba4e3a1b",
        "colab": {
          "base_uri": "https://localhost:8080/"
        }
      },
      "outputs": [
        {
          "output_type": "execute_result",
          "data": {
            "text/plain": [
              "(12.262999999999998, 12.0)"
            ]
          },
          "metadata": {},
          "execution_count": 65
        }
      ],
      "source": [
        "# Solution goes here\n",
        "\n",
        "# Here are the means\n",
        "cdf_best3.mean(), cdf_standard.mean()"
      ]
    },
    {
      "cell_type": "code",
      "execution_count": 66,
      "metadata": {
        "execution": {
          "iopub.execute_input": "2021-04-16T19:35:33.831439Z",
          "iopub.status.busy": "2021-04-16T19:35:33.830792Z",
          "iopub.status.idle": "2021-04-16T19:35:33.833271Z",
          "shell.execute_reply": "2021-04-16T19:35:33.833623Z"
        },
        "scrolled": true,
        "id": "vhMLHGXXNdpl",
        "outputId": "75be5907-7b01-4a55-e7c3-b97ce870b580",
        "colab": {
          "base_uri": "https://localhost:8080/"
        }
      },
      "outputs": [
        {
          "output_type": "execute_result",
          "data": {
            "text/plain": [
              "(2.8518118801912578, 2.3804761428476167)"
            ]
          },
          "metadata": {},
          "execution_count": 66
        }
      ],
      "source": [
        "# Solution goes here\n",
        "\n",
        "# And the standard deviations\n",
        "cdf_best3.std(), cdf_standard.std()"
      ]
    },
    {
      "cell_type": "code",
      "execution_count": 67,
      "metadata": {
        "execution": {
          "iopub.execute_input": "2021-04-16T19:35:33.837780Z",
          "iopub.status.busy": "2021-04-16T19:35:33.837233Z",
          "iopub.status.idle": "2021-04-16T19:35:33.839569Z",
          "shell.execute_reply": "2021-04-16T19:35:33.839916Z"
        },
        "id": "XKqefpF4Ndpl",
        "outputId": "16e62431-ec6f-49aa-dce8-eefcee7278f0",
        "colab": {
          "base_uri": "https://localhost:8080/"
        }
      },
      "outputs": [
        {
          "output_type": "execute_result",
          "data": {
            "text/plain": [
              "0.058800000000000005"
            ]
          },
          "metadata": {},
          "execution_count": 67
        }
      ],
      "source": [
        "# Solution goes here\n",
        "\n",
        "# Here's the probability that a single attribute is less than 8\n",
        "cdf_best3.lt_dist(8)"
      ]
    },
    {
      "cell_type": "code",
      "execution_count": 68,
      "metadata": {
        "execution": {
          "iopub.execute_input": "2021-04-16T19:35:33.843912Z",
          "iopub.status.busy": "2021-04-16T19:35:33.843367Z",
          "iopub.status.idle": "2021-04-16T19:35:33.845820Z",
          "shell.execute_reply": "2021-04-16T19:35:33.846168Z"
        },
        "id": "yYp0DQedNdpl",
        "outputId": "f1ff4df3-eb43-48b9-e0da-d981472816b5",
        "colab": {
          "base_uri": "https://localhost:8080/"
        }
      },
      "outputs": [
        {
          "output_type": "execute_result",
          "data": {
            "text/plain": [
              "0.12959999999999994"
            ]
          },
          "metadata": {},
          "execution_count": 68
        }
      ],
      "source": [
        "# Solution goes here\n",
        "\n",
        "# And the probability that a single attribute is greater than 15\n",
        "cdf_best3.gt_dist(15)"
      ]
    },
    {
      "cell_type": "code",
      "execution_count": 69,
      "metadata": {
        "execution": {
          "iopub.execute_input": "2021-04-16T19:35:33.850671Z",
          "iopub.status.busy": "2021-04-16T19:35:33.850253Z",
          "iopub.status.idle": "2021-04-16T19:35:33.854102Z",
          "shell.execute_reply": "2021-04-16T19:35:33.853687Z"
        },
        "id": "VrABkwQRNdpl",
        "outputId": "0870b52f-7768-4940-8e3e-c0dc0adef371",
        "colab": {
          "base_uri": "https://localhost:8080/"
        }
      },
      "outputs": [
        {
          "output_type": "execute_result",
          "data": {
            "text/plain": [
              "(0.3048292170727033, 0.3048292170727033)"
            ]
          },
          "metadata": {},
          "execution_count": 69
        }
      ],
      "source": [
        "# Solution goes here\n",
        "\n",
        "# Here are two ways to compute the probability that at\n",
        "# least one attribute is less than 8\n",
        "cdf_min6.lt_dist(8), 1 - (1-cdf_best3.lt_dist(8))**6"
      ]
    },
    {
      "cell_type": "code",
      "execution_count": 70,
      "metadata": {
        "execution": {
          "iopub.execute_input": "2021-04-16T19:35:33.858526Z",
          "iopub.status.busy": "2021-04-16T19:35:33.858063Z",
          "iopub.status.idle": "2021-04-16T19:35:33.860312Z",
          "shell.execute_reply": "2021-04-16T19:35:33.860666Z"
        },
        "id": "Q1CIf7n-Ndpl",
        "outputId": "be38b671-ebc3-4cb3-dea4-58cac8cbb10e",
        "colab": {
          "base_uri": "https://localhost:8080/"
        }
      },
      "outputs": [
        {
          "output_type": "execute_result",
          "data": {
            "text/plain": [
              "(0.5651762129838809, 0.5651762129838813)"
            ]
          },
          "metadata": {},
          "execution_count": 70
        }
      ],
      "source": [
        "# Solution goes here\n",
        "\n",
        "# And two ways to compute the probability that at least\n",
        "# one attribute is greater than 15\n",
        "cdf_max6.gt_dist(15), 1 - (1-cdf_best3.gt_dist(15))**6"
      ]
    },
    {
      "cell_type": "markdown",
      "metadata": {
        "id": "3WMNbFZTNdpl"
      },
      "source": [
        "**Exercise:** Suppose you are fighting three monsters:\n",
        "\n",
        "* One is armed with a short sword that causes one 6-sided die of damage,\n",
        "\n",
        "* One is armed with a battle axe that causes one 8-sided die of damage, and\n",
        "\n",
        "* One is armed with a bastard sword that causes one 10-sided die of damage.\n",
        "\n",
        "One of the monsters, chosen at random, attacks you and does 1 point of damage.\n",
        "\n",
        "Which monster do you think it was?  Compute the posterior probability that each monster was the attacker.\n",
        "\n",
        "If the same monster attacks you again, what is the probability that you suffer 6 points of damage?\n",
        "\n",
        "Hint: Compute a posterior distribution as we have done before and pass it as one of the arguments to `make_mixture`."
      ]
    },
    {
      "cell_type": "code",
      "execution_count": 71,
      "metadata": {
        "execution": {
          "iopub.execute_input": "2021-04-16T19:35:33.869825Z",
          "iopub.status.busy": "2021-04-16T19:35:33.869229Z",
          "iopub.status.idle": "2021-04-16T19:35:33.871979Z",
          "shell.execute_reply": "2021-04-16T19:35:33.872359Z"
        },
        "id": "H-jVGzOHNdpl",
        "outputId": "974ecaac-cca4-402c-8e06-766f9ba0912f",
        "colab": {
          "base_uri": "https://localhost:8080/",
          "height": 143
        }
      },
      "outputs": [
        {
          "output_type": "execute_result",
          "data": {
            "text/plain": [
              "6     0.425532\n",
              "8     0.319149\n",
              "10    0.255319\n",
              "Name: , dtype: float64"
            ],
            "text/html": [
              "<div>\n",
              "<style scoped>\n",
              "    .dataframe tbody tr th:only-of-type {\n",
              "        vertical-align: middle;\n",
              "    }\n",
              "\n",
              "    .dataframe tbody tr th {\n",
              "        vertical-align: top;\n",
              "    }\n",
              "\n",
              "    .dataframe thead th {\n",
              "        text-align: right;\n",
              "    }\n",
              "</style>\n",
              "<table border=\"1\" class=\"dataframe\">\n",
              "  <thead>\n",
              "    <tr style=\"text-align: right;\">\n",
              "      <th></th>\n",
              "      <th>probs</th>\n",
              "    </tr>\n",
              "  </thead>\n",
              "  <tbody>\n",
              "    <tr>\n",
              "      <th>6</th>\n",
              "      <td>0.425532</td>\n",
              "    </tr>\n",
              "    <tr>\n",
              "      <th>8</th>\n",
              "      <td>0.319149</td>\n",
              "    </tr>\n",
              "    <tr>\n",
              "      <th>10</th>\n",
              "      <td>0.255319</td>\n",
              "    </tr>\n",
              "  </tbody>\n",
              "</table>\n",
              "</div>"
            ]
          },
          "metadata": {},
          "execution_count": 71
        }
      ],
      "source": [
        "# Solution goes here\n",
        "\n",
        "# Here's what we believe about the dice after seeing the data\n",
        "\n",
        "hypos = [6, 8, 10]\n",
        "prior = Pmf(1, hypos)\n",
        "likelihood = 1/prior.qs\n",
        "posterior = prior * likelihood\n",
        "posterior.normalize()\n",
        "posterior"
      ]
    },
    {
      "cell_type": "code",
      "execution_count": 72,
      "metadata": {
        "execution": {
          "iopub.execute_input": "2021-04-16T19:35:33.876419Z",
          "iopub.status.busy": "2021-04-16T19:35:33.875994Z",
          "iopub.status.idle": "2021-04-16T19:35:33.877630Z",
          "shell.execute_reply": "2021-04-16T19:35:33.878036Z"
        },
        "id": "qfFCEFfONdpm"
      },
      "outputs": [],
      "source": [
        "# Solution goes here\n",
        "\n",
        "# Here's a sequence that represents the three dice\n",
        "\n",
        "d6 = make_die(6)\n",
        "d8 = make_die(8)\n",
        "d10 = make_die(10)\n",
        "\n",
        "dice = d6, d8, d10"
      ]
    },
    {
      "cell_type": "code",
      "execution_count": 73,
      "metadata": {
        "execution": {
          "iopub.execute_input": "2021-04-16T19:35:33.903730Z",
          "iopub.status.busy": "2021-04-16T19:35:33.901601Z",
          "iopub.status.idle": "2021-04-16T19:35:34.009597Z",
          "shell.execute_reply": "2021-04-16T19:35:34.009942Z"
        },
        "id": "xmY3HwYhNdpm",
        "outputId": "8cac8679-59dc-4023-fc91-994db1ce0a49",
        "colab": {
          "base_uri": "https://localhost:8080/",
          "height": 265
        }
      },
      "outputs": [
        {
          "output_type": "display_data",
          "data": {
            "text/plain": [
              "<Figure size 432x288 with 1 Axes>"
            ],
            "image/png": "[encoded data removed]"
          },
          "metadata": {
            "needs_background": "light"
          }
        }
      ],
      "source": [
        "# Solution goes here\n",
        "\n",
        "# And here's a mixture of the three dice, weighting\n",
        "# each one with the probability from the posterior distribution\n",
        "\n",
        "mix3 = make_mixture(posterior, dice)\n",
        "mix3.bar()"
      ]
    },
    {
      "cell_type": "code",
      "execution_count": 74,
      "metadata": {
        "execution": {
          "iopub.execute_input": "2021-04-16T19:35:34.013646Z",
          "iopub.status.busy": "2021-04-16T19:35:34.013169Z",
          "iopub.status.idle": "2021-04-16T19:35:34.015385Z",
          "shell.execute_reply": "2021-04-16T19:35:34.015763Z"
        },
        "id": "T-TI-eM6Ndpm",
        "outputId": "6e396a50-531b-4cfd-b4a9-e998967b97f8",
        "colab": {
          "base_uri": "https://localhost:8080/"
        }
      },
      "outputs": [
        {
          "output_type": "execute_result",
          "data": {
            "text/plain": [
              "0.13634751773049647"
            ]
          },
          "metadata": {},
          "execution_count": 74
        }
      ],
      "source": [
        "# Solution goes here\n",
        "\n",
        "# From the mixture, we can pull out the probability of\n",
        "# rolling a 6.\n",
        "\n",
        "mix3[6]"
      ]
    },
    {
      "cell_type": "markdown",
      "metadata": {
        "id": "Kt9oeRJmNdpm"
      },
      "source": [
        "**Exercise:** Henri Poincaré was a French mathematician who taught at the Sorbonne around 1900. The following anecdote about him is probably fiction, but it makes an interesting probability problem.\n",
        "\n",
        "Supposedly Poincaré suspected that his local bakery was selling loaves of bread that were lighter than the advertised weight of 1 kg, so every day for a year he bought a loaf of bread, brought it home and weighed it. At the end of the year, he plotted the distribution of his measurements and showed that it fit a normal distribution with mean 950 g and standard deviation 50 g. He brought this evidence to the bread police, who gave the baker a warning.\n",
        "\n",
        "For the next year, Poincaré continued to weigh his bread every day. At the end of the year, he found that the average weight was 1000 g, just as it should be, but again he complained to the bread police, and this time they fined the baker.\n",
        "\n",
        "Why? Because the shape of the new distribution was asymmetric. Unlike the normal distribution, it was skewed to the right, which is consistent with the hypothesis that the baker was still making 950 g loaves, but deliberately giving Poincaré the heavier ones.\n",
        "\n",
        "To see whether this anecdote is plausible, let's suppose that when the baker sees Poincaré coming, he hefts `n` loaves of bread and gives Poincaré the heaviest one.  How many loaves would the baker have to heft to make the average of the maximum 1000 g?"
      ]
    },
    {
      "cell_type": "markdown",
      "metadata": {
        "tags": [],
        "id": "yzAWL5sWNdpm"
      },
      "source": [
        "To get you started, I'll generate a year's worth of data from a normal distribution with the given parameters."
      ]
    },
    {
      "cell_type": "code",
      "execution_count": 75,
      "metadata": {
        "execution": {
          "iopub.execute_input": "2021-04-16T19:35:34.019380Z",
          "iopub.status.busy": "2021-04-16T19:35:34.018836Z",
          "iopub.status.idle": "2021-04-16T19:35:34.020500Z",
          "shell.execute_reply": "2021-04-16T19:35:34.020849Z"
        },
        "tags": [],
        "id": "s3eWHgD3Ndpm"
      },
      "outputs": [],
      "source": [
        "mean = 950\n",
        "std = 50\n",
        "\n",
        "np.random.seed(17)\n",
        "sample = np.random.normal(mean, std, size=365)"
      ]
    },
    {
      "cell_type": "code",
      "execution_count": 76,
      "metadata": {
        "execution": {
          "iopub.execute_input": "2021-04-16T19:35:34.027571Z",
          "iopub.status.busy": "2021-04-16T19:35:34.024739Z",
          "iopub.status.idle": "2021-04-16T19:35:34.031491Z",
          "shell.execute_reply": "2021-04-16T19:35:34.031066Z"
        },
        "id": "ZxftnM4BNdpm",
        "outputId": "bfe49fbf-98d5-4c1e-a64f-c7fdafcc9c3b",
        "colab": {
          "base_uri": "https://localhost:8080/"
        }
      },
      "outputs": [
        {
          "output_type": "stream",
          "name": "stdout",
          "text": [
            "2 978.4666876067706\n",
            "3 992.7589004318227\n",
            "4 1002.0372868686195\n",
            "5 1008.8226939493089\n"
          ]
        }
      ],
      "source": [
        "# Solution goes here\n",
        "\n",
        "# Here's the mean of the maximum of `n` loaves,\n",
        "# for a range of values of `n`\n",
        "\n",
        "cdf = Cdf.from_seq(sample)\n",
        "\n",
        "for n in range(2, 6):\n",
        "    cdf_max = cdf.max_dist(n)\n",
        "    print(n, cdf_max.mean())"
      ]
    },
    {
      "cell_type": "code",
      "execution_count": 77,
      "metadata": {
        "execution": {
          "iopub.execute_input": "2021-04-16T19:35:34.071771Z",
          "iopub.status.busy": "2021-04-16T19:35:34.052696Z",
          "iopub.status.idle": "2021-04-16T19:35:34.214328Z",
          "shell.execute_reply": "2021-04-16T19:35:34.213871Z"
        },
        "id": "mF4WB0jLNdpm",
        "outputId": "ad813b24-bea8-438e-c0da-c598087bf7d5",
        "colab": {
          "base_uri": "https://localhost:8080/",
          "height": 297
        }
      },
      "outputs": [
        {
          "output_type": "display_data",
          "data": {
            "text/plain": [
              "<Figure size 432x288 with 1 Axes>"
            ],
            "image/png": "[encoded data removed]"
          },
          "metadata": {
            "needs_background": "light"
          }
        }
      ],
      "source": [
        "# Solution goes here\n",
        "\n",
        "# It looks like hefting 4 loaves is enough to get the mean over 1000,\n",
        "# so the story is not entirely implausible.\n",
        "\n",
        "# Here's what the distribution of the maximum looks like, compared\n",
        "# to the actual distribution of weights.\n",
        "\n",
        "cdf.plot(label='one loaf')\n",
        "cdf.max_dist(4).plot(label='maximum of four loaves')\n",
        "\n",
        "decorate(xlabel='Weight in grams',\n",
        "         ylabel='CDF')"
      ]
    }
  ],
  "metadata": {
    "celltoolbar": "Tags",
    "kernelspec": {
      "display_name": "Python 3 (ipykernel)",
      "language": "python",
      "name": "python3"
    },
    "language_info": {
      "codemirror_mode": {
        "name": "ipython",
        "version": 3
      },
      "file_extension": ".py",
      "mimetype": "text/x-python",
      "name": "python",
      "nbconvert_exporter": "python",
      "pygments_lexer": "ipython3",
      "version": "3.8.12"
    },
    "colab": {
      "provenance": []
    }
  },
  "nbformat": 4,
  "nbformat_minor": 0
}