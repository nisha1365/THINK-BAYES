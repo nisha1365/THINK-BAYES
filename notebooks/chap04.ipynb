{
  "cells": [
    {
      "cell_type": "markdown",
      "metadata": {
        "id": "cO-T9ez_Fzwf"
      },
      "source": [
        "# Estimating Proportions"
      ]
    },
    {
      "cell_type": "code",
      "execution_count": 1,
      "metadata": {
        "execution": {
          "iopub.execute_input": "2021-04-16T19:35:15.280090Z",
          "iopub.status.busy": "2021-04-16T19:35:15.279177Z",
          "iopub.status.idle": "2021-04-16T19:35:15.281327Z",
          "shell.execute_reply": "2021-04-16T19:35:15.281733Z"
        },
        "tags": [],
        "id": "on5-j1Y1Fzwi",
        "outputId": "78f3502d-bc4f-4a43-eb18-20daa16b9ae3",
        "colab": {
          "base_uri": "https://localhost:8080/"
        }
      },
      "outputs": [
        {
          "output_type": "stream",
          "name": "stdout",
          "text": [
            "Looking in indexes: https://pypi.org/simple, https://us-python.pkg.dev/colab-wheels/public/simple/\n",
            "Collecting empiricaldist\n",
            "  Downloading empiricaldist-0.6.8.tar.gz (12 kB)\n",
            "  Installing build dependencies ... \u001b[?25l\u001b[?25hdone\n",
            "  Getting requirements to build wheel ... \u001b[?25l\u001b[?25hdone\n",
            "  Preparing metadata (pyproject.toml) ... \u001b[?25l\u001b[?25hdone\n",
            "Building wheels for collected packages: empiricaldist\n",
            "  Building wheel for empiricaldist (pyproject.toml) ... \u001b[?25l\u001b[?25hdone\n",
            "  Created wheel for empiricaldist: filename=empiricaldist-0.6.8-py3-none-any.whl size=12125 sha256=6091c9745f7e1901fb05bfe742918eb7bb990f145184c6c965762004c7ceaf5a\n",
            "  Stored in directory: /root/.cache/pip/wheels/c2/3f/cf/74b5adbcea4efaae43ce168e622e3eb8dbc1251d5d730dd245\n",
            "Successfully built empiricaldist\n",
            "Installing collected packages: empiricaldist\n",
            "Successfully installed empiricaldist-0.6.8\n"
          ]
        }
      ],
      "source": [
        "# If we're running on Colab, install empiricaldist\n",
        "# https://pypi.org/project/empiricaldist/\n",
        "\n",
        "import sys\n",
        "IN_COLAB = 'google.colab' in sys.modules\n",
        "\n",
        "if IN_COLAB:\n",
        "    !pip install empiricaldist"
      ]
    },
    {
      "cell_type": "code",
      "execution_count": 2,
      "metadata": {
        "execution": {
          "iopub.execute_input": "2021-04-16T19:35:15.285811Z",
          "iopub.status.busy": "2021-04-16T19:35:15.285365Z",
          "iopub.status.idle": "2021-04-16T19:35:15.287474Z",
          "shell.execute_reply": "2021-04-16T19:35:15.287081Z"
        },
        "tags": [],
        "id": "djzchNdPFzwj",
        "outputId": "cf104da9-0f42-4907-e780-cbcfd322b58c",
        "colab": {
          "base_uri": "https://localhost:8080/"
        }
      },
      "outputs": [
        {
          "output_type": "stream",
          "name": "stdout",
          "text": [
            "Downloaded utils.py\n"
          ]
        }
      ],
      "source": [
        "# Get utils.py\n",
        "\n",
        "from os.path import basename, exists\n",
        "\n",
        "def download(url):\n",
        "    filename = basename(url)\n",
        "    if not exists(filename):\n",
        "        from urllib.request import urlretrieve\n",
        "        local, _ = urlretrieve(url, filename)\n",
        "        print('Downloaded ' + local)\n",
        "    \n",
        "download('https://github.com/AllenDowney/ThinkBayes2/raw/master/soln/utils.py')"
      ]
    },
    {
      "cell_type": "code",
      "execution_count": 3,
      "metadata": {
        "execution": {
          "iopub.execute_input": "2021-04-16T19:35:15.291181Z",
          "iopub.status.busy": "2021-04-16T19:35:15.290518Z",
          "iopub.status.idle": "2021-04-16T19:35:15.978391Z",
          "shell.execute_reply": "2021-04-16T19:35:15.977936Z"
        },
        "tags": [],
        "id": "W2ENVRfDFzwk"
      },
      "outputs": [],
      "source": [
        "from utils import set_pyplot_params\n",
        "set_pyplot_params()"
      ]
    },
    {
      "cell_type": "markdown",
      "metadata": {
        "id": "AQijGAnKFzwk"
      },
      "source": [
        "In the previous chapter we solved the 101 Bowls Problem, and I admitted that it is not really about guessing which bowl the cookies came from; it is about estimating proportions.\n",
        "\n",
        "In this chapter, we take another step toward Bayesian statistics by solving the Euro problem.\n",
        "We'll start with the same prior distribution, and we'll see that the update is the same, mathematically.\n",
        "But I will argue that it is a different problem, philosophically, and use it to introduce two defining elements of Bayesian statistics: choosing prior distributions, and using probability to represent the unknown."
      ]
    },
    {
      "cell_type": "markdown",
      "metadata": {
        "id": "8NOzF2Q0Fzwk"
      },
      "source": [
        "## The Euro Problem\n",
        "\n",
        "In *Information Theory, Inference, and Learning Algorithms*, David MacKay poses this problem:\n",
        "\n",
        "\"A statistical statement appeared in *The Guardian* on Friday January 4, 2002:\n",
        "\n",
        "> When spun on edge 250 times, a Belgian one-euro coin came up heads 140 times and tails 110.  \\`It looks very suspicious to me,' said Barry Blight, a statistics lecturer at the London School of Economics.  \\`If the coin were unbiased, the chance of getting a result as extreme as that would be less than 7%.'\n",
        "\n",
        "\"But [MacKay asks] do these data give evidence that the coin is biased rather than fair?\"\n",
        "\n",
        "To answer that question, we'll proceed in two steps.\n",
        "First we'll use the binomial distribution to see where that 7% came from; then we'll use Bayes's Theorem to estimate the probability that this coin comes up heads.\n"
      ]
    },
    {
      "cell_type": "markdown",
      "metadata": {
        "id": "rZObxjB3Fzwl"
      },
      "source": [
        "## The Binomial Distribution\n",
        "\n",
        "Suppose I tell you that a coin is \"fair\", that is, the probability of heads is 50%.  If you spin it twice, there are four outcomes: `HH`, `HT`, `TH`, and `TT`.  All four outcomes have the same probability, 25%.\n",
        "\n",
        "If we add up the total number of heads, there are three possible results: 0, 1, or 2.  The probabilities of 0 and 2 are 25%, and the probability of 1 is 50%.\n",
        "\n",
        "More generally, suppose the probability of heads is $p$ and we spin the coin $n$ times.  The probability that we get a total of $k$ heads is given by the [binomial distribution](https://en.wikipedia.org/wiki/Binomial_distribution):\n",
        "\n",
        "$$\\binom{n}{k} p^k (1-p)^{n-k}$$\n",
        "\n",
        "for any value of $k$ from 0 to $n$, including both.\n",
        "The term $\\binom{n}{k}$ is the [binomial coefficient](https://en.wikipedia.org/wiki/Binomial_coefficient), usually pronounced \"n choose k\".\n",
        "\n",
        "We could evaluate this expression ourselves, but we can also use the SciPy function `binom.pmf`.\n",
        "For example, if we flip a coin `n=2` times and the probability of heads is `p=0.5`, here's the probability of getting `k=1` heads:"
      ]
    },
    {
      "cell_type": "code",
      "execution_count": 4,
      "metadata": {
        "execution": {
          "iopub.execute_input": "2021-04-16T19:35:15.984511Z",
          "iopub.status.busy": "2021-04-16T19:35:15.983985Z",
          "iopub.status.idle": "2021-04-16T19:35:15.986546Z",
          "shell.execute_reply": "2021-04-16T19:35:15.986891Z"
        },
        "id": "kpqQOmz7Fzwl",
        "outputId": "d361840c-6b2d-43f0-b741-56121a84a474",
        "colab": {
          "base_uri": "https://localhost:8080/"
        }
      },
      "outputs": [
        {
          "output_type": "execute_result",
          "data": {
            "text/plain": [
              "0.5000000000000002"
            ]
          },
          "metadata": {},
          "execution_count": 4
        }
      ],
      "source": [
        "from scipy.stats import binom\n",
        "\n",
        "n = 2\n",
        "p = 0.5\n",
        "k = 1\n",
        "\n",
        "binom.pmf(k, n, p)"
      ]
    },
    {
      "cell_type": "markdown",
      "metadata": {
        "id": "zwH1uIhxFzwm"
      },
      "source": [
        "Instead of providing a single value for `k`, we can also call `binom.pmf` with an array of values."
      ]
    },
    {
      "cell_type": "code",
      "execution_count": 5,
      "metadata": {
        "execution": {
          "iopub.execute_input": "2021-04-16T19:35:15.991484Z",
          "iopub.status.busy": "2021-04-16T19:35:15.990973Z",
          "iopub.status.idle": "2021-04-16T19:35:15.993845Z",
          "shell.execute_reply": "2021-04-16T19:35:15.993471Z"
        },
        "id": "gx7L5Cu2Fzwm",
        "outputId": "3d31ec20-5e41-4087-b966-8efe2495a262",
        "colab": {
          "base_uri": "https://localhost:8080/"
        }
      },
      "outputs": [
        {
          "output_type": "execute_result",
          "data": {
            "text/plain": [
              "array([0.25, 0.5 , 0.25])"
            ]
          },
          "metadata": {},
          "execution_count": 5
        }
      ],
      "source": [
        "import numpy as np\n",
        "ks = np.arange(n+1)\n",
        "\n",
        "ps = binom.pmf(ks, n, p)\n",
        "ps"
      ]
    },
    {
      "cell_type": "markdown",
      "metadata": {
        "id": "gi-tFg84Fzwm"
      },
      "source": [
        "The result is a NumPy array with the probability of 0, 1, or 2 heads.\n",
        "If we put these probabilities in a `Pmf`, the result is the distribution of `k` for the given values of `n` and `p`.\n",
        "\n",
        "Here's what it looks like:"
      ]
    },
    {
      "cell_type": "code",
      "execution_count": 6,
      "metadata": {
        "execution": {
          "iopub.execute_input": "2021-04-16T19:35:16.001144Z",
          "iopub.status.busy": "2021-04-16T19:35:15.998718Z",
          "iopub.status.idle": "2021-04-16T19:35:16.004019Z",
          "shell.execute_reply": "2021-04-16T19:35:16.003641Z"
        },
        "id": "cpkxQpTMFzwm",
        "outputId": "08db9b78-1bf2-4377-c8d0-4a39c8ba7da7",
        "colab": {
          "base_uri": "https://localhost:8080/",
          "height": 143
        }
      },
      "outputs": [
        {
          "output_type": "execute_result",
          "data": {
            "text/plain": [
              "0    0.25\n",
              "1    0.50\n",
              "2    0.25\n",
              "Name: , dtype: float64"
            ],
            "text/html": [
              "<div>\n",
              "<style scoped>\n",
              "    .dataframe tbody tr th:only-of-type {\n",
              "        vertical-align: middle;\n",
              "    }\n",
              "\n",
              "    .dataframe tbody tr th {\n",
              "        vertical-align: top;\n",
              "    }\n",
              "\n",
              "    .dataframe thead th {\n",
              "        text-align: right;\n",
              "    }\n",
              "</style>\n",
              "<table border=\"1\" class=\"dataframe\">\n",
              "  <thead>\n",
              "    <tr style=\"text-align: right;\">\n",
              "      <th></th>\n",
              "      <th>probs</th>\n",
              "    </tr>\n",
              "  </thead>\n",
              "  <tbody>\n",
              "    <tr>\n",
              "      <th>0</th>\n",
              "      <td>0.25</td>\n",
              "    </tr>\n",
              "    <tr>\n",
              "      <th>1</th>\n",
              "      <td>0.50</td>\n",
              "    </tr>\n",
              "    <tr>\n",
              "      <th>2</th>\n",
              "      <td>0.25</td>\n",
              "    </tr>\n",
              "  </tbody>\n",
              "</table>\n",
              "</div>"
            ]
          },
          "metadata": {},
          "execution_count": 6
        }
      ],
      "source": [
        "from empiricaldist import Pmf\n",
        "\n",
        "pmf_k = Pmf(ps, ks)\n",
        "pmf_k"
      ]
    },
    {
      "cell_type": "markdown",
      "metadata": {
        "id": "skFbwX_-Fzwn"
      },
      "source": [
        "The following function computes the binomial distribution for given values of `n` and `p` and returns a `Pmf` that represents the result."
      ]
    },
    {
      "cell_type": "code",
      "execution_count": 7,
      "metadata": {
        "execution": {
          "iopub.execute_input": "2021-04-16T19:35:16.007619Z",
          "iopub.status.busy": "2021-04-16T19:35:16.007151Z",
          "iopub.status.idle": "2021-04-16T19:35:16.009639Z",
          "shell.execute_reply": "2021-04-16T19:35:16.009210Z"
        },
        "id": "aUTjN3mqFzwn"
      },
      "outputs": [],
      "source": [
        "def make_binomial(n, p):\n",
        "    \"\"\"Make a binomial Pmf.\"\"\"\n",
        "    ks = np.arange(n+1)\n",
        "    ps = binom.pmf(ks, n, p)\n",
        "    return Pmf(ps, ks)"
      ]
    },
    {
      "cell_type": "markdown",
      "metadata": {
        "id": "b0-d4omgFzwn"
      },
      "source": [
        "Here's what it looks like with `n=250` and `p=0.5`:"
      ]
    },
    {
      "cell_type": "code",
      "execution_count": 8,
      "metadata": {
        "execution": {
          "iopub.execute_input": "2021-04-16T19:35:16.013574Z",
          "iopub.status.busy": "2021-04-16T19:35:16.013024Z",
          "iopub.status.idle": "2021-04-16T19:35:16.014749Z",
          "shell.execute_reply": "2021-04-16T19:35:16.015091Z"
        },
        "id": "FYLNdXbFFzwn"
      },
      "outputs": [],
      "source": [
        "pmf_k = make_binomial(n=250, p=0.5)"
      ]
    },
    {
      "cell_type": "code",
      "execution_count": 9,
      "metadata": {
        "execution": {
          "iopub.execute_input": "2021-04-16T19:35:16.018757Z",
          "iopub.status.busy": "2021-04-16T19:35:16.018090Z",
          "iopub.status.idle": "2021-04-16T19:35:16.199321Z",
          "shell.execute_reply": "2021-04-16T19:35:16.198864Z"
        },
        "tags": [],
        "id": "5pkPPSYZFzwn",
        "outputId": "3b9c6e79-4e6e-4571-a885-569f51d7c9fa",
        "colab": {
          "base_uri": "https://localhost:8080/",
          "height": 297
        }
      },
      "outputs": [
        {
          "output_type": "display_data",
          "data": {
            "text/plain": [
              "<Figure size 432x288 with 1 Axes>"
            ],
            "image/png": "[encoded data removed]"
          },
          "metadata": {
            "needs_background": "light"
          }
        }
      ],
      "source": [
        "from utils import decorate\n",
        "\n",
        "pmf_k.plot(label='n=250, p=0.5')\n",
        "\n",
        "decorate(xlabel='Number of heads (k)',\n",
        "         ylabel='PMF',\n",
        "         title='Binomial distribution')"
      ]
    },
    {
      "cell_type": "markdown",
      "metadata": {
        "id": "CfbxLzIMFzwo"
      },
      "source": [
        "The most likely quantity in this distribution is 125:"
      ]
    },
    {
      "cell_type": "code",
      "execution_count": 10,
      "metadata": {
        "execution": {
          "iopub.execute_input": "2021-04-16T19:35:16.203545Z",
          "iopub.status.busy": "2021-04-16T19:35:16.202915Z",
          "iopub.status.idle": "2021-04-16T19:35:16.205298Z",
          "shell.execute_reply": "2021-04-16T19:35:16.205727Z"
        },
        "id": "sRPBs36hFzwo",
        "outputId": "4dac04c7-678a-400f-b5c6-e24bb941c6db",
        "colab": {
          "base_uri": "https://localhost:8080/"
        }
      },
      "outputs": [
        {
          "output_type": "execute_result",
          "data": {
            "text/plain": [
              "125"
            ]
          },
          "metadata": {},
          "execution_count": 10
        }
      ],
      "source": [
        "pmf_k.max_prob()"
      ]
    },
    {
      "cell_type": "markdown",
      "metadata": {
        "id": "E4updQvMFzwo"
      },
      "source": [
        "But even though it is the most likely quantity, the probability that we get exactly 125 heads is only about 5%."
      ]
    },
    {
      "cell_type": "code",
      "execution_count": 11,
      "metadata": {
        "execution": {
          "iopub.execute_input": "2021-04-16T19:35:16.209849Z",
          "iopub.status.busy": "2021-04-16T19:35:16.209205Z",
          "iopub.status.idle": "2021-04-16T19:35:16.211552Z",
          "shell.execute_reply": "2021-04-16T19:35:16.211897Z"
        },
        "id": "tEVapGcPFzwo",
        "outputId": "c149206f-bf4a-4163-af70-a74d91045537",
        "colab": {
          "base_uri": "https://localhost:8080/"
        }
      },
      "outputs": [
        {
          "output_type": "execute_result",
          "data": {
            "text/plain": [
              "0.050412213147309655"
            ]
          },
          "metadata": {},
          "execution_count": 11
        }
      ],
      "source": [
        "pmf_k[125]"
      ]
    },
    {
      "cell_type": "markdown",
      "metadata": {
        "id": "sllRsA61Fzwo"
      },
      "source": [
        "In MacKay's example, we got 140 heads, which is even less likely than 125:"
      ]
    },
    {
      "cell_type": "code",
      "execution_count": 12,
      "metadata": {
        "execution": {
          "iopub.execute_input": "2021-04-16T19:35:16.215301Z",
          "iopub.status.busy": "2021-04-16T19:35:16.214671Z",
          "iopub.status.idle": "2021-04-16T19:35:16.217481Z",
          "shell.execute_reply": "2021-04-16T19:35:16.216988Z"
        },
        "id": "KaYw3vHcFzwo",
        "outputId": "6ee41bfd-00d2-4603-bd06-3d78328359a6",
        "colab": {
          "base_uri": "https://localhost:8080/"
        }
      },
      "outputs": [
        {
          "output_type": "execute_result",
          "data": {
            "text/plain": [
              "0.008357181724918204"
            ]
          },
          "metadata": {},
          "execution_count": 12
        }
      ],
      "source": [
        "pmf_k[140]"
      ]
    },
    {
      "cell_type": "markdown",
      "metadata": {
        "id": "7DTbFxDUFzwo"
      },
      "source": [
        "In the article MacKay quotes, the statistician says, \"If the coin were unbiased the chance of getting a result as extreme as that would be less than 7%.\"\n",
        "\n",
        "We can use the binomial distribution to check his math.  The following function takes a PMF and computes the total probability of quantities greater than or equal to `threshold`. "
      ]
    },
    {
      "cell_type": "code",
      "execution_count": 13,
      "metadata": {
        "execution": {
          "iopub.execute_input": "2021-04-16T19:35:16.220900Z",
          "iopub.status.busy": "2021-04-16T19:35:16.220442Z",
          "iopub.status.idle": "2021-04-16T19:35:16.222508Z",
          "shell.execute_reply": "2021-04-16T19:35:16.222121Z"
        },
        "id": "LohljeB0Fzwp"
      },
      "outputs": [],
      "source": [
        "def prob_ge(pmf, threshold):\n",
        "    \"\"\"Probability of quantities greater than threshold.\"\"\"\n",
        "    ge = (pmf.qs >= threshold)\n",
        "    total = pmf[ge].sum()\n",
        "    return total"
      ]
    },
    {
      "cell_type": "markdown",
      "metadata": {
        "id": "aBz2P1LzFzwp"
      },
      "source": [
        "Here's the probability of getting 140 heads or more:"
      ]
    },
    {
      "cell_type": "code",
      "execution_count": 14,
      "metadata": {
        "execution": {
          "iopub.execute_input": "2021-04-16T19:35:16.226137Z",
          "iopub.status.busy": "2021-04-16T19:35:16.225726Z",
          "iopub.status.idle": "2021-04-16T19:35:16.229538Z",
          "shell.execute_reply": "2021-04-16T19:35:16.229060Z"
        },
        "id": "utMbsTH1Fzwp",
        "outputId": "c3d97dbf-fac2-4ea7-ccbe-a9b0cecf4122",
        "colab": {
          "base_uri": "https://localhost:8080/"
        }
      },
      "outputs": [
        {
          "output_type": "execute_result",
          "data": {
            "text/plain": [
              "0.03321057562002163"
            ]
          },
          "metadata": {},
          "execution_count": 14
        }
      ],
      "source": [
        "prob_ge(pmf_k, 140)"
      ]
    },
    {
      "cell_type": "markdown",
      "metadata": {
        "id": "j0K76j3oFzwp"
      },
      "source": [
        "`Pmf` provides a method that does the same computation."
      ]
    },
    {
      "cell_type": "code",
      "execution_count": 15,
      "metadata": {
        "execution": {
          "iopub.execute_input": "2021-04-16T19:35:16.233411Z",
          "iopub.status.busy": "2021-04-16T19:35:16.232859Z",
          "iopub.status.idle": "2021-04-16T19:35:16.235708Z",
          "shell.execute_reply": "2021-04-16T19:35:16.235339Z"
        },
        "id": "YBGTjBh8Fzwp",
        "outputId": "15f42f9b-e483-403f-e7ce-e70d8e59910b",
        "colab": {
          "base_uri": "https://localhost:8080/"
        }
      },
      "outputs": [
        {
          "output_type": "execute_result",
          "data": {
            "text/plain": [
              "0.03321057562002163"
            ]
          },
          "metadata": {},
          "execution_count": 15
        }
      ],
      "source": [
        "pmf_k.prob_ge(140)"
      ]
    },
    {
      "cell_type": "markdown",
      "metadata": {
        "id": "wfpdEkGIFzwp"
      },
      "source": [
        "The result is about 3.3%, which is less than the quoted 7%.  The reason for the difference is that the statistician includes all outcomes \"as extreme as\" 140, which includes outcomes less than or equal to 110.\n",
        "\n",
        "To see where that comes from, recall that the expected number of heads is 125.  If we get 140, we've exceeded that expectation by 15.\n",
        "And if we get 110, we have come up short by 15.\n",
        "\n",
        "7% is the sum of both of these \"tails\", as shown in the following figure."
      ]
    },
    {
      "cell_type": "code",
      "execution_count": 16,
      "metadata": {
        "execution": {
          "iopub.execute_input": "2021-04-16T19:35:16.240518Z",
          "iopub.status.busy": "2021-04-16T19:35:16.239833Z",
          "iopub.status.idle": "2021-04-16T19:35:16.407998Z",
          "shell.execute_reply": "2021-04-16T19:35:16.408375Z"
        },
        "tags": [],
        "id": "PAUVL-q-Fzwp",
        "outputId": "c1da4437-2143-4558-f6a8-750e2b2aafaf",
        "colab": {
          "base_uri": "https://localhost:8080/",
          "height": 297
        }
      },
      "outputs": [
        {
          "output_type": "display_data",
          "data": {
            "text/plain": [
              "<Figure size 432x288 with 1 Axes>"
            ],
            "image/png": "[encoded data removed]"
          },
          "metadata": {
            "needs_background": "light"
          }
        }
      ],
      "source": [
        "import matplotlib.pyplot as plt\n",
        "\n",
        "def fill_below(pmf):\n",
        "    qs = pmf.index\n",
        "    ps = pmf.values\n",
        "    plt.fill_between(qs, ps, 0, color='C5', alpha=0.4)\n",
        "\n",
        "qs = pmf_k.index\n",
        "fill_below(pmf_k[qs>=140])\n",
        "fill_below(pmf_k[qs<=110])\n",
        "pmf_k.plot(label='n=250, p=0.5')\n",
        "\n",
        "decorate(xlabel='Number of heads (k)',\n",
        "         ylabel='PMF',\n",
        "         title='Binomial distribution')"
      ]
    },
    {
      "cell_type": "markdown",
      "metadata": {
        "id": "V6cUj-QVFzwp"
      },
      "source": [
        "Here's how we compute the total probability of the left tail."
      ]
    },
    {
      "cell_type": "code",
      "execution_count": 17,
      "metadata": {
        "execution": {
          "iopub.execute_input": "2021-04-16T19:35:16.412502Z",
          "iopub.status.busy": "2021-04-16T19:35:16.411979Z",
          "iopub.status.idle": "2021-04-16T19:35:16.414685Z",
          "shell.execute_reply": "2021-04-16T19:35:16.415128Z"
        },
        "id": "LOVI_IJJFzwq",
        "outputId": "c9a4be67-6eb0-4e46-e4c7-3dfe057bf1db",
        "colab": {
          "base_uri": "https://localhost:8080/"
        }
      },
      "outputs": [
        {
          "output_type": "execute_result",
          "data": {
            "text/plain": [
              "0.03321057562002164"
            ]
          },
          "metadata": {},
          "execution_count": 17
        }
      ],
      "source": [
        "pmf_k.prob_le(110)"
      ]
    },
    {
      "cell_type": "markdown",
      "metadata": {
        "id": "Jda4g6cgFzwq"
      },
      "source": [
        "The probability of outcomes less than or equal to 110 is also 3.3%,\n",
        "so the total probability of outcomes \"as extreme\" as 140 is 6.6%.\n",
        "\n",
        "The point of this calculation is that these extreme outcomes are unlikely if the coin is fair.\n",
        "\n",
        "That's interesting, but it doesn't answer MacKay's question.  Let's see if we can."
      ]
    },
    {
      "cell_type": "markdown",
      "metadata": {
        "id": "tGqTCKdiFzwq"
      },
      "source": [
        "## Bayesian Estimation\n",
        "\n",
        "Any given coin has some probability of landing heads up when spun\n",
        "on edge; I'll call this probability `x`.\n",
        "It seems reasonable to believe that `x` depends\n",
        "on physical characteristics of the coin, like the distribution\n",
        "of weight.\n",
        "If a coin is perfectly balanced, we expect `x` to be close to 50%, but\n",
        "for a lopsided coin, `x` might be substantially different.\n",
        "We can use Bayes's theorem and the observed data to estimate `x`.\n",
        "\n",
        "For simplicity, I'll start with a uniform prior, which assumes that all values of `x` are equally likely.\n",
        "That might not be a reasonable assumption, so we'll come back and consider other priors later.\n",
        "\n",
        "We can make a uniform prior like this:"
      ]
    },
    {
      "cell_type": "code",
      "execution_count": 18,
      "metadata": {
        "execution": {
          "iopub.execute_input": "2021-04-16T19:35:16.419440Z",
          "iopub.status.busy": "2021-04-16T19:35:16.418911Z",
          "iopub.status.idle": "2021-04-16T19:35:16.421414Z",
          "shell.execute_reply": "2021-04-16T19:35:16.420923Z"
        },
        "id": "tT-E4oBwFzwq"
      },
      "outputs": [],
      "source": [
        "hypos = np.linspace(0, 1, 101)\n",
        "prior = Pmf(1, hypos)"
      ]
    },
    {
      "cell_type": "markdown",
      "metadata": {
        "id": "4rXTcaUGFzwq"
      },
      "source": [
        "`hypos` is an array of equally spaced values between 0 and 1.\n",
        "\n",
        "We can use the hypotheses to compute the likelihoods, like this:"
      ]
    },
    {
      "cell_type": "code",
      "execution_count": 19,
      "metadata": {
        "execution": {
          "iopub.execute_input": "2021-04-16T19:35:16.424979Z",
          "iopub.status.busy": "2021-04-16T19:35:16.424456Z",
          "iopub.status.idle": "2021-04-16T19:35:16.426990Z",
          "shell.execute_reply": "2021-04-16T19:35:16.426343Z"
        },
        "id": "bZTqOj8VFzwq"
      },
      "outputs": [],
      "source": [
        "likelihood_heads = hypos\n",
        "likelihood_tails = 1 - hypos"
      ]
    },
    {
      "cell_type": "markdown",
      "metadata": {
        "id": "J7AtayjsFzwq"
      },
      "source": [
        "I'll put the likelihoods for heads and tails in a dictionary to make it easier to do the update."
      ]
    },
    {
      "cell_type": "code",
      "execution_count": 20,
      "metadata": {
        "execution": {
          "iopub.execute_input": "2021-04-16T19:35:16.430627Z",
          "iopub.status.busy": "2021-04-16T19:35:16.430082Z",
          "iopub.status.idle": "2021-04-16T19:35:16.431858Z",
          "shell.execute_reply": "2021-04-16T19:35:16.432281Z"
        },
        "id": "hJKwY107Fzwq"
      },
      "outputs": [],
      "source": [
        "likelihood = {\n",
        "    'H': likelihood_heads,\n",
        "    'T': likelihood_tails\n",
        "}"
      ]
    },
    {
      "cell_type": "markdown",
      "metadata": {
        "id": "3JRMbE3fFzwr"
      },
      "source": [
        "To represent the data, I'll construct a string with `H` repeated 140 times and `T` repeated 110 times."
      ]
    },
    {
      "cell_type": "code",
      "execution_count": 21,
      "metadata": {
        "execution": {
          "iopub.execute_input": "2021-04-16T19:35:16.435992Z",
          "iopub.status.busy": "2021-04-16T19:35:16.435300Z",
          "iopub.status.idle": "2021-04-16T19:35:16.438317Z",
          "shell.execute_reply": "2021-04-16T19:35:16.437680Z"
        },
        "id": "GEl_QP-wFzwr"
      },
      "outputs": [],
      "source": [
        "dataset = 'H' * 140 + 'T' * 110"
      ]
    },
    {
      "cell_type": "markdown",
      "metadata": {
        "id": "YmG6z1-zFzwr"
      },
      "source": [
        "The following function does the update."
      ]
    },
    {
      "cell_type": "code",
      "execution_count": 22,
      "metadata": {
        "execution": {
          "iopub.execute_input": "2021-04-16T19:35:16.443376Z",
          "iopub.status.busy": "2021-04-16T19:35:16.442624Z",
          "iopub.status.idle": "2021-04-16T19:35:16.445334Z",
          "shell.execute_reply": "2021-04-16T19:35:16.444773Z"
        },
        "id": "io8xM2s4Fzwr"
      },
      "outputs": [],
      "source": [
        "def update_euro(pmf, dataset):\n",
        "    \"\"\"Update pmf with a given sequence of H and T.\"\"\"\n",
        "    for data in dataset:\n",
        "        pmf *= likelihood[data]\n",
        "\n",
        "    pmf.normalize()"
      ]
    },
    {
      "cell_type": "markdown",
      "metadata": {
        "id": "WAKDbX7pFzwr"
      },
      "source": [
        "The first argument is a `Pmf` that represents the prior.\n",
        "The second argument is a sequence of strings.\n",
        "Each time through the loop, we multiply `pmf` by the likelihood of one outcome, `H` for heads or `T` for tails.\n",
        "\n",
        "Notice that `normalize` is outside the loop, so the posterior distribution only gets normalized once, at the end.\n",
        "That's more efficient than normalizing it after each spin (although we'll see later that it can also cause problems with floating-point arithmetic).\n",
        "\n",
        "Here's how we use `update_euro`."
      ]
    },
    {
      "cell_type": "code",
      "execution_count": 23,
      "metadata": {
        "execution": {
          "iopub.execute_input": "2021-04-16T19:35:16.500780Z",
          "iopub.status.busy": "2021-04-16T19:35:16.500275Z",
          "iopub.status.idle": "2021-04-16T19:35:16.502274Z",
          "shell.execute_reply": "2021-04-16T19:35:16.502659Z"
        },
        "id": "Wu9PuV4OFzwr"
      },
      "outputs": [],
      "source": [
        "posterior = prior.copy()\n",
        "update_euro(posterior, dataset)"
      ]
    },
    {
      "cell_type": "markdown",
      "metadata": {
        "id": "dfc5TVVtFzwr"
      },
      "source": [
        "And here's what the posterior looks like."
      ]
    },
    {
      "cell_type": "code",
      "execution_count": 24,
      "metadata": {
        "execution": {
          "iopub.execute_input": "2021-04-16T19:35:16.506448Z",
          "iopub.status.busy": "2021-04-16T19:35:16.505705Z",
          "iopub.status.idle": "2021-04-16T19:35:16.508283Z",
          "shell.execute_reply": "2021-04-16T19:35:16.508696Z"
        },
        "tags": [],
        "id": "QpwAnmMsFzwr"
      },
      "outputs": [],
      "source": [
        "def decorate_euro(title):\n",
        "    decorate(xlabel='Proportion of heads (x)',\n",
        "             ylabel='Probability',\n",
        "             title=title)"
      ]
    },
    {
      "cell_type": "code",
      "execution_count": 25,
      "metadata": {
        "execution": {
          "iopub.execute_input": "2021-04-16T19:35:16.525948Z",
          "iopub.status.busy": "2021-04-16T19:35:16.525423Z",
          "iopub.status.idle": "2021-04-16T19:35:16.679678Z",
          "shell.execute_reply": "2021-04-16T19:35:16.679213Z"
        },
        "scrolled": true,
        "tags": [],
        "id": "sOwVXKvjFzwr",
        "outputId": "abcf16d9-b023-4a1b-8521-7b1eda1f6df7",
        "colab": {
          "base_uri": "https://localhost:8080/",
          "height": 297
        }
      },
      "outputs": [
        {
          "output_type": "display_data",
          "data": {
            "text/plain": [
              "<Figure size 432x288 with 1 Axes>"
            ],
            "image/png": "[encoded data removed]"
          },
          "metadata": {
            "needs_background": "light"
          }
        }
      ],
      "source": [
        "posterior.plot(label='140 heads out of 250', color='C4')\n",
        "decorate_euro(title='Posterior distribution of x')"
      ]
    },
    {
      "cell_type": "markdown",
      "metadata": {
        "id": "Z5yQzA4wFzws"
      },
      "source": [
        "This figure shows the posterior distribution of `x`, which is the proportion of heads for the coin we observed.\n",
        "\n",
        "The posterior distribution represents our beliefs about `x` after seeing the data.\n",
        "It indicates that values less than 0.4 and greater than 0.7 are unlikely; values between 0.5 and 0.6 are the most likely.\n",
        "\n",
        "In fact, the most likely value for `x` is 0.56 which is the proportion of heads in the dataset, `140/250`."
      ]
    },
    {
      "cell_type": "code",
      "execution_count": 26,
      "metadata": {
        "execution": {
          "iopub.execute_input": "2021-04-16T19:35:16.683618Z",
          "iopub.status.busy": "2021-04-16T19:35:16.682978Z",
          "iopub.status.idle": "2021-04-16T19:35:16.685837Z",
          "shell.execute_reply": "2021-04-16T19:35:16.685432Z"
        },
        "scrolled": true,
        "id": "iyHR3NInFzws",
        "outputId": "5663d660-14d2-4696-aecd-fb149d22b4fc",
        "colab": {
          "base_uri": "https://localhost:8080/"
        }
      },
      "outputs": [
        {
          "output_type": "execute_result",
          "data": {
            "text/plain": [
              "0.56"
            ]
          },
          "metadata": {},
          "execution_count": 26
        }
      ],
      "source": [
        "posterior.max_prob()"
      ]
    },
    {
      "cell_type": "markdown",
      "metadata": {
        "id": "B62Hk_xOFzws"
      },
      "source": [
        "## Triangle Prior\n",
        "\n",
        "So far we've been using a uniform prior:"
      ]
    },
    {
      "cell_type": "code",
      "execution_count": 27,
      "metadata": {
        "execution": {
          "iopub.execute_input": "2021-04-16T19:35:16.690979Z",
          "iopub.status.busy": "2021-04-16T19:35:16.690312Z",
          "iopub.status.idle": "2021-04-16T19:35:16.693055Z",
          "shell.execute_reply": "2021-04-16T19:35:16.693642Z"
        },
        "tags": [],
        "id": "kS-X_CrGFzws",
        "outputId": "74ba9439-fb83-4f6b-e082-8e8ea7436661",
        "colab": {
          "base_uri": "https://localhost:8080/"
        }
      },
      "outputs": [
        {
          "output_type": "execute_result",
          "data": {
            "text/plain": [
              "101"
            ]
          },
          "metadata": {},
          "execution_count": 27
        }
      ],
      "source": [
        "uniform = Pmf(1, hypos, name='uniform')\n",
        "uniform.normalize()"
      ]
    },
    {
      "cell_type": "markdown",
      "metadata": {
        "id": "OLMXACL_Fzws"
      },
      "source": [
        "But that might not be a reasonable choice based on what we know about coins.\n",
        "I can believe that if a coin is lopsided, `x` might deviate substantially from 0.5, but it seems unlikely that the Belgian Euro coin is so imbalanced that `x` is 0.1 or 0.9.\n",
        "\n",
        "It might be more reasonable to choose a prior that gives\n",
        "higher probability to values of `x` near 0.5 and lower probability\n",
        "to extreme values.\n",
        "\n",
        "As an example, let's try a triangle-shaped prior.\n",
        "Here's the code that constructs it:"
      ]
    },
    {
      "cell_type": "code",
      "execution_count": 28,
      "metadata": {
        "execution": {
          "iopub.execute_input": "2021-04-16T19:35:16.701286Z",
          "iopub.status.busy": "2021-04-16T19:35:16.700496Z",
          "iopub.status.idle": "2021-04-16T19:35:16.704290Z",
          "shell.execute_reply": "2021-04-16T19:35:16.703717Z"
        },
        "id": "EoiZF8X9Fzws",
        "outputId": "7a5bf4ad-71d3-4b56-a34b-27a84ccc3f15",
        "colab": {
          "base_uri": "https://localhost:8080/"
        }
      },
      "outputs": [
        {
          "output_type": "execute_result",
          "data": {
            "text/plain": [
              "2500"
            ]
          },
          "metadata": {},
          "execution_count": 28
        }
      ],
      "source": [
        "ramp_up = np.arange(50)\n",
        "ramp_down = np.arange(50, -1, -1)\n",
        "\n",
        "a = np.append(ramp_up, ramp_down)\n",
        "\n",
        "triangle = Pmf(a, hypos, name='triangle')\n",
        "triangle.normalize()"
      ]
    },
    {
      "cell_type": "markdown",
      "metadata": {
        "id": "JyE3M_70Fzws"
      },
      "source": [
        "`arange` returns a NumPy array, so we can use `np.append` to append `ramp_down` to the end of `ramp_up`.\n",
        "Then we use `a` and `hypos` to make a `Pmf`.\n",
        "\n",
        "The following figure shows the result, along with the uniform prior."
      ]
    },
    {
      "cell_type": "code",
      "execution_count": 29,
      "metadata": {
        "execution": {
          "iopub.execute_input": "2021-04-16T19:35:16.724091Z",
          "iopub.status.busy": "2021-04-16T19:35:16.723265Z",
          "iopub.status.idle": "2021-04-16T19:35:16.855060Z",
          "shell.execute_reply": "2021-04-16T19:35:16.855591Z"
        },
        "tags": [],
        "id": "NBevYOOYFzws",
        "outputId": "3eb5f570-f499-4062-d0a8-2488a20a4977",
        "colab": {
          "base_uri": "https://localhost:8080/",
          "height": 297
        }
      },
      "outputs": [
        {
          "output_type": "display_data",
          "data": {
            "text/plain": [
              "<Figure size 432x288 with 1 Axes>"
            ],
            "image/png": "[encoded data removed]"
          },
          "metadata": {
            "needs_background": "light"
          }
        }
      ],
      "source": [
        "uniform.plot()\n",
        "triangle.plot()\n",
        "decorate_euro(title='Uniform and triangle prior distributions')"
      ]
    },
    {
      "cell_type": "markdown",
      "metadata": {
        "id": "r1ySArxDFzws"
      },
      "source": [
        "Now we can update both priors with the same data:\n"
      ]
    },
    {
      "cell_type": "code",
      "execution_count": 30,
      "metadata": {
        "execution": {
          "iopub.execute_input": "2021-04-16T19:35:16.957511Z",
          "iopub.status.busy": "2021-04-16T19:35:16.956997Z",
          "iopub.status.idle": "2021-04-16T19:35:16.959002Z",
          "shell.execute_reply": "2021-04-16T19:35:16.958623Z"
        },
        "id": "N1nBG6n9Fzwt"
      },
      "outputs": [],
      "source": [
        "update_euro(uniform, dataset)\n",
        "update_euro(triangle, dataset)"
      ]
    },
    {
      "cell_type": "markdown",
      "metadata": {
        "id": "mLvh3wZ4Fzwt"
      },
      "source": [
        "Here are the posteriors."
      ]
    },
    {
      "cell_type": "code",
      "execution_count": 31,
      "metadata": {
        "execution": {
          "iopub.execute_input": "2021-04-16T19:35:16.976351Z",
          "iopub.status.busy": "2021-04-16T19:35:16.975555Z",
          "iopub.status.idle": "2021-04-16T19:35:17.093195Z",
          "shell.execute_reply": "2021-04-16T19:35:17.092653Z"
        },
        "tags": [],
        "id": "KNkpg00ZFzwt",
        "outputId": "8f1684f5-671c-46b7-c1e5-fb3221330bfe",
        "colab": {
          "base_uri": "https://localhost:8080/",
          "height": 297
        }
      },
      "outputs": [
        {
          "output_type": "display_data",
          "data": {
            "text/plain": [
              "<Figure size 432x288 with 1 Axes>"
            ],
            "image/png": "[encoded data removed]"
          },
          "metadata": {
            "needs_background": "light"
          }
        }
      ],
      "source": [
        "uniform.plot()\n",
        "triangle.plot()\n",
        "decorate_euro(title='Posterior distributions')"
      ]
    },
    {
      "cell_type": "markdown",
      "metadata": {
        "id": "04Gc7-YdFzwt"
      },
      "source": [
        "The differences between the posterior distributions are barely visible, and so small they would hardly matter in practice.\n",
        "\n",
        "And that's good news.\n",
        "To see why, imagine two people who disagree angrily about which prior is better, uniform or triangle.\n",
        "Each of them has reasons for their preference, but neither of them can persuade the other to change their mind.\n",
        "\n",
        "But suppose they agree to use the data to update their beliefs.\n",
        "When they compare their posterior distributions, they find that there is almost nothing left to argue about.\n",
        "\n",
        "This is an example of **swamping the priors**: with enough\n",
        "data, people who start with different priors will tend to\n",
        "converge on the same posterior distribution.\n"
      ]
    },
    {
      "cell_type": "markdown",
      "metadata": {
        "id": "nCcLdu8JFzwt"
      },
      "source": [
        "## The Binomial Likelihood Function\n",
        "\n",
        "So far we've been computing the updates one spin at a time, so for the Euro problem we have to do 250 updates.\n",
        "\n",
        "A more efficient alternative is to compute the likelihood of the entire dataset at once.\n",
        "For each hypothetical value of `x`, we have to compute the probability of getting 140 heads out of 250 spins.\n",
        "\n",
        "Well, we know how to do that; this is the question the binomial distribution answers.\n",
        "If the probability of heads is $p$, the probability of $k$ heads in $n$ spins is:\n",
        "\n",
        "$$\\binom{n}{k} p^k (1-p)^{n-k}$$\n",
        "\n",
        "And we can use SciPy to compute it.\n",
        "The following function takes a `Pmf` that represents a prior distribution and a tuple of integers that represent the data:"
      ]
    },
    {
      "cell_type": "code",
      "execution_count": 32,
      "metadata": {
        "execution": {
          "iopub.execute_input": "2021-04-16T19:35:17.097450Z",
          "iopub.status.busy": "2021-04-16T19:35:17.096829Z",
          "iopub.status.idle": "2021-04-16T19:35:17.099337Z",
          "shell.execute_reply": "2021-04-16T19:35:17.099695Z"
        },
        "id": "0rEFQVGwFzwt"
      },
      "outputs": [],
      "source": [
        "from scipy.stats import binom\n",
        "\n",
        "def update_binomial(pmf, data):\n",
        "    \"\"\"Update pmf using the binomial distribution.\"\"\"\n",
        "    k, n = data\n",
        "    xs = pmf.qs\n",
        "    likelihood = binom.pmf(k, n, xs)\n",
        "    pmf *= likelihood\n",
        "    pmf.normalize()"
      ]
    },
    {
      "cell_type": "markdown",
      "metadata": {
        "id": "HsRBWcrcFzwt"
      },
      "source": [
        "The data are represented with a tuple of values for `k` and `n`, rather than a long string of outcomes.\n",
        "Here's the update."
      ]
    },
    {
      "cell_type": "code",
      "execution_count": 33,
      "metadata": {
        "execution": {
          "iopub.execute_input": "2021-04-16T19:35:17.104492Z",
          "iopub.status.busy": "2021-04-16T19:35:17.103915Z",
          "iopub.status.idle": "2021-04-16T19:35:17.107290Z",
          "shell.execute_reply": "2021-04-16T19:35:17.106925Z"
        },
        "id": "Mnq7bOSGFzwt"
      },
      "outputs": [],
      "source": [
        "uniform2 = Pmf(1, hypos, name='uniform2')\n",
        "data = 140, 250\n",
        "update_binomial(uniform2, data)"
      ]
    },
    {
      "cell_type": "markdown",
      "metadata": {
        "tags": [],
        "id": "1ZetdJr5Fzwt"
      },
      "source": [
        "And here's what the posterior looks like."
      ]
    },
    {
      "cell_type": "code",
      "execution_count": 34,
      "metadata": {
        "execution": {
          "iopub.execute_input": "2021-04-16T19:35:17.146117Z",
          "iopub.status.busy": "2021-04-16T19:35:17.122628Z",
          "iopub.status.idle": "2021-04-16T19:35:17.273769Z",
          "shell.execute_reply": "2021-04-16T19:35:17.274124Z"
        },
        "tags": [],
        "id": "eQbTIOkIFzwt",
        "outputId": "8de470b4-ff74-45de-f21d-941537b4df12",
        "colab": {
          "base_uri": "https://localhost:8080/",
          "height": 297
        }
      },
      "outputs": [
        {
          "output_type": "display_data",
          "data": {
            "text/plain": [
              "<Figure size 432x288 with 1 Axes>"
            ],
            "image/png": "[encoded data removed]"
          },
          "metadata": {
            "needs_background": "light"
          }
        }
      ],
      "source": [
        "uniform.plot()\n",
        "uniform2.plot()\n",
        "decorate_euro(title='Posterior distributions computed two ways')"
      ]
    },
    {
      "cell_type": "markdown",
      "metadata": {
        "id": "f3Tb4zIUFzwu"
      },
      "source": [
        "We can use `allclose` to confirm that the result is the same as in the previous section except for a small floating-point round-off."
      ]
    },
    {
      "cell_type": "code",
      "execution_count": 35,
      "metadata": {
        "execution": {
          "iopub.execute_input": "2021-04-16T19:35:17.277814Z",
          "iopub.status.busy": "2021-04-16T19:35:17.277172Z",
          "iopub.status.idle": "2021-04-16T19:35:17.279940Z",
          "shell.execute_reply": "2021-04-16T19:35:17.279504Z"
        },
        "id": "ubKq2eRKFzwu",
        "outputId": "3e28e7aa-2855-4541-a870-4e8593c42b6a",
        "colab": {
          "base_uri": "https://localhost:8080/"
        }
      },
      "outputs": [
        {
          "output_type": "execute_result",
          "data": {
            "text/plain": [
              "True"
            ]
          },
          "metadata": {},
          "execution_count": 35
        }
      ],
      "source": [
        "np.allclose(uniform, uniform2)"
      ]
    },
    {
      "cell_type": "markdown",
      "metadata": {
        "id": "J-jwo1C1Fzwu"
      },
      "source": [
        "But this way of doing the computation is much more efficient."
      ]
    },
    {
      "cell_type": "markdown",
      "metadata": {
        "id": "A2-dFg1bFzwu"
      },
      "source": [
        "## Bayesian Statistics\n",
        "\n",
        "You might have noticed similarities between the Euro problem and the 101 Bowls Problem in <<_101Bowls>>.\n",
        "The prior distributions are the same, the likelihoods are the same, and with the same data the results would be the same.\n",
        "But there are two differences.\n",
        "\n",
        "The first is the choice of the prior.\n",
        "With 101 bowls, the uniform prior is implied by the statement of the problem, which says that we choose one of the bowls at random with equal probability.\n",
        "\n",
        "In the Euro problem, the choice of the prior is subjective; that is, reasonable people could disagree, maybe because they have different information about coins or because they interpret the same information differently.\n",
        "\n",
        "Because the priors are subjective, the posteriors are subjective, too.\n",
        "And some people find that problematic."
      ]
    },
    {
      "cell_type": "markdown",
      "metadata": {
        "id": "6pCXlAMoFzwu"
      },
      "source": [
        "The other difference is the nature of what we are estimating.\n",
        "In the 101 Bowls problem, we choose the bowl randomly, so it is uncontroversial to compute the probability of choosing each bowl.\n",
        "In the Euro problem, the proportion of heads is a physical property of a given coin.\n",
        "Under some interpretations of probability, that's a problem because physical properties are not considered random.\n",
        "\n",
        "As an example, consider the age of the universe.\n",
        "Currently, our best estimate is 13.80 billion years, but it might be off by 0.02 billion years in either direction (see [here](https://en.wikipedia.org/wiki/Age_of_the_universe)).\n",
        "\n",
        "Now suppose we would like to know the probability that the age of the universe is actually greater than 13.81 billion years.\n",
        "Under some interpretations of probability, we would not be able to answer that question.\n",
        "We would be required to say something like, \"The age of the universe is not a random quantity, so it has no probability of exceeding a particular value.\"\n",
        "\n",
        "Under the Bayesian interpretation of probability, it is meaningful and useful to treat physical quantities as if they were random and compute probabilities about them.\n",
        "\n",
        "In the Euro problem, the prior distribution represents what we believe about coins in general and the posterior distribution represents what we believe about a particular coin after seeing the data.\n",
        "So we can use the posterior distribution to compute probabilities about the coin and its proportion of heads."
      ]
    },
    {
      "cell_type": "markdown",
      "metadata": {
        "id": "0fB2OlOeFzwu"
      },
      "source": [
        "The subjectivity of the prior and the interpretation of the posterior are key differences between using Bayes's Theorem and doing Bayesian statistics.\n",
        "\n",
        "Bayes's Theorem is a mathematical law of probability; no reasonable person objects to it.\n",
        "But Bayesian statistics is surprisingly controversial.\n",
        "Historically, many people have been bothered by its subjectivity and its use of probability for things that are not random.\n",
        "\n",
        "If you are interested in this history, I recommend Sharon Bertsch McGrayne's book, *[The Theory That Would Not Die](https://yalebooks.yale.edu/book/9780300188226/theory-would-not-die)*."
      ]
    },
    {
      "cell_type": "markdown",
      "metadata": {
        "id": "Ax-_L97pFzwu"
      },
      "source": [
        "## Summary\n",
        "\n",
        "In this chapter I posed David MacKay's Euro problem and we started to solve it.\n",
        "Given the data, we computed the posterior distribution for `x`, the probability a Euro coin comes up heads.\n",
        "\n",
        "We tried two different priors, updated them with the same data, and found that the posteriors were nearly the same.\n",
        "This is good news, because it suggests that if two people start with different beliefs and see the same data, their beliefs tend to converge.\n",
        "\n",
        "This chapter introduces the binomial distribution, which we used to compute the posterior distribution more efficiently.\n",
        "And I discussed the differences between applying Bayes's Theorem, as in the 101 Bowls problem, and doing Bayesian statistics, as in the Euro problem.\n",
        "\n",
        "However, we still haven't answered MacKay's question: \"Do these data give evidence that the coin is biased rather than fair?\"\n",
        "I'm going to leave this question hanging a little longer; we'll come back to it in <<_Testing>>.\n",
        "\n",
        "In the next chapter, we'll solve problems related to counting, including trains, tanks, and rabbits.\n",
        "\n",
        "But first you might want to work on these exercises."
      ]
    },
    {
      "cell_type": "markdown",
      "metadata": {
        "id": "JmM4G9rfFzwu"
      },
      "source": [
        "## Exercises\n"
      ]
    },
    {
      "cell_type": "markdown",
      "metadata": {
        "id": "lUKnUOh3Fzwv"
      },
      "source": [
        "**Exercise:** In Major League Baseball, most players have a batting average between .200 and .330, which means that their probability of getting a hit is between 0.2 and 0.33.\n",
        "\n",
        "Suppose a player appearing in their first game gets 3 hits out of 3 attempts.  What is the posterior distribution for their probability of getting a hit?"
      ]
    },
    {
      "cell_type": "markdown",
      "metadata": {
        "tags": [],
        "id": "jt87xY6LFzwv"
      },
      "source": [
        "For this exercise, I'll construct the prior distribution by starting with a uniform distribution and updating it with imaginary data until it has a shape that reflects my background knowledge of batting averages.\n",
        "\n",
        "Here's the uniform prior:"
      ]
    },
    {
      "cell_type": "code",
      "execution_count": 36,
      "metadata": {
        "execution": {
          "iopub.execute_input": "2021-04-16T19:35:17.283758Z",
          "iopub.status.busy": "2021-04-16T19:35:17.283292Z",
          "iopub.status.idle": "2021-04-16T19:35:17.285158Z",
          "shell.execute_reply": "2021-04-16T19:35:17.285610Z"
        },
        "tags": [],
        "id": "Le4pF2QYFzwv"
      },
      "outputs": [],
      "source": [
        "hypos = np.linspace(0.1, 0.4, 101)\n",
        "prior = Pmf(1, hypos)"
      ]
    },
    {
      "cell_type": "markdown",
      "metadata": {
        "tags": [],
        "id": "zIHJF7nPFzwv"
      },
      "source": [
        "And here is a dictionary of likelihoods, with `Y` for getting a hit and `N` for not getting a hit."
      ]
    },
    {
      "cell_type": "code",
      "execution_count": 37,
      "metadata": {
        "execution": {
          "iopub.execute_input": "2021-04-16T19:35:17.289657Z",
          "iopub.status.busy": "2021-04-16T19:35:17.288869Z",
          "iopub.status.idle": "2021-04-16T19:35:17.291023Z",
          "shell.execute_reply": "2021-04-16T19:35:17.291465Z"
        },
        "tags": [],
        "id": "W_5w_rjEFzwv"
      },
      "outputs": [],
      "source": [
        "likelihood = {\n",
        "    'Y': hypos,\n",
        "    'N': 1-hypos\n",
        "}"
      ]
    },
    {
      "cell_type": "markdown",
      "metadata": {
        "tags": [],
        "id": "DtmpB63sFzwv"
      },
      "source": [
        "Here's a dataset that yields a reasonable prior distribution."
      ]
    },
    {
      "cell_type": "code",
      "execution_count": 38,
      "metadata": {
        "execution": {
          "iopub.execute_input": "2021-04-16T19:35:17.295263Z",
          "iopub.status.busy": "2021-04-16T19:35:17.294509Z",
          "iopub.status.idle": "2021-04-16T19:35:17.297194Z",
          "shell.execute_reply": "2021-04-16T19:35:17.296599Z"
        },
        "tags": [],
        "id": "_CcBcIB0Fzwv"
      },
      "outputs": [],
      "source": [
        "dataset = 'Y' * 25 + 'N' * 75"
      ]
    },
    {
      "cell_type": "markdown",
      "metadata": {
        "tags": [],
        "id": "43H9zXzBFzwv"
      },
      "source": [
        "And here's the update with the imaginary data."
      ]
    },
    {
      "cell_type": "code",
      "execution_count": 39,
      "metadata": {
        "execution": {
          "iopub.execute_input": "2021-04-16T19:35:17.323777Z",
          "iopub.status.busy": "2021-04-16T19:35:17.323233Z",
          "iopub.status.idle": "2021-04-16T19:35:17.326022Z",
          "shell.execute_reply": "2021-04-16T19:35:17.325651Z"
        },
        "tags": [],
        "id": "6D9TtVA_Fzwv",
        "outputId": "e2164b1d-e1b8-4f13-856b-c5558902748f",
        "colab": {
          "base_uri": "https://localhost:8080/"
        }
      },
      "outputs": [
        {
          "output_type": "execute_result",
          "data": {
            "text/plain": [
              "1.3596964206970507e-23"
            ]
          },
          "metadata": {},
          "execution_count": 39
        }
      ],
      "source": [
        "for data in dataset:\n",
        "    prior *= likelihood[data]\n",
        "\n",
        "prior.normalize()"
      ]
    },
    {
      "cell_type": "markdown",
      "metadata": {
        "tags": [],
        "id": "H_yAf7yfFzwv"
      },
      "source": [
        "Finally, here's what the prior looks like."
      ]
    },
    {
      "cell_type": "code",
      "execution_count": 40,
      "metadata": {
        "execution": {
          "iopub.execute_input": "2021-04-16T19:35:17.360812Z",
          "iopub.status.busy": "2021-04-16T19:35:17.348566Z",
          "iopub.status.idle": "2021-04-16T19:35:17.494216Z",
          "shell.execute_reply": "2021-04-16T19:35:17.494588Z"
        },
        "scrolled": true,
        "tags": [],
        "id": "jXOGmvkzFzwv",
        "outputId": "c4474cc0-7352-4e24-f0a4-7af7fb9a1543",
        "colab": {
          "base_uri": "https://localhost:8080/",
          "height": 297
        }
      },
      "outputs": [
        {
          "output_type": "display_data",
          "data": {
            "text/plain": [
              "<Figure size 432x288 with 1 Axes>"
            ],
            "image/png": "[encoded data removed]"
          },
          "metadata": {
            "needs_background": "light"
          }
        }
      ],
      "source": [
        "prior.plot(label='prior')\n",
        "decorate(xlabel='Probability of getting a hit',\n",
        "         ylabel='PMF')"
      ]
    },
    {
      "cell_type": "markdown",
      "metadata": {
        "tags": [],
        "id": "MZz9RlQxFzwv"
      },
      "source": [
        "This distribution indicates that most players have a batting average near 250, with only a few players below 175 or above 350.  I'm not sure how accurately this prior reflects the distribution of batting averages in Major League Baseball, but it is good enough for this exercise.\n",
        "\n",
        "Now update this distribution with the data and plot the posterior.  What is the most likely quantity in the posterior distribution?"
      ]
    },
    {
      "cell_type": "code",
      "execution_count": 41,
      "metadata": {
        "execution": {
          "iopub.execute_input": "2021-04-16T19:35:17.500185Z",
          "iopub.status.busy": "2021-04-16T19:35:17.499604Z",
          "iopub.status.idle": "2021-04-16T19:35:17.502036Z",
          "shell.execute_reply": "2021-04-16T19:35:17.502381Z"
        },
        "id": "Fm42v7CpFzww",
        "outputId": "8fd2d907-14ed-4396-dd14-b991299172c0",
        "colab": {
          "base_uri": "https://localhost:8080/"
        }
      },
      "outputs": [
        {
          "output_type": "execute_result",
          "data": {
            "text/plain": [
              "0.017944179687707326"
            ]
          },
          "metadata": {},
          "execution_count": 41
        }
      ],
      "source": [
        "# Solution goes here\n",
        "\n",
        "posterior = prior.copy()\n",
        "\n",
        "for data in 'YYY':\n",
        "    posterior *= likelihood[data]\n",
        "\n",
        "posterior.normalize()"
      ]
    },
    {
      "cell_type": "code",
      "execution_count": 42,
      "metadata": {
        "execution": {
          "iopub.execute_input": "2021-04-16T19:35:17.523449Z",
          "iopub.status.busy": "2021-04-16T19:35:17.522995Z",
          "iopub.status.idle": "2021-04-16T19:35:17.684121Z",
          "shell.execute_reply": "2021-04-16T19:35:17.684534Z"
        },
        "scrolled": true,
        "id": "9ILzwOeMFzww",
        "outputId": "4d1e3468-0f04-4b21-ded1-09e9f80bccac",
        "colab": {
          "base_uri": "https://localhost:8080/",
          "height": 297
        }
      },
      "outputs": [
        {
          "output_type": "display_data",
          "data": {
            "text/plain": [
              "<Figure size 432x288 with 1 Axes>"
            ],
            "image/png": "[encoded data removed]"
          },
          "metadata": {
            "needs_background": "light"
          }
        }
      ],
      "source": [
        "# Solution goes here\n",
        "\n",
        "\n",
        "prior.plot(label='prior')\n",
        "posterior.plot(label='posterior ')\n",
        "decorate(xlabel='Probability of getting a hit',\n",
        "         ylabel='PMF')"
      ]
    },
    {
      "cell_type": "code",
      "execution_count": 43,
      "metadata": {
        "execution": {
          "iopub.execute_input": "2021-04-16T19:35:17.688161Z",
          "iopub.status.busy": "2021-04-16T19:35:17.687600Z",
          "iopub.status.idle": "2021-04-16T19:35:17.690092Z",
          "shell.execute_reply": "2021-04-16T19:35:17.690437Z"
        },
        "id": "NJgGIaK5Fzww",
        "outputId": "eccd08a8-5841-4745-b419-c7be64a5b25e",
        "colab": {
          "base_uri": "https://localhost:8080/"
        }
      },
      "outputs": [
        {
          "output_type": "execute_result",
          "data": {
            "text/plain": [
              "0.25"
            ]
          },
          "metadata": {},
          "execution_count": 43
        }
      ],
      "source": [
        "# Solution goes here\n",
        "\n",
        "prior.max_prob()"
      ]
    },
    {
      "cell_type": "code",
      "execution_count": 44,
      "metadata": {
        "execution": {
          "iopub.execute_input": "2021-04-16T19:35:17.694582Z",
          "iopub.status.busy": "2021-04-16T19:35:17.694009Z",
          "iopub.status.idle": "2021-04-16T19:35:17.697668Z",
          "shell.execute_reply": "2021-04-16T19:35:17.698042Z"
        },
        "id": "CDwBH4NKFzww",
        "outputId": "3fb020b7-9347-43a1-e158-f7de61f9bbf2",
        "colab": {
          "base_uri": "https://localhost:8080/"
        }
      },
      "outputs": [
        {
          "output_type": "execute_result",
          "data": {
            "text/plain": [
              "0.271"
            ]
          },
          "metadata": {},
          "execution_count": 44
        }
      ],
      "source": [
        "# Solution goes here\n",
        "\n",
        "posterior.max_prob()"
      ]
    },
    {
      "cell_type": "markdown",
      "metadata": {
        "id": "sC_EoatzFzww"
      },
      "source": [
        "**Exercise:** Whenever you survey people about sensitive issues, you have to deal with [social desirability bias](https://en.wikipedia.org/wiki/Social_desirability_bias), which is the tendency of people to adjust their answers to show themselves in the most positive light.\n",
        "One way to improve the accuracy of the results is [randomized response](https://en.wikipedia.org/wiki/Randomized_response).\n",
        "\n",
        "As an example, suppose you want to know how many people cheat on their taxes.\n",
        "If you ask them directly, it is likely that some of the cheaters will lie.\n",
        "You can get a more accurate estimate if you ask them indirectly, like this: Ask each person to flip a coin and, without revealing the outcome,\n",
        "\n",
        "* If they get heads, they report YES.\n",
        "\n",
        "* If they get tails, they honestly answer the question \"Do you cheat on your taxes?\"\n",
        "\n",
        "If someone says YES, we don't know whether they actually cheat on their taxes; they might have flipped heads.\n",
        "Knowing this, people might be more willing to answer honestly.\n",
        "\n",
        "Suppose you survey 100 people this way and get 80 YESes and 20 NOs.  Based on this data, what is the posterior distribution for the fraction of people who cheat on their taxes?  What is the most likely quantity in the posterior distribution?"
      ]
    },
    {
      "cell_type": "code",
      "execution_count": 45,
      "metadata": {
        "execution": {
          "iopub.execute_input": "2021-04-16T19:35:17.701954Z",
          "iopub.status.busy": "2021-04-16T19:35:17.701456Z",
          "iopub.status.idle": "2021-04-16T19:35:17.703437Z",
          "shell.execute_reply": "2021-04-16T19:35:17.703077Z"
        },
        "id": "yogBpszsFzww"
      },
      "outputs": [],
      "source": [
        "# Solution goes here\n",
        "\n",
        "# I'll use a uniform distribution again, although there might\n",
        "# be background information we could use to choose a more\n",
        "# specific prior.\n",
        "\n",
        "hypos = np.linspace(0, 1, 101)\n",
        "prior = Pmf(1, hypos)\n"
      ]
    },
    {
      "cell_type": "code",
      "execution_count": 46,
      "metadata": {
        "execution": {
          "iopub.execute_input": "2021-04-16T19:35:17.707694Z",
          "iopub.status.busy": "2021-04-16T19:35:17.706812Z",
          "iopub.status.idle": "2021-04-16T19:35:17.708975Z",
          "shell.execute_reply": "2021-04-16T19:35:17.709522Z"
        },
        "id": "NQ1bkuf9Fzww"
      },
      "outputs": [],
      "source": [
        "# Solution goes here\n",
        "\n",
        "# If the actual fraction of cheaters is `x`, the number of\n",
        "# YESes is (0.5 + x/2), and the number of NOs is (1-x)/2\n",
        "\n",
        "likelihood = {\n",
        "    'Y': 0.5 + hypos/2,\n",
        "    'N': (1-hypos)/2\n",
        "}"
      ]
    },
    {
      "cell_type": "code",
      "execution_count": 47,
      "metadata": {
        "execution": {
          "iopub.execute_input": "2021-04-16T19:35:17.735980Z",
          "iopub.status.busy": "2021-04-16T19:35:17.735363Z",
          "iopub.status.idle": "2021-04-16T19:35:17.738088Z",
          "shell.execute_reply": "2021-04-16T19:35:17.737707Z"
        },
        "id": "0yJh0MhuFzww",
        "outputId": "374cb7ba-764e-433b-9d38-8c2b1145def2",
        "colab": {
          "base_uri": "https://localhost:8080/"
        }
      },
      "outputs": [
        {
          "output_type": "execute_result",
          "data": {
            "text/plain": [
              "3.6945139133967024e-21"
            ]
          },
          "metadata": {},
          "execution_count": 47
        }
      ],
      "source": [
        "# Solution goes here\n",
        "\n",
        "\n",
        "dataset = 'Y' * 80 + 'N' * 20\n",
        "\n",
        "posterior = prior.copy()\n",
        "\n",
        "for data in dataset:\n",
        "    posterior *= likelihood[data]\n",
        "\n",
        "posterior.normalize()"
      ]
    },
    {
      "cell_type": "code",
      "execution_count": 48,
      "metadata": {
        "execution": {
          "iopub.execute_input": "2021-04-16T19:35:17.755673Z",
          "iopub.status.busy": "2021-04-16T19:35:17.755168Z",
          "iopub.status.idle": "2021-04-16T19:35:17.900749Z",
          "shell.execute_reply": "2021-04-16T19:35:17.901148Z"
        },
        "scrolled": true,
        "id": "xVbEYLnBFzww",
        "outputId": "95e64139-1664-45b2-87d2-2922c95ec85c",
        "colab": {
          "base_uri": "https://localhost:8080/",
          "height": 297
        }
      },
      "outputs": [
        {
          "output_type": "display_data",
          "data": {
            "text/plain": [
              "<Figure size 432x288 with 1 Axes>"
            ],
            "image/png": "[encoded data removed]"
          },
          "metadata": {
            "needs_background": "light"
          }
        }
      ],
      "source": [
        "# Solution goes here\n",
        "\n",
        "\n",
        "posterior.plot(label='80 YES, 20 NO')\n",
        "decorate(xlabel='Proportion of cheaters',\n",
        "         ylabel='PMF')"
      ]
    },
    {
      "cell_type": "code",
      "execution_count": 49,
      "metadata": {
        "execution": {
          "iopub.execute_input": "2021-04-16T19:35:17.904654Z",
          "iopub.status.busy": "2021-04-16T19:35:17.904101Z",
          "iopub.status.idle": "2021-04-16T19:35:17.906892Z",
          "shell.execute_reply": "2021-04-16T19:35:17.906493Z"
        },
        "id": "QrNbZe41Fzww",
        "outputId": "f32f8fa0-a9df-46b5-a702-994a1839f3fd",
        "colab": {
          "base_uri": "https://localhost:8080/"
        }
      },
      "outputs": [
        {
          "output_type": "execute_result",
          "data": {
            "text/plain": [
              "0.6"
            ]
          },
          "metadata": {},
          "execution_count": 49
        }
      ],
      "source": [
        "# Solution goes here\n",
        "\n",
        "posterior.idxmax()"
      ]
    },
    {
      "cell_type": "markdown",
      "metadata": {
        "id": "0PYyrU-QFzww"
      },
      "source": [
        "**Exercise:** Suppose you want to test whether a coin is fair, but you don't want to spin it hundreds of times.\n",
        "So you make a machine that spins the coin automatically and uses computer vision to determine the outcome.\n",
        "\n",
        "However, you discover that the machine is not always accurate.  Specifically, suppose the probability is `y=0.2` that an actual heads is reported as tails, or actual tails reported as heads.\n",
        "\n",
        "If we spin a coin 250 times and the machine reports 140 heads, what is the posterior distribution of `x`?\n",
        "What happens as you vary the value of `y`?"
      ]
    },
    {
      "cell_type": "code",
      "execution_count": 50,
      "metadata": {
        "execution": {
          "iopub.execute_input": "2021-04-16T19:35:17.910559Z",
          "iopub.status.busy": "2021-04-16T19:35:17.910145Z",
          "iopub.status.idle": "2021-04-16T19:35:17.911871Z",
          "shell.execute_reply": "2021-04-16T19:35:17.912204Z"
        },
        "id": "bvjmeTF4Fzwx"
      },
      "outputs": [],
      "source": [
        "# Solution goes here\n",
        "\n",
        "def update_unreliable(pmf, dataset, y):\n",
        "    \n",
        "    likelihood = {\n",
        "        'H': (1-y) * hypos + y * (1-hypos),\n",
        "        'T': y * hypos + (1-y) * (1-hypos)\n",
        "    }\n",
        "    for data in dataset:\n",
        "        pmf *= likelihood[data]\n",
        "\n",
        "    pmf.normalize()"
      ]
    },
    {
      "cell_type": "code",
      "execution_count": 51,
      "metadata": {
        "execution": {
          "iopub.execute_input": "2021-04-16T19:35:18.058061Z",
          "iopub.status.busy": "2021-04-16T19:35:18.057373Z",
          "iopub.status.idle": "2021-04-16T19:35:18.059557Z",
          "shell.execute_reply": "2021-04-16T19:35:18.059098Z"
        },
        "id": "uykNma54Fzwx"
      },
      "outputs": [],
      "source": [
        "# Solution goes here\n",
        "\n",
        "\n",
        "\n",
        "hypos = np.linspace(0, 1, 101)\n",
        "prior = Pmf(1, hypos)\n",
        "dataset = 'H' * 140 + 'T' * 110\n",
        "\n",
        "posterior00 = prior.copy()\n",
        "update_unreliable(posterior00, dataset, 0.0)\n",
        "\n",
        "posterior02 = prior.copy()\n",
        "update_unreliable(posterior02, dataset, 0.2)\n",
        "\n",
        "posterior04 = prior.copy()\n",
        "update_unreliable(posterior04, dataset, 0.4)"
      ]
    },
    {
      "cell_type": "code",
      "execution_count": 52,
      "metadata": {
        "execution": {
          "iopub.execute_input": "2021-04-16T19:35:18.106563Z",
          "iopub.status.busy": "2021-04-16T19:35:18.078101Z",
          "iopub.status.idle": "2021-04-16T19:35:18.253473Z",
          "shell.execute_reply": "2021-04-16T19:35:18.253983Z"
        },
        "scrolled": true,
        "id": "CKuqNBoIFzwx",
        "outputId": "124cc3e3-dbab-46dc-ee68-3afab63eaefe",
        "colab": {
          "base_uri": "https://localhost:8080/",
          "height": 297
        }
      },
      "outputs": [
        {
          "output_type": "display_data",
          "data": {
            "text/plain": [
              "<Figure size 432x288 with 1 Axes>"
            ],
            "image/png": "[encoded data removed]"
          },
          "metadata": {
            "needs_background": "light"
          }
        }
      ],
      "source": [
        "# Solution goes here\n",
        "\n",
        "posterior00.plot(label='y = 0.0')\n",
        "posterior02.plot(label='y = 0.2')\n",
        "posterior04.plot(label='y = 0.4')\n",
        "decorate(xlabel='Proportion of heads',\n",
        "         ylabel='PMF')"
      ]
    },
    {
      "cell_type": "code",
      "execution_count": 53,
      "metadata": {
        "execution": {
          "iopub.execute_input": "2021-04-16T19:35:18.257845Z",
          "iopub.status.busy": "2021-04-16T19:35:18.257320Z",
          "iopub.status.idle": "2021-04-16T19:35:18.259642Z",
          "shell.execute_reply": "2021-04-16T19:35:18.259985Z"
        },
        "id": "aN2tV6pbFzwx",
        "outputId": "dfb548f6-2b7d-46ca-9215-dc1aef0684fb",
        "colab": {
          "base_uri": "https://localhost:8080/"
        }
      },
      "outputs": [
        {
          "output_type": "execute_result",
          "data": {
            "text/plain": [
              "(0.56, 0.6, 0.8)"
            ]
          },
          "metadata": {},
          "execution_count": 53
        }
      ],
      "source": [
        "# Solution goes here\n",
        "\n",
        "\n",
        "posterior00.idxmax(), posterior02.idxmax(), posterior04.idxmax()"
      ]
    },
    {
      "cell_type": "markdown",
      "metadata": {
        "id": "lqOBKOeEFzwx"
      },
      "source": [
        "**Exercise:** In preparation for an alien invasion, the Earth Defense League (EDL) has been working on new missiles to shoot down space invaders.  Of course, some missile designs are better than others; let's assume that each design has some probability of hitting an alien ship, `x`.\n",
        "\n",
        "Based on previous tests, the distribution of `x` in the population of designs is approximately uniform between 0.1 and 0.4.\n",
        "\n",
        "Now suppose the new ultra-secret Alien Blaster 9000 is being tested.  In a press conference, an EDL general reports that the new design has been tested twice, taking two shots during each test.  The results of the test are confidential, so the general won't say how many targets were hit, but they report: \"The same number of targets were hit in the two tests, so we have reason to think this new design is consistent.\"\n",
        "\n",
        "Is this data good or bad? \n",
        "That is, does it increase or decrease your estimate of `x` for the Alien Blaster 9000?"
      ]
    },
    {
      "cell_type": "markdown",
      "metadata": {
        "tags": [],
        "id": "U3Ihq1A2Fzwx"
      },
      "source": [
        "Hint: If the probability of hitting each target is $x$, the probability of hitting one target in both tests\n",
        "is $\\left[2x(1-x)\\right]^2$."
      ]
    },
    {
      "cell_type": "code",
      "execution_count": 54,
      "metadata": {
        "execution": {
          "iopub.execute_input": "2021-04-16T19:35:18.263734Z",
          "iopub.status.busy": "2021-04-16T19:35:18.263241Z",
          "iopub.status.idle": "2021-04-16T19:35:18.265215Z",
          "shell.execute_reply": "2021-04-16T19:35:18.264807Z"
        },
        "id": "stBrL4GPFzwx"
      },
      "outputs": [],
      "source": [
        "# Solution goes here\n",
        "\n",
        "hypos = np.linspace(0.1, 0.4, 101)\n",
        "prior = Pmf(1, hypos)"
      ]
    },
    {
      "cell_type": "code",
      "execution_count": 55,
      "metadata": {
        "execution": {
          "iopub.execute_input": "2021-04-16T19:35:18.268770Z",
          "iopub.status.busy": "2021-04-16T19:35:18.268353Z",
          "iopub.status.idle": "2021-04-16T19:35:18.270094Z",
          "shell.execute_reply": "2021-04-16T19:35:18.270458Z"
        },
        "id": "TWMXDvSpFzwx"
      },
      "outputs": [],
      "source": [
        "# Solution goes here\n",
        "\n",
        "# Here's a specific version for n=2 shots per test\n",
        "\n",
        "x = hypos\n",
        "likes = [(1-x)**4, (2*x*(1-x))**2, x**4]\n",
        "likelihood = np.sum(likes, axis=0)"
      ]
    },
    {
      "cell_type": "code",
      "execution_count": 56,
      "metadata": {
        "execution": {
          "iopub.execute_input": "2021-04-16T19:35:18.275200Z",
          "iopub.status.busy": "2021-04-16T19:35:18.274670Z",
          "iopub.status.idle": "2021-04-16T19:35:18.277168Z",
          "shell.execute_reply": "2021-04-16T19:35:18.276674Z"
        },
        "id": "m-DHSg94Fzwx"
      },
      "outputs": [],
      "source": [
        "# Solution goes here\n",
        "\n",
        "# Here's a more general version for any n shots per test\n",
        "\n",
        "from scipy.stats import binom\n",
        "\n",
        "n = 2\n",
        "likes2 = [binom.pmf(k, n, x)**2 for k in range(n+1)]\n",
        "likelihood2 = np.sum(likes2, axis=0)"
      ]
    },
    {
      "cell_type": "code",
      "execution_count": 57,
      "metadata": {
        "execution": {
          "iopub.execute_input": "2021-04-16T19:35:18.348661Z",
          "iopub.status.busy": "2021-04-16T19:35:18.343678Z",
          "iopub.status.idle": "2021-04-16T19:35:18.505383Z",
          "shell.execute_reply": "2021-04-16T19:35:18.504989Z"
        },
        "id": "3t1Ry78OFzwx",
        "outputId": "edd4ced2-eab3-4ca7-f2ba-66f61a34ec16",
        "colab": {
          "base_uri": "https://localhost:8080/",
          "height": 297
        }
      },
      "outputs": [
        {
          "output_type": "display_data",
          "data": {
            "text/plain": [
              "<Figure size 432x288 with 1 Axes>"
            ],
            "image/png": "[encoded data removed]"
          },
          "metadata": {
            "needs_background": "light"
          }
        }
      ],
      "source": [
        "# Solution goes here\n",
        "\n",
        "# Here are the likelihoods, computed both ways\n",
        "\n",
        "import matplotlib.pyplot as plt\n",
        "\n",
        "plt.plot(x, likelihood, label='special case')\n",
        "plt.plot(x, likelihood2, label='general formula')\n",
        "decorate(xlabel='Probability of hitting the target',\n",
        "         ylabel='Likelihood',\n",
        "         title='Likelihood of getting the same result')"
      ]
    },
    {
      "cell_type": "code",
      "execution_count": 58,
      "metadata": {
        "execution": {
          "iopub.execute_input": "2021-04-16T19:35:18.510299Z",
          "iopub.status.busy": "2021-04-16T19:35:18.509738Z",
          "iopub.status.idle": "2021-04-16T19:35:18.512063Z",
          "shell.execute_reply": "2021-04-16T19:35:18.512428Z"
        },
        "id": "2FtC9ys2Fzwx",
        "outputId": "c8104105-8868-4c88-f76e-4e2c4c5a9b2f",
        "colab": {
          "base_uri": "https://localhost:8080/"
        }
      },
      "outputs": [
        {
          "output_type": "execute_result",
          "data": {
            "text/plain": [
              "49.129627998379995"
            ]
          },
          "metadata": {},
          "execution_count": 58
        }
      ],
      "source": [
        "# Solution goes here\n",
        "\n",
        "\n",
        "posterior = prior * likelihood\n",
        "posterior.normalize()"
      ]
    },
    {
      "cell_type": "code",
      "execution_count": 59,
      "metadata": {
        "execution": {
          "iopub.execute_input": "2021-04-16T19:35:18.549803Z",
          "iopub.status.busy": "2021-04-16T19:35:18.537153Z",
          "iopub.status.idle": "2021-04-16T19:35:18.693519Z",
          "shell.execute_reply": "2021-04-16T19:35:18.693904Z"
        },
        "id": "e7zL8BG2Fzwx",
        "outputId": "6f2271f1-f6c2-44be-fc97-72462519de3b",
        "colab": {
          "base_uri": "https://localhost:8080/",
          "height": 297
        }
      },
      "outputs": [
        {
          "output_type": "display_data",
          "data": {
            "text/plain": [
              "<Figure size 432x288 with 1 Axes>"
            ],
            "image/png": "[encoded data removed]"
          },
          "metadata": {
            "needs_background": "light"
          }
        }
      ],
      "source": [
        "# Solution goes here\n",
        "\n",
        "posterior.plot(label='Two tests, two shots, same outcome',\n",
        "               color='C4')\n",
        "decorate(xlabel='Probability of hitting the target',\n",
        "         ylabel='PMF',\n",
        "         title='Posterior distribution',\n",
        "         ylim=[0, 0.015])"
      ]
    },
    {
      "cell_type": "code",
      "execution_count": 60,
      "metadata": {
        "execution": {
          "iopub.execute_input": "2021-04-16T19:35:18.696548Z",
          "iopub.status.busy": "2021-04-16T19:35:18.696123Z",
          "iopub.status.idle": "2021-04-16T19:35:18.697927Z",
          "shell.execute_reply": "2021-04-16T19:35:18.698340Z"
        },
        "id": "qwNM3IUeFzwy"
      },
      "outputs": [],
      "source": [
        "# Solution goes here\n",
        "\n",
        "\n",
        "# Getting the same result in both tests is more likely for \n",
        "# extreme values of `x` and least likely when `x=0.5`.\n",
        "\n",
        "# In this example, the prior indicates that `x` is less than 0.5,\n",
        "# and the update gives more weight to extreme values.\n",
        "\n",
        "# So the dataset makes lower values of `x` more likely."
      ]
    },
    {
      "cell_type": "code",
      "execution_count": 60,
      "metadata": {
        "id": "n-o7YjVlFzwy"
      },
      "outputs": [],
      "source": []
    }
  ],
  "metadata": {
    "celltoolbar": "Tags",
    "kernelspec": {
      "display_name": "Python 3",
      "language": "python",
      "name": "python3"
    },
    "language_info": {
      "codemirror_mode": {
        "name": "ipython",
        "version": 3
      },
      "file_extension": ".py",
      "mimetype": "text/x-python",
      "name": "python",
      "nbconvert_exporter": "python",
      "pygments_lexer": "ipython3",
      "version": "3.8.8"
    },
    "colab": {
      "provenance": []
    }
  },
  "nbformat": 4,
  "nbformat_minor": 0
}