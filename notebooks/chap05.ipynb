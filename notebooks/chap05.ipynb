{
  "cells": [
    {
      "cell_type": "markdown",
      "metadata": {
        "id": "XExfSCLul3ZH"
      },
      "source": [
        "# Estimating Counts"
      ]
    },
    {
      "cell_type": "code",
      "execution_count": 1,
      "metadata": {
        "execution": {
          "iopub.execute_input": "2021-04-16T19:35:19.989007Z",
          "iopub.status.busy": "2021-04-16T19:35:19.988518Z",
          "iopub.status.idle": "2021-04-16T19:35:19.991079Z",
          "shell.execute_reply": "2021-04-16T19:35:19.990545Z"
        },
        "tags": [],
        "id": "8o36JXdSl3ZV",
        "outputId": "6fb20d0a-e883-46c7-ab47-52a1ce20f75a",
        "colab": {
          "base_uri": "https://localhost:8080/"
        }
      },
      "outputs": [
        {
          "output_type": "stream",
          "name": "stdout",
          "text": [
            "Looking in indexes: https://pypi.org/simple, https://us-python.pkg.dev/colab-wheels/public/simple/\n",
            "Collecting empiricaldist\n",
            "  Downloading empiricaldist-0.6.8.tar.gz (12 kB)\n",
            "  Installing build dependencies ... \u001b[?25l\u001b[?25hdone\n",
            "  Getting requirements to build wheel ... \u001b[?25l\u001b[?25hdone\n",
            "  Preparing metadata (pyproject.toml) ... \u001b[?25l\u001b[?25hdone\n",
            "Building wheels for collected packages: empiricaldist\n",
            "  Building wheel for empiricaldist (pyproject.toml) ... \u001b[?25l\u001b[?25hdone\n",
            "  Created wheel for empiricaldist: filename=empiricaldist-0.6.8-py3-none-any.whl size=12125 sha256=2ff1750a6db9395beecec03b4f2d6b0b17ed5a587c39ba8d2ae38735b7182601\n",
            "  Stored in directory: /root/.cache/pip/wheels/c2/3f/cf/74b5adbcea4efaae43ce168e622e3eb8dbc1251d5d730dd245\n",
            "Successfully built empiricaldist\n",
            "Installing collected packages: empiricaldist\n",
            "Successfully installed empiricaldist-0.6.8\n"
          ]
        }
      ],
      "source": [
        "# If we're running on Colab, install empiricaldist\n",
        "# https://pypi.org/project/empiricaldist/\n",
        "\n",
        "import sys\n",
        "IN_COLAB = 'google.colab' in sys.modules\n",
        "\n",
        "if IN_COLAB:\n",
        "    !pip install empiricaldist"
      ]
    },
    {
      "cell_type": "code",
      "execution_count": 2,
      "metadata": {
        "execution": {
          "iopub.execute_input": "2021-04-16T19:35:19.994541Z",
          "iopub.status.busy": "2021-04-16T19:35:19.994130Z",
          "iopub.status.idle": "2021-04-16T19:35:19.995904Z",
          "shell.execute_reply": "2021-04-16T19:35:19.996257Z"
        },
        "tags": [],
        "id": "-kDLGU2Zl3ZY",
        "outputId": "e48e1245-7a56-40b4-a10d-4b50c56b15ee",
        "colab": {
          "base_uri": "https://localhost:8080/"
        }
      },
      "outputs": [
        {
          "output_type": "stream",
          "name": "stdout",
          "text": [
            "Downloaded utils.py\n"
          ]
        }
      ],
      "source": [
        "# Get utils.py\n",
        "\n",
        "from os.path import basename, exists\n",
        "\n",
        "def download(url):\n",
        "    filename = basename(url)\n",
        "    if not exists(filename):\n",
        "        from urllib.request import urlretrieve\n",
        "        local, _ = urlretrieve(url, filename)\n",
        "        print('Downloaded ' + local)\n",
        "    \n",
        "download('https://github.com/AllenDowney/ThinkBayes2/raw/master/soln/utils.py')"
      ]
    },
    {
      "cell_type": "code",
      "execution_count": 3,
      "metadata": {
        "execution": {
          "iopub.execute_input": "2021-04-16T19:35:19.998961Z",
          "iopub.status.busy": "2021-04-16T19:35:19.998546Z",
          "iopub.status.idle": "2021-04-16T19:35:20.677236Z",
          "shell.execute_reply": "2021-04-16T19:35:20.677597Z"
        },
        "tags": [],
        "id": "jPN-nQPVl3Zg"
      },
      "outputs": [],
      "source": [
        "from utils import set_pyplot_params\n",
        "set_pyplot_params()"
      ]
    },
    {
      "cell_type": "markdown",
      "metadata": {
        "id": "U93BEt12l3aB"
      },
      "source": [
        "In the previous chapter we solved problems that involve estimating proportions.\n",
        "In the Euro problem, we estimated the probability that a coin lands heads up, and in the exercises, you estimated a batting average, the fraction of people who cheat on their taxes, and the chance of shooting down an invading alien.\n",
        "\n",
        "Clearly, some of these problems are more realistic than others, and some are more useful than others.\n",
        "\n",
        "In this chapter, we'll work on problems related to counting, or estimating the size of a population.\n",
        "Again, some of the examples will seem silly, but some of them, like the German Tank problem, have real applications, sometimes in life and death situations."
      ]
    },
    {
      "cell_type": "markdown",
      "metadata": {
        "id": "3EvnyDBwl3aC"
      },
      "source": [
        "## The Train Problem\n",
        "\n",
        "I found the train problem \n",
        "in Frederick Mosteller's, [*Fifty Challenging Problems in\n",
        "  Probability with Solutions*](https://store.doverpublications.com/0486653552.html):\n",
        "\n",
        "> \"A railroad numbers its locomotives in order 1..N.  One day you see a locomotive with the number 60.  Estimate how many locomotives the railroad has.\"\n",
        "\n",
        "Based on this observation, we know the railroad has 60 or more\n",
        "locomotives.  But how many more?  To apply Bayesian reasoning, we\n",
        "can break this problem into two steps:\n",
        "\n",
        "* What did we know about $N$ before we saw the data?\n",
        "\n",
        "* For any given value of $N$, what is the likelihood of seeing the data (a locomotive with number 60)?\n",
        "\n",
        "The answer to the first question is the prior.  The answer to the\n",
        "second is the likelihood.\n",
        "\n",
        "We don't have much basis to choose a prior, so we'll start with\n",
        "something simple and then consider alternatives.\n",
        "Let's assume that $N$ is equally likely to be any value from 1 to 1000.\n",
        "\n",
        "Here's the prior distribution:"
      ]
    },
    {
      "cell_type": "code",
      "execution_count": 4,
      "metadata": {
        "execution": {
          "iopub.execute_input": "2021-04-16T19:35:20.681706Z",
          "iopub.status.busy": "2021-04-16T19:35:20.681246Z",
          "iopub.status.idle": "2021-04-16T19:35:20.682954Z",
          "shell.execute_reply": "2021-04-16T19:35:20.683296Z"
        },
        "id": "QHnu-ZNOl3aD"
      },
      "outputs": [],
      "source": [
        "import numpy as np\n",
        "from empiricaldist import Pmf\n",
        "\n",
        "hypos = np.arange(1, 1001)\n",
        "prior = Pmf(1, hypos)"
      ]
    },
    {
      "cell_type": "markdown",
      "metadata": {
        "id": "va9I96j7l3aH"
      },
      "source": [
        "\n",
        "Now let's figure out the likelihood of the data.\n",
        "In a hypothetical fleet of $N$ locomotives, what is the probability that we would see number 60?\n",
        "If we assume that we are equally likely to see any locomotive, the chance of seeing any particular one is $1/N$.\n",
        "\n",
        "Here's the function that does the update:"
      ]
    },
    {
      "cell_type": "code",
      "execution_count": 5,
      "metadata": {
        "execution": {
          "iopub.execute_input": "2021-04-16T19:35:20.687062Z",
          "iopub.status.busy": "2021-04-16T19:35:20.686637Z",
          "iopub.status.idle": "2021-04-16T19:35:20.688814Z",
          "shell.execute_reply": "2021-04-16T19:35:20.688368Z"
        },
        "id": "9A2LTZH7l3aJ"
      },
      "outputs": [],
      "source": [
        "def update_train(pmf, data):\n",
        "    \"\"\"Update pmf based on new data.\"\"\"\n",
        "    hypos = pmf.qs\n",
        "    likelihood = 1 / hypos\n",
        "    impossible = (data > hypos)\n",
        "    likelihood[impossible] = 0\n",
        "    pmf *= likelihood\n",
        "    pmf.normalize()"
      ]
    },
    {
      "cell_type": "markdown",
      "metadata": {
        "id": "1u2Fx6zAl3aJ"
      },
      "source": [
        "This function might look familiar; it is the same as the update function for the dice problem in the previous chapter.\n",
        "In terms of likelihood, the train problem is the same as the dice problem.\n",
        "\n",
        "Here's the update:"
      ]
    },
    {
      "cell_type": "code",
      "execution_count": 6,
      "metadata": {
        "execution": {
          "iopub.execute_input": "2021-04-16T19:35:20.692485Z",
          "iopub.status.busy": "2021-04-16T19:35:20.692048Z",
          "iopub.status.idle": "2021-04-16T19:35:20.698353Z",
          "shell.execute_reply": "2021-04-16T19:35:20.698751Z"
        },
        "id": "g7jpaKKbl3aK"
      },
      "outputs": [],
      "source": [
        "data = 60\n",
        "posterior = prior.copy()\n",
        "update_train(posterior, data)"
      ]
    },
    {
      "cell_type": "markdown",
      "metadata": {
        "id": "dQ-VsfdGl3aK"
      },
      "source": [
        "Here's what the posterior looks like:"
      ]
    },
    {
      "cell_type": "code",
      "execution_count": 7,
      "metadata": {
        "execution": {
          "iopub.execute_input": "2021-04-16T19:35:20.702138Z",
          "iopub.status.busy": "2021-04-16T19:35:20.701696Z",
          "iopub.status.idle": "2021-04-16T19:35:20.889486Z",
          "shell.execute_reply": "2021-04-16T19:35:20.889838Z"
        },
        "tags": [],
        "id": "q3BsMYrUl3aK",
        "outputId": "fecde3a8-c057-4628-c3ea-0eae1a442229",
        "colab": {
          "base_uri": "https://localhost:8080/",
          "height": 297
        }
      },
      "outputs": [
        {
          "output_type": "display_data",
          "data": {
            "text/plain": [
              "<Figure size 432x288 with 1 Axes>"
            ],
            "image/png": "[encoded data removed]"
          },
          "metadata": {
            "needs_background": "light"
          }
        }
      ],
      "source": [
        "from utils import decorate\n",
        "\n",
        "posterior.plot(label='Posterior after train 60', color='C4')\n",
        "decorate(xlabel='Number of trains',\n",
        "         ylabel='PMF',\n",
        "         title='Posterior distribution')"
      ]
    },
    {
      "cell_type": "markdown",
      "metadata": {
        "id": "1vdGzon4l3aL"
      },
      "source": [
        "Not surprisingly, all values of $N$ below 60 have been eliminated.\n",
        "\n",
        "The most likely value, if you had to guess, is 60."
      ]
    },
    {
      "cell_type": "code",
      "execution_count": 8,
      "metadata": {
        "execution": {
          "iopub.execute_input": "2021-04-16T19:35:20.894441Z",
          "iopub.status.busy": "2021-04-16T19:35:20.893628Z",
          "iopub.status.idle": "2021-04-16T19:35:20.896691Z",
          "shell.execute_reply": "2021-04-16T19:35:20.896316Z"
        },
        "id": "4FMiE1c0l3aL",
        "outputId": "be667227-e7da-4cc5-db32-f1a90386e978",
        "colab": {
          "base_uri": "https://localhost:8080/"
        }
      },
      "outputs": [
        {
          "output_type": "execute_result",
          "data": {
            "text/plain": [
              "60"
            ]
          },
          "metadata": {},
          "execution_count": 8
        }
      ],
      "source": [
        "posterior.max_prob()"
      ]
    },
    {
      "cell_type": "markdown",
      "metadata": {
        "id": "V3vqmUnfl3aL"
      },
      "source": [
        "That might not seem like a very good guess; after all, what are the chances that you just happened to see the train with the highest number?\n",
        "Nevertheless, if you want to maximize the chance of getting\n",
        "the answer exactly right, you should guess 60.\n",
        "\n",
        "But maybe that's not the right goal.\n",
        "An alternative is to compute the mean of the posterior distribution.\n",
        "Given a set of possible quantities, $q_i$, and their probabilities, $p_i$, the mean of the distribution is:\n",
        "\n",
        "$$\\mathrm{mean} = \\sum_i p_i q_i$$\n",
        "\n",
        "Which we can compute like this:"
      ]
    },
    {
      "cell_type": "code",
      "execution_count": 9,
      "metadata": {
        "execution": {
          "iopub.execute_input": "2021-04-16T19:35:20.900289Z",
          "iopub.status.busy": "2021-04-16T19:35:20.899837Z",
          "iopub.status.idle": "2021-04-16T19:35:20.902096Z",
          "shell.execute_reply": "2021-04-16T19:35:20.902445Z"
        },
        "id": "2kid-iwjl3aM",
        "outputId": "f2060043-111e-446f-e866-8cd9b5fa1568",
        "colab": {
          "base_uri": "https://localhost:8080/"
        }
      },
      "outputs": [
        {
          "output_type": "execute_result",
          "data": {
            "text/plain": [
              "333.41989326370776"
            ]
          },
          "metadata": {},
          "execution_count": 9
        }
      ],
      "source": [
        "np.sum(posterior.ps * posterior.qs)"
      ]
    },
    {
      "cell_type": "markdown",
      "metadata": {
        "id": "Ba6nc7V5l3aM"
      },
      "source": [
        "Or we can use the method provided by `Pmf`:"
      ]
    },
    {
      "cell_type": "code",
      "execution_count": 10,
      "metadata": {
        "execution": {
          "iopub.execute_input": "2021-04-16T19:35:20.906600Z",
          "iopub.status.busy": "2021-04-16T19:35:20.905906Z",
          "iopub.status.idle": "2021-04-16T19:35:20.909638Z",
          "shell.execute_reply": "2021-04-16T19:35:20.909046Z"
        },
        "id": "WIMrP_J0l3aM",
        "outputId": "8eb82ff4-4998-4009-9d59-5e6125519c46",
        "colab": {
          "base_uri": "https://localhost:8080/"
        }
      },
      "outputs": [
        {
          "output_type": "execute_result",
          "data": {
            "text/plain": [
              "333.41989326370776"
            ]
          },
          "metadata": {},
          "execution_count": 10
        }
      ],
      "source": [
        "posterior.mean()"
      ]
    },
    {
      "cell_type": "markdown",
      "metadata": {
        "id": "EIv4NaE5l3aN"
      },
      "source": [
        "The mean of the posterior is 333, so that might be a good guess if you want to minimize error.\n",
        "If you played this guessing game over and over, using the mean of the posterior as your estimate would minimize the [mean squared error](http://en.wikipedia.org/wiki/Minimum_mean_square_error) over the long run."
      ]
    },
    {
      "cell_type": "markdown",
      "metadata": {
        "id": "wmAiuIIVl3aN"
      },
      "source": [
        "## Sensitivity to the Prior\n",
        "\n",
        "The prior I used in the previous section is uniform from 1 to 1000, but I offered no justification for choosing a uniform distribution or that particular upper bound.\n",
        "We might wonder whether the posterior distribution is sensitive to the prior.\n",
        "With so little data---only one observation---it is.\n",
        "\n",
        "This table shows what happens as we vary the upper bound:"
      ]
    },
    {
      "cell_type": "code",
      "execution_count": 11,
      "metadata": {
        "execution": {
          "iopub.execute_input": "2021-04-16T19:35:20.921293Z",
          "iopub.status.busy": "2021-04-16T19:35:20.920199Z",
          "iopub.status.idle": "2021-04-16T19:35:20.935921Z",
          "shell.execute_reply": "2021-04-16T19:35:20.935395Z"
        },
        "tags": [],
        "id": "pXZdexYFl3aN",
        "outputId": "0580634d-e488-4e8a-bba6-f0f9e0d6f7d6",
        "colab": {
          "base_uri": "https://localhost:8080/",
          "height": 175
        }
      },
      "outputs": [
        {
          "output_type": "execute_result",
          "data": {
            "text/plain": [
              "             Posterior mean\n",
              "Upper bound                \n",
              "500              207.079228\n",
              "1000             333.419893\n",
              "2000             552.179017"
            ],
            "text/html": [
              "\n",
              "  <div id=\"df-0f677513-b270-44c6-980f-20a0c91548f4\">\n",
              "    <div class=\"colab-df-container\">\n",
              "      <div>\n",
              "<style scoped>\n",
              "    .dataframe tbody tr th:only-of-type {\n",
              "        vertical-align: middle;\n",
              "    }\n",
              "\n",
              "    .dataframe tbody tr th {\n",
              "        vertical-align: top;\n",
              "    }\n",
              "\n",
              "    .dataframe thead th {\n",
              "        text-align: right;\n",
              "    }\n",
              "</style>\n",
              "<table border=\"1\" class=\"dataframe\">\n",
              "  <thead>\n",
              "    <tr style=\"text-align: right;\">\n",
              "      <th></th>\n",
              "      <th>Posterior mean</th>\n",
              "    </tr>\n",
              "    <tr>\n",
              "      <th>Upper bound</th>\n",
              "      <th></th>\n",
              "    </tr>\n",
              "  </thead>\n",
              "  <tbody>\n",
              "    <tr>\n",
              "      <th>500</th>\n",
              "      <td>207.079228</td>\n",
              "    </tr>\n",
              "    <tr>\n",
              "      <th>1000</th>\n",
              "      <td>333.419893</td>\n",
              "    </tr>\n",
              "    <tr>\n",
              "      <th>2000</th>\n",
              "      <td>552.179017</td>\n",
              "    </tr>\n",
              "  </tbody>\n",
              "</table>\n",
              "</div>\n",
              "      <button class=\"colab-df-convert\" onclick=\"convertToInteractive('df-0f677513-b270-44c6-980f-20a0c91548f4')\"\n",
              "              title=\"Convert this dataframe to an interactive table.\"\n",
              "              style=\"display:none;\">\n",
              "        \n",
              "  <svg xmlns=\"http://www.w3.org/2000/svg\" height=\"24px\"viewBox=\"0 0 24 24\"\n",
              "       width=\"24px\">\n",
              "    <path d=\"M0 0h24v24H0V0z\" fill=\"none\"/>\n",
              "    <path d=\"M18.56 5.44l.94 2.06.94-2.06 2.06-.94-2.06-.94-.94-2.06-.94 2.06-2.06.94zm-11 1L8.5 8.5l.94-2.06 2.06-.94-2.06-.94L8.5 2.5l-.94 2.06-2.06.94zm10 10l.94 2.06.94-2.06 2.06-.94-2.06-.94-.94-2.06-.94 2.06-2.06.94z\"/><path d=\"M17.41 7.96l-1.37-1.37c-.4-.4-.92-.59-1.43-.59-.52 0-1.04.2-1.43.59L10.3 9.45l-7.72 7.72c-.78.78-.78 2.05 0 2.83L4 21.41c.39.39.9.59 1.41.59.51 0 1.02-.2 1.41-.59l7.78-7.78 2.81-2.81c.8-.78.8-2.07 0-2.86zM5.41 20L4 18.59l7.72-7.72 1.47 1.35L5.41 20z\"/>\n",
              "  </svg>\n",
              "      </button>\n",
              "      \n",
              "  <style>\n",
              "    .colab-df-container {\n",
              "      display:flex;\n",
              "      flex-wrap:wrap;\n",
              "      gap: 12px;\n",
              "    }\n",
              "\n",
              "    .colab-df-convert {\n",
              "      background-color: #E8F0FE;\n",
              "      border: none;\n",
              "      border-radius: 50%;\n",
              "      cursor: pointer;\n",
              "      display: none;\n",
              "      fill: #1967D2;\n",
              "      height: 32px;\n",
              "      padding: 0 0 0 0;\n",
              "      width: 32px;\n",
              "    }\n",
              "\n",
              "    .colab-df-convert:hover {\n",
              "      background-color: #E2EBFA;\n",
              "      box-shadow: 0px 1px 2px rgba(60, 64, 67, 0.3), 0px 1px 3px 1px rgba(60, 64, 67, 0.15);\n",
              "      fill: #174EA6;\n",
              "    }\n",
              "\n",
              "    [theme=dark] .colab-df-convert {\n",
              "      background-color: #3B4455;\n",
              "      fill: #D2E3FC;\n",
              "    }\n",
              "\n",
              "    [theme=dark] .colab-df-convert:hover {\n",
              "      background-color: #434B5C;\n",
              "      box-shadow: 0px 1px 3px 1px rgba(0, 0, 0, 0.15);\n",
              "      filter: drop-shadow(0px 1px 2px rgba(0, 0, 0, 0.3));\n",
              "      fill: #FFFFFF;\n",
              "    }\n",
              "  </style>\n",
              "\n",
              "      <script>\n",
              "        const buttonEl =\n",
              "          document.querySelector('#df-0f677513-b270-44c6-980f-20a0c91548f4 button.colab-df-convert');\n",
              "        buttonEl.style.display =\n",
              "          google.colab.kernel.accessAllowed ? 'block' : 'none';\n",
              "\n",
              "        async function convertToInteractive(key) {\n",
              "          const element = document.querySelector('#df-0f677513-b270-44c6-980f-20a0c91548f4');\n",
              "          const dataTable =\n",
              "            await google.colab.kernel.invokeFunction('convertToInteractive',\n",
              "                                                     [key], {});\n",
              "          if (!dataTable) return;\n",
              "\n",
              "          const docLinkHtml = 'Like what you see? Visit the ' +\n",
              "            '<a target=\"_blank\" href=https://colab.research.google.com/notebooks/data_table.ipynb>data table notebook</a>'\n",
              "            + ' to learn more about interactive tables.';\n",
              "          element.innerHTML = '';\n",
              "          dataTable['output_type'] = 'display_data';\n",
              "          await google.colab.output.renderOutput(dataTable, element);\n",
              "          const docLink = document.createElement('div');\n",
              "          docLink.innerHTML = docLinkHtml;\n",
              "          element.appendChild(docLink);\n",
              "        }\n",
              "      </script>\n",
              "    </div>\n",
              "  </div>\n",
              "  "
            ]
          },
          "metadata": {},
          "execution_count": 11
        }
      ],
      "source": [
        "import pandas as pd\n",
        "\n",
        "df = pd.DataFrame(columns=['Posterior mean'])\n",
        "df.index.name = 'Upper bound'\n",
        "\n",
        "for high in [500, 1000, 2000]:\n",
        "    hypos = np.arange(1, high+1)\n",
        "    pmf = Pmf(1, hypos)\n",
        "    update_train(pmf, data=60)\n",
        "    df.loc[high] = pmf.mean()\n",
        "    \n",
        "df"
      ]
    },
    {
      "cell_type": "markdown",
      "metadata": {
        "id": "rUS2DkDzl3aO"
      },
      "source": [
        "As we vary the upper bound, the posterior mean changes substantially.\n",
        "So that's bad.  \n",
        "\n",
        "When the posterior is sensitive to the prior, there are two ways to proceed:\n",
        "\n",
        "* Get more data.\n",
        "\n",
        "* Get more background information and choose a better prior.\n",
        "\n",
        "With more data, posterior distributions based on different priors tend to converge.  \n",
        "For example, suppose that in addition to train 60 we also see trains 30 and 90.\n",
        "\n",
        "Here's how the posterior means depend on the upper bound of the prior, when we observe three trains:"
      ]
    },
    {
      "cell_type": "code",
      "execution_count": 12,
      "metadata": {
        "execution": {
          "iopub.execute_input": "2021-04-16T19:35:20.946439Z",
          "iopub.status.busy": "2021-04-16T19:35:20.945991Z",
          "iopub.status.idle": "2021-04-16T19:35:20.958263Z",
          "shell.execute_reply": "2021-04-16T19:35:20.958659Z"
        },
        "tags": [],
        "id": "or54Puxbl3aO",
        "outputId": "26d6420f-7cfb-414e-92c3-56d16c46f341",
        "colab": {
          "base_uri": "https://localhost:8080/",
          "height": 175
        }
      },
      "outputs": [
        {
          "output_type": "execute_result",
          "data": {
            "text/plain": [
              "             Posterior mean\n",
              "Upper bound                \n",
              "500              151.849588\n",
              "1000             164.305586\n",
              "2000             171.338181"
            ],
            "text/html": [
              "\n",
              "  <div id=\"df-afe16d2c-69d9-4e4e-b5aa-0784e0627e35\">\n",
              "    <div class=\"colab-df-container\">\n",
              "      <div>\n",
              "<style scoped>\n",
              "    .dataframe tbody tr th:only-of-type {\n",
              "        vertical-align: middle;\n",
              "    }\n",
              "\n",
              "    .dataframe tbody tr th {\n",
              "        vertical-align: top;\n",
              "    }\n",
              "\n",
              "    .dataframe thead th {\n",
              "        text-align: right;\n",
              "    }\n",
              "</style>\n",
              "<table border=\"1\" class=\"dataframe\">\n",
              "  <thead>\n",
              "    <tr style=\"text-align: right;\">\n",
              "      <th></th>\n",
              "      <th>Posterior mean</th>\n",
              "    </tr>\n",
              "    <tr>\n",
              "      <th>Upper bound</th>\n",
              "      <th></th>\n",
              "    </tr>\n",
              "  </thead>\n",
              "  <tbody>\n",
              "    <tr>\n",
              "      <th>500</th>\n",
              "      <td>151.849588</td>\n",
              "    </tr>\n",
              "    <tr>\n",
              "      <th>1000</th>\n",
              "      <td>164.305586</td>\n",
              "    </tr>\n",
              "    <tr>\n",
              "      <th>2000</th>\n",
              "      <td>171.338181</td>\n",
              "    </tr>\n",
              "  </tbody>\n",
              "</table>\n",
              "</div>\n",
              "      <button class=\"colab-df-convert\" onclick=\"convertToInteractive('df-afe16d2c-69d9-4e4e-b5aa-0784e0627e35')\"\n",
              "              title=\"Convert this dataframe to an interactive table.\"\n",
              "              style=\"display:none;\">\n",
              "        \n",
              "  <svg xmlns=\"http://www.w3.org/2000/svg\" height=\"24px\"viewBox=\"0 0 24 24\"\n",
              "       width=\"24px\">\n",
              "    <path d=\"M0 0h24v24H0V0z\" fill=\"none\"/>\n",
              "    <path d=\"M18.56 5.44l.94 2.06.94-2.06 2.06-.94-2.06-.94-.94-2.06-.94 2.06-2.06.94zm-11 1L8.5 8.5l.94-2.06 2.06-.94-2.06-.94L8.5 2.5l-.94 2.06-2.06.94zm10 10l.94 2.06.94-2.06 2.06-.94-2.06-.94-.94-2.06-.94 2.06-2.06.94z\"/><path d=\"M17.41 7.96l-1.37-1.37c-.4-.4-.92-.59-1.43-.59-.52 0-1.04.2-1.43.59L10.3 9.45l-7.72 7.72c-.78.78-.78 2.05 0 2.83L4 21.41c.39.39.9.59 1.41.59.51 0 1.02-.2 1.41-.59l7.78-7.78 2.81-2.81c.8-.78.8-2.07 0-2.86zM5.41 20L4 18.59l7.72-7.72 1.47 1.35L5.41 20z\"/>\n",
              "  </svg>\n",
              "      </button>\n",
              "      \n",
              "  <style>\n",
              "    .colab-df-container {\n",
              "      display:flex;\n",
              "      flex-wrap:wrap;\n",
              "      gap: 12px;\n",
              "    }\n",
              "\n",
              "    .colab-df-convert {\n",
              "      background-color: #E8F0FE;\n",
              "      border: none;\n",
              "      border-radius: 50%;\n",
              "      cursor: pointer;\n",
              "      display: none;\n",
              "      fill: #1967D2;\n",
              "      height: 32px;\n",
              "      padding: 0 0 0 0;\n",
              "      width: 32px;\n",
              "    }\n",
              "\n",
              "    .colab-df-convert:hover {\n",
              "      background-color: #E2EBFA;\n",
              "      box-shadow: 0px 1px 2px rgba(60, 64, 67, 0.3), 0px 1px 3px 1px rgba(60, 64, 67, 0.15);\n",
              "      fill: #174EA6;\n",
              "    }\n",
              "\n",
              "    [theme=dark] .colab-df-convert {\n",
              "      background-color: #3B4455;\n",
              "      fill: #D2E3FC;\n",
              "    }\n",
              "\n",
              "    [theme=dark] .colab-df-convert:hover {\n",
              "      background-color: #434B5C;\n",
              "      box-shadow: 0px 1px 3px 1px rgba(0, 0, 0, 0.15);\n",
              "      filter: drop-shadow(0px 1px 2px rgba(0, 0, 0, 0.3));\n",
              "      fill: #FFFFFF;\n",
              "    }\n",
              "  </style>\n",
              "\n",
              "      <script>\n",
              "        const buttonEl =\n",
              "          document.querySelector('#df-afe16d2c-69d9-4e4e-b5aa-0784e0627e35 button.colab-df-convert');\n",
              "        buttonEl.style.display =\n",
              "          google.colab.kernel.accessAllowed ? 'block' : 'none';\n",
              "\n",
              "        async function convertToInteractive(key) {\n",
              "          const element = document.querySelector('#df-afe16d2c-69d9-4e4e-b5aa-0784e0627e35');\n",
              "          const dataTable =\n",
              "            await google.colab.kernel.invokeFunction('convertToInteractive',\n",
              "                                                     [key], {});\n",
              "          if (!dataTable) return;\n",
              "\n",
              "          const docLinkHtml = 'Like what you see? Visit the ' +\n",
              "            '<a target=\"_blank\" href=https://colab.research.google.com/notebooks/data_table.ipynb>data table notebook</a>'\n",
              "            + ' to learn more about interactive tables.';\n",
              "          element.innerHTML = '';\n",
              "          dataTable['output_type'] = 'display_data';\n",
              "          await google.colab.output.renderOutput(dataTable, element);\n",
              "          const docLink = document.createElement('div');\n",
              "          docLink.innerHTML = docLinkHtml;\n",
              "          element.appendChild(docLink);\n",
              "        }\n",
              "      </script>\n",
              "    </div>\n",
              "  </div>\n",
              "  "
            ]
          },
          "metadata": {},
          "execution_count": 12
        }
      ],
      "source": [
        "df = pd.DataFrame(columns=['Posterior mean'])\n",
        "df.index.name = 'Upper bound'\n",
        "\n",
        "dataset = [30, 60, 90]\n",
        "\n",
        "for high in [500, 1000, 2000]:\n",
        "    hypos = np.arange(1, high+1)\n",
        "    pmf = Pmf(1, hypos)\n",
        "    for data in dataset:\n",
        "        update_train(pmf, data)\n",
        "    df.loc[high] = pmf.mean()\n",
        "    \n",
        "df"
      ]
    },
    {
      "cell_type": "markdown",
      "metadata": {
        "id": "6nsVZW3ol3aO"
      },
      "source": [
        "The differences are smaller, but apparently three trains are not enough for the posteriors to converge."
      ]
    },
    {
      "cell_type": "markdown",
      "metadata": {
        "id": "jcddzJqal3aO"
      },
      "source": [
        "## Power Law Prior\n",
        "\n",
        "If more data are not available, another option is to improve the\n",
        "priors by gathering more background information.\n",
        "It is probably not reasonable to assume that a train-operating company with 1000 locomotives is just as likely as a company with only 1.\n",
        "\n",
        "With some effort, we could probably find a list of companies that\n",
        "operate locomotives in the area of observation.\n",
        "Or we could interview an expert in rail shipping to gather information about the typical size of companies.\n",
        "\n",
        "But even without getting into the specifics of railroad economics, we\n",
        "can make some educated guesses.\n",
        "In most fields, there are many small companies, fewer medium-sized companies, and only one or two very large companies.\n",
        "\n",
        "In fact, the distribution of company sizes tends to follow a power law, as Robert Axtell reports in *Science* (<http://www.sciencemag.org/content/293/5536/1818.full.pdf>).\n",
        "\n",
        "This law suggests that if there are 1000 companies with fewer than\n",
        "10 locomotives, there might be 100 companies with 100 locomotives,\n",
        "10 companies with 1000, and possibly one company with 10,000 locomotives.\n",
        "\n",
        "Mathematically, a power law means that the number of companies with a given size, $N$, is proportional to $(1/N)^{\\alpha}$, where $\\alpha$ is a parameter that is often near 1.\n",
        "\n",
        "We can construct a power law prior like this:"
      ]
    },
    {
      "cell_type": "code",
      "execution_count": 13,
      "metadata": {
        "execution": {
          "iopub.execute_input": "2021-04-16T19:35:20.963600Z",
          "iopub.status.busy": "2021-04-16T19:35:20.963012Z",
          "iopub.status.idle": "2021-04-16T19:35:20.965471Z",
          "shell.execute_reply": "2021-04-16T19:35:20.965831Z"
        },
        "tags": [],
        "id": "9mmqS8qtl3aP",
        "outputId": "f78abcf0-8fde-45b7-da44-231e4414cc0a",
        "colab": {
          "base_uri": "https://localhost:8080/"
        }
      },
      "outputs": [
        {
          "output_type": "execute_result",
          "data": {
            "text/plain": [
              "8.178368103610282"
            ]
          },
          "metadata": {},
          "execution_count": 13
        }
      ],
      "source": [
        "alpha = 1.0\n",
        "ps = hypos**(-alpha)\n",
        "power = Pmf(ps, hypos, name='power law')\n",
        "power.normalize()"
      ]
    },
    {
      "cell_type": "markdown",
      "metadata": {
        "id": "oZozRsHFl3aQ"
      },
      "source": [
        "For comparison, here's the uniform prior again."
      ]
    },
    {
      "cell_type": "code",
      "execution_count": 14,
      "metadata": {
        "execution": {
          "iopub.execute_input": "2021-04-16T19:35:20.970595Z",
          "iopub.status.busy": "2021-04-16T19:35:20.969882Z",
          "iopub.status.idle": "2021-04-16T19:35:20.972668Z",
          "shell.execute_reply": "2021-04-16T19:35:20.972223Z"
        },
        "id": "ph8NqRFZl3aQ",
        "outputId": "b87e33c8-679f-48e9-de14-27ac625497e5",
        "colab": {
          "base_uri": "https://localhost:8080/"
        }
      },
      "outputs": [
        {
          "output_type": "execute_result",
          "data": {
            "text/plain": [
              "1000"
            ]
          },
          "metadata": {},
          "execution_count": 14
        }
      ],
      "source": [
        "hypos = np.arange(1, 1001)\n",
        "uniform = Pmf(1, hypos, name='uniform')\n",
        "uniform.normalize()"
      ]
    },
    {
      "cell_type": "markdown",
      "metadata": {
        "id": "zZSSfd6Gl3aQ"
      },
      "source": [
        "Here's what a power law prior looks like, compared to the uniform prior:"
      ]
    },
    {
      "cell_type": "code",
      "execution_count": 15,
      "metadata": {
        "execution": {
          "iopub.execute_input": "2021-04-16T19:35:20.993580Z",
          "iopub.status.busy": "2021-04-16T19:35:20.987921Z",
          "iopub.status.idle": "2021-04-16T19:35:21.145573Z",
          "shell.execute_reply": "2021-04-16T19:35:21.145133Z"
        },
        "tags": [],
        "id": "Ozf07oSCl3aQ",
        "outputId": "0a2129c9-0fd8-4e6b-e6a5-68dfa42f9fe7",
        "colab": {
          "base_uri": "https://localhost:8080/",
          "height": 297
        }
      },
      "outputs": [
        {
          "output_type": "display_data",
          "data": {
            "text/plain": [
              "<Figure size 432x288 with 1 Axes>"
            ],
            "image/png": "[encoded data removed]"
          },
          "metadata": {
            "needs_background": "light"
          }
        }
      ],
      "source": [
        "uniform.plot(color='C4')\n",
        "power.plot(color='C1')\n",
        "\n",
        "decorate(xlabel='Number of trains',\n",
        "         ylabel='PMF',\n",
        "         title='Prior distributions')"
      ]
    },
    {
      "cell_type": "markdown",
      "metadata": {
        "id": "Els0QwH0l3aR"
      },
      "source": [
        "Here's the update for both priors."
      ]
    },
    {
      "cell_type": "code",
      "execution_count": 16,
      "metadata": {
        "execution": {
          "iopub.execute_input": "2021-04-16T19:35:21.149556Z",
          "iopub.status.busy": "2021-04-16T19:35:21.148612Z",
          "iopub.status.idle": "2021-04-16T19:35:21.152684Z",
          "shell.execute_reply": "2021-04-16T19:35:21.152290Z"
        },
        "id": "h4sTqBH5l3aR"
      },
      "outputs": [],
      "source": [
        "dataset = [60]\n",
        "update_train(uniform, dataset)\n",
        "update_train(power, dataset)"
      ]
    },
    {
      "cell_type": "markdown",
      "metadata": {
        "id": "KYLlse4dl3aR"
      },
      "source": [
        "And here are the posterior distributions."
      ]
    },
    {
      "cell_type": "code",
      "execution_count": 17,
      "metadata": {
        "execution": {
          "iopub.execute_input": "2021-04-16T19:35:21.168591Z",
          "iopub.status.busy": "2021-04-16T19:35:21.168151Z",
          "iopub.status.idle": "2021-04-16T19:35:21.299407Z",
          "shell.execute_reply": "2021-04-16T19:35:21.299044Z"
        },
        "tags": [],
        "id": "llFdeLSSl3aR",
        "outputId": "4fe98e3b-6546-4c57-d29a-405e88cdd798",
        "colab": {
          "base_uri": "https://localhost:8080/",
          "height": 297
        }
      },
      "outputs": [
        {
          "output_type": "display_data",
          "data": {
            "text/plain": [
              "<Figure size 432x288 with 1 Axes>"
            ],
            "image/png": "[encoded data removed]"
          },
          "metadata": {
            "needs_background": "light"
          }
        }
      ],
      "source": [
        "uniform.plot(color='C4')\n",
        "power.plot(color='C1')\n",
        "\n",
        "decorate(xlabel='Number of trains',\n",
        "         ylabel='PMF',\n",
        "         title='Posterior distributions')"
      ]
    },
    {
      "cell_type": "markdown",
      "metadata": {
        "id": "u8RIynBKl3aR"
      },
      "source": [
        "The power law gives less prior probability to high values, which yields lower posterior means, and less sensitivity to the upper bound.\n",
        "\n",
        "Here's how the posterior means depend on the upper bound when we use a power law prior and observe three trains:"
      ]
    },
    {
      "cell_type": "code",
      "execution_count": 18,
      "metadata": {
        "execution": {
          "iopub.execute_input": "2021-04-16T19:35:21.310454Z",
          "iopub.status.busy": "2021-04-16T19:35:21.308708Z",
          "iopub.status.idle": "2021-04-16T19:35:21.322722Z",
          "shell.execute_reply": "2021-04-16T19:35:21.323129Z"
        },
        "tags": [],
        "id": "go4i_ZdJl3aS",
        "outputId": "cab97e8e-3b59-4ec9-e88b-f0335796c47d",
        "colab": {
          "base_uri": "https://localhost:8080/",
          "height": 175
        }
      },
      "outputs": [
        {
          "output_type": "execute_result",
          "data": {
            "text/plain": [
              "             Posterior mean\n",
              "Upper bound                \n",
              "500              130.708470\n",
              "1000             133.275231\n",
              "2000             133.997463"
            ],
            "text/html": [
              "\n",
              "  <div id=\"df-e9a7d4c1-a706-407f-ab7d-0642cc3b68e0\">\n",
              "    <div class=\"colab-df-container\">\n",
              "      <div>\n",
              "<style scoped>\n",
              "    .dataframe tbody tr th:only-of-type {\n",
              "        vertical-align: middle;\n",
              "    }\n",
              "\n",
              "    .dataframe tbody tr th {\n",
              "        vertical-align: top;\n",
              "    }\n",
              "\n",
              "    .dataframe thead th {\n",
              "        text-align: right;\n",
              "    }\n",
              "</style>\n",
              "<table border=\"1\" class=\"dataframe\">\n",
              "  <thead>\n",
              "    <tr style=\"text-align: right;\">\n",
              "      <th></th>\n",
              "      <th>Posterior mean</th>\n",
              "    </tr>\n",
              "    <tr>\n",
              "      <th>Upper bound</th>\n",
              "      <th></th>\n",
              "    </tr>\n",
              "  </thead>\n",
              "  <tbody>\n",
              "    <tr>\n",
              "      <th>500</th>\n",
              "      <td>130.708470</td>\n",
              "    </tr>\n",
              "    <tr>\n",
              "      <th>1000</th>\n",
              "      <td>133.275231</td>\n",
              "    </tr>\n",
              "    <tr>\n",
              "      <th>2000</th>\n",
              "      <td>133.997463</td>\n",
              "    </tr>\n",
              "  </tbody>\n",
              "</table>\n",
              "</div>\n",
              "      <button class=\"colab-df-convert\" onclick=\"convertToInteractive('df-e9a7d4c1-a706-407f-ab7d-0642cc3b68e0')\"\n",
              "              title=\"Convert this dataframe to an interactive table.\"\n",
              "              style=\"display:none;\">\n",
              "        \n",
              "  <svg xmlns=\"http://www.w3.org/2000/svg\" height=\"24px\"viewBox=\"0 0 24 24\"\n",
              "       width=\"24px\">\n",
              "    <path d=\"M0 0h24v24H0V0z\" fill=\"none\"/>\n",
              "    <path d=\"M18.56 5.44l.94 2.06.94-2.06 2.06-.94-2.06-.94-.94-2.06-.94 2.06-2.06.94zm-11 1L8.5 8.5l.94-2.06 2.06-.94-2.06-.94L8.5 2.5l-.94 2.06-2.06.94zm10 10l.94 2.06.94-2.06 2.06-.94-2.06-.94-.94-2.06-.94 2.06-2.06.94z\"/><path d=\"M17.41 7.96l-1.37-1.37c-.4-.4-.92-.59-1.43-.59-.52 0-1.04.2-1.43.59L10.3 9.45l-7.72 7.72c-.78.78-.78 2.05 0 2.83L4 21.41c.39.39.9.59 1.41.59.51 0 1.02-.2 1.41-.59l7.78-7.78 2.81-2.81c.8-.78.8-2.07 0-2.86zM5.41 20L4 18.59l7.72-7.72 1.47 1.35L5.41 20z\"/>\n",
              "  </svg>\n",
              "      </button>\n",
              "      \n",
              "  <style>\n",
              "    .colab-df-container {\n",
              "      display:flex;\n",
              "      flex-wrap:wrap;\n",
              "      gap: 12px;\n",
              "    }\n",
              "\n",
              "    .colab-df-convert {\n",
              "      background-color: #E8F0FE;\n",
              "      border: none;\n",
              "      border-radius: 50%;\n",
              "      cursor: pointer;\n",
              "      display: none;\n",
              "      fill: #1967D2;\n",
              "      height: 32px;\n",
              "      padding: 0 0 0 0;\n",
              "      width: 32px;\n",
              "    }\n",
              "\n",
              "    .colab-df-convert:hover {\n",
              "      background-color: #E2EBFA;\n",
              "      box-shadow: 0px 1px 2px rgba(60, 64, 67, 0.3), 0px 1px 3px 1px rgba(60, 64, 67, 0.15);\n",
              "      fill: #174EA6;\n",
              "    }\n",
              "\n",
              "    [theme=dark] .colab-df-convert {\n",
              "      background-color: #3B4455;\n",
              "      fill: #D2E3FC;\n",
              "    }\n",
              "\n",
              "    [theme=dark] .colab-df-convert:hover {\n",
              "      background-color: #434B5C;\n",
              "      box-shadow: 0px 1px 3px 1px rgba(0, 0, 0, 0.15);\n",
              "      filter: drop-shadow(0px 1px 2px rgba(0, 0, 0, 0.3));\n",
              "      fill: #FFFFFF;\n",
              "    }\n",
              "  </style>\n",
              "\n",
              "      <script>\n",
              "        const buttonEl =\n",
              "          document.querySelector('#df-e9a7d4c1-a706-407f-ab7d-0642cc3b68e0 button.colab-df-convert');\n",
              "        buttonEl.style.display =\n",
              "          google.colab.kernel.accessAllowed ? 'block' : 'none';\n",
              "\n",
              "        async function convertToInteractive(key) {\n",
              "          const element = document.querySelector('#df-e9a7d4c1-a706-407f-ab7d-0642cc3b68e0');\n",
              "          const dataTable =\n",
              "            await google.colab.kernel.invokeFunction('convertToInteractive',\n",
              "                                                     [key], {});\n",
              "          if (!dataTable) return;\n",
              "\n",
              "          const docLinkHtml = 'Like what you see? Visit the ' +\n",
              "            '<a target=\"_blank\" href=https://colab.research.google.com/notebooks/data_table.ipynb>data table notebook</a>'\n",
              "            + ' to learn more about interactive tables.';\n",
              "          element.innerHTML = '';\n",
              "          dataTable['output_type'] = 'display_data';\n",
              "          await google.colab.output.renderOutput(dataTable, element);\n",
              "          const docLink = document.createElement('div');\n",
              "          docLink.innerHTML = docLinkHtml;\n",
              "          element.appendChild(docLink);\n",
              "        }\n",
              "      </script>\n",
              "    </div>\n",
              "  </div>\n",
              "  "
            ]
          },
          "metadata": {},
          "execution_count": 18
        }
      ],
      "source": [
        "df = pd.DataFrame(columns=['Posterior mean'])\n",
        "df.index.name = 'Upper bound'\n",
        "\n",
        "alpha = 1.0\n",
        "dataset = [30, 60, 90]\n",
        "\n",
        "for high in [500, 1000, 2000]:\n",
        "    hypos = np.arange(1, high+1)\n",
        "    ps = hypos**(-alpha)\n",
        "    power = Pmf(ps, hypos)\n",
        "    for data in dataset:\n",
        "        update_train(power, data)\n",
        "    df.loc[high] = power.mean()\n",
        "    \n",
        "df"
      ]
    },
    {
      "cell_type": "markdown",
      "metadata": {
        "id": "r36RRK1-l3aS"
      },
      "source": [
        "Now the differences are much smaller.  In fact,\n",
        "with an arbitrarily large upper bound, the mean converges on 134.\n",
        "\n",
        "So the power law prior is more realistic, because it is based on\n",
        "general information about the size of companies, and it behaves better in practice."
      ]
    },
    {
      "cell_type": "markdown",
      "metadata": {
        "id": "PvpTwGRBl3aS"
      },
      "source": [
        "## Credible Intervals\n",
        "\n",
        "So far we have seen two ways to summarize a posterior distribution: the value with the highest posterior probability (the MAP) and the posterior mean.\n",
        "These are both **point estimates**, that is, single values that estimate the quantity we are interested in.\n",
        "\n",
        "Another way to summarize a posterior distribution is with percentiles.\n",
        "If you have taken a standardized test, you might be familiar with percentiles.\n",
        "For example, if your score is the 90th percentile, that means you did as well as or better than 90\\% of the people who took the test.\n",
        "\n",
        "If we are given a value, `x`, we can compute its **percentile rank** by finding all values less than or equal to `x` and adding up their probabilities.\n",
        "\n",
        "`Pmf` provides a method that does this computation.\n",
        "So, for example, we can compute the probability that the company has less than or equal to 100 trains:"
      ]
    },
    {
      "cell_type": "code",
      "execution_count": 19,
      "metadata": {
        "execution": {
          "iopub.execute_input": "2021-04-16T19:35:21.326884Z",
          "iopub.status.busy": "2021-04-16T19:35:21.326371Z",
          "iopub.status.idle": "2021-04-16T19:35:21.329117Z",
          "shell.execute_reply": "2021-04-16T19:35:21.328729Z"
        },
        "id": "pVABawqhl3aS",
        "outputId": "473b1d1d-6337-4b15-e5c3-e69e5971bfdb",
        "colab": {
          "base_uri": "https://localhost:8080/"
        }
      },
      "outputs": [
        {
          "output_type": "execute_result",
          "data": {
            "text/plain": [
              "0.2937469222495771"
            ]
          },
          "metadata": {},
          "execution_count": 19
        }
      ],
      "source": [
        "power.prob_le(100)"
      ]
    },
    {
      "cell_type": "markdown",
      "metadata": {
        "id": "1tnrtfUgl3aS"
      },
      "source": [
        "With a power law prior and a dataset of three trains, the result is about 29%.\n",
        "So 100 trains is the 29th percentile.\n",
        "\n",
        "Going the other way, suppose we want to compute a particular percentile; for example, the median of a distribution is the 50th percentile.\n",
        "We can compute it by adding up probabilities until the total exceeds 0.5.\n",
        "Here's a function that does it:"
      ]
    },
    {
      "cell_type": "code",
      "execution_count": 20,
      "metadata": {
        "execution": {
          "iopub.execute_input": "2021-04-16T19:35:21.332553Z",
          "iopub.status.busy": "2021-04-16T19:35:21.332041Z",
          "iopub.status.idle": "2021-04-16T19:35:21.334402Z",
          "shell.execute_reply": "2021-04-16T19:35:21.333955Z"
        },
        "id": "Q0Sn0ugkl3aT"
      },
      "outputs": [],
      "source": [
        "def quantile(pmf, prob):\n",
        "    \"\"\"Compute a quantile with the given prob.\"\"\"\n",
        "    total = 0\n",
        "    for q, p in pmf.items():\n",
        "        total += p\n",
        "        if total >= prob:\n",
        "            return q\n",
        "    return np.nan"
      ]
    },
    {
      "cell_type": "markdown",
      "metadata": {
        "id": "KkgUrIbjl3aT"
      },
      "source": [
        "The loop uses `items`, which iterates the quantities and probabilities in the distribution.\n",
        "Inside the loop we add up the probabilities of the quantities in order.\n",
        "When the total equals or exceeds `prob`, we return the corresponding quantity.\n",
        "\n",
        "This function is called `quantile` because it computes a quantile rather than a percentile.\n",
        "The difference is the way we specify `prob`.\n",
        "If `prob` is a percentage between 0 and 100, we call the corresponding quantity a percentile.\n",
        "If `prob` is a probability between 0 and 1, we call the corresponding quantity a **quantile**.\n",
        "\n",
        "Here's how we can use this function to compute the 50th percentile of the posterior distribution:"
      ]
    },
    {
      "cell_type": "code",
      "execution_count": 21,
      "metadata": {
        "execution": {
          "iopub.execute_input": "2021-04-16T19:35:21.337871Z",
          "iopub.status.busy": "2021-04-16T19:35:21.337255Z",
          "iopub.status.idle": "2021-04-16T19:35:21.340128Z",
          "shell.execute_reply": "2021-04-16T19:35:21.339696Z"
        },
        "id": "3MRXpWbml3aT",
        "outputId": "350aa719-9706-4dcf-8bab-e7a45da744e0",
        "colab": {
          "base_uri": "https://localhost:8080/"
        }
      },
      "outputs": [
        {
          "output_type": "execute_result",
          "data": {
            "text/plain": [
              "113"
            ]
          },
          "metadata": {},
          "execution_count": 21
        }
      ],
      "source": [
        "quantile(power, 0.5)"
      ]
    },
    {
      "cell_type": "markdown",
      "metadata": {
        "id": "DcVj16Z9l3aT"
      },
      "source": [
        "The result, 113 trains, is the median of the posterior distribution.\n",
        "\n",
        "`Pmf` provides a method called `quantile` that does the same thing.\n",
        "We can call it like this to compute the 5th and 95th percentiles:"
      ]
    },
    {
      "cell_type": "code",
      "execution_count": 22,
      "metadata": {
        "execution": {
          "iopub.execute_input": "2021-04-16T19:35:21.344566Z",
          "iopub.status.busy": "2021-04-16T19:35:21.343907Z",
          "iopub.status.idle": "2021-04-16T19:35:21.346263Z",
          "shell.execute_reply": "2021-04-16T19:35:21.346610Z"
        },
        "id": "h2tWL-nrl3aT",
        "outputId": "bc80776d-7b1c-49b0-aaca-57dc5bc4379c",
        "colab": {
          "base_uri": "https://localhost:8080/"
        }
      },
      "outputs": [
        {
          "output_type": "execute_result",
          "data": {
            "text/plain": [
              "array([ 91., 243.])"
            ]
          },
          "metadata": {},
          "execution_count": 22
        }
      ],
      "source": [
        "power.quantile([0.05, 0.95])"
      ]
    },
    {
      "cell_type": "markdown",
      "metadata": {
        "id": "LKjhXH1fl3aU"
      },
      "source": [
        "The result is the interval from 91 to 243 trains, which implies:\n",
        "\n",
        "* The probability is 5% that the number of trains is less than or equal to 91.\n",
        "\n",
        "* The probability is 5% that the number of trains is greater than 243.\n",
        "\n",
        "Therefore the probability is 90% that the number of trains falls between 91 and 243 (excluding 91 and including 243).\n",
        "For this reason, this interval is called a 90% **credible interval**.\n",
        "\n",
        "`Pmf` also provides `credible_interval`, which computes an interval that contains the given probability."
      ]
    },
    {
      "cell_type": "code",
      "execution_count": 23,
      "metadata": {
        "execution": {
          "iopub.execute_input": "2021-04-16T19:35:21.350591Z",
          "iopub.status.busy": "2021-04-16T19:35:21.349787Z",
          "iopub.status.idle": "2021-04-16T19:35:21.353876Z",
          "shell.execute_reply": "2021-04-16T19:35:21.353340Z"
        },
        "id": "gVZ9L4ALl3aU",
        "outputId": "d939a41e-4352-407c-d152-d098509fd701",
        "colab": {
          "base_uri": "https://localhost:8080/"
        }
      },
      "outputs": [
        {
          "output_type": "execute_result",
          "data": {
            "text/plain": [
              "array([ 91., 243.])"
            ]
          },
          "metadata": {},
          "execution_count": 23
        }
      ],
      "source": [
        "power.credible_interval(0.9)"
      ]
    },
    {
      "cell_type": "markdown",
      "metadata": {
        "id": "nejOSCA7l3aU"
      },
      "source": [
        "## The German Tank Problem\n",
        "\n",
        "During World War II, the Economic Warfare Division of the American\n",
        "Embassy in London used statistical analysis to estimate German\n",
        "production of tanks and other equipment.\n",
        "\n",
        "The Western Allies had captured log books, inventories, and repair\n",
        "records that included chassis and engine serial numbers for individual\n",
        "tanks.\n",
        "\n",
        "Analysis of these records indicated that serial numbers were allocated\n",
        "by manufacturer and tank type in blocks of 100 numbers, that numbers\n",
        "in each block were used sequentially, and that not all numbers in each\n",
        "block were used.  So the problem of estimating German tank production\n",
        "could be reduced, within each block of 100 numbers, to a form of the\n",
        "train problem.\n",
        "\n",
        "Based on this insight, American and British analysts produced\n",
        "estimates substantially lower than estimates from other forms\n",
        "of intelligence.  And after the war, records indicated that they were\n",
        "substantially more accurate.\n",
        "\n",
        "They performed similar analyses for tires, trucks, rockets, and other\n",
        "equipment, yielding accurate and actionable economic intelligence.\n",
        "\n",
        "The German tank problem is historically interesting; it is also a nice\n",
        "example of real-world application of statistical estimation.\n",
        "\n",
        "For more on this problem, see [this Wikipedia page](https://en.wikipedia.org/wiki/German_tank_problem) and Ruggles and Brodie, \"An Empirical Approach to Economic Intelligence in World War II\", *Journal of the American Statistical Association*, March 1947, [available here](https://web.archive.org/web/20170123132042/https://www.cia.gov/library/readingroom/docs/CIA-RDP79R01001A001300010013-3.pdf)."
      ]
    },
    {
      "cell_type": "markdown",
      "metadata": {
        "id": "51vJjaXBl3aU"
      },
      "source": [
        "## Informative Priors\n",
        "\n",
        "Among Bayesians, there are two approaches to choosing prior\n",
        "distributions.  Some recommend choosing the prior that best represents\n",
        "background information about the problem; in that case the prior\n",
        "is said to be **informative**.  The problem with using an informative\n",
        "prior is that people might have different information or\n",
        "interpret it differently.  So informative priors might seem arbitrary.\n",
        "\n",
        "The alternative is a so-called **uninformative prior**, which is\n",
        "intended to be as unrestricted as possible, in order to let the data\n",
        "speak for itself.  In some cases you can identify a unique prior\n",
        "that has some desirable property, like representing minimal prior\n",
        "information about the estimated quantity.\n",
        "\n",
        "Uninformative priors are appealing because they seem more\n",
        "objective.  But I am generally in favor of using informative priors.\n",
        "Why?  First, Bayesian analysis is always based on\n",
        "modeling decisions.  Choosing the prior is one of those decisions, but\n",
        "it is not the only one, and it might not even be the most subjective.\n",
        "So even if an uninformative prior is more objective, the entire analysis is still subjective.\n",
        "\n",
        "Also, for most practical problems, you are likely to be in one of two\n",
        "situations: either you have a lot of data or not very much.  If you have a lot of data, the choice of the prior doesn't matter;\n",
        "informative and uninformative priors yield almost the same results.\n",
        "If you don't have much data, using relevant background information (like the power law distribution) makes a big difference.\n",
        "\n",
        "And if, as in the German tank problem, you have to make life and death\n",
        "decisions based on your results, you should probably use all of the\n",
        "information at your disposal, rather than maintaining the illusion of\n",
        "objectivity by pretending to know less than you do."
      ]
    },
    {
      "cell_type": "markdown",
      "metadata": {
        "id": "qFPTiRM9l3aV"
      },
      "source": [
        "## Summary\n",
        "\n",
        "This chapter introduces the train problem, which turns out to have the same likelihood function as the dice problem, and which can be applied to the German Tank problem.\n",
        "In all of these examples, the goal is to estimate a count, or the size of a population.\n",
        "\n",
        "In the next chapter, I'll introduce \"odds\" as an alternative to probabilities, and Bayes's Rule as an alternative form of Bayes's Theorem.\n",
        "We'll compute distributions of sums and products, and use them to estimate the number of Members of Congress who are corrupt, among other problems.\n",
        "\n",
        "But first, you might want to work on these exercises."
      ]
    },
    {
      "cell_type": "markdown",
      "metadata": {
        "id": "Rv3LZH-Wl3aV"
      },
      "source": [
        "## Exercises"
      ]
    },
    {
      "cell_type": "markdown",
      "metadata": {
        "id": "Mly7TGqhl3aV"
      },
      "source": [
        "**Exercise:** Suppose you are giving a talk in a large lecture hall and the fire marshal interrupts because they think the audience exceeds 1200 people, which is the safe capacity of the room. \n",
        "\n",
        "You think there are fewer then 1200 people, and you offer to prove it.\n",
        "It would take too long to count, so you try an experiment:\n",
        "\n",
        "* You ask how many people were born on May 11 and two people raise their hands.  \n",
        "\n",
        "* You ask how many were born on May 23 and 1 person raises their hand.  \n",
        "* Finally, you ask how many were born on August 1, and no one raises their hand.\n",
        "\n",
        "How many people are in the audience?  What is the probability that there are more than 1200 people.\n",
        "Hint: Remember the binomial distribution."
      ]
    },
    {
      "cell_type": "code",
      "execution_count": 24,
      "metadata": {
        "execution": {
          "iopub.execute_input": "2021-04-16T19:35:21.359329Z",
          "iopub.status.busy": "2021-04-16T19:35:21.358751Z",
          "iopub.status.idle": "2021-04-16T19:35:21.363183Z",
          "shell.execute_reply": "2021-04-16T19:35:21.363696Z"
        },
        "id": "bQYQHmv2l3aV",
        "outputId": "b041546d-1372-4931-8384-228ca5371d79",
        "colab": {
          "base_uri": "https://localhost:8080/"
        }
      },
      "outputs": [
        {
          "output_type": "execute_result",
          "data": {
            "text/plain": [
              "200"
            ]
          },
          "metadata": {},
          "execution_count": 24
        }
      ],
      "source": [
        "# Solution goes here\n",
        "\n",
        "# I'll use a uniform prior from 1 to 2000\n",
        "# (we'll see that the probability is small that there are\n",
        "# more than 2000 people in the room)\n",
        "\n",
        "hypos = np.arange(1, 2000, 10)\n",
        "prior = Pmf(1, hypos)\n",
        "prior.normalize()"
      ]
    },
    {
      "cell_type": "code",
      "execution_count": 25,
      "metadata": {
        "execution": {
          "iopub.execute_input": "2021-04-16T19:35:21.370055Z",
          "iopub.status.busy": "2021-04-16T19:35:21.369426Z",
          "iopub.status.idle": "2021-04-16T19:35:21.371847Z",
          "shell.execute_reply": "2021-04-16T19:35:21.372439Z"
        },
        "id": "eYyEiKRgl3aV"
      },
      "outputs": [],
      "source": [
        "# Solution goes here\n",
        "\n",
        "# We can use the binomial distribution to compute the probability\n",
        "# of the data for each hypothetical audience size\n",
        "\n",
        "from scipy.stats import binom\n",
        "\n",
        "likelihood1 = binom.pmf(2, hypos, 1/365)\n",
        "likelihood2 = binom.pmf(1, hypos, 1/365)\n",
        "likelihood3 = binom.pmf(0, hypos, 1/365)"
      ]
    },
    {
      "cell_type": "code",
      "execution_count": 26,
      "metadata": {
        "execution": {
          "iopub.execute_input": "2021-04-16T19:35:21.380246Z",
          "iopub.status.busy": "2021-04-16T19:35:21.379424Z",
          "iopub.status.idle": "2021-04-16T19:35:21.382846Z",
          "shell.execute_reply": "2021-04-16T19:35:21.383434Z"
        },
        "id": "z5Wp_ksql3aX",
        "outputId": "51fd0817-3d71-4ab2-8905-e9d50ea4cc35",
        "colab": {
          "base_uri": "https://localhost:8080/"
        }
      },
      "outputs": [
        {
          "output_type": "execute_result",
          "data": {
            "text/plain": [
              "0.006758799800451577"
            ]
          },
          "metadata": {},
          "execution_count": 26
        }
      ],
      "source": [
        "# Solution goes here\n",
        "\n",
        "# Here's the update\n",
        "\n",
        "posterior = prior * likelihood1 * likelihood2 * likelihood3\n",
        "posterior.normalize()"
      ]
    },
    {
      "cell_type": "code",
      "execution_count": 27,
      "metadata": {
        "execution": {
          "iopub.execute_input": "2021-04-16T19:35:21.406019Z",
          "iopub.status.busy": "2021-04-16T19:35:21.400248Z",
          "iopub.status.idle": "2021-04-16T19:35:21.545515Z",
          "shell.execute_reply": "2021-04-16T19:35:21.545140Z"
        },
        "id": "xA3xmV7Vl3aX",
        "outputId": "d2112d60-5384-4994-ec63-975e177a6951",
        "colab": {
          "base_uri": "https://localhost:8080/",
          "height": 297
        }
      },
      "outputs": [
        {
          "output_type": "display_data",
          "data": {
            "text/plain": [
              "<Figure size 432x288 with 1 Axes>"
            ],
            "image/png": "[encoded data removed]"
          },
          "metadata": {
            "needs_background": "light"
          }
        }
      ],
      "source": [
        "# Solution goes here\n",
        "\n",
        "# And here's the posterior distribution\n",
        "\n",
        "posterior.plot(color='C4', label='posterior')\n",
        "decorate(xlabel='Number of people in the audience',\n",
        "         ylabel='PMF')"
      ]
    },
    {
      "cell_type": "code",
      "execution_count": 28,
      "metadata": {
        "execution": {
          "iopub.execute_input": "2021-04-16T19:35:21.548960Z",
          "iopub.status.busy": "2021-04-16T19:35:21.548544Z",
          "iopub.status.idle": "2021-04-16T19:35:21.553168Z",
          "shell.execute_reply": "2021-04-16T19:35:21.552768Z"
        },
        "id": "1AFLU7Cjl3aX",
        "outputId": "1ff7f271-92a9-4f8d-f854-33f4c6722ab8",
        "colab": {
          "base_uri": "https://localhost:8080/"
        }
      },
      "outputs": [
        {
          "output_type": "execute_result",
          "data": {
            "text/plain": [
              "486.2255161687297"
            ]
          },
          "metadata": {},
          "execution_count": 28
        }
      ],
      "source": [
        "# Solution goes here\n",
        "\n",
        "# If we have to guess the audience size,\n",
        "# we might use the posterior mean\n",
        "\n",
        "posterior.mean()"
      ]
    },
    {
      "cell_type": "code",
      "execution_count": 29,
      "metadata": {
        "execution": {
          "iopub.execute_input": "2021-04-16T19:35:21.557382Z",
          "iopub.status.busy": "2021-04-16T19:35:21.556868Z",
          "iopub.status.idle": "2021-04-16T19:35:21.560089Z",
          "shell.execute_reply": "2021-04-16T19:35:21.560441Z"
        },
        "id": "1K_QYGU1l3aX",
        "outputId": "348da1f3-f4ef-4977-f439-de566a0bde1d",
        "colab": {
          "base_uri": "https://localhost:8080/"
        }
      },
      "outputs": [
        {
          "output_type": "execute_result",
          "data": {
            "text/plain": [
              "0.011543092507705329"
            ]
          },
          "metadata": {},
          "execution_count": 29
        }
      ],
      "source": [
        "# Solution goes here\n",
        "\n",
        "# And we can use prob_gt to compute the probability\n",
        "# of exceeding the capacity of the room.\n",
        "\n",
        "# It's about 1%, which may or may not satisfy the fire marshal\n",
        "\n",
        "posterior.prob_gt(1200)"
      ]
    },
    {
      "cell_type": "markdown",
      "metadata": {
        "id": "V8sDqcPJl3aY"
      },
      "source": [
        "**Exercise:** I often see [rabbits](https://en.wikipedia.org/wiki/Eastern_cottontail) in the garden behind my house, but it's not easy to tell them apart, so I don't really know how many there are.\n",
        "\n",
        "Suppose I deploy a motion-sensing [camera trap](https://en.wikipedia.org/wiki/Camera_trap) that takes a picture of the first rabbit it sees each day.  After three days, I compare the pictures and conclude that two of them are the same rabbit and the other is different.\n",
        "\n",
        "How many rabbits visit my garden?\n",
        "\n",
        "To answer this question, we have to think about the prior distribution and the likelihood of the data:\n",
        "\n",
        "* I have sometimes seen four rabbits at the same time, so I know there are at least that many.  I would be surprised if there were more than 10.  So, at least as a starting place, I think a uniform prior from 4 to 10 is reasonable.\n",
        "\n",
        "* To keep things simple, let's assume that all rabbits who visit my garden are equally likely to be caught by the camera trap in a given day.  Let's also assume it is guaranteed that the camera trap gets a picture every day."
      ]
    },
    {
      "cell_type": "code",
      "execution_count": 30,
      "metadata": {
        "execution": {
          "iopub.execute_input": "2021-04-16T19:35:21.563963Z",
          "iopub.status.busy": "2021-04-16T19:35:21.563510Z",
          "iopub.status.idle": "2021-04-16T19:35:21.565271Z",
          "shell.execute_reply": "2021-04-16T19:35:21.565631Z"
        },
        "id": "3_BS2qDYl3aY"
      },
      "outputs": [],
      "source": [
        "# Solution goes here\n",
        "\n",
        "\n",
        "hypos = np.arange(4, 11)\n",
        "prior = Pmf(1, hypos)"
      ]
    },
    {
      "cell_type": "code",
      "execution_count": 31,
      "metadata": {
        "execution": {
          "iopub.execute_input": "2021-04-16T19:35:21.568713Z",
          "iopub.status.busy": "2021-04-16T19:35:21.568291Z",
          "iopub.status.idle": "2021-04-16T19:35:21.570022Z",
          "shell.execute_reply": "2021-04-16T19:35:21.570340Z"
        },
        "id": "sQhY9w_Ll3aY"
      },
      "outputs": [],
      "source": [
        "# Solution goes here\n",
        "\n",
        "\n",
        "# The probability that the second rabbit is the same as the first is 1/N\n",
        "# The probability that the third rabbit is different is (N-1)/N\n",
        "\n",
        "N = hypos\n",
        "likelihood = (N-1) / N**2"
      ]
    },
    {
      "cell_type": "code",
      "execution_count": 32,
      "metadata": {
        "execution": {
          "iopub.execute_input": "2021-04-16T19:35:21.594482Z",
          "iopub.status.busy": "2021-04-16T19:35:21.590147Z",
          "iopub.status.idle": "2021-04-16T19:35:21.735651Z",
          "shell.execute_reply": "2021-04-16T19:35:21.735296Z"
        },
        "id": "phN2c6_yl3aY",
        "outputId": "17309bbd-f2c1-4240-88a0-f76d8dd59d1c",
        "colab": {
          "base_uri": "https://localhost:8080/",
          "height": 297
        }
      },
      "outputs": [
        {
          "output_type": "display_data",
          "data": {
            "text/plain": [
              "<Figure size 432x288 with 1 Axes>"
            ],
            "image/png": "[encoded data removed]"
          },
          "metadata": {
            "needs_background": "light"
          }
        }
      ],
      "source": [
        "# Solution goes here\n",
        "\n",
        "posterior = prior * likelihood\n",
        "posterior.normalize()\n",
        "\n",
        "posterior.bar(alpha=0.7)\n",
        "decorate(xlabel='Number of rabbits',\n",
        "         ylabel='PMF',\n",
        "         title='The Rabbit Problem')"
      ]
    },
    {
      "cell_type": "markdown",
      "metadata": {
        "id": "ckOnHEVgl3aY"
      },
      "source": [
        "**Exercise:** Suppose that in the criminal justice system, all prison sentences are either 1, 2, or 3 years, with an equal number of each.  One day, you visit a prison and choose a prisoner at random.  What is the probability that they are serving a 3-year sentence?  What is the average remaining sentence of the prisoners you observe?"
      ]
    },
    {
      "cell_type": "code",
      "execution_count": 33,
      "metadata": {
        "execution": {
          "iopub.execute_input": "2021-04-16T19:35:21.741573Z",
          "iopub.status.busy": "2021-04-16T19:35:21.741016Z",
          "iopub.status.idle": "2021-04-16T19:35:21.743433Z",
          "shell.execute_reply": "2021-04-16T19:35:21.743783Z"
        },
        "id": "077wVpntl3aY",
        "outputId": "00fb1b99-6e43-4f48-d6eb-76996d4fa39a",
        "colab": {
          "base_uri": "https://localhost:8080/",
          "height": 143
        }
      },
      "outputs": [
        {
          "output_type": "execute_result",
          "data": {
            "text/plain": [
              "1    0.333333\n",
              "2    0.333333\n",
              "3    0.333333\n",
              "Name: , dtype: float64"
            ],
            "text/html": [
              "<div>\n",
              "<style scoped>\n",
              "    .dataframe tbody tr th:only-of-type {\n",
              "        vertical-align: middle;\n",
              "    }\n",
              "\n",
              "    .dataframe tbody tr th {\n",
              "        vertical-align: top;\n",
              "    }\n",
              "\n",
              "    .dataframe thead th {\n",
              "        text-align: right;\n",
              "    }\n",
              "</style>\n",
              "<table border=\"1\" class=\"dataframe\">\n",
              "  <thead>\n",
              "    <tr style=\"text-align: right;\">\n",
              "      <th></th>\n",
              "      <th>probs</th>\n",
              "    </tr>\n",
              "  </thead>\n",
              "  <tbody>\n",
              "    <tr>\n",
              "      <th>1</th>\n",
              "      <td>0.333333</td>\n",
              "    </tr>\n",
              "    <tr>\n",
              "      <th>2</th>\n",
              "      <td>0.333333</td>\n",
              "    </tr>\n",
              "    <tr>\n",
              "      <th>3</th>\n",
              "      <td>0.333333</td>\n",
              "    </tr>\n",
              "  </tbody>\n",
              "</table>\n",
              "</div>"
            ]
          },
          "metadata": {},
          "execution_count": 33
        }
      ],
      "source": [
        "# Solution goes here\n",
        "\n",
        "# Here's the prior distribution of sentences\n",
        "\n",
        "hypos = np.arange(1, 4)\n",
        "prior = Pmf(1/3, hypos)\n",
        "prior"
      ]
    },
    {
      "cell_type": "code",
      "execution_count": 34,
      "metadata": {
        "execution": {
          "iopub.execute_input": "2021-04-16T19:35:21.750272Z",
          "iopub.status.busy": "2021-04-16T19:35:21.749630Z",
          "iopub.status.idle": "2021-04-16T19:35:21.752134Z",
          "shell.execute_reply": "2021-04-16T19:35:21.752482Z"
        },
        "id": "gLevBdLMl3aZ",
        "outputId": "0aa7ebd6-c374-4522-f470-01f6548920ba",
        "colab": {
          "base_uri": "https://localhost:8080/",
          "height": 143
        }
      },
      "outputs": [
        {
          "output_type": "execute_result",
          "data": {
            "text/plain": [
              "1    0.166667\n",
              "2    0.333333\n",
              "3    0.500000\n",
              "Name: , dtype: float64"
            ],
            "text/html": [
              "<div>\n",
              "<style scoped>\n",
              "    .dataframe tbody tr th:only-of-type {\n",
              "        vertical-align: middle;\n",
              "    }\n",
              "\n",
              "    .dataframe tbody tr th {\n",
              "        vertical-align: top;\n",
              "    }\n",
              "\n",
              "    .dataframe thead th {\n",
              "        text-align: right;\n",
              "    }\n",
              "</style>\n",
              "<table border=\"1\" class=\"dataframe\">\n",
              "  <thead>\n",
              "    <tr style=\"text-align: right;\">\n",
              "      <th></th>\n",
              "      <th>probs</th>\n",
              "    </tr>\n",
              "  </thead>\n",
              "  <tbody>\n",
              "    <tr>\n",
              "      <th>1</th>\n",
              "      <td>0.166667</td>\n",
              "    </tr>\n",
              "    <tr>\n",
              "      <th>2</th>\n",
              "      <td>0.333333</td>\n",
              "    </tr>\n",
              "    <tr>\n",
              "      <th>3</th>\n",
              "      <td>0.500000</td>\n",
              "    </tr>\n",
              "  </tbody>\n",
              "</table>\n",
              "</div>"
            ]
          },
          "metadata": {},
          "execution_count": 34
        }
      ],
      "source": [
        "# Solution goes here\n",
        "\n",
        "\n",
        "# If you visit a prison at a random point in time,\n",
        "# the probability of observing any given prisoner\n",
        "# is proportional to the duration of their sentence.\n",
        "\n",
        "likelihood = hypos\n",
        "posterior = prior * likelihood\n",
        "posterior.normalize()\n",
        "posterior"
      ]
    },
    {
      "cell_type": "code",
      "execution_count": 35,
      "metadata": {
        "execution": {
          "iopub.execute_input": "2021-04-16T19:35:21.756049Z",
          "iopub.status.busy": "2021-04-16T19:35:21.755543Z",
          "iopub.status.idle": "2021-04-16T19:35:21.758197Z",
          "shell.execute_reply": "2021-04-16T19:35:21.757838Z"
        },
        "id": "H6XrjmlKl3aZ",
        "outputId": "009cb645-ba33-4aaf-b1de-9ca17cf7ebdb",
        "colab": {
          "base_uri": "https://localhost:8080/"
        }
      },
      "outputs": [
        {
          "output_type": "execute_result",
          "data": {
            "text/plain": [
              "1.1666666666666665"
            ]
          },
          "metadata": {},
          "execution_count": 35
        }
      ],
      "source": [
        "# Solution goes here\n",
        "\n",
        "# The mean of the posterior is the average sentence.\n",
        "# We can divide by 2 to get the average remaining sentence.\n",
        "\n",
        "posterior.mean() / 2"
      ]
    },
    {
      "cell_type": "markdown",
      "metadata": {
        "id": "grPaZZX1l3aZ"
      },
      "source": [
        "**Exercise:** If I chose a random adult in the U.S., what is the probability that they have a sibling?  To be precise, what is the probability that their mother has had at least one other child.\n",
        "\n",
        "[This article from the Pew Research Center](https://www.pewsocialtrends.org/2015/05/07/family-size-among-mothers/) provides some relevant data.  "
      ]
    },
    {
      "cell_type": "markdown",
      "metadata": {
        "tags": [],
        "id": "qIWSanQDl3aZ"
      },
      "source": [
        "From it, I extracted the following distribution of family size for mothers in the U.S. who were 40-44 years old in 2014:"
      ]
    },
    {
      "cell_type": "code",
      "execution_count": 36,
      "metadata": {
        "execution": {
          "iopub.execute_input": "2021-04-16T19:35:21.774819Z",
          "iopub.status.busy": "2021-04-16T19:35:21.773579Z",
          "iopub.status.idle": "2021-04-16T19:35:21.902764Z",
          "shell.execute_reply": "2021-04-16T19:35:21.903248Z"
        },
        "tags": [],
        "id": "znO573sxl3aZ",
        "outputId": "83bd1027-c475-49ca-d666-a66559a1ae1e",
        "colab": {
          "base_uri": "https://localhost:8080/",
          "height": 297
        }
      },
      "outputs": [
        {
          "output_type": "display_data",
          "data": {
            "text/plain": [
              "<Figure size 432x288 with 1 Axes>"
            ],
            "image/png": "[encoded data removed]"
          },
          "metadata": {
            "needs_background": "light"
          }
        }
      ],
      "source": [
        "import matplotlib.pyplot as plt\n",
        "\n",
        "qs = [1, 2, 3, 4]\n",
        "ps = [22, 41, 24, 14]\n",
        "prior = Pmf(ps, qs)\n",
        "prior.bar(alpha=0.7)\n",
        "\n",
        "plt.xticks(qs, ['1 child', '2 children', '3 children', '4+ children'])\n",
        "decorate(ylabel='PMF',\n",
        "         title='Distribution of family size')"
      ]
    },
    {
      "cell_type": "markdown",
      "metadata": {
        "tags": [],
        "id": "tncfdw2vl3aZ"
      },
      "source": [
        "For simplicity, let's assume that all families in the 4+ category have exactly 4 children."
      ]
    },
    {
      "cell_type": "code",
      "execution_count": 37,
      "metadata": {
        "execution": {
          "iopub.execute_input": "2021-04-16T19:35:21.911850Z",
          "iopub.status.busy": "2021-04-16T19:35:21.911271Z",
          "iopub.status.idle": "2021-04-16T19:35:21.916004Z",
          "shell.execute_reply": "2021-04-16T19:35:21.916486Z"
        },
        "id": "CcSCDInIl3aa",
        "outputId": "c300acbb-0df8-4d75-8d5d-bfa40b567b0a",
        "colab": {
          "base_uri": "https://localhost:8080/",
          "height": 175
        }
      },
      "outputs": [
        {
          "output_type": "execute_result",
          "data": {
            "text/plain": [
              "1    0.094828\n",
              "2    0.353448\n",
              "3    0.310345\n",
              "4    0.241379\n",
              "Name: , dtype: float64"
            ],
            "text/html": [
              "<div>\n",
              "<style scoped>\n",
              "    .dataframe tbody tr th:only-of-type {\n",
              "        vertical-align: middle;\n",
              "    }\n",
              "\n",
              "    .dataframe tbody tr th {\n",
              "        vertical-align: top;\n",
              "    }\n",
              "\n",
              "    .dataframe thead th {\n",
              "        text-align: right;\n",
              "    }\n",
              "</style>\n",
              "<table border=\"1\" class=\"dataframe\">\n",
              "  <thead>\n",
              "    <tr style=\"text-align: right;\">\n",
              "      <th></th>\n",
              "      <th>probs</th>\n",
              "    </tr>\n",
              "  </thead>\n",
              "  <tbody>\n",
              "    <tr>\n",
              "      <th>1</th>\n",
              "      <td>0.094828</td>\n",
              "    </tr>\n",
              "    <tr>\n",
              "      <th>2</th>\n",
              "      <td>0.353448</td>\n",
              "    </tr>\n",
              "    <tr>\n",
              "      <th>3</th>\n",
              "      <td>0.310345</td>\n",
              "    </tr>\n",
              "    <tr>\n",
              "      <th>4</th>\n",
              "      <td>0.241379</td>\n",
              "    </tr>\n",
              "  </tbody>\n",
              "</table>\n",
              "</div>"
            ]
          },
          "metadata": {},
          "execution_count": 37
        }
      ],
      "source": [
        "# Solution goes here\n",
        "\n",
        "# When you choose a person a random, you are more likely to get someone\n",
        "# from a bigger family; in fact, the chance of choosing someone from\n",
        "# any given family is proportional to the number of children\n",
        "\n",
        "likelihood = qs\n",
        "posterior = prior * likelihood\n",
        "posterior.normalize()\n",
        "posterior"
      ]
    },
    {
      "cell_type": "code",
      "execution_count": 38,
      "metadata": {
        "execution": {
          "iopub.execute_input": "2021-04-16T19:35:21.920242Z",
          "iopub.status.busy": "2021-04-16T19:35:21.919748Z",
          "iopub.status.idle": "2021-04-16T19:35:21.922344Z",
          "shell.execute_reply": "2021-04-16T19:35:21.921990Z"
        },
        "id": "r6REo7w7l3aa",
        "outputId": "8cf2511c-989c-4177-e905-eb6d31b2d7df",
        "colab": {
          "base_uri": "https://localhost:8080/"
        }
      },
      "outputs": [
        {
          "output_type": "execute_result",
          "data": {
            "text/plain": [
              "0.9051724137931034"
            ]
          },
          "metadata": {},
          "execution_count": 38
        }
      ],
      "source": [
        "# Solution goes here\n",
        "\n",
        "\n",
        "# The probability that they have a sibling is the probability\n",
        "# that they do not come from a family of 1 \n",
        "\n",
        "1 - posterior[1]"
      ]
    },
    {
      "cell_type": "code",
      "execution_count": 39,
      "metadata": {
        "execution": {
          "iopub.execute_input": "2021-04-16T19:35:21.926250Z",
          "iopub.status.busy": "2021-04-16T19:35:21.925631Z",
          "iopub.status.idle": "2021-04-16T19:35:21.928050Z",
          "shell.execute_reply": "2021-04-16T19:35:21.928401Z"
        },
        "id": "R3ZRaE2Kl3ab",
        "outputId": "a25571c6-2094-45e9-e32e-af61df319ca4",
        "colab": {
          "base_uri": "https://localhost:8080/"
        }
      },
      "outputs": [
        {
          "output_type": "execute_result",
          "data": {
            "text/plain": [
              "0.9051724137931034"
            ]
          },
          "metadata": {},
          "execution_count": 39
        }
      ],
      "source": [
        "# Solution goes here\n",
        "\n",
        "# Or we could use prob_gt again\n",
        "\n",
        "posterior.prob_gt(1)"
      ]
    },
    {
      "cell_type": "markdown",
      "metadata": {
        "id": "_ogt95-Al3ab"
      },
      "source": [
        "**Exercise:** The [Doomsday argument](https://en.wikipedia.org/wiki/Doomsday_argument) is \"a probabilistic argument that claims to predict the number of future members of the human species given an estimate of the total number of humans born so far.\"\n",
        "\n",
        "Suppose there are only two kinds of intelligent civilizations that can happen in the universe.  The \"short-lived\" kind go exinct after only 200 billion individuals are born.  The \"long-lived\" kind survive until 2,000 billion individuals are born.\n",
        "And suppose that the two kinds of civilization are equally likely.\n",
        "Which kind of civilization do you think we live in?  \n",
        "\n",
        "The Doomsday argument says we can use the total number of humans born so far as data.\n",
        "According to the [Population Reference Bureau](https://www.prb.org/howmanypeoplehaveeverlivedonearth/), the total number of people who have ever lived is about 108 billion.\n",
        "\n",
        "Since you were born quite recently, let's assume that you are, in fact, human being number 108 billion.\n",
        "If $N$ is the total number who will ever live and we consider you to be a randomly-chosen person, it is equally likely that you could have been person 1, or $N$, or any number in between.\n",
        "So what is the probability that you would be number 108 billion?\n",
        "\n",
        "Given this data and dubious prior, what is the probability that our civilization will be short-lived?"
      ]
    },
    {
      "cell_type": "code",
      "execution_count": 40,
      "metadata": {
        "execution": {
          "iopub.execute_input": "2021-04-16T19:35:21.931981Z",
          "iopub.status.busy": "2021-04-16T19:35:21.931530Z",
          "iopub.status.idle": "2021-04-16T19:35:21.933115Z",
          "shell.execute_reply": "2021-04-16T19:35:21.933463Z"
        },
        "id": "pxXy232Ml3ab"
      },
      "outputs": [],
      "source": [
        "# Solution goes here\n",
        "\n",
        "hypos = [200, 2000]\n",
        "prior = Pmf(1, hypos)"
      ]
    },
    {
      "cell_type": "code",
      "execution_count": 41,
      "metadata": {
        "execution": {
          "iopub.execute_input": "2021-04-16T19:35:21.940200Z",
          "iopub.status.busy": "2021-04-16T19:35:21.939749Z",
          "iopub.status.idle": "2021-04-16T19:35:21.942386Z",
          "shell.execute_reply": "2021-04-16T19:35:21.942831Z"
        },
        "id": "ATq_U3m1l3ab",
        "outputId": "4bcf478f-ad25-4766-99f9-c7df50c30658",
        "colab": {
          "base_uri": "https://localhost:8080/",
          "height": 112
        }
      },
      "outputs": [
        {
          "output_type": "execute_result",
          "data": {
            "text/plain": [
              "200     0.909091\n",
              "2000    0.090909\n",
              "Name: , dtype: float64"
            ],
            "text/html": [
              "<div>\n",
              "<style scoped>\n",
              "    .dataframe tbody tr th:only-of-type {\n",
              "        vertical-align: middle;\n",
              "    }\n",
              "\n",
              "    .dataframe tbody tr th {\n",
              "        vertical-align: top;\n",
              "    }\n",
              "\n",
              "    .dataframe thead th {\n",
              "        text-align: right;\n",
              "    }\n",
              "</style>\n",
              "<table border=\"1\" class=\"dataframe\">\n",
              "  <thead>\n",
              "    <tr style=\"text-align: right;\">\n",
              "      <th></th>\n",
              "      <th>probs</th>\n",
              "    </tr>\n",
              "  </thead>\n",
              "  <tbody>\n",
              "    <tr>\n",
              "      <th>200</th>\n",
              "      <td>0.909091</td>\n",
              "    </tr>\n",
              "    <tr>\n",
              "      <th>2000</th>\n",
              "      <td>0.090909</td>\n",
              "    </tr>\n",
              "  </tbody>\n",
              "</table>\n",
              "</div>"
            ]
          },
          "metadata": {},
          "execution_count": 41
        }
      ],
      "source": [
        "# Solution goes here\n",
        "\n",
        "likelihood = 1/prior.qs\n",
        "posterior = prior * likelihood\n",
        "posterior.normalize()\n",
        "posterior"
      ]
    },
    {
      "cell_type": "code",
      "execution_count": 42,
      "metadata": {
        "execution": {
          "iopub.execute_input": "2021-04-16T19:35:21.946847Z",
          "iopub.status.busy": "2021-04-16T19:35:21.946057Z",
          "iopub.status.idle": "2021-04-16T19:35:21.948588Z",
          "shell.execute_reply": "2021-04-16T19:35:21.948054Z"
        },
        "id": "pWM5Qjjll3ab"
      },
      "outputs": [],
      "source": [
        "# Solution goes here\n",
        "\n",
        "# According to this analysis, the probability is about 91% that our \n",
        "# civilization will be short-lived.  \n",
        "# But this conclusion is based on a dubious prior.\n",
        "\n",
        "# And with so little data, the posterior depends strongly on the prior.  \n",
        "# To see that, run this analysis again with a different prior, \n",
        "# and see what the results look like.\n",
        "\n",
        "# What do you think of the Doomsday argument?"
      ]
    },
    {
      "cell_type": "code",
      "execution_count": 42,
      "metadata": {
        "id": "j0VPnYD8l3ab"
      },
      "outputs": [],
      "source": []
    }
  ],
  "metadata": {
    "celltoolbar": "Tags",
    "kernelspec": {
      "display_name": "Python 3",
      "language": "python",
      "name": "python3"
    },
    "language_info": {
      "codemirror_mode": {
        "name": "ipython",
        "version": 3
      },
      "file_extension": ".py",
      "mimetype": "text/x-python",
      "name": "python",
      "nbconvert_exporter": "python",
      "pygments_lexer": "ipython3",
      "version": "3.8.8"
    },
    "colab": {
      "provenance": []
    }
  },
  "nbformat": 4,
  "nbformat_minor": 0
}