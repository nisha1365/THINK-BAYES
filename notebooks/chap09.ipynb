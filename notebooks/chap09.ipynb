{
  "cells": [
    {
      "cell_type": "markdown",
      "metadata": {
        "id": "HGL7N-Ca13ML"
      },
      "source": [
        "# Decision Analysis"
      ]
    },
    {
      "cell_type": "code",
      "execution_count": 1,
      "metadata": {
        "execution": {
          "iopub.execute_input": "2021-04-16T19:35:41.807708Z",
          "iopub.status.busy": "2021-04-16T19:35:41.807149Z",
          "iopub.status.idle": "2021-04-16T19:35:41.810352Z",
          "shell.execute_reply": "2021-04-16T19:35:41.809718Z"
        },
        "tags": [],
        "id": "5KUkytB513MP",
        "outputId": "0ec9188c-9281-4e39-ffdd-bd78c54449f0",
        "colab": {
          "base_uri": "https://localhost:8080/"
        }
      },
      "outputs": [
        {
          "output_type": "stream",
          "name": "stdout",
          "text": [
            "Looking in indexes: https://pypi.org/simple, https://us-python.pkg.dev/colab-wheels/public/simple/\n",
            "Collecting empiricaldist\n",
            "  Downloading empiricaldist-0.6.8.tar.gz (12 kB)\n",
            "  Installing build dependencies ... \u001b[?25l\u001b[?25hdone\n",
            "  Getting requirements to build wheel ... \u001b[?25l\u001b[?25hdone\n",
            "  Preparing metadata (pyproject.toml) ... \u001b[?25l\u001b[?25hdone\n",
            "Building wheels for collected packages: empiricaldist\n",
            "  Building wheel for empiricaldist (pyproject.toml) ... \u001b[?25l\u001b[?25hdone\n",
            "  Created wheel for empiricaldist: filename=empiricaldist-0.6.8-py3-none-any.whl size=12125 sha256=fb3096385cc27dc2cf7a3b59ce76d109bbe93fb642d4d73cd0977942abcecd37\n",
            "  Stored in directory: /root/.cache/pip/wheels/c2/3f/cf/74b5adbcea4efaae43ce168e622e3eb8dbc1251d5d730dd245\n",
            "Successfully built empiricaldist\n",
            "Installing collected packages: empiricaldist\n",
            "Successfully installed empiricaldist-0.6.8\n"
          ]
        }
      ],
      "source": [
        "# If we're running on Colab, install empiricaldist\n",
        "# https://pypi.org/project/empiricaldist/\n",
        "\n",
        "import sys\n",
        "IN_COLAB = 'google.colab' in sys.modules\n",
        "\n",
        "if IN_COLAB:\n",
        "    !pip install empiricaldist"
      ]
    },
    {
      "cell_type": "code",
      "execution_count": 2,
      "metadata": {
        "execution": {
          "iopub.execute_input": "2021-04-16T19:35:41.814888Z",
          "iopub.status.busy": "2021-04-16T19:35:41.814343Z",
          "iopub.status.idle": "2021-04-16T19:35:41.816295Z",
          "shell.execute_reply": "2021-04-16T19:35:41.816736Z"
        },
        "tags": [],
        "id": "C_nUzHxe13MP",
        "outputId": "972fe9b4-36a0-4f99-b18d-0d9fd30ceabe",
        "colab": {
          "base_uri": "https://localhost:8080/"
        }
      },
      "outputs": [
        {
          "output_type": "stream",
          "name": "stdout",
          "text": [
            "Downloaded utils.py\n"
          ]
        }
      ],
      "source": [
        "# Get utils.py\n",
        "\n",
        "from os.path import basename, exists\n",
        "\n",
        "def download(url):\n",
        "    filename = basename(url)\n",
        "    if not exists(filename):\n",
        "        from urllib.request import urlretrieve\n",
        "        local, _ = urlretrieve(url, filename)\n",
        "        print('Downloaded ' + local)\n",
        "    \n",
        "download('https://github.com/AllenDowney/ThinkBayes2/raw/master/soln/utils.py')"
      ]
    },
    {
      "cell_type": "code",
      "execution_count": 3,
      "metadata": {
        "execution": {
          "iopub.execute_input": "2021-04-16T19:35:41.820085Z",
          "iopub.status.busy": "2021-04-16T19:35:41.819538Z",
          "iopub.status.idle": "2021-04-16T19:35:42.501987Z",
          "shell.execute_reply": "2021-04-16T19:35:42.501513Z"
        },
        "tags": [],
        "id": "qvGvOqSJ13MQ"
      },
      "outputs": [],
      "source": [
        "from utils import set_pyplot_params\n",
        "set_pyplot_params()"
      ]
    },
    {
      "cell_type": "markdown",
      "metadata": {
        "id": "XXk6CPaw13MQ"
      },
      "source": [
        "This chapter presents a problem inspired by the game show *The Price is Right*.\n",
        "It is a silly example, but it demonstrates a useful process called Bayesian [decision analysis](https://en.wikipedia.org/wiki/Decision_analysis).\n",
        "\n",
        "As in previous examples, we'll use data and prior distribution to compute a posterior distribution; then we'll use the posterior distribution to choose an optimal strategy in a game that involves bidding.\n",
        "\n",
        "As part of the solution, we will use kernel density estimation (KDE) to estimate the prior distribution, and a normal distribution to compute the likelihood of the data.\n",
        "\n",
        "And at the end of the chapter, I pose a related problem you can solve as an exercise."
      ]
    },
    {
      "cell_type": "markdown",
      "metadata": {
        "id": "rl91Xrlh13MQ"
      },
      "source": [
        "## The Price Is Right Problem\n",
        "\n",
        "On November 1, 2007, contestants named Letia and Nathaniel appeared on *The Price is Right*, an American television game show. They competed in a game called \"The Showcase\", where the objective is to guess the price of a collection of prizes. The contestant who comes closest to the actual price, without going over, wins the prizes.\n",
        "\n",
        "Nathaniel went first. His showcase included a dishwasher, a wine cabinet, a laptop computer, and a car. He bid \\\\$26,000.\n",
        "\n",
        "Letia's showcase included a pinball machine, a video arcade game, a pool table, and a cruise of the Bahamas. She bid \\\\$21,500.\n",
        "\n",
        "The actual price of Nathaniel's showcase was \\\\$25,347. His bid was too high, so he lost.\n",
        "\n",
        "The actual price of Letia's showcase was \\\\$21,578. \n",
        "\n",
        "She was only off by \\\\$78, so she won her showcase and, because her bid was off by less than 250, she also won Nathaniel's showcase."
      ]
    },
    {
      "cell_type": "markdown",
      "metadata": {
        "id": "ekugnjFt13MR"
      },
      "source": [
        "For a Bayesian thinker, this scenario suggests several questions:\n",
        "\n",
        "1. Before seeing the prizes, what prior beliefs should the contestants have about the price of the showcase?\n",
        "\n",
        "2. After seeing the prizes, how should the contestants update those beliefs?\n",
        "\n",
        "3. Based on the posterior distribution, what should the contestants bid?\n",
        "\n",
        "The third question demonstrates a common use of Bayesian methods: decision analysis.\n",
        "\n",
        "This problem is inspired by [an example](https://nbviewer.jupyter.org/github/CamDavidsonPilon/Probabilistic-Programming-and-Bayesian-Methods-for-Hackers/blob/master/Chapter5_LossFunctions/Ch5_LossFunctions_PyMC3.ipynb) in Cameron Davidson-Pilon's book, [*Probablistic Programming and Bayesian Methods for Hackers*](http://camdavidsonpilon.github.io/Probabilistic-Programming-and-Bayesian-Methods-for-Hackers)."
      ]
    },
    {
      "cell_type": "markdown",
      "metadata": {
        "id": "fmbxslmb13MR"
      },
      "source": [
        "## The Prior\n",
        "\n",
        "To choose a prior distribution of prices, we can take advantage of data from previous episodes. Fortunately, [fans of the show keep detailed records](https://web.archive.org/web/20121107204942/http://www.tpirsummaries.8m.com/). \n",
        "\n",
        "For this example, I downloaded files containing the price of each showcase from the 2011 and 2012 seasons and the bids offered by the contestants."
      ]
    },
    {
      "cell_type": "markdown",
      "metadata": {
        "tags": [],
        "id": "wZxgYDjJ13MS"
      },
      "source": [
        "The following cells load the data files."
      ]
    },
    {
      "cell_type": "code",
      "execution_count": 4,
      "metadata": {
        "execution": {
          "iopub.execute_input": "2021-04-16T19:35:42.507523Z",
          "iopub.status.busy": "2021-04-16T19:35:42.506995Z",
          "iopub.status.idle": "2021-04-16T19:35:42.508609Z",
          "shell.execute_reply": "2021-04-16T19:35:42.509016Z"
        },
        "tags": [],
        "id": "vSEifjzv13MS",
        "outputId": "5cc06cc2-8640-4d9b-b463-28dc2f3eeb63",
        "colab": {
          "base_uri": "https://localhost:8080/"
        }
      },
      "outputs": [
        {
          "output_type": "stream",
          "name": "stdout",
          "text": [
            "Downloaded showcases.2011.csv\n",
            "Downloaded showcases.2012.csv\n"
          ]
        }
      ],
      "source": [
        "# Load the data files\n",
        "\n",
        "download('https://raw.githubusercontent.com/AllenDowney/ThinkBayes2/master/data/showcases.2011.csv')\n",
        "download('https://raw.githubusercontent.com/AllenDowney/ThinkBayes2/master/data/showcases.2012.csv')"
      ]
    },
    {
      "cell_type": "markdown",
      "metadata": {
        "id": "LqL4zGa013MS"
      },
      "source": [
        "The following function reads the data and cleans it up a little."
      ]
    },
    {
      "cell_type": "code",
      "execution_count": 5,
      "metadata": {
        "execution": {
          "iopub.execute_input": "2021-04-16T19:35:42.513237Z",
          "iopub.status.busy": "2021-04-16T19:35:42.512673Z",
          "iopub.status.idle": "2021-04-16T19:35:42.515256Z",
          "shell.execute_reply": "2021-04-16T19:35:42.514810Z"
        },
        "id": "3EiFkkpW13MS"
      },
      "outputs": [],
      "source": [
        "import pandas as pd\n",
        "\n",
        "def read_data(filename):\n",
        "    \"\"\"Read the showcase price data.\"\"\"\n",
        "    df = pd.read_csv(filename, index_col=0, skiprows=[1])\n",
        "    return df.dropna().transpose()"
      ]
    },
    {
      "cell_type": "markdown",
      "metadata": {
        "id": "gRDoL0sU13MT"
      },
      "source": [
        "I'll read both files and concatenate them."
      ]
    },
    {
      "cell_type": "code",
      "execution_count": 6,
      "metadata": {
        "execution": {
          "iopub.execute_input": "2021-04-16T19:35:42.519025Z",
          "iopub.status.busy": "2021-04-16T19:35:42.518583Z",
          "iopub.status.idle": "2021-04-16T19:35:42.547366Z",
          "shell.execute_reply": "2021-04-16T19:35:42.546804Z"
        },
        "id": "mdnsYNVu13MT"
      },
      "outputs": [],
      "source": [
        "df2011 = read_data('showcases.2011.csv')\n",
        "df2012 = read_data('showcases.2012.csv')\n",
        "\n",
        "df = pd.concat([df2011, df2012], ignore_index=True)"
      ]
    },
    {
      "cell_type": "code",
      "execution_count": 7,
      "metadata": {
        "execution": {
          "iopub.execute_input": "2021-04-16T19:35:42.550926Z",
          "iopub.status.busy": "2021-04-16T19:35:42.550422Z",
          "iopub.status.idle": "2021-04-16T19:35:42.553032Z",
          "shell.execute_reply": "2021-04-16T19:35:42.552623Z"
        },
        "tags": [],
        "id": "Z4V_uTcY13MT",
        "outputId": "d78ad16c-2169-40b8-f2fc-7e997701c67f",
        "colab": {
          "base_uri": "https://localhost:8080/"
        }
      },
      "outputs": [
        {
          "output_type": "stream",
          "name": "stdout",
          "text": [
            "(191, 6) (122, 6) (313, 6)\n"
          ]
        }
      ],
      "source": [
        "print(df2011.shape, df2012.shape, df.shape)"
      ]
    },
    {
      "cell_type": "markdown",
      "metadata": {
        "id": "L6UeyFEV13MT"
      },
      "source": [
        "Here's what the dataset looks like:"
      ]
    },
    {
      "cell_type": "code",
      "execution_count": 8,
      "metadata": {
        "execution": {
          "iopub.execute_input": "2021-04-16T19:35:42.558946Z",
          "iopub.status.busy": "2021-04-16T19:35:42.557889Z",
          "iopub.status.idle": "2021-04-16T19:35:42.570199Z",
          "shell.execute_reply": "2021-04-16T19:35:42.570579Z"
        },
        "id": "EWpM649H13MT",
        "outputId": "08db666d-5966-4f8b-e4f5-f9194fdda328",
        "colab": {
          "base_uri": "https://localhost:8080/",
          "height": 143
        }
      },
      "outputs": [
        {
          "output_type": "execute_result",
          "data": {
            "text/plain": [
              "   Showcase 1  Showcase 2    Bid 1    Bid 2  Difference 1  Difference 2\n",
              "0     50969.0     45429.0  42000.0  34000.0        8969.0       11429.0\n",
              "1     21901.0     34061.0  14000.0  59900.0        7901.0      -25839.0\n",
              "2     32815.0     53186.0  32000.0  45000.0         815.0        8186.0"
            ],
            "text/html": [
              "\n",
              "  <div id=\"df-687089e1-cf18-4b79-9577-344b7ea0e43f\">\n",
              "    <div class=\"colab-df-container\">\n",
              "      <div>\n",
              "<style scoped>\n",
              "    .dataframe tbody tr th:only-of-type {\n",
              "        vertical-align: middle;\n",
              "    }\n",
              "\n",
              "    .dataframe tbody tr th {\n",
              "        vertical-align: top;\n",
              "    }\n",
              "\n",
              "    .dataframe thead th {\n",
              "        text-align: right;\n",
              "    }\n",
              "</style>\n",
              "<table border=\"1\" class=\"dataframe\">\n",
              "  <thead>\n",
              "    <tr style=\"text-align: right;\">\n",
              "      <th></th>\n",
              "      <th>Showcase 1</th>\n",
              "      <th>Showcase 2</th>\n",
              "      <th>Bid 1</th>\n",
              "      <th>Bid 2</th>\n",
              "      <th>Difference 1</th>\n",
              "      <th>Difference 2</th>\n",
              "    </tr>\n",
              "  </thead>\n",
              "  <tbody>\n",
              "    <tr>\n",
              "      <th>0</th>\n",
              "      <td>50969.0</td>\n",
              "      <td>45429.0</td>\n",
              "      <td>42000.0</td>\n",
              "      <td>34000.0</td>\n",
              "      <td>8969.0</td>\n",
              "      <td>11429.0</td>\n",
              "    </tr>\n",
              "    <tr>\n",
              "      <th>1</th>\n",
              "      <td>21901.0</td>\n",
              "      <td>34061.0</td>\n",
              "      <td>14000.0</td>\n",
              "      <td>59900.0</td>\n",
              "      <td>7901.0</td>\n",
              "      <td>-25839.0</td>\n",
              "    </tr>\n",
              "    <tr>\n",
              "      <th>2</th>\n",
              "      <td>32815.0</td>\n",
              "      <td>53186.0</td>\n",
              "      <td>32000.0</td>\n",
              "      <td>45000.0</td>\n",
              "      <td>815.0</td>\n",
              "      <td>8186.0</td>\n",
              "    </tr>\n",
              "  </tbody>\n",
              "</table>\n",
              "</div>\n",
              "      <button class=\"colab-df-convert\" onclick=\"convertToInteractive('df-687089e1-cf18-4b79-9577-344b7ea0e43f')\"\n",
              "              title=\"Convert this dataframe to an interactive table.\"\n",
              "              style=\"display:none;\">\n",
              "        \n",
              "  <svg xmlns=\"http://www.w3.org/2000/svg\" height=\"24px\"viewBox=\"0 0 24 24\"\n",
              "       width=\"24px\">\n",
              "    <path d=\"M0 0h24v24H0V0z\" fill=\"none\"/>\n",
              "    <path d=\"M18.56 5.44l.94 2.06.94-2.06 2.06-.94-2.06-.94-.94-2.06-.94 2.06-2.06.94zm-11 1L8.5 8.5l.94-2.06 2.06-.94-2.06-.94L8.5 2.5l-.94 2.06-2.06.94zm10 10l.94 2.06.94-2.06 2.06-.94-2.06-.94-.94-2.06-.94 2.06-2.06.94z\"/><path d=\"M17.41 7.96l-1.37-1.37c-.4-.4-.92-.59-1.43-.59-.52 0-1.04.2-1.43.59L10.3 9.45l-7.72 7.72c-.78.78-.78 2.05 0 2.83L4 21.41c.39.39.9.59 1.41.59.51 0 1.02-.2 1.41-.59l7.78-7.78 2.81-2.81c.8-.78.8-2.07 0-2.86zM5.41 20L4 18.59l7.72-7.72 1.47 1.35L5.41 20z\"/>\n",
              "  </svg>\n",
              "      </button>\n",
              "      \n",
              "  <style>\n",
              "    .colab-df-container {\n",
              "      display:flex;\n",
              "      flex-wrap:wrap;\n",
              "      gap: 12px;\n",
              "    }\n",
              "\n",
              "    .colab-df-convert {\n",
              "      background-color: #E8F0FE;\n",
              "      border: none;\n",
              "      border-radius: 50%;\n",
              "      cursor: pointer;\n",
              "      display: none;\n",
              "      fill: #1967D2;\n",
              "      height: 32px;\n",
              "      padding: 0 0 0 0;\n",
              "      width: 32px;\n",
              "    }\n",
              "\n",
              "    .colab-df-convert:hover {\n",
              "      background-color: #E2EBFA;\n",
              "      box-shadow: 0px 1px 2px rgba(60, 64, 67, 0.3), 0px 1px 3px 1px rgba(60, 64, 67, 0.15);\n",
              "      fill: #174EA6;\n",
              "    }\n",
              "\n",
              "    [theme=dark] .colab-df-convert {\n",
              "      background-color: #3B4455;\n",
              "      fill: #D2E3FC;\n",
              "    }\n",
              "\n",
              "    [theme=dark] .colab-df-convert:hover {\n",
              "      background-color: #434B5C;\n",
              "      box-shadow: 0px 1px 3px 1px rgba(0, 0, 0, 0.15);\n",
              "      filter: drop-shadow(0px 1px 2px rgba(0, 0, 0, 0.3));\n",
              "      fill: #FFFFFF;\n",
              "    }\n",
              "  </style>\n",
              "\n",
              "      <script>\n",
              "        const buttonEl =\n",
              "          document.querySelector('#df-687089e1-cf18-4b79-9577-344b7ea0e43f button.colab-df-convert');\n",
              "        buttonEl.style.display =\n",
              "          google.colab.kernel.accessAllowed ? 'block' : 'none';\n",
              "\n",
              "        async function convertToInteractive(key) {\n",
              "          const element = document.querySelector('#df-687089e1-cf18-4b79-9577-344b7ea0e43f');\n",
              "          const dataTable =\n",
              "            await google.colab.kernel.invokeFunction('convertToInteractive',\n",
              "                                                     [key], {});\n",
              "          if (!dataTable) return;\n",
              "\n",
              "          const docLinkHtml = 'Like what you see? Visit the ' +\n",
              "            '<a target=\"_blank\" href=https://colab.research.google.com/notebooks/data_table.ipynb>data table notebook</a>'\n",
              "            + ' to learn more about interactive tables.';\n",
              "          element.innerHTML = '';\n",
              "          dataTable['output_type'] = 'display_data';\n",
              "          await google.colab.output.renderOutput(dataTable, element);\n",
              "          const docLink = document.createElement('div');\n",
              "          docLink.innerHTML = docLinkHtml;\n",
              "          element.appendChild(docLink);\n",
              "        }\n",
              "      </script>\n",
              "    </div>\n",
              "  </div>\n",
              "  "
            ]
          },
          "metadata": {},
          "execution_count": 8
        }
      ],
      "source": [
        "df.head(3)"
      ]
    },
    {
      "cell_type": "markdown",
      "metadata": {
        "id": "sI8Mgi_p13MT"
      },
      "source": [
        "The first two columns, `Showcase 1` and `Showcase 2`, are the values of the showcases in dollars.\n",
        "The next two columns are the bids the contestants made.\n",
        "The last two columns are the differences between the actual values and the bids."
      ]
    },
    {
      "cell_type": "markdown",
      "metadata": {
        "id": "lhF7RUKl13MT"
      },
      "source": [
        "## Kernel Density Estimation\n",
        "\n",
        "This dataset contains the prices for 313 previous showcases, which we can think of as a sample from the population of possible prices.\n",
        "\n",
        "We can use this sample to estimate the prior distribution of showcase prices.  One way to do that is kernel density estimation (KDE), which uses the sample to estimate a smooth distribution.  If you are not familiar with KDE, you can [read about it here](https://mathisonian.github.io/kde).\n",
        "\n",
        "SciPy provides `gaussian_kde`, which takes a sample and returns an object that represents the estimated distribution.\n",
        "\n",
        "The following function takes `sample`, makes a KDE, evaluates it at a given sequence of quantities, `qs`, and returns the result as a normalized PMF."
      ]
    },
    {
      "cell_type": "code",
      "execution_count": 9,
      "metadata": {
        "execution": {
          "iopub.execute_input": "2021-04-16T19:35:42.574533Z",
          "iopub.status.busy": "2021-04-16T19:35:42.574043Z",
          "iopub.status.idle": "2021-04-16T19:35:42.576062Z",
          "shell.execute_reply": "2021-04-16T19:35:42.575582Z"
        },
        "id": "gTW1xetH13MT"
      },
      "outputs": [],
      "source": [
        "from scipy.stats import gaussian_kde\n",
        "from empiricaldist import Pmf\n",
        "\n",
        "def kde_from_sample(sample, qs):\n",
        "    \"\"\"Make a kernel density estimate from a sample.\"\"\"\n",
        "    kde = gaussian_kde(sample)\n",
        "    ps = kde(qs)\n",
        "    pmf = Pmf(ps, qs)\n",
        "    pmf.normalize()\n",
        "    return pmf"
      ]
    },
    {
      "cell_type": "markdown",
      "metadata": {
        "id": "rCkoAo2b13MU"
      },
      "source": [
        "We can use it to estimate the distribution of values for Showcase 1:"
      ]
    },
    {
      "cell_type": "code",
      "execution_count": 10,
      "metadata": {
        "execution": {
          "iopub.execute_input": "2021-04-16T19:35:42.584733Z",
          "iopub.status.busy": "2021-04-16T19:35:42.580411Z",
          "iopub.status.idle": "2021-04-16T19:35:42.587005Z",
          "shell.execute_reply": "2021-04-16T19:35:42.586599Z"
        },
        "id": "P4bQ7owh13MU"
      },
      "outputs": [],
      "source": [
        "import numpy as np\n",
        "\n",
        "qs = np.linspace(0, 80000, 81)\n",
        "prior1 = kde_from_sample(df['Showcase 1'], qs)"
      ]
    },
    {
      "cell_type": "markdown",
      "metadata": {
        "id": "e_MAANJx13MU"
      },
      "source": [
        "Here's what it looks like:"
      ]
    },
    {
      "cell_type": "code",
      "execution_count": 11,
      "metadata": {
        "execution": {
          "iopub.execute_input": "2021-04-16T19:35:42.590496Z",
          "iopub.status.busy": "2021-04-16T19:35:42.590066Z",
          "iopub.status.idle": "2021-04-16T19:35:42.592375Z",
          "shell.execute_reply": "2021-04-16T19:35:42.591868Z"
        },
        "tags": [],
        "id": "EHYxBvGJ13MU"
      },
      "outputs": [],
      "source": [
        "from utils import decorate\n",
        "\n",
        "def decorate_value(title=''):\n",
        "    decorate(xlabel='Showcase value ($)',\n",
        "        ylabel='PMF',\n",
        "        title=title)"
      ]
    },
    {
      "cell_type": "code",
      "execution_count": 12,
      "metadata": {
        "execution": {
          "iopub.execute_input": "2021-04-16T19:35:42.596416Z",
          "iopub.status.busy": "2021-04-16T19:35:42.595823Z",
          "iopub.status.idle": "2021-04-16T19:35:42.800967Z",
          "shell.execute_reply": "2021-04-16T19:35:42.801311Z"
        },
        "tags": [],
        "id": "Q7zE2JeJ13MU",
        "outputId": "344b4655-4f93-4fd0-bab2-c5f5fed7be16",
        "colab": {
          "base_uri": "https://localhost:8080/",
          "height": 297
        }
      },
      "outputs": [
        {
          "output_type": "display_data",
          "data": {
            "text/plain": [
              "<Figure size 432x288 with 1 Axes>"
            ],
            "image/png": "[encoded data removed]"
          },
          "metadata": {
            "needs_background": "light"
          }
        }
      ],
      "source": [
        "prior1.plot(label='Prior 1')\n",
        "decorate_value('Prior distribution of showcase value')"
      ]
    },
    {
      "cell_type": "markdown",
      "metadata": {
        "id": "D6nAO46513MU"
      },
      "source": [
        "**Exercise:** Use this function to make a `Pmf` that represents the prior distribution for Showcase 2, and plot it."
      ]
    },
    {
      "cell_type": "code",
      "execution_count": 13,
      "metadata": {
        "execution": {
          "iopub.execute_input": "2021-04-16T19:35:42.807216Z",
          "iopub.status.busy": "2021-04-16T19:35:42.806692Z",
          "iopub.status.idle": "2021-04-16T19:35:42.809224Z",
          "shell.execute_reply": "2021-04-16T19:35:42.808685Z"
        },
        "id": "lUXz4eXC13MU"
      },
      "outputs": [],
      "source": [
        "# Solution goes here\n",
        "\n",
        "qs = np.linspace(0, 80000, 81)\n",
        "prior2 = kde_from_sample(df['Showcase 2'], qs)"
      ]
    },
    {
      "cell_type": "code",
      "execution_count": 14,
      "metadata": {
        "execution": {
          "iopub.execute_input": "2021-04-16T19:35:42.856760Z",
          "iopub.status.busy": "2021-04-16T19:35:42.856256Z",
          "iopub.status.idle": "2021-04-16T19:35:43.013351Z",
          "shell.execute_reply": "2021-04-16T19:35:43.013757Z"
        },
        "scrolled": true,
        "id": "M3qyq9bw13MU",
        "outputId": "313013f9-1f69-46f0-981c-d57ec35d5ee0",
        "colab": {
          "base_uri": "https://localhost:8080/",
          "height": 297
        }
      },
      "outputs": [
        {
          "output_type": "display_data",
          "data": {
            "text/plain": [
              "<Figure size 432x288 with 1 Axes>"
            ],
            "image/png": "[encoded data removed]"
          },
          "metadata": {
            "needs_background": "light"
          }
        }
      ],
      "source": [
        "# Solution goes here\n",
        "\n",
        "prior1.plot(label='Prior 1')\n",
        "prior2.plot(label='Prior 2')\n",
        "\n",
        "decorate_value('Prior distributions of showcase value')"
      ]
    },
    {
      "cell_type": "markdown",
      "metadata": {
        "id": "h1LylRuV13MU"
      },
      "source": [
        "## Distribution of Error\n",
        "\n",
        "To update these priors, we have to answer these questions:\n",
        "\n",
        "* What data should we consider and how should we quantify it?\n",
        "\n",
        "* Can we compute a likelihood function; that is, for each hypothetical price, can we compute the conditional likelihood of the data?\n",
        "\n",
        "To answer these questions, I will model each contestant as a price-guessing instrument with known error characteristics. \n",
        "In this model, when the contestant sees the prizes, they guess the price of each prize and add up the prices.\n",
        "Let's call this total `guess`.\n",
        "\n",
        "Now the question we have to answer is, \"If the actual price is `price`, what is the likelihood that the contestant's guess would be `guess`?\"\n",
        "\n",
        "Equivalently, if we define `error = guess - price`, we can ask, \"What is the likelihood that the contestant's guess is off by `error`?\"\n",
        "\n",
        "To answer this question, I'll use the historical data again. \n",
        "For each showcase in the dataset, let's look at the difference between the contestant's bid and the actual price:"
      ]
    },
    {
      "cell_type": "code",
      "execution_count": 15,
      "metadata": {
        "execution": {
          "iopub.execute_input": "2021-04-16T19:35:43.018111Z",
          "iopub.status.busy": "2021-04-16T19:35:43.017611Z",
          "iopub.status.idle": "2021-04-16T19:35:43.019631Z",
          "shell.execute_reply": "2021-04-16T19:35:43.019982Z"
        },
        "id": "RNHtC8C513MV"
      },
      "outputs": [],
      "source": [
        "sample_diff1 = df['Bid 1'] - df['Showcase 1']\n",
        "sample_diff2 = df['Bid 2'] - df['Showcase 2']"
      ]
    },
    {
      "cell_type": "markdown",
      "metadata": {
        "id": "o9ESt3C713MV"
      },
      "source": [
        "To visualize the distribution of these differences, we can use KDE again."
      ]
    },
    {
      "cell_type": "code",
      "execution_count": 16,
      "metadata": {
        "execution": {
          "iopub.execute_input": "2021-04-16T19:35:43.027071Z",
          "iopub.status.busy": "2021-04-16T19:35:43.026529Z",
          "iopub.status.idle": "2021-04-16T19:35:43.028680Z",
          "shell.execute_reply": "2021-04-16T19:35:43.029157Z"
        },
        "id": "N-t11-pf13MV"
      },
      "outputs": [],
      "source": [
        "qs = np.linspace(-40000, 20000, 61)\n",
        "kde_diff1 = kde_from_sample(sample_diff1, qs)\n",
        "kde_diff2 = kde_from_sample(sample_diff2, qs)"
      ]
    },
    {
      "cell_type": "markdown",
      "metadata": {
        "id": "Aa3P90zg13MV"
      },
      "source": [
        "Here's what these distributions look like:"
      ]
    },
    {
      "cell_type": "code",
      "execution_count": 17,
      "metadata": {
        "execution": {
          "iopub.execute_input": "2021-04-16T19:35:43.075959Z",
          "iopub.status.busy": "2021-04-16T19:35:43.048711Z",
          "iopub.status.idle": "2021-04-16T19:35:43.205035Z",
          "shell.execute_reply": "2021-04-16T19:35:43.205620Z"
        },
        "tags": [],
        "id": "eWS3ZThj13MV",
        "outputId": "36ca250b-e40d-4283-b46f-9e7c1add1e61",
        "colab": {
          "base_uri": "https://localhost:8080/",
          "height": 297
        }
      },
      "outputs": [
        {
          "output_type": "display_data",
          "data": {
            "text/plain": [
              "<Figure size 432x288 with 1 Axes>"
            ],
            "image/png": "[encoded data removed]"
          },
          "metadata": {
            "needs_background": "light"
          }
        }
      ],
      "source": [
        "kde_diff1.plot(label='Diff 1', color='C8')\n",
        "kde_diff2.plot(label='Diff 2', color='C4')\n",
        "\n",
        "decorate(xlabel='Difference in value ($)',\n",
        "        ylabel='PMF',\n",
        "        title='Difference between bid and actual value')"
      ]
    },
    {
      "cell_type": "markdown",
      "metadata": {
        "id": "5Hg3CrCt13MV"
      },
      "source": [
        "It looks like the bids are too low more often than too high, which makes sense.  Remember that under the rules of the game, you lose if you overbid, so contestants probably underbid to some degree deliberately.\n",
        "\n",
        "For example, if they guess that the value of the showcase is \\\\$40,000, they might bid \\\\$36,000 to avoid going over."
      ]
    },
    {
      "cell_type": "markdown",
      "metadata": {
        "id": "GNodjbI713MV"
      },
      "source": [
        "It looks like these distributions are well modeled by a normal distribution, so we can summarize them with their mean and standard deviation.\n",
        "\n",
        "For example, here is the mean and standard deviation of `Diff` for Player 1."
      ]
    },
    {
      "cell_type": "code",
      "execution_count": 18,
      "metadata": {
        "execution": {
          "iopub.execute_input": "2021-04-16T19:35:43.209840Z",
          "iopub.status.busy": "2021-04-16T19:35:43.209325Z",
          "iopub.status.idle": "2021-04-16T19:35:43.211530Z",
          "shell.execute_reply": "2021-04-16T19:35:43.211881Z"
        },
        "id": "IqCT_qau13MW",
        "outputId": "39f6b071-a8ff-439b-cbce-127552134262",
        "colab": {
          "base_uri": "https://localhost:8080/"
        }
      },
      "outputs": [
        {
          "output_type": "stream",
          "name": "stdout",
          "text": [
            "-4116.3961661341855 6899.909806377117\n"
          ]
        }
      ],
      "source": [
        "mean_diff1 = sample_diff1.mean()\n",
        "std_diff1 = sample_diff1.std()\n",
        "\n",
        "print(mean_diff1, std_diff1)"
      ]
    },
    {
      "cell_type": "markdown",
      "metadata": {
        "id": "dXdodeoe13MW"
      },
      "source": [
        "Now we can use these differences to model the contestant's distribution of errors.\n",
        "This step is a little tricky because we don't actually know the contestant's guesses; we only know what they bid.\n",
        "\n",
        "So we have to make some assumptions:\n",
        "\n",
        "* I'll assume that contestants underbid because they are being strategic, and that on average their guesses are accurate.  In other words, the mean of their errors is 0.\n",
        "\n",
        "* But I'll assume that the spread of the differences reflects the actual spread of their errors.  So, I'll use the standard deviation of the differences as the standard deviation of their errors.\n",
        "\n",
        "Based on these assumptions, I'll make a normal distribution with parameters 0 and `std_diff1`.\n",
        "\n",
        "SciPy provides an object called `norm` that represents a normal distribution with the given mean and standard deviation."
      ]
    },
    {
      "cell_type": "code",
      "execution_count": 19,
      "metadata": {
        "execution": {
          "iopub.execute_input": "2021-04-16T19:35:43.215986Z",
          "iopub.status.busy": "2021-04-16T19:35:43.215405Z",
          "iopub.status.idle": "2021-04-16T19:35:43.217589Z",
          "shell.execute_reply": "2021-04-16T19:35:43.217195Z"
        },
        "id": "JBMiG5MZ13MW"
      },
      "outputs": [],
      "source": [
        "from scipy.stats import norm\n",
        "\n",
        "error_dist1 = norm(0, std_diff1)"
      ]
    },
    {
      "cell_type": "markdown",
      "metadata": {
        "id": "EgrWfUfB13MW"
      },
      "source": [
        "The result is an object that provides `pdf`, which evaluates the probability density function of the normal distribution.\n",
        "\n",
        "For example, here is the probability density of `error=-100`, based on the distribution of errors for Player 1."
      ]
    },
    {
      "cell_type": "code",
      "execution_count": 20,
      "metadata": {
        "execution": {
          "iopub.execute_input": "2021-04-16T19:35:43.221442Z",
          "iopub.status.busy": "2021-04-16T19:35:43.220947Z",
          "iopub.status.idle": "2021-04-16T19:35:43.223380Z",
          "shell.execute_reply": "2021-04-16T19:35:43.223743Z"
        },
        "id": "wcyTi2y913MW",
        "outputId": "dcddb17c-9d26-4d3f-9281-1e0abbc8faef",
        "colab": {
          "base_uri": "https://localhost:8080/"
        }
      },
      "outputs": [
        {
          "output_type": "execute_result",
          "data": {
            "text/plain": [
              "5.781240564008691e-05"
            ]
          },
          "metadata": {},
          "execution_count": 20
        }
      ],
      "source": [
        "error = -100\n",
        "error_dist1.pdf(error)"
      ]
    },
    {
      "cell_type": "markdown",
      "metadata": {
        "id": "n5geT8XU13MW"
      },
      "source": [
        "By itself, this number doesn't mean very much, because probability densities are not probabilities. But they are proportional to probabilities, so we can use them as likelihoods in a Bayesian update, as we'll see in the next section."
      ]
    },
    {
      "cell_type": "markdown",
      "metadata": {
        "id": "_m4Wn_0P13MX"
      },
      "source": [
        "## Update\n",
        "\n",
        "Suppose you are Player 1.  You see the prizes in your showcase and your guess for the total price is \\\\$23,000.\n",
        "\n",
        "From your guess I will subtract away each hypothetical price in the prior distribution; the result is your error under each hypothesis."
      ]
    },
    {
      "cell_type": "code",
      "execution_count": 21,
      "metadata": {
        "execution": {
          "iopub.execute_input": "2021-04-16T19:35:43.226913Z",
          "iopub.status.busy": "2021-04-16T19:35:43.226469Z",
          "iopub.status.idle": "2021-04-16T19:35:43.228074Z",
          "shell.execute_reply": "2021-04-16T19:35:43.228429Z"
        },
        "id": "9pif0DkI13MX"
      },
      "outputs": [],
      "source": [
        "guess1 = 23000\n",
        "error1 = guess1 - prior1.qs"
      ]
    },
    {
      "cell_type": "markdown",
      "metadata": {
        "id": "bYzF_X6u13MX"
      },
      "source": [
        "Now suppose we know, based on past performance, that your estimation error is well modeled by `error_dist1`.\n",
        "Under that assumption we can compute the likelihood of your error under each hypothesis."
      ]
    },
    {
      "cell_type": "code",
      "execution_count": 22,
      "metadata": {
        "execution": {
          "iopub.execute_input": "2021-04-16T19:35:43.231953Z",
          "iopub.status.busy": "2021-04-16T19:35:43.231397Z",
          "iopub.status.idle": "2021-04-16T19:35:43.233519Z",
          "shell.execute_reply": "2021-04-16T19:35:43.233990Z"
        },
        "id": "LlzLDNlO13MX"
      },
      "outputs": [],
      "source": [
        "likelihood1 = error_dist1.pdf(error1)"
      ]
    },
    {
      "cell_type": "markdown",
      "metadata": {
        "id": "Vl6jOFm113MX"
      },
      "source": [
        "The result is an array of likelihoods, which we can use to update the prior."
      ]
    },
    {
      "cell_type": "code",
      "execution_count": 23,
      "metadata": {
        "execution": {
          "iopub.execute_input": "2021-04-16T19:35:43.239353Z",
          "iopub.status.busy": "2021-04-16T19:35:43.238671Z",
          "iopub.status.idle": "2021-04-16T19:35:43.241477Z",
          "shell.execute_reply": "2021-04-16T19:35:43.241931Z"
        },
        "tags": [],
        "id": "mCi2AzZN13MX",
        "outputId": "ad4b9bf0-ab4f-440d-d44b-dfd2f193b946",
        "colab": {
          "base_uri": "https://localhost:8080/"
        }
      },
      "outputs": [
        {
          "output_type": "execute_result",
          "data": {
            "text/plain": [
              "3.3889812097254624e-05"
            ]
          },
          "metadata": {},
          "execution_count": 23
        }
      ],
      "source": [
        "posterior1 = prior1 * likelihood1\n",
        "posterior1.normalize()"
      ]
    },
    {
      "cell_type": "markdown",
      "metadata": {
        "id": "kufkKOxI13MX"
      },
      "source": [
        "Here's what the posterior distribution looks like:"
      ]
    },
    {
      "cell_type": "code",
      "execution_count": 24,
      "metadata": {
        "execution": {
          "iopub.execute_input": "2021-04-16T19:35:43.288160Z",
          "iopub.status.busy": "2021-04-16T19:35:43.287654Z",
          "iopub.status.idle": "2021-04-16T19:35:43.431834Z",
          "shell.execute_reply": "2021-04-16T19:35:43.432442Z"
        },
        "tags": [],
        "id": "k4dx1ZwD13MX",
        "outputId": "8bff2fff-2d8b-4507-8a2f-58d225b9816b",
        "colab": {
          "base_uri": "https://localhost:8080/",
          "height": 297
        }
      },
      "outputs": [
        {
          "output_type": "display_data",
          "data": {
            "text/plain": [
              "<Figure size 432x288 with 1 Axes>"
            ],
            "image/png": "[encoded data removed]"
          },
          "metadata": {
            "needs_background": "light"
          }
        }
      ],
      "source": [
        "prior1.plot(color='C5', label='Prior 1')\n",
        "posterior1.plot(color='C4', label='Posterior 1')\n",
        "\n",
        "decorate_value('Prior and posterior distribution of showcase value')"
      ]
    },
    {
      "cell_type": "markdown",
      "metadata": {
        "id": "K_Bf-VHM13MY"
      },
      "source": [
        "Because your initial guess is in the lower end of the range, the posterior distribution has shifted to the left.  We can compute the posterior mean to see by how much."
      ]
    },
    {
      "cell_type": "code",
      "execution_count": 25,
      "metadata": {
        "execution": {
          "iopub.execute_input": "2021-04-16T19:35:43.436831Z",
          "iopub.status.busy": "2021-04-16T19:35:43.436115Z",
          "iopub.status.idle": "2021-04-16T19:35:43.440717Z",
          "shell.execute_reply": "2021-04-16T19:35:43.441327Z"
        },
        "id": "qKWzFpzk13MY",
        "outputId": "5102ef53-a1aa-45ef-a343-289ecca98d8d",
        "colab": {
          "base_uri": "https://localhost:8080/"
        }
      },
      "outputs": [
        {
          "output_type": "execute_result",
          "data": {
            "text/plain": [
              "(30299.488817891375, 26192.024002392536)"
            ]
          },
          "metadata": {},
          "execution_count": 25
        }
      ],
      "source": [
        "prior1.mean(), posterior1.mean()"
      ]
    },
    {
      "cell_type": "markdown",
      "metadata": {
        "id": "ZPySMAx713MY"
      },
      "source": [
        "Before you saw the prizes, you expected to see a showcase with a value close to \\\\$30,000.\n",
        "After making a guess of \\\\$23,000, you updated the prior distribution.\n",
        "Based on the combination of the prior and your guess, you now expect the actual price to be about \\\\$26,000."
      ]
    },
    {
      "cell_type": "markdown",
      "metadata": {
        "id": "_-62lKzR13MY"
      },
      "source": [
        "**Exercise:** Now suppose you are Player 2.  When you see your showcase, you guess that the total price is \\\\$38,000.\n",
        "\n",
        "Use `diff2` to construct a normal distribution that represents the distribution of your estimation errors.\n",
        "\n",
        "Compute the likelihood of your guess for each actual price and use it to update `prior2`.\n",
        "\n",
        "Plot the posterior distribution and compute the posterior mean.  Based on the prior and your guess, what do you expect the actual price of the showcase to be?"
      ]
    },
    {
      "cell_type": "code",
      "execution_count": 26,
      "metadata": {
        "execution": {
          "iopub.execute_input": "2021-04-16T19:35:43.446313Z",
          "iopub.status.busy": "2021-04-16T19:35:43.445597Z",
          "iopub.status.idle": "2021-04-16T19:35:43.448186Z",
          "shell.execute_reply": "2021-04-16T19:35:43.448776Z"
        },
        "id": "UdEyIkU813MY",
        "outputId": "3592c1df-adde-48e9-861f-2ea72d92455f",
        "colab": {
          "base_uri": "https://localhost:8080/"
        }
      },
      "outputs": [
        {
          "output_type": "stream",
          "name": "stdout",
          "text": [
            "-3675.891373801917 6886.260711323408\n"
          ]
        }
      ],
      "source": [
        "# Solution goes here\n",
        "\n",
        "mean_diff2 = sample_diff2.mean()\n",
        "std_diff2 = sample_diff2.std()\n",
        "\n",
        "print(mean_diff2, std_diff2)"
      ]
    },
    {
      "cell_type": "code",
      "execution_count": 27,
      "metadata": {
        "execution": {
          "iopub.execute_input": "2021-04-16T19:35:43.453527Z",
          "iopub.status.busy": "2021-04-16T19:35:43.452814Z",
          "iopub.status.idle": "2021-04-16T19:35:43.454765Z",
          "shell.execute_reply": "2021-04-16T19:35:43.455306Z"
        },
        "id": "TKqQi1jI13MY"
      },
      "outputs": [],
      "source": [
        "# Solution goes here\n",
        "\n",
        "error_dist2 = norm(0, std_diff2)"
      ]
    },
    {
      "cell_type": "code",
      "execution_count": 28,
      "metadata": {
        "execution": {
          "iopub.execute_input": "2021-04-16T19:35:43.459870Z",
          "iopub.status.busy": "2021-04-16T19:35:43.459110Z",
          "iopub.status.idle": "2021-04-16T19:35:43.461269Z",
          "shell.execute_reply": "2021-04-16T19:35:43.461881Z"
        },
        "id": "w2QUAxHM13MY"
      },
      "outputs": [],
      "source": [
        "# Solution goes here\n",
        "\n",
        "guess2 = 38000\n",
        "error2 = guess2 - prior2.qs\n",
        "\n",
        "likelihood2 = error_dist2.pdf(error2)"
      ]
    },
    {
      "cell_type": "code",
      "execution_count": 29,
      "metadata": {
        "execution": {
          "iopub.execute_input": "2021-04-16T19:35:43.468130Z",
          "iopub.status.busy": "2021-04-16T19:35:43.467318Z",
          "iopub.status.idle": "2021-04-16T19:35:43.472187Z",
          "shell.execute_reply": "2021-04-16T19:35:43.471584Z"
        },
        "id": "-PjhNefc13MY",
        "outputId": "fe9aaa25-1479-49ad-a3f3-36c6a354fd01",
        "colab": {
          "base_uri": "https://localhost:8080/"
        }
      },
      "outputs": [
        {
          "output_type": "execute_result",
          "data": {
            "text/plain": [
              "2.697812321910703e-05"
            ]
          },
          "metadata": {},
          "execution_count": 29
        }
      ],
      "source": [
        "# Solution goes here\n",
        "\n",
        "posterior2 = prior2 * likelihood2\n",
        "posterior2.normalize()"
      ]
    },
    {
      "cell_type": "code",
      "execution_count": 30,
      "metadata": {
        "execution": {
          "iopub.execute_input": "2021-04-16T19:35:43.549426Z",
          "iopub.status.busy": "2021-04-16T19:35:43.506440Z",
          "iopub.status.idle": "2021-04-16T19:35:43.768369Z",
          "shell.execute_reply": "2021-04-16T19:35:43.769420Z"
        },
        "id": "BjPLZ1_L13MY",
        "outputId": "eef3b7fa-f325-4fc6-e78f-181886549126",
        "colab": {
          "base_uri": "https://localhost:8080/",
          "height": 297
        }
      },
      "outputs": [
        {
          "output_type": "display_data",
          "data": {
            "text/plain": [
              "<Figure size 432x288 with 1 Axes>"
            ],
            "image/png": "[encoded data removed]"
          },
          "metadata": {
            "needs_background": "light"
          }
        }
      ],
      "source": [
        "# Solution goes here\n",
        "\n",
        "prior2.plot(color='C5', label='Prior 2')\n",
        "posterior2.plot(color='C15', label='Posterior 2')\n",
        "\n",
        "decorate_value('Prior and posterior distribution of showcase value')"
      ]
    },
    {
      "cell_type": "code",
      "execution_count": 31,
      "metadata": {
        "execution": {
          "iopub.execute_input": "2021-04-16T19:35:43.773670Z",
          "iopub.status.busy": "2021-04-16T19:35:43.772931Z",
          "iopub.status.idle": "2021-04-16T19:35:43.776721Z",
          "shell.execute_reply": "2021-04-16T19:35:43.777489Z"
        },
        "id": "th5QBBV213MY",
        "outputId": "2289143d-fe2d-4e20-e257-873daa5950fe",
        "colab": {
          "base_uri": "https://localhost:8080/"
        }
      },
      "outputs": [
        {
          "output_type": "stream",
          "name": "stdout",
          "text": [
            "31047.62371912252 34305.20161642468\n"
          ]
        }
      ],
      "source": [
        "# Solution goes here\n",
        "\n",
        "print(prior2.mean(), posterior2.mean())"
      ]
    },
    {
      "cell_type": "markdown",
      "metadata": {
        "id": "0EsG4CIC13MZ"
      },
      "source": [
        "## Probability of Winning\n",
        "\n",
        "Now that we have a posterior distribution for each player, let's think about strategy.\n",
        "\n",
        "First, from the point of view of Player 1, let's compute the probability that Player 2 overbids.  To keep it simple, I'll use only the performance of past players, ignoring the value of the showcase. \n",
        "\n",
        "The following function takes a sequence of past bids and returns the fraction that overbid."
      ]
    },
    {
      "cell_type": "code",
      "execution_count": 32,
      "metadata": {
        "execution": {
          "iopub.execute_input": "2021-04-16T19:35:43.782090Z",
          "iopub.status.busy": "2021-04-16T19:35:43.781438Z",
          "iopub.status.idle": "2021-04-16T19:35:43.785129Z",
          "shell.execute_reply": "2021-04-16T19:35:43.785964Z"
        },
        "id": "7NVxvOqO13MZ"
      },
      "outputs": [],
      "source": [
        "def prob_overbid(sample_diff):\n",
        "    \"\"\"Compute the probability of an overbid.\"\"\"\n",
        "    return np.mean(sample_diff > 0)"
      ]
    },
    {
      "cell_type": "markdown",
      "metadata": {
        "id": "O-wxdSZ113MZ"
      },
      "source": [
        "Here's an estimate for the probability that Player 2 overbids."
      ]
    },
    {
      "cell_type": "code",
      "execution_count": 33,
      "metadata": {
        "execution": {
          "iopub.execute_input": "2021-04-16T19:35:43.791906Z",
          "iopub.status.busy": "2021-04-16T19:35:43.791267Z",
          "iopub.status.idle": "2021-04-16T19:35:43.798095Z",
          "shell.execute_reply": "2021-04-16T19:35:43.797335Z"
        },
        "id": "b5pgCcN813MZ",
        "outputId": "b4e0e54f-c2fa-4c56-9af1-d4b19339296d",
        "colab": {
          "base_uri": "https://localhost:8080/"
        }
      },
      "outputs": [
        {
          "output_type": "execute_result",
          "data": {
            "text/plain": [
              "0.29073482428115016"
            ]
          },
          "metadata": {},
          "execution_count": 33
        }
      ],
      "source": [
        "prob_overbid(sample_diff2)"
      ]
    },
    {
      "cell_type": "markdown",
      "metadata": {
        "id": "zuWNZ3x013MZ"
      },
      "source": [
        "Now suppose Player 1 underbids by \\\\$5000.\n",
        "What is the probability that Player 2 underbids by more?\n",
        "\n",
        "The following function uses past performance to estimate the probability that a player underbids by more than a given amount, `diff`:"
      ]
    },
    {
      "cell_type": "code",
      "execution_count": 34,
      "metadata": {
        "execution": {
          "iopub.execute_input": "2021-04-16T19:35:43.803290Z",
          "iopub.status.busy": "2021-04-16T19:35:43.802451Z",
          "iopub.status.idle": "2021-04-16T19:35:43.807092Z",
          "shell.execute_reply": "2021-04-16T19:35:43.806213Z"
        },
        "id": "f9CCTzsl13MZ"
      },
      "outputs": [],
      "source": [
        "def prob_worse_than(diff, sample_diff):\n",
        "    \"\"\"Probability opponent diff is worse than given diff.\"\"\"\n",
        "    return np.mean(sample_diff < diff)"
      ]
    },
    {
      "cell_type": "markdown",
      "metadata": {
        "id": "Rqzc7kch13MZ"
      },
      "source": [
        "Here's the probability that Player 2 underbids by more than \\\\$5000."
      ]
    },
    {
      "cell_type": "code",
      "execution_count": 35,
      "metadata": {
        "execution": {
          "iopub.execute_input": "2021-04-16T19:35:43.812801Z",
          "iopub.status.busy": "2021-04-16T19:35:43.812084Z",
          "iopub.status.idle": "2021-04-16T19:35:43.820076Z",
          "shell.execute_reply": "2021-04-16T19:35:43.819320Z"
        },
        "id": "NWn5u2ly13MZ",
        "outputId": "8192e95e-37e2-4243-eccb-0ae0c1c8900d",
        "colab": {
          "base_uri": "https://localhost:8080/"
        }
      },
      "outputs": [
        {
          "output_type": "execute_result",
          "data": {
            "text/plain": [
              "0.38338658146964855"
            ]
          },
          "metadata": {},
          "execution_count": 35
        }
      ],
      "source": [
        "prob_worse_than(-5000, sample_diff2)"
      ]
    },
    {
      "cell_type": "markdown",
      "metadata": {
        "id": "rYRJmuYa13MZ"
      },
      "source": [
        "And here's the probability they underbid by more than \\\\$10,000."
      ]
    },
    {
      "cell_type": "code",
      "execution_count": 36,
      "metadata": {
        "execution": {
          "iopub.execute_input": "2021-04-16T19:35:43.826928Z",
          "iopub.status.busy": "2021-04-16T19:35:43.826246Z",
          "iopub.status.idle": "2021-04-16T19:35:43.830095Z",
          "shell.execute_reply": "2021-04-16T19:35:43.830762Z"
        },
        "id": "JwlulDEC13MZ",
        "outputId": "7701d0a0-a301-4b5c-d72d-ab2eee4bcdd1",
        "colab": {
          "base_uri": "https://localhost:8080/"
        }
      },
      "outputs": [
        {
          "output_type": "execute_result",
          "data": {
            "text/plain": [
              "0.14376996805111822"
            ]
          },
          "metadata": {},
          "execution_count": 36
        }
      ],
      "source": [
        "prob_worse_than(-10000, sample_diff2)"
      ]
    },
    {
      "cell_type": "markdown",
      "metadata": {
        "id": "v_Efi-Rl13MZ"
      },
      "source": [
        "We can combine these functions to compute the probability that Player 1 wins, given the difference between their bid and the actual price:"
      ]
    },
    {
      "cell_type": "code",
      "execution_count": 37,
      "metadata": {
        "execution": {
          "iopub.execute_input": "2021-04-16T19:35:43.837850Z",
          "iopub.status.busy": "2021-04-16T19:35:43.837006Z",
          "iopub.status.idle": "2021-04-16T19:35:43.840521Z",
          "shell.execute_reply": "2021-04-16T19:35:43.839477Z"
        },
        "id": "ZqyJHhX113Ma"
      },
      "outputs": [],
      "source": [
        "def compute_prob_win(diff, sample_diff):\n",
        "    \"\"\"Probability of winning for a given diff.\"\"\"\n",
        "    # if you overbid you lose\n",
        "    if diff > 0:\n",
        "        return 0\n",
        "    \n",
        "    # if the opponent overbids, you win\n",
        "    p1 = prob_overbid(sample_diff)\n",
        "    \n",
        "    # or of their bid is worse than yours, you win\n",
        "    p2 = prob_worse_than(diff, sample_diff)\n",
        "    \n",
        "    # p1 and p2 are mutually exclusive, so we can add them\n",
        "    return p1 + p2"
      ]
    },
    {
      "cell_type": "markdown",
      "metadata": {
        "id": "6s5EAGxR13Ma"
      },
      "source": [
        "Here's the probability that you win, given that you underbid by \\\\$5000."
      ]
    },
    {
      "cell_type": "code",
      "execution_count": 38,
      "metadata": {
        "execution": {
          "iopub.execute_input": "2021-04-16T19:35:43.846964Z",
          "iopub.status.busy": "2021-04-16T19:35:43.846152Z",
          "iopub.status.idle": "2021-04-16T19:35:43.848940Z",
          "shell.execute_reply": "2021-04-16T19:35:43.849568Z"
        },
        "id": "lnkTTlSh13Ma",
        "outputId": "90763ea5-fa32-42d7-fc80-5d58dff9af21",
        "colab": {
          "base_uri": "https://localhost:8080/"
        }
      },
      "outputs": [
        {
          "output_type": "execute_result",
          "data": {
            "text/plain": [
              "0.6741214057507987"
            ]
          },
          "metadata": {},
          "execution_count": 38
        }
      ],
      "source": [
        "compute_prob_win(-5000, sample_diff2)"
      ]
    },
    {
      "cell_type": "markdown",
      "metadata": {
        "id": "Qh9JNpvm13Ma"
      },
      "source": [
        "Now let's look at the probability of winning for a range of possible differences."
      ]
    },
    {
      "cell_type": "code",
      "execution_count": 39,
      "metadata": {
        "execution": {
          "iopub.execute_input": "2021-04-16T19:35:43.900383Z",
          "iopub.status.busy": "2021-04-16T19:35:43.880078Z",
          "iopub.status.idle": "2021-04-16T19:35:43.945743Z",
          "shell.execute_reply": "2021-04-16T19:35:43.945174Z"
        },
        "id": "tc81Rh6m13Ma"
      },
      "outputs": [],
      "source": [
        "xs = np.linspace(-30000, 5000, 121)\n",
        "ys = [compute_prob_win(x, sample_diff2) \n",
        "      for x in xs]"
      ]
    },
    {
      "cell_type": "markdown",
      "metadata": {
        "id": "WazoWyOa13Ma"
      },
      "source": [
        "Here's what it looks like:"
      ]
    },
    {
      "cell_type": "code",
      "execution_count": 40,
      "metadata": {
        "execution": {
          "iopub.execute_input": "2021-04-16T19:35:43.983597Z",
          "iopub.status.busy": "2021-04-16T19:35:43.976147Z",
          "iopub.status.idle": "2021-04-16T19:35:44.200342Z",
          "shell.execute_reply": "2021-04-16T19:35:44.199432Z"
        },
        "tags": [],
        "id": "ScX63UfU13Ma",
        "outputId": "99680675-0bda-40c8-add2-00f023847979",
        "colab": {
          "base_uri": "https://localhost:8080/",
          "height": 297
        }
      },
      "outputs": [
        {
          "output_type": "display_data",
          "data": {
            "text/plain": [
              "<Figure size 432x288 with 1 Axes>"
            ],
            "image/png": "[encoded data removed]"
          },
          "metadata": {
            "needs_background": "light"
          }
        }
      ],
      "source": [
        "import matplotlib.pyplot as plt\n",
        "\n",
        "plt.plot(xs, ys)\n",
        "\n",
        "decorate(xlabel='Difference between bid and actual price ($)',\n",
        "         ylabel='Probability of winning',\n",
        "         title='Player 1')"
      ]
    },
    {
      "cell_type": "markdown",
      "metadata": {
        "id": "RmI0_ajs13Ma"
      },
      "source": [
        "If you underbid by \\\\$30,000, the chance of winning is about 30%, which is mostly the chance your opponent overbids.\n",
        "\n",
        "As your bids gets closer to the actual price, your chance of winning approaches 1.\n",
        "\n",
        "And, of course, if you overbid, you lose (even if your opponent also overbids)."
      ]
    },
    {
      "cell_type": "markdown",
      "metadata": {
        "id": "t2_bDwtY13Ma"
      },
      "source": [
        "**Exercise:** Run the same analysis from the point of view of Player 2.  Using the sample of differences from Player 1, compute:\n",
        "\n",
        "1. The probability that Player 1 overbids.\n",
        "\n",
        "2. The probability that Player 1 underbids by more than \\\\$5000.\n",
        "\n",
        "3. The probability that Player 2 wins, given that they underbid by \\\\$5000.\n",
        "\n",
        "Then plot the probability that Player 2 wins for a range of possible differences between their bid and the actual price."
      ]
    },
    {
      "cell_type": "code",
      "execution_count": 41,
      "metadata": {
        "execution": {
          "iopub.execute_input": "2021-04-16T19:35:44.207596Z",
          "iopub.status.busy": "2021-04-16T19:35:44.206660Z",
          "iopub.status.idle": "2021-04-16T19:35:44.210043Z",
          "shell.execute_reply": "2021-04-16T19:35:44.210868Z"
        },
        "id": "3fQpsdxp13Ma",
        "outputId": "302627c7-a9b5-42dc-e6c1-88a3069ff0eb",
        "colab": {
          "base_uri": "https://localhost:8080/"
        }
      },
      "outputs": [
        {
          "output_type": "execute_result",
          "data": {
            "text/plain": [
              "0.24600638977635783"
            ]
          },
          "metadata": {},
          "execution_count": 41
        }
      ],
      "source": [
        "# Solution goes here\n",
        "\n",
        "\n",
        "prob_overbid(sample_diff1)"
      ]
    },
    {
      "cell_type": "code",
      "execution_count": 42,
      "metadata": {
        "execution": {
          "iopub.execute_input": "2021-04-16T19:35:44.218842Z",
          "iopub.status.busy": "2021-04-16T19:35:44.217621Z",
          "iopub.status.idle": "2021-04-16T19:35:44.221106Z",
          "shell.execute_reply": "2021-04-16T19:35:44.222054Z"
        },
        "id": "NAiUncGG13Ma",
        "outputId": "91125871-3597-44a1-ac0c-406d89b53a5c",
        "colab": {
          "base_uri": "https://localhost:8080/"
        }
      },
      "outputs": [
        {
          "output_type": "execute_result",
          "data": {
            "text/plain": [
              "0.3993610223642173"
            ]
          },
          "metadata": {},
          "execution_count": 42
        }
      ],
      "source": [
        "# Solution goes here\n",
        "\n",
        "prob_worse_than(-5000, sample_diff1)"
      ]
    },
    {
      "cell_type": "code",
      "execution_count": 43,
      "metadata": {
        "execution": {
          "iopub.execute_input": "2021-04-16T19:35:44.230669Z",
          "iopub.status.busy": "2021-04-16T19:35:44.229367Z",
          "iopub.status.idle": "2021-04-16T19:35:44.233645Z",
          "shell.execute_reply": "2021-04-16T19:35:44.234317Z"
        },
        "id": "gjPiv4_R13Mb",
        "outputId": "ceb9d8f2-abaa-40cc-cf28-be61d1e4e7bc",
        "colab": {
          "base_uri": "https://localhost:8080/"
        }
      },
      "outputs": [
        {
          "output_type": "execute_result",
          "data": {
            "text/plain": [
              "0.6453674121405751"
            ]
          },
          "metadata": {},
          "execution_count": 43
        }
      ],
      "source": [
        "# Solution goes here\n",
        "\n",
        "\n",
        "compute_prob_win(-5000, sample_diff1)"
      ]
    },
    {
      "cell_type": "code",
      "execution_count": 44,
      "metadata": {
        "execution": {
          "iopub.execute_input": "2021-04-16T19:35:44.252935Z",
          "iopub.status.busy": "2021-04-16T19:35:44.252459Z",
          "iopub.status.idle": "2021-04-16T19:35:44.313662Z",
          "shell.execute_reply": "2021-04-16T19:35:44.314024Z"
        },
        "id": "-qPa73sL13Mb"
      },
      "outputs": [],
      "source": [
        "# Solution goes here\n",
        "\n",
        "xs = np.linspace(-30000, 5000, 121)\n",
        "ys = [compute_prob_win(x, sample_diff1) for x in xs]"
      ]
    },
    {
      "cell_type": "code",
      "execution_count": 45,
      "metadata": {
        "execution": {
          "iopub.execute_input": "2021-04-16T19:35:44.357956Z",
          "iopub.status.busy": "2021-04-16T19:35:44.339391Z",
          "iopub.status.idle": "2021-04-16T19:35:44.564128Z",
          "shell.execute_reply": "2021-04-16T19:35:44.563691Z"
        },
        "id": "QpTeXENy13Mb",
        "outputId": "515381c3-a353-49d0-862e-8b4d1bff1251",
        "colab": {
          "base_uri": "https://localhost:8080/",
          "height": 297
        }
      },
      "outputs": [
        {
          "output_type": "display_data",
          "data": {
            "text/plain": [
              "<Figure size 432x288 with 1 Axes>"
            ],
            "image/png": "[encoded data removed]"
          },
          "metadata": {
            "needs_background": "light"
          }
        }
      ],
      "source": [
        "# Solution goes here\n",
        "\n",
        "\n",
        "plt.plot(xs, ys)\n",
        "\n",
        "decorate(xlabel='Difference between bid and actual price ($)',\n",
        "         ylabel='Probability of winning',\n",
        "         title='Player 2')"
      ]
    },
    {
      "cell_type": "markdown",
      "metadata": {
        "id": "mWvl4cGn13Mb"
      },
      "source": [
        "## Decision Analysis\n",
        "\n",
        "In the previous section we computed the probability of winning, given that we have underbid by a particular amount.\n",
        "\n",
        "In reality the contestants don't know how much they have underbid by, because they don't know the actual price.\n",
        "\n",
        "But they do have a posterior distribution that represents their beliefs about the actual price, and they can use that to estimate their probability of winning with a given bid.\n",
        "\n",
        "The following function takes a possible bid, a posterior distribution of actual prices, and a sample of differences for the opponent.\n",
        "\n",
        "It loops through the hypothetical prices in the posterior distribution and, for each price,\n",
        "\n",
        "1. Computes the difference between the bid and the hypothetical price,\n",
        "\n",
        "2. Computes the probability that the player wins, given that difference, and\n",
        "\n",
        "3. Adds up the weighted sum of the probabilities, where the weights are the probabilities in the posterior distribution. "
      ]
    },
    {
      "cell_type": "code",
      "execution_count": 46,
      "metadata": {
        "execution": {
          "iopub.execute_input": "2021-04-16T19:35:44.570768Z",
          "iopub.status.busy": "2021-04-16T19:35:44.570139Z",
          "iopub.status.idle": "2021-04-16T19:35:44.574093Z",
          "shell.execute_reply": "2021-04-16T19:35:44.573672Z"
        },
        "id": "OLLkNqp213Mb"
      },
      "outputs": [],
      "source": [
        "def total_prob_win(bid, posterior, sample_diff):\n",
        "    \"\"\"Computes the total probability of winning with a given bid.\n",
        "\n",
        "    bid: your bid\n",
        "    posterior: Pmf of showcase value\n",
        "    sample_diff: sequence of differences for the opponent\n",
        "    \n",
        "    returns: probability of winning\n",
        "    \"\"\"\n",
        "    total = 0\n",
        "    for price, prob in posterior.items():\n",
        "        diff = bid - price\n",
        "        total += prob * compute_prob_win(diff, sample_diff)\n",
        "    return total"
      ]
    },
    {
      "cell_type": "markdown",
      "metadata": {
        "id": "oYgVuaqJ13Mb"
      },
      "source": [
        "This loop implements the law of total probability:\n",
        "\n",
        "$$P(win) = \\sum_{price} P(price) ~ P(win ~|~ price)$$\n",
        "\n",
        "Here's the probability that Player 1 wins, based on a bid of \\\\$25,000 and the posterior distribution `posterior1`."
      ]
    },
    {
      "cell_type": "code",
      "execution_count": 47,
      "metadata": {
        "execution": {
          "iopub.execute_input": "2021-04-16T19:35:44.628806Z",
          "iopub.status.busy": "2021-04-16T19:35:44.612939Z",
          "iopub.status.idle": "2021-04-16T19:35:44.632948Z",
          "shell.execute_reply": "2021-04-16T19:35:44.633353Z"
        },
        "id": "4RlUtIpw13Mb",
        "outputId": "161682ae-8d5c-487f-cb4e-e21af9364042",
        "colab": {
          "base_uri": "https://localhost:8080/"
        }
      },
      "outputs": [
        {
          "output_type": "execute_result",
          "data": {
            "text/plain": [
              "0.4842210945439812"
            ]
          },
          "metadata": {},
          "execution_count": 47
        }
      ],
      "source": [
        "total_prob_win(25000, posterior1, sample_diff2)"
      ]
    },
    {
      "cell_type": "markdown",
      "metadata": {
        "id": "w1tlIBGx13Mb"
      },
      "source": [
        "Now we can loop through a series of possible bids and compute the probability of winning for each one."
      ]
    },
    {
      "cell_type": "code",
      "execution_count": 48,
      "metadata": {
        "execution": {
          "iopub.execute_input": "2021-04-16T19:35:44.708685Z",
          "iopub.status.busy": "2021-04-16T19:35:44.672661Z",
          "iopub.status.idle": "2021-04-16T19:35:46.270662Z",
          "shell.execute_reply": "2021-04-16T19:35:46.270147Z"
        },
        "id": "AxoD-ae513Mb"
      },
      "outputs": [],
      "source": [
        "bids = posterior1.qs\n",
        "\n",
        "probs = [total_prob_win(bid, posterior1, sample_diff2) \n",
        "         for bid in bids]\n",
        "\n",
        "prob_win_series = pd.Series(probs, index=bids)"
      ]
    },
    {
      "cell_type": "markdown",
      "metadata": {
        "id": "uUvLppMa13Mb"
      },
      "source": [
        "Here are the results."
      ]
    },
    {
      "cell_type": "code",
      "execution_count": 49,
      "metadata": {
        "execution": {
          "iopub.execute_input": "2021-04-16T19:35:46.306239Z",
          "iopub.status.busy": "2021-04-16T19:35:46.291839Z",
          "iopub.status.idle": "2021-04-16T19:35:46.422364Z",
          "shell.execute_reply": "2021-04-16T19:35:46.421956Z"
        },
        "tags": [],
        "id": "a5FKfKLW13Mb",
        "outputId": "e0ff27a3-975f-4385-f36f-756eac7a4f13",
        "colab": {
          "base_uri": "https://localhost:8080/",
          "height": 297
        }
      },
      "outputs": [
        {
          "output_type": "display_data",
          "data": {
            "text/plain": [
              "<Figure size 432x288 with 1 Axes>"
            ],
            "image/png": "[encoded data removed]"
          },
          "metadata": {
            "needs_background": "light"
          }
        }
      ],
      "source": [
        "prob_win_series.plot(label='Player 1', color='C1')\n",
        "\n",
        "decorate(xlabel='Bid ($)',\n",
        "         ylabel='Probability of winning',\n",
        "         title='Optimal bid: probability of winning')"
      ]
    },
    {
      "cell_type": "markdown",
      "metadata": {
        "id": "AHNKhHnB13Mb"
      },
      "source": [
        "And here's the bid that maximizes Player 1's chance of winning."
      ]
    },
    {
      "cell_type": "code",
      "execution_count": 50,
      "metadata": {
        "execution": {
          "iopub.execute_input": "2021-04-16T19:35:46.425882Z",
          "iopub.status.busy": "2021-04-16T19:35:46.425408Z",
          "iopub.status.idle": "2021-04-16T19:35:46.430103Z",
          "shell.execute_reply": "2021-04-16T19:35:46.429712Z"
        },
        "id": "Bh-NYfMJ13Mc",
        "outputId": "d13c2ab4-aaf4-4d4a-8de0-e3d74b1af62f",
        "colab": {
          "base_uri": "https://localhost:8080/"
        }
      },
      "outputs": [
        {
          "output_type": "execute_result",
          "data": {
            "text/plain": [
              "21000.0"
            ]
          },
          "metadata": {},
          "execution_count": 50
        }
      ],
      "source": [
        "prob_win_series.idxmax()"
      ]
    },
    {
      "cell_type": "code",
      "execution_count": 51,
      "metadata": {
        "execution": {
          "iopub.execute_input": "2021-04-16T19:35:46.433880Z",
          "iopub.status.busy": "2021-04-16T19:35:46.433042Z",
          "iopub.status.idle": "2021-04-16T19:35:46.437889Z",
          "shell.execute_reply": "2021-04-16T19:35:46.437462Z"
        },
        "id": "FtLOYayb13Mc",
        "outputId": "e652cdff-859e-4f1b-9d0b-e1a692c96b09",
        "colab": {
          "base_uri": "https://localhost:8080/"
        }
      },
      "outputs": [
        {
          "output_type": "execute_result",
          "data": {
            "text/plain": [
              "0.6136807192359474"
            ]
          },
          "metadata": {},
          "execution_count": 51
        }
      ],
      "source": [
        "prob_win_series.max()"
      ]
    },
    {
      "cell_type": "markdown",
      "metadata": {
        "id": "eu67kYLU13Mc"
      },
      "source": [
        "Recall that your guess was \\\\$23,000.\n",
        "Using your guess to compute the posterior distribution, the posterior mean is about \\\\$26,000.\n",
        "But the bid that maximizes your chance of winning is \\\\$21,000."
      ]
    },
    {
      "cell_type": "markdown",
      "metadata": {
        "id": "lsSc9R-b13Mc"
      },
      "source": [
        "**Exercise:** Do the same analysis for Player 2."
      ]
    },
    {
      "cell_type": "code",
      "execution_count": 52,
      "metadata": {
        "execution": {
          "iopub.execute_input": "2021-04-16T19:35:46.495866Z",
          "iopub.status.busy": "2021-04-16T19:35:46.460137Z",
          "iopub.status.idle": "2021-04-16T19:35:47.898014Z",
          "shell.execute_reply": "2021-04-16T19:35:47.897569Z"
        },
        "id": "MuHYlrDv13Mc"
      },
      "outputs": [],
      "source": [
        "# Solution goes here\n",
        "\n",
        "\n",
        "bids = posterior2.qs\n",
        "\n",
        "probs = [total_prob_win(bid, posterior2, sample_diff1) \n",
        "         for bid in bids]\n",
        "\n",
        "prob_win_series = pd.Series(probs, index=bids)"
      ]
    },
    {
      "cell_type": "code",
      "execution_count": 53,
      "metadata": {
        "execution": {
          "iopub.execute_input": "2021-04-16T19:35:47.916760Z",
          "iopub.status.busy": "2021-04-16T19:35:47.915987Z",
          "iopub.status.idle": "2021-04-16T19:35:48.073976Z",
          "shell.execute_reply": "2021-04-16T19:35:48.073607Z"
        },
        "id": "hUAtVny-13Mc",
        "outputId": "015e3a59-7613-4161-f7e6-6956861c2abb",
        "colab": {
          "base_uri": "https://localhost:8080/",
          "height": 297
        }
      },
      "outputs": [
        {
          "output_type": "display_data",
          "data": {
            "text/plain": [
              "<Figure size 432x288 with 1 Axes>"
            ],
            "image/png": "[encoded data removed]"
          },
          "metadata": {
            "needs_background": "light"
          }
        }
      ],
      "source": [
        "# Solution goes here\n",
        "\n",
        "prob_win_series.plot(label='Player 2', color='C1')\n",
        "\n",
        "decorate(xlabel='Bid ($)',\n",
        "         ylabel='Probability of winning',\n",
        "         title='Optimal bid: probability of winning')"
      ]
    },
    {
      "cell_type": "code",
      "execution_count": 54,
      "metadata": {
        "execution": {
          "iopub.execute_input": "2021-04-16T19:35:48.077656Z",
          "iopub.status.busy": "2021-04-16T19:35:48.077009Z",
          "iopub.status.idle": "2021-04-16T19:35:48.079401Z",
          "shell.execute_reply": "2021-04-16T19:35:48.079754Z"
        },
        "id": "LjXJEAwJ13Mc",
        "outputId": "84273e43-1179-4f28-ddf8-75ea5b34b5ad",
        "colab": {
          "base_uri": "https://localhost:8080/"
        }
      },
      "outputs": [
        {
          "output_type": "execute_result",
          "data": {
            "text/plain": [
              "29000.0"
            ]
          },
          "metadata": {},
          "execution_count": 54
        }
      ],
      "source": [
        "# Solution goes here\n",
        "\n",
        "prob_win_series.idxmax()"
      ]
    },
    {
      "cell_type": "code",
      "execution_count": 55,
      "metadata": {
        "execution": {
          "iopub.execute_input": "2021-04-16T19:35:48.083673Z",
          "iopub.status.busy": "2021-04-16T19:35:48.082935Z",
          "iopub.status.idle": "2021-04-16T19:35:48.086036Z",
          "shell.execute_reply": "2021-04-16T19:35:48.085566Z"
        },
        "id": "cbui80ky13Mc",
        "outputId": "ee33ecc6-7cfb-4a89-a426-e69f5ab2c876",
        "colab": {
          "base_uri": "https://localhost:8080/"
        }
      },
      "outputs": [
        {
          "output_type": "execute_result",
          "data": {
            "text/plain": [
              "0.5171370053364229"
            ]
          },
          "metadata": {},
          "execution_count": 55
        }
      ],
      "source": [
        "# Solution goes here\n",
        "\n",
        "prob_win_series.max()"
      ]
    },
    {
      "cell_type": "markdown",
      "metadata": {
        "id": "rppworxc13Mc"
      },
      "source": [
        "## Maximizing Expected Gain\n",
        "\n",
        "In the previous section we computed the bid that maximizes your chance of winning.\n",
        "And if that's your goal, the bid we computed is optimal.\n",
        "\n",
        "But winning isn't everything.\n",
        "Remember that if your bid is off by \\\\$250 or less, you win both showcases.\n",
        "So it might be a good idea to increase your bid a little: it increases the chance you overbid and lose, but it also increases the chance of winning both showcases.\n",
        "\n",
        "Let's see how that works out.\n",
        "The following function computes how much you will win, on average, given your bid, the actual price, and a sample of errors for your opponent."
      ]
    },
    {
      "cell_type": "code",
      "execution_count": 56,
      "metadata": {
        "execution": {
          "iopub.execute_input": "2021-04-16T19:35:48.089830Z",
          "iopub.status.busy": "2021-04-16T19:35:48.089389Z",
          "iopub.status.idle": "2021-04-16T19:35:48.091415Z",
          "shell.execute_reply": "2021-04-16T19:35:48.091026Z"
        },
        "id": "pIM54m2Y13Mc"
      },
      "outputs": [],
      "source": [
        "def compute_gain(bid, price, sample_diff):\n",
        "    \"\"\"Compute expected gain given a bid and actual price.\"\"\"\n",
        "    diff = bid - price\n",
        "    prob = compute_prob_win(diff, sample_diff)\n",
        "\n",
        "    # if you are within 250 dollars, you win both showcases\n",
        "    if -250 <= diff <= 0:\n",
        "        return 2 * price * prob\n",
        "    else:\n",
        "        return price * prob"
      ]
    },
    {
      "cell_type": "markdown",
      "metadata": {
        "id": "tKw75uiw13Mc"
      },
      "source": [
        "For example, if the actual price is \\\\$35000 \n",
        "and you bid \\\\$30000, \n",
        "you will win about \\\\$23,600 worth of prizes on average, taking into account your probability of losing, winning one showcase, or winning both."
      ]
    },
    {
      "cell_type": "code",
      "execution_count": 57,
      "metadata": {
        "execution": {
          "iopub.execute_input": "2021-04-16T19:35:48.095957Z",
          "iopub.status.busy": "2021-04-16T19:35:48.095151Z",
          "iopub.status.idle": "2021-04-16T19:35:48.098364Z",
          "shell.execute_reply": "2021-04-16T19:35:48.097922Z"
        },
        "id": "BE9uE0Wh13Mc",
        "outputId": "026037a8-2462-48ad-e07a-e4fb91ab0f9d",
        "colab": {
          "base_uri": "https://localhost:8080/"
        }
      },
      "outputs": [
        {
          "output_type": "execute_result",
          "data": {
            "text/plain": [
              "23594.249201277955"
            ]
          },
          "metadata": {},
          "execution_count": 57
        }
      ],
      "source": [
        "compute_gain(30000, 35000, sample_diff2)"
      ]
    },
    {
      "cell_type": "markdown",
      "metadata": {
        "id": "UYyhwLOi13Md"
      },
      "source": [
        "In reality we don't know the actual price, but we have a posterior distribution that represents what we know about it.\n",
        "By averaging over the prices and probabilities in the posterior distribution, we can compute the expected gain for a particular bid.\n",
        "\n",
        "In this context, \"expected\" means the average over the possible showcase values, weighted by their probabilities."
      ]
    },
    {
      "cell_type": "code",
      "execution_count": 58,
      "metadata": {
        "execution": {
          "iopub.execute_input": "2021-04-16T19:35:48.102421Z",
          "iopub.status.busy": "2021-04-16T19:35:48.101903Z",
          "iopub.status.idle": "2021-04-16T19:35:48.104181Z",
          "shell.execute_reply": "2021-04-16T19:35:48.103665Z"
        },
        "id": "X3DlHL0S13Md"
      },
      "outputs": [],
      "source": [
        "def expected_gain(bid, posterior, sample_diff):\n",
        "    \"\"\"Compute the expected gain of a given bid.\"\"\"\n",
        "    total = 0\n",
        "    for price, prob in posterior.items():\n",
        "        total += prob * compute_gain(bid, price, sample_diff)\n",
        "    return total"
      ]
    },
    {
      "cell_type": "markdown",
      "metadata": {
        "id": "FH1MNloS13Md"
      },
      "source": [
        "For the posterior we computed earlier, based on a guess of \\\\$23,000, the expected gain for a bid of \\\\$21,000 is about \\\\$16,900."
      ]
    },
    {
      "cell_type": "code",
      "execution_count": 59,
      "metadata": {
        "execution": {
          "iopub.execute_input": "2021-04-16T19:35:48.137026Z",
          "iopub.status.busy": "2021-04-16T19:35:48.136553Z",
          "iopub.status.idle": "2021-04-16T19:35:48.139335Z",
          "shell.execute_reply": "2021-04-16T19:35:48.138880Z"
        },
        "id": "qmpVBj-H13Md",
        "outputId": "291dad81-d477-40e9-fcd0-aaff398e9b6e",
        "colab": {
          "base_uri": "https://localhost:8080/"
        }
      },
      "outputs": [
        {
          "output_type": "execute_result",
          "data": {
            "text/plain": [
              "16923.59933856512"
            ]
          },
          "metadata": {},
          "execution_count": 59
        }
      ],
      "source": [
        "expected_gain(21000, posterior1, sample_diff2)"
      ]
    },
    {
      "cell_type": "markdown",
      "metadata": {
        "id": "TiWqBrEw13Md"
      },
      "source": [
        "But can we do any better? \n",
        "\n",
        "To find out, we can loop through a range of bids and find the one that maximizes expected gain."
      ]
    },
    {
      "cell_type": "code",
      "execution_count": 60,
      "metadata": {
        "execution": {
          "iopub.execute_input": "2021-04-16T19:35:48.212459Z",
          "iopub.status.busy": "2021-04-16T19:35:48.176771Z",
          "iopub.status.idle": "2021-04-16T19:35:49.578032Z",
          "shell.execute_reply": "2021-04-16T19:35:49.577538Z"
        },
        "id": "mnLv_QMF13Md"
      },
      "outputs": [],
      "source": [
        "bids = posterior1.qs\n",
        "\n",
        "gains = [expected_gain(bid, posterior1, sample_diff2) for bid in bids]\n",
        "\n",
        "expected_gain_series = pd.Series(gains, index=bids)"
      ]
    },
    {
      "cell_type": "markdown",
      "metadata": {
        "id": "vYsPlOYI13Md"
      },
      "source": [
        "Here are the results."
      ]
    },
    {
      "cell_type": "code",
      "execution_count": 61,
      "metadata": {
        "execution": {
          "iopub.execute_input": "2021-04-16T19:35:49.595312Z",
          "iopub.status.busy": "2021-04-16T19:35:49.594806Z",
          "iopub.status.idle": "2021-04-16T19:35:49.758820Z",
          "shell.execute_reply": "2021-04-16T19:35:49.759161Z"
        },
        "tags": [],
        "id": "vIsNiRdb13Md",
        "outputId": "918bf816-8970-40d6-a1c8-3d0c27905cfd",
        "colab": {
          "base_uri": "https://localhost:8080/",
          "height": 297
        }
      },
      "outputs": [
        {
          "output_type": "display_data",
          "data": {
            "text/plain": [
              "<Figure size 432x288 with 1 Axes>"
            ],
            "image/png": "[encoded data removed]"
          },
          "metadata": {
            "needs_background": "light"
          }
        }
      ],
      "source": [
        "expected_gain_series.plot(label='Player 1', color='C2')\n",
        "\n",
        "decorate(xlabel='Bid ($)',\n",
        "         ylabel='Expected gain ($)',\n",
        "         title='Optimal bid: expected gain')"
      ]
    },
    {
      "cell_type": "markdown",
      "metadata": {
        "id": "WLs03ce013Md"
      },
      "source": [
        "Here is the optimal bid."
      ]
    },
    {
      "cell_type": "code",
      "execution_count": 62,
      "metadata": {
        "execution": {
          "iopub.execute_input": "2021-04-16T19:35:49.763145Z",
          "iopub.status.busy": "2021-04-16T19:35:49.762475Z",
          "iopub.status.idle": "2021-04-16T19:35:49.764913Z",
          "shell.execute_reply": "2021-04-16T19:35:49.765309Z"
        },
        "id": "q21dH8ca13Me",
        "outputId": "97d5b471-f6e8-4f77-f233-8f4a772a0f35",
        "colab": {
          "base_uri": "https://localhost:8080/"
        }
      },
      "outputs": [
        {
          "output_type": "execute_result",
          "data": {
            "text/plain": [
              "22000.0"
            ]
          },
          "metadata": {},
          "execution_count": 62
        }
      ],
      "source": [
        "expected_gain_series.idxmax()"
      ]
    },
    {
      "cell_type": "markdown",
      "metadata": {
        "id": "eYMj4paF13Me"
      },
      "source": [
        "With that bid, the expected gain is about \\\\$17,400."
      ]
    },
    {
      "cell_type": "code",
      "execution_count": 63,
      "metadata": {
        "execution": {
          "iopub.execute_input": "2021-04-16T19:35:49.768943Z",
          "iopub.status.busy": "2021-04-16T19:35:49.768405Z",
          "iopub.status.idle": "2021-04-16T19:35:49.771158Z",
          "shell.execute_reply": "2021-04-16T19:35:49.770667Z"
        },
        "id": "ecxQfip013Me",
        "outputId": "a769b7ea-4e54-4f7b-ed4e-bea60f101352",
        "colab": {
          "base_uri": "https://localhost:8080/"
        }
      },
      "outputs": [
        {
          "output_type": "execute_result",
          "data": {
            "text/plain": [
              "17384.899584430797"
            ]
          },
          "metadata": {},
          "execution_count": 63
        }
      ],
      "source": [
        "expected_gain_series.max()"
      ]
    },
    {
      "cell_type": "markdown",
      "metadata": {
        "id": "73GqO7HD13Me"
      },
      "source": [
        "Recall that your initial guess was \\\\$23,000.\n",
        "The bid that maximizes the chance of winning is \\\\$21,000.\n",
        "And the bid that maximizes your expected gain is \\\\$22,000."
      ]
    },
    {
      "cell_type": "markdown",
      "metadata": {
        "id": "kdGB43vZ13Me"
      },
      "source": [
        "**Exercise:** Do the same analysis for Player 2."
      ]
    },
    {
      "cell_type": "code",
      "execution_count": 64,
      "metadata": {
        "execution": {
          "iopub.execute_input": "2021-04-16T19:35:49.833753Z",
          "iopub.status.busy": "2021-04-16T19:35:49.808430Z",
          "iopub.status.idle": "2021-04-16T19:35:51.251753Z",
          "shell.execute_reply": "2021-04-16T19:35:51.252169Z"
        },
        "id": "lDzrQKjA13Me"
      },
      "outputs": [],
      "source": [
        "# Solution goes here\n",
        "\n",
        "bids = posterior2.qs\n",
        "\n",
        "gains = [expected_gain(bid, posterior2, sample_diff1) for bid in bids]\n",
        "\n",
        "expected_gain_series = pd.Series(gains, index=bids)"
      ]
    },
    {
      "cell_type": "code",
      "execution_count": 65,
      "metadata": {
        "execution": {
          "iopub.execute_input": "2021-04-16T19:35:51.336820Z",
          "iopub.status.busy": "2021-04-16T19:35:51.336306Z",
          "iopub.status.idle": "2021-04-16T19:35:51.527770Z",
          "shell.execute_reply": "2021-04-16T19:35:51.528265Z"
        },
        "id": "5AtC64Lf13Me",
        "outputId": "4c30a580-3567-433a-fddb-a3a9482fa627",
        "colab": {
          "base_uri": "https://localhost:8080/",
          "height": 297
        }
      },
      "outputs": [
        {
          "output_type": "display_data",
          "data": {
            "text/plain": [
              "<Figure size 432x288 with 1 Axes>"
            ],
            "image/png": "[encoded data removed]"
          },
          "metadata": {
            "needs_background": "light"
          }
        }
      ],
      "source": [
        "# Solution goes here\n",
        "\n",
        "expected_gain_series.plot(label='Player 2', color='C2')\n",
        "\n",
        "decorate(xlabel='Bid ($)',\n",
        "    ylabel='Expected gain ($)',\n",
        "    title='Optimal bid: expected gain')"
      ]
    },
    {
      "cell_type": "code",
      "execution_count": 66,
      "metadata": {
        "execution": {
          "iopub.execute_input": "2021-04-16T19:35:51.532762Z",
          "iopub.status.busy": "2021-04-16T19:35:51.532102Z",
          "iopub.status.idle": "2021-04-16T19:35:51.535667Z",
          "shell.execute_reply": "2021-04-16T19:35:51.535248Z"
        },
        "id": "dlFiqIqO13Me",
        "outputId": "28ec662d-db76-4b42-822d-feaa965ae640",
        "colab": {
          "base_uri": "https://localhost:8080/"
        }
      },
      "outputs": [
        {
          "output_type": "execute_result",
          "data": {
            "text/plain": [
              "30000.0"
            ]
          },
          "metadata": {},
          "execution_count": 66
        }
      ],
      "source": [
        "# Solution goes here\n",
        "\n",
        "\n",
        "expected_gain_series.idxmax()"
      ]
    },
    {
      "cell_type": "code",
      "execution_count": 67,
      "metadata": {
        "execution": {
          "iopub.execute_input": "2021-04-16T19:35:51.555414Z",
          "iopub.status.busy": "2021-04-16T19:35:51.554109Z",
          "iopub.status.idle": "2021-04-16T19:35:51.557359Z",
          "shell.execute_reply": "2021-04-16T19:35:51.554778Z"
        },
        "id": "-cgQpd9n13Me",
        "outputId": "df353496-7319-4cc9-d634-567bc782f5f1",
        "colab": {
          "base_uri": "https://localhost:8080/"
        }
      },
      "outputs": [
        {
          "output_type": "execute_result",
          "data": {
            "text/plain": [
              "19404.164188501607"
            ]
          },
          "metadata": {},
          "execution_count": 67
        }
      ],
      "source": [
        "# Solution goes here\n",
        "\n",
        "expected_gain_series.max()"
      ]
    },
    {
      "cell_type": "markdown",
      "metadata": {
        "id": "CItHBUgW13Mf"
      },
      "source": [
        "## Summary\n",
        "\n",
        "There's a lot going on this this chapter, so let's review the steps:\n",
        "\n",
        "1. First we used KDE and data from past shows to estimate prior distributions for the values of the showcases.\n",
        "\n",
        "2. Then we used bids from past shows to model the distribution of errors as a normal distribution.\n",
        "\n",
        "3. We did a Bayesian update using the distribution of errors to compute the likelihood of the data.\n",
        "\n",
        "4. We used the posterior distribution for the value of the showcase to compute the probability of winning for each possible bid, and identified the bid that maximizes the chance of winning.\n",
        "\n",
        "5. Finally, we used probability of winning to compute the expected gain for each possible bid, and identified the bid that maximizes expected gain.\n",
        "\n",
        "Incidentally, this example demonstrates the hazard of using the word \"optimal\" without specifying what you are optimizing.\n",
        "The bid that maximizes the chance of winning is not generally the same as the bid that maximizes expected gain."
      ]
    },
    {
      "cell_type": "markdown",
      "metadata": {
        "id": "xW3QlUeS13Mf"
      },
      "source": [
        "## Discussion\n",
        "\n",
        "When people discuss the pros and cons of Bayesian estimation, as contrasted with classical methods sometimes called \"frequentist\", they often claim that in many cases Bayesian methods and frequentist methods produce the same results.\n",
        "\n",
        "In my opinion, this claim is mistaken because Bayesian and frequentist method produce different *kinds* of results:\n",
        "\n",
        "* The result of frequentist methods is usually a single value that is considered to be the best estimate (by one of several criteria) or an interval that quantifies the precision of the estimate.\n",
        "\n",
        "* The result of Bayesian methods is a posterior distribution that represents all possible outcomes and their probabilities."
      ]
    },
    {
      "cell_type": "markdown",
      "metadata": {
        "id": "0Tts8G4K13Mf"
      },
      "source": [
        "Granted, you can use the posterior distribution to choose a \"best\" estimate or compute an interval.\n",
        "And in that case the result might be the same as the frequentist estimate.\n",
        "\n",
        "But doing so discards useful information and, in my opinion, eliminates the primary benefit of Bayesian methods: the posterior distribution is more useful than a single estimate, or even an interval."
      ]
    },
    {
      "cell_type": "markdown",
      "metadata": {
        "id": "0AP1OIxV13Mf"
      },
      "source": [
        "The example in this chapter demonstrates the point.\n",
        "Using the entire posterior distribution, we can compute the bid that maximizes the probability of winning, or the bid that maximizes expected gain, even if the rules for computing the gain are complicated (and nonlinear).\n",
        "\n",
        "With a single estimate or an interval, we can't do that, even if they are \"optimal\" in some sense.\n",
        "In general, frequentist estimation provides little guidance for decision-making.\n",
        "\n",
        "If you hear someone say that Bayesian and frequentist methods produce the same results, you can be confident that they don't understand Bayesian methods."
      ]
    },
    {
      "cell_type": "markdown",
      "metadata": {
        "id": "A-dyLQzD13Mf"
      },
      "source": [
        "## Exercises"
      ]
    },
    {
      "cell_type": "markdown",
      "metadata": {
        "id": "fswJUNGH13Mf"
      },
      "source": [
        "**Exercise:** When I worked in Cambridge, Massachusetts, I usually took the subway to South Station and then a commuter train home to Needham.  Because the subway was unpredictable, I left the office early enough that I could wait up to 15 minutes and still catch the commuter train.\n",
        "\n",
        "When I got to the subway stop, there were usually about 10 people waiting on the platform.  If there were fewer than that, I figured I just missed a train, so I expected to wait a little longer than usual.  And if there there more than that, I expected another train soon.\n",
        "\n",
        "But if there were a *lot* more than 10 passengers waiting, I inferred that something was wrong, and I expected a long wait.  In that case, I might leave and take a taxi.\n",
        "\n",
        "We can use Bayesian decision analysis to quantify the analysis I did intuitively.  Given the number of passengers on the platform, how long should we expect to wait?  And when should we give up and take a taxi?\n",
        "\n",
        "My analysis of this problem is in `redline.ipynb`, which is in the repository for this book.  [Click here to run this notebook on Colab](https://colab.research.google.com/github/AllenDowney/ThinkBayes2/blob/master/notebooks/redline.ipynb)."
      ]
    },
    {
      "cell_type": "markdown",
      "metadata": {
        "id": "fy4zFyER13Mf"
      },
      "source": [
        "**Exercise:**  This exercise is inspired by a true story.  In 2001 I created [Green Tea Press](https://greenteapress.com) to publish my books, starting with *Think Python*.  I ordered 100 copies from a short run printer and made the book available for sale through a distributor.  \n",
        "\n",
        "After the first week, the distributor reported that 12 copies were sold.  Based that report, I thought I would run out of copies in about 8 weeks, so I got ready to order more.  My printer offered me a discount if I ordered more than 1000 copies, so I went a little crazy and ordered 2000.  \n",
        "\n",
        "A few days later, my mother called to tell me that her *copies* of the book had arrived.  Surprised, I asked how many.  She said ten.\n",
        "\n",
        "It turned out I had sold only two books to non-relatives.  And it took a lot longer than I expected to sell 2000 copies."
      ]
    },
    {
      "cell_type": "markdown",
      "metadata": {
        "id": "2PKraWfj13Mf"
      },
      "source": [
        "The details of this story are unique, but the general problem is something almost every retailer has to figure out.  Based on past sales, how do you predict future sales?  And based on those predictions, how do you decide how much to order and when?\n",
        "\n",
        "Often the cost of a bad decision is complicated.  If you place a lot of small orders rather than one big one, your costs are likely to be higher.  If you run out of inventory, you might lose customers.  And if you order too much, you have to pay the various costs of holding inventory.\n",
        "\n",
        "So, let's solve a version of the problem I faced.  It will take some work to set up the problem; the details are in the notebook for this chapter."
      ]
    },
    {
      "cell_type": "markdown",
      "metadata": {
        "tags": [],
        "id": "1MNXytuH13Mf"
      },
      "source": [
        "Suppose you start selling books online.  During the first week you sell 10 copies (and let's assume that none of the customers are your mother).  During the second week you sell 9 copies.\n",
        "\n",
        "Assuming that the arrival of orders is a Poisson process, we can think of the weekly orders as samples from a Poisson distribution with an unknown rate.\n",
        "We can use orders from past weeks to estimate the parameter of this distribution, generate a predictive distribution for future weeks, and compute the order size that maximized expected profit.\n",
        "\n",
        "* Suppose the cost of printing the book is \\\\$5 per copy, \n",
        "\n",
        "* But if you order 100 or more, it's \\\\$4.50 per copy.\n",
        "\n",
        "* For every book you sell, you get \\\\$10.\n",
        "\n",
        "* But if you run out of books before the end of 8 weeks, you lose \\\\$50 in future sales for every week you are out of stock.\n",
        "\n",
        "* If you have books left over at the end of 8 weeks, you lose \\\\$2 in inventory costs per extra book.\n",
        "\n",
        "For example, suppose you get orders for 10 books per week, every week. If you order 60 books, \n",
        "\n",
        "* The total cost is \\\\$300.  \n",
        "\n",
        "* You sell all 60 books, so you make \\\\$600.  \n",
        "\n",
        "* But the book is out of stock for two weeks, so you lose \\\\$100 in future sales.\n",
        "\n",
        "In total, your profit is \\\\$200.\n",
        "\n",
        "If you order 100 books,\n",
        "\n",
        "* The total cost is \\\\$450.\n",
        "\n",
        "* You sell 80 books, so you make \\\\$800.\n",
        "\n",
        "* But you have 20 books left over at the end, so you lose \\\\$40.\n",
        "\n",
        "In total, your profit is \\\\$310.\n",
        "\n",
        "Combining these costs with your predictive distribution, how many books should you order to maximize your expected profit?"
      ]
    },
    {
      "cell_type": "markdown",
      "metadata": {
        "tags": [],
        "id": "fhLJOVlj13Mf"
      },
      "source": [
        "To get you started, the following functions compute profits and costs according to the specification of the problem:"
      ]
    },
    {
      "cell_type": "code",
      "execution_count": 68,
      "metadata": {
        "execution": {
          "iopub.execute_input": "2021-04-16T19:35:51.562554Z",
          "iopub.status.busy": "2021-04-16T19:35:51.561855Z",
          "iopub.status.idle": "2021-04-16T19:35:51.565805Z",
          "shell.execute_reply": "2021-04-16T19:35:51.566720Z"
        },
        "tags": [],
        "id": "BH_mrEAL13Mf"
      },
      "outputs": [],
      "source": [
        "def print_cost(printed):\n",
        "    \"\"\"Compute print costs.\n",
        "    \n",
        "    printed: integer number printed\n",
        "    \"\"\"\n",
        "    if printed < 100:\n",
        "        return printed * 5\n",
        "    else:\n",
        "        return printed * 4.5"
      ]
    },
    {
      "cell_type": "code",
      "execution_count": 69,
      "metadata": {
        "execution": {
          "iopub.execute_input": "2021-04-16T19:35:51.572879Z",
          "iopub.status.busy": "2021-04-16T19:35:51.572142Z",
          "iopub.status.idle": "2021-04-16T19:35:51.582185Z",
          "shell.execute_reply": "2021-04-16T19:35:51.582596Z"
        },
        "tags": [],
        "id": "E57PMrCX13Mf"
      },
      "outputs": [],
      "source": [
        "def total_income(printed, orders):\n",
        "    \"\"\"Compute income.\n",
        "    \n",
        "    printed: integer number printed\n",
        "    orders: sequence of integer number of books ordered\n",
        "    \"\"\"\n",
        "    sold = min(printed, np.sum(orders))\n",
        "    return sold * 10"
      ]
    },
    {
      "cell_type": "code",
      "execution_count": 70,
      "metadata": {
        "execution": {
          "iopub.execute_input": "2021-04-16T19:35:51.587177Z",
          "iopub.status.busy": "2021-04-16T19:35:51.586735Z",
          "iopub.status.idle": "2021-04-16T19:35:51.588667Z",
          "shell.execute_reply": "2021-04-16T19:35:51.589058Z"
        },
        "tags": [],
        "id": "kp9Whs3N13Mf"
      },
      "outputs": [],
      "source": [
        "def inventory_cost(printed, orders):\n",
        "    \"\"\"Compute inventory costs.\n",
        "    \n",
        "    printed: integer number printed\n",
        "    orders: sequence of integer number of books ordered\n",
        "    \"\"\"\n",
        "    excess = printed - np.sum(orders)\n",
        "    if excess > 0:\n",
        "        return excess * 2\n",
        "    else:\n",
        "        return 0"
      ]
    },
    {
      "cell_type": "code",
      "execution_count": 71,
      "metadata": {
        "execution": {
          "iopub.execute_input": "2021-04-16T19:35:51.594274Z",
          "iopub.status.busy": "2021-04-16T19:35:51.593740Z",
          "iopub.status.idle": "2021-04-16T19:35:51.597400Z",
          "shell.execute_reply": "2021-04-16T19:35:51.596976Z"
        },
        "tags": [],
        "id": "h209WaOT13Mg"
      },
      "outputs": [],
      "source": [
        "def out_of_stock_cost(printed, orders):\n",
        "    \"\"\"Compute out of stock costs.\n",
        "    \n",
        "    printed: integer number printed\n",
        "    orders: sequence of integer number of books ordered\n",
        "    \"\"\"\n",
        "    weeks = len(orders)\n",
        "    total_orders = np.cumsum(orders)\n",
        "    for i, total in enumerate(total_orders):\n",
        "        if total > printed:\n",
        "            return (weeks-i) * 50\n",
        "    return 0"
      ]
    },
    {
      "cell_type": "code",
      "execution_count": 72,
      "metadata": {
        "execution": {
          "iopub.execute_input": "2021-04-16T19:35:51.601347Z",
          "iopub.status.busy": "2021-04-16T19:35:51.600787Z",
          "iopub.status.idle": "2021-04-16T19:35:51.604170Z",
          "shell.execute_reply": "2021-04-16T19:35:51.604606Z"
        },
        "tags": [],
        "id": "4UEK7dQX13Mg"
      },
      "outputs": [],
      "source": [
        "def compute_profit(printed, orders):\n",
        "    \"\"\"Compute profit.\n",
        "    \n",
        "    printed: integer number printed\n",
        "    orders: sequence of integer number of books ordered\n",
        "    \"\"\"\n",
        "    return (total_income(printed, orders) -\n",
        "            print_cost(printed)-\n",
        "            out_of_stock_cost(printed, orders) -\n",
        "            inventory_cost(printed, orders))"
      ]
    },
    {
      "cell_type": "markdown",
      "metadata": {
        "tags": [],
        "id": "luwOKAxH13Mg"
      },
      "source": [
        "To test these functions, suppose we get exactly 10 orders per week for eight weeks:"
      ]
    },
    {
      "cell_type": "code",
      "execution_count": 73,
      "metadata": {
        "execution": {
          "iopub.execute_input": "2021-04-16T19:35:51.611079Z",
          "iopub.status.busy": "2021-04-16T19:35:51.610241Z",
          "iopub.status.idle": "2021-04-16T19:35:51.616176Z",
          "shell.execute_reply": "2021-04-16T19:35:51.616554Z"
        },
        "tags": [],
        "id": "WQHDXoCj13Mg",
        "outputId": "9ef287e1-fdb8-457c-b9dd-7b95d195ee36",
        "colab": {
          "base_uri": "https://localhost:8080/"
        }
      },
      "outputs": [
        {
          "output_type": "execute_result",
          "data": {
            "text/plain": [
              "[10, 10, 10, 10, 10, 10, 10, 10]"
            ]
          },
          "metadata": {},
          "execution_count": 73
        }
      ],
      "source": [
        "always_10 = [10] * 8\n",
        "always_10"
      ]
    },
    {
      "cell_type": "markdown",
      "metadata": {
        "tags": [],
        "id": "B4GXq4o-13Mg"
      },
      "source": [
        "If you print 60 books, your net profit is \\\\$200, as in the example."
      ]
    },
    {
      "cell_type": "code",
      "execution_count": 74,
      "metadata": {
        "execution": {
          "iopub.execute_input": "2021-04-16T19:35:51.620756Z",
          "iopub.status.busy": "2021-04-16T19:35:51.620229Z",
          "iopub.status.idle": "2021-04-16T19:35:51.622764Z",
          "shell.execute_reply": "2021-04-16T19:35:51.623275Z"
        },
        "tags": [],
        "id": "-LdK1SX513Mg",
        "outputId": "25224dd5-34c8-4d37-deb2-0253b37ae5a7",
        "colab": {
          "base_uri": "https://localhost:8080/"
        }
      },
      "outputs": [
        {
          "output_type": "execute_result",
          "data": {
            "text/plain": [
              "200"
            ]
          },
          "metadata": {},
          "execution_count": 74
        }
      ],
      "source": [
        "compute_profit(60, always_10)"
      ]
    },
    {
      "cell_type": "markdown",
      "metadata": {
        "tags": [],
        "id": "STdFXjIV13Mg"
      },
      "source": [
        "If you print 100 books, your net profit is \\\\$310."
      ]
    },
    {
      "cell_type": "code",
      "execution_count": 75,
      "metadata": {
        "execution": {
          "iopub.execute_input": "2021-04-16T19:35:51.628975Z",
          "iopub.status.busy": "2021-04-16T19:35:51.628140Z",
          "iopub.status.idle": "2021-04-16T19:35:51.631017Z",
          "shell.execute_reply": "2021-04-16T19:35:51.631678Z"
        },
        "tags": [],
        "id": "OwO7w2yS13Mg",
        "outputId": "1ca02de2-120f-4365-a007-44ddf464c5dd",
        "colab": {
          "base_uri": "https://localhost:8080/"
        }
      },
      "outputs": [
        {
          "output_type": "execute_result",
          "data": {
            "text/plain": [
              "310.0"
            ]
          },
          "metadata": {},
          "execution_count": 75
        }
      ],
      "source": [
        "compute_profit(100, always_10)"
      ]
    },
    {
      "cell_type": "markdown",
      "metadata": {
        "tags": [],
        "id": "-G6pjKu-13Mg"
      },
      "source": [
        "Of course, in the context of the problem you don't know how many books will be ordered in any given week.  You don't even know the average rate of orders.  However, given the data and some assumptions about the prior, you can compute the distribution of the rate of orders.\n",
        "\n",
        "You'll have a chance to do that, but to demonstrate the decision analysis part of the problem, I'll start with the arbitrary assumption that order rates come from a gamma distribution with mean 9.\n",
        "\n",
        "Here's a `Pmf` that represents this distribution."
      ]
    },
    {
      "cell_type": "code",
      "execution_count": 76,
      "metadata": {
        "execution": {
          "iopub.execute_input": "2021-04-16T19:35:51.638252Z",
          "iopub.status.busy": "2021-04-16T19:35:51.637600Z",
          "iopub.status.idle": "2021-04-16T19:35:51.640800Z",
          "shell.execute_reply": "2021-04-16T19:35:51.641451Z"
        },
        "tags": [],
        "id": "iPiADtlf13Mg",
        "outputId": "59cd644a-bb58-4956-baa2-0c95bd8dd6c5",
        "colab": {
          "base_uri": "https://localhost:8080/"
        }
      },
      "outputs": [
        {
          "output_type": "execute_result",
          "data": {
            "text/plain": [
              "8.998788382371902"
            ]
          },
          "metadata": {},
          "execution_count": 76
        }
      ],
      "source": [
        "from scipy.stats import gamma\n",
        "\n",
        "alpha = 9\n",
        "qs = np.linspace(0, 25, 101)\n",
        "ps = gamma.pdf(qs, alpha)\n",
        "pmf = Pmf(ps, qs)\n",
        "pmf.normalize()\n",
        "pmf.mean()"
      ]
    },
    {
      "cell_type": "markdown",
      "metadata": {
        "tags": [],
        "id": "6gsT-rdt13Mg"
      },
      "source": [
        "And here's what it looks like:"
      ]
    },
    {
      "cell_type": "code",
      "execution_count": 77,
      "metadata": {
        "execution": {
          "iopub.execute_input": "2021-04-16T19:35:51.658650Z",
          "iopub.status.busy": "2021-04-16T19:35:51.658221Z",
          "iopub.status.idle": "2021-04-16T19:35:51.986329Z",
          "shell.execute_reply": "2021-04-16T19:35:51.985935Z"
        },
        "tags": [],
        "id": "TA3T1wBy13Mh",
        "outputId": "07c2ba0b-5b14-437e-9dc4-3bfb85594a6a",
        "colab": {
          "base_uri": "https://localhost:8080/",
          "height": 297
        }
      },
      "outputs": [
        {
          "output_type": "display_data",
          "data": {
            "text/plain": [
              "<Figure size 432x288 with 1 Axes>"
            ],
            "image/png": "[encoded data removed]"
          },
          "metadata": {
            "needs_background": "light"
          }
        }
      ],
      "source": [
        "pmf.plot(color='C1')\n",
        "decorate(xlabel=r'Book ordering rate ($\\lambda$)',\n",
        "        ylabel='PMF')"
      ]
    },
    {
      "cell_type": "markdown",
      "metadata": {
        "tags": [],
        "id": "qAD-mHsW13Mh"
      },
      "source": [
        "Now, we *could* generate a predictive distribution for the number of books ordered in a given week, but in this example we have to deal with a complicated cost function.  In particular, `out_of_stock_cost` depends on the sequence of orders.\n",
        "\n",
        "So, rather than generate a predictive distribution, I suggest we run simulations.  I'll demonstrate the steps.\n",
        "\n",
        "First, from our hypothetical distribution of rates, we can draw a random sample of 1000 values. "
      ]
    },
    {
      "cell_type": "code",
      "execution_count": 78,
      "metadata": {
        "execution": {
          "iopub.execute_input": "2021-04-16T19:35:51.990537Z",
          "iopub.status.busy": "2021-04-16T19:35:51.989846Z",
          "iopub.status.idle": "2021-04-16T19:35:51.993533Z",
          "shell.execute_reply": "2021-04-16T19:35:51.993896Z"
        },
        "tags": [],
        "id": "whdOFQFD13Mh",
        "outputId": "489208e3-41fb-4db1-b1dc-65d14f0fbb1e",
        "colab": {
          "base_uri": "https://localhost:8080/"
        }
      },
      "outputs": [
        {
          "output_type": "execute_result",
          "data": {
            "text/plain": [
              "8.92725"
            ]
          },
          "metadata": {},
          "execution_count": 78
        }
      ],
      "source": [
        "rates = pmf.choice(1000)\n",
        "np.mean(rates)"
      ]
    },
    {
      "cell_type": "markdown",
      "metadata": {
        "tags": [],
        "id": "DuA2K-IN13Mh"
      },
      "source": [
        "For each possible rate, we can generate a sequence of 8 orders."
      ]
    },
    {
      "cell_type": "code",
      "execution_count": 79,
      "metadata": {
        "execution": {
          "iopub.execute_input": "2021-04-16T19:35:51.998261Z",
          "iopub.status.busy": "2021-04-16T19:35:51.997702Z",
          "iopub.status.idle": "2021-04-16T19:35:52.002977Z",
          "shell.execute_reply": "2021-04-16T19:35:52.003508Z"
        },
        "tags": [],
        "id": "mbAhJKCk13Mh",
        "outputId": "c48f15c9-5189-40b2-ede0-e2b80349c811",
        "colab": {
          "base_uri": "https://localhost:8080/"
        }
      },
      "outputs": [
        {
          "output_type": "execute_result",
          "data": {
            "text/plain": [
              "array([[ 9, 14, 14,  7,  9,  6, 13, 10],\n",
              "       [ 6,  2, 11,  9,  8,  2,  9,  5],\n",
              "       [ 5, 11,  4,  4,  4,  7,  3,  3],\n",
              "       [12,  8, 11, 11, 16, 14,  5, 10],\n",
              "       [ 8,  7,  8,  6, 12,  7,  9,  7]])"
            ]
          },
          "metadata": {},
          "execution_count": 79
        }
      ],
      "source": [
        "np.random.seed(17)\n",
        "order_array = np.random.poisson(rates, size=(8, 1000)).transpose()\n",
        "order_array[:5, :]"
      ]
    },
    {
      "cell_type": "markdown",
      "metadata": {
        "tags": [],
        "id": "KWHhhJMd13Mh"
      },
      "source": [
        "Each row of this array is a hypothetical sequence of orders based on a different hypothetical order rate.\n",
        "\n",
        "Now, if you tell me how many books you printed, I can compute your expected profits, averaged over these 1000 possible sequences."
      ]
    },
    {
      "cell_type": "code",
      "execution_count": 80,
      "metadata": {
        "execution": {
          "iopub.execute_input": "2021-04-16T19:35:52.007370Z",
          "iopub.status.busy": "2021-04-16T19:35:52.006916Z",
          "iopub.status.idle": "2021-04-16T19:35:52.008586Z",
          "shell.execute_reply": "2021-04-16T19:35:52.008935Z"
        },
        "tags": [],
        "id": "Ne1T9b4413Mh"
      },
      "outputs": [],
      "source": [
        "def compute_expected_profits(printed, order_array):\n",
        "    \"\"\"Compute profits averaged over a sample of orders.\n",
        "    \n",
        "    printed: number printed\n",
        "    order_array: one row per sample, one column per week\n",
        "    \"\"\"\n",
        "    profits = [compute_profit(printed, orders)\n",
        "               for orders in order_array]\n",
        "    return np.mean(profits)"
      ]
    },
    {
      "cell_type": "markdown",
      "metadata": {
        "tags": [],
        "id": "X-vJerhr13Mh"
      },
      "source": [
        "For example, here are the expected profits if you order 70, 80, or 90 books."
      ]
    },
    {
      "cell_type": "code",
      "execution_count": 81,
      "metadata": {
        "execution": {
          "iopub.execute_input": "2021-04-16T19:35:52.016373Z",
          "iopub.status.busy": "2021-04-16T19:35:52.015963Z",
          "iopub.status.idle": "2021-04-16T19:35:52.035494Z",
          "shell.execute_reply": "2021-04-16T19:35:52.035057Z"
        },
        "tags": [],
        "id": "FyUyjqUU13Mh",
        "outputId": "3a326519-79e2-42d4-8260-c3575b679c06",
        "colab": {
          "base_uri": "https://localhost:8080/"
        }
      },
      "outputs": [
        {
          "output_type": "execute_result",
          "data": {
            "text/plain": [
              "187.826"
            ]
          },
          "metadata": {},
          "execution_count": 81
        }
      ],
      "source": [
        "compute_expected_profits(70, order_array)"
      ]
    },
    {
      "cell_type": "code",
      "execution_count": 82,
      "metadata": {
        "execution": {
          "iopub.execute_input": "2021-04-16T19:35:52.073335Z",
          "iopub.status.busy": "2021-04-16T19:35:52.072683Z",
          "iopub.status.idle": "2021-04-16T19:35:52.076415Z",
          "shell.execute_reply": "2021-04-16T19:35:52.076779Z"
        },
        "tags": [],
        "id": "6jSdfbD813Mi",
        "outputId": "99da2423-48d7-47ec-b1d6-73b1e3dea9f5",
        "colab": {
          "base_uri": "https://localhost:8080/"
        }
      },
      "outputs": [
        {
          "output_type": "execute_result",
          "data": {
            "text/plain": [
              "183.714"
            ]
          },
          "metadata": {},
          "execution_count": 82
        }
      ],
      "source": [
        "compute_expected_profits(80, order_array)"
      ]
    },
    {
      "cell_type": "code",
      "execution_count": 83,
      "metadata": {
        "execution": {
          "iopub.execute_input": "2021-04-16T19:35:52.098735Z",
          "iopub.status.busy": "2021-04-16T19:35:52.098012Z",
          "iopub.status.idle": "2021-04-16T19:35:52.100689Z",
          "shell.execute_reply": "2021-04-16T19:35:52.100277Z"
        },
        "tags": [],
        "id": "bU25rJTQ13Mi",
        "outputId": "ff9871c1-7cec-4e29-a45c-ebd29cd22cf1",
        "colab": {
          "base_uri": "https://localhost:8080/"
        }
      },
      "outputs": [
        {
          "output_type": "execute_result",
          "data": {
            "text/plain": [
              "157.232"
            ]
          },
          "metadata": {},
          "execution_count": 83
        }
      ],
      "source": [
        "compute_expected_profits(90, order_array)"
      ]
    },
    {
      "cell_type": "markdown",
      "metadata": {
        "tags": [],
        "id": "rXrGXmfW13Mi"
      },
      "source": [
        "Now, let's sweep through a range of values and compute expected profits as a function of the number of books you print."
      ]
    },
    {
      "cell_type": "code",
      "execution_count": 84,
      "metadata": {
        "execution": {
          "iopub.execute_input": "2021-04-16T19:35:52.151466Z",
          "iopub.status.busy": "2021-04-16T19:35:52.110313Z",
          "iopub.status.idle": "2021-04-16T19:35:53.044324Z",
          "shell.execute_reply": "2021-04-16T19:35:53.043782Z"
        },
        "tags": [],
        "id": "DRTFF6HP13Mi"
      },
      "outputs": [],
      "source": [
        "printed_array = np.arange(70, 110)\n",
        "t = [compute_expected_profits(printed, order_array)\n",
        "                    for printed in printed_array]\n",
        "expected_profits = pd.Series(t, printed_array)"
      ]
    },
    {
      "cell_type": "code",
      "execution_count": 85,
      "metadata": {
        "execution": {
          "iopub.execute_input": "2021-04-16T19:35:53.067959Z",
          "iopub.status.busy": "2021-04-16T19:35:53.061574Z",
          "iopub.status.idle": "2021-04-16T19:35:53.181791Z",
          "shell.execute_reply": "2021-04-16T19:35:53.181406Z"
        },
        "tags": [],
        "id": "7GFYJ6Cd13Mk",
        "outputId": "826e48b3-c7ae-471d-b83c-ff65f8a6ee95",
        "colab": {
          "base_uri": "https://localhost:8080/",
          "height": 297
        }
      },
      "outputs": [
        {
          "output_type": "display_data",
          "data": {
            "text/plain": [
              "<Figure size 432x288 with 1 Axes>"
            ],
            "image/png": "[encoded data removed]"
          },
          "metadata": {
            "needs_background": "light"
          }
        }
      ],
      "source": [
        "expected_profits.plot(label='')\n",
        "\n",
        "decorate(xlabel='Number of books printed',\n",
        "         ylabel='Expected profit ($)')"
      ]
    },
    {
      "cell_type": "markdown",
      "metadata": {
        "tags": [],
        "id": "KRfx78TJ13Ml"
      },
      "source": [
        "Here is the optimal order and the expected profit."
      ]
    },
    {
      "cell_type": "code",
      "execution_count": 86,
      "metadata": {
        "execution": {
          "iopub.execute_input": "2021-04-16T19:35:53.185628Z",
          "iopub.status.busy": "2021-04-16T19:35:53.185129Z",
          "iopub.status.idle": "2021-04-16T19:35:53.189282Z",
          "shell.execute_reply": "2021-04-16T19:35:53.189626Z"
        },
        "tags": [],
        "id": "Qtw3ySbk13Ml",
        "outputId": "f40f0b67-9df4-4999-c6b9-d9ece0b60d69",
        "colab": {
          "base_uri": "https://localhost:8080/"
        }
      },
      "outputs": [
        {
          "output_type": "execute_result",
          "data": {
            "text/plain": [
              "(74, 190.064)"
            ]
          },
          "metadata": {},
          "execution_count": 86
        }
      ],
      "source": [
        "expected_profits.idxmax(), expected_profits.max()"
      ]
    },
    {
      "cell_type": "markdown",
      "metadata": {
        "tags": [],
        "id": "FXW8XzBT13Ml"
      },
      "source": [
        "Now it's your turn.  Choose a prior that you think is reasonable, update it with the data you are given, and then use the posterior distribution to do the analysis I just demonstrated."
      ]
    },
    {
      "cell_type": "code",
      "execution_count": 87,
      "metadata": {
        "execution": {
          "iopub.execute_input": "2021-04-16T19:35:53.194510Z",
          "iopub.status.busy": "2021-04-16T19:35:53.194020Z",
          "iopub.status.idle": "2021-04-16T19:35:53.198181Z",
          "shell.execute_reply": "2021-04-16T19:35:53.198701Z"
        },
        "id": "jgQaEn1913Ml",
        "outputId": "fa502eec-af59-4c80-b865-5b9aa3a03076",
        "colab": {
          "base_uri": "https://localhost:8080/"
        }
      },
      "outputs": [
        {
          "output_type": "execute_result",
          "data": {
            "text/plain": [
              "101"
            ]
          },
          "metadata": {},
          "execution_count": 87
        }
      ],
      "source": [
        "# Solution goes here\n",
        "\n",
        "# For a prior I chose a log-uniform distribution; \n",
        "# that is, a distribution that is uniform in log-space\n",
        "# from 1 to 100 books per week.\n",
        "\n",
        "qs = np.logspace(0, 2, 101)\n",
        "prior = Pmf(1, qs)\n",
        "prior.normalize()"
      ]
    },
    {
      "cell_type": "code",
      "execution_count": 88,
      "metadata": {
        "execution": {
          "iopub.execute_input": "2021-04-16T19:35:53.216932Z",
          "iopub.status.busy": "2021-04-16T19:35:53.213964Z",
          "iopub.status.idle": "2021-04-16T19:35:53.323589Z",
          "shell.execute_reply": "2021-04-16T19:35:53.324119Z"
        },
        "id": "8BCiORk613Ml",
        "outputId": "b92a712e-8a6a-4b47-9583-e8a316804aec",
        "colab": {
          "base_uri": "https://localhost:8080/",
          "height": 297
        }
      },
      "outputs": [
        {
          "output_type": "display_data",
          "data": {
            "text/plain": [
              "<Figure size 432x288 with 1 Axes>"
            ],
            "image/png": "[encoded data removed]"
          },
          "metadata": {
            "needs_background": "light"
          }
        }
      ],
      "source": [
        "# Solution goes here\n",
        "\n",
        "# Here's the CDF of the prior\n",
        "\n",
        "prior.make_cdf().plot(color='C1')\n",
        "decorate(xlabel=r'Book ordering rate ($\\lambda$)',\n",
        "         ylabel='CDF')"
      ]
    },
    {
      "cell_type": "code",
      "execution_count": 89,
      "metadata": {
        "execution": {
          "iopub.execute_input": "2021-04-16T19:35:53.327897Z",
          "iopub.status.busy": "2021-04-16T19:35:53.327424Z",
          "iopub.status.idle": "2021-04-16T19:35:53.330290Z",
          "shell.execute_reply": "2021-04-16T19:35:53.330803Z"
        },
        "id": "3UhlOxJJ13Ml"
      },
      "outputs": [],
      "source": [
        "# Solution goes here\n",
        "\n",
        "\n",
        "# Here's a function that updates the distribution of lambda\n",
        "# based on one week of orders\n",
        "\n",
        "from scipy.stats import poisson\n",
        "\n",
        "def update_book(pmf, data):\n",
        "    \"\"\"Update book ordering rate.\n",
        "    \n",
        "    pmf: Pmf of book ordering rates\n",
        "    data: observed number of orders in one week\n",
        "    \"\"\"\n",
        "    k = data\n",
        "    lams = pmf.index\n",
        "    likelihood = poisson.pmf(k, lams)\n",
        "    pmf *= likelihood\n",
        "    pmf.normalize()"
      ]
    },
    {
      "cell_type": "code",
      "execution_count": 90,
      "metadata": {
        "execution": {
          "iopub.execute_input": "2021-04-16T19:35:53.335171Z",
          "iopub.status.busy": "2021-04-16T19:35:53.334695Z",
          "iopub.status.idle": "2021-04-16T19:35:53.338131Z",
          "shell.execute_reply": "2021-04-16T19:35:53.337723Z"
        },
        "id": "B5SesDCq13Ml"
      },
      "outputs": [],
      "source": [
        "# Solution goes here\n",
        "\n",
        "# Here's the update after week 1.\n",
        "\n",
        "posterior1 = prior.copy()\n",
        "update_book(posterior1, 10)"
      ]
    },
    {
      "cell_type": "code",
      "execution_count": 91,
      "metadata": {
        "execution": {
          "iopub.execute_input": "2021-04-16T19:35:53.342520Z",
          "iopub.status.busy": "2021-04-16T19:35:53.342028Z",
          "iopub.status.idle": "2021-04-16T19:35:53.344891Z",
          "shell.execute_reply": "2021-04-16T19:35:53.345436Z"
        },
        "id": "uIzn9hfq13Mm"
      },
      "outputs": [],
      "source": [
        "# Solution goes here\n",
        "\n",
        "\n",
        "# And the update after week 2.\n",
        "\n",
        "posterior2 = posterior1.copy()\n",
        "update_book(posterior2, 9)"
      ]
    },
    {
      "cell_type": "code",
      "execution_count": 92,
      "metadata": {
        "execution": {
          "iopub.execute_input": "2021-04-16T19:35:53.348958Z",
          "iopub.status.busy": "2021-04-16T19:35:53.348514Z",
          "iopub.status.idle": "2021-04-16T19:35:53.352690Z",
          "shell.execute_reply": "2021-04-16T19:35:53.353204Z"
        },
        "id": "VdqDA3v513Mm",
        "outputId": "23a65c38-cbf8-40a6-c42d-a7e69e5b755d",
        "colab": {
          "base_uri": "https://localhost:8080/"
        }
      },
      "outputs": [
        {
          "output_type": "execute_result",
          "data": {
            "text/plain": [
              "(21.78849107458653, 10.000000817984526, 9.500000000003652)"
            ]
          },
          "metadata": {},
          "execution_count": 92
        }
      ],
      "source": [
        "# Solution goes here\n",
        "\n",
        "prior.mean(), posterior1.mean(), posterior2.mean()"
      ]
    },
    {
      "cell_type": "code",
      "execution_count": 93,
      "metadata": {
        "execution": {
          "iopub.execute_input": "2021-04-16T19:35:53.356962Z",
          "iopub.status.busy": "2021-04-16T19:35:53.356103Z",
          "iopub.status.idle": "2021-04-16T19:35:53.359918Z",
          "shell.execute_reply": "2021-04-16T19:35:53.359487Z"
        },
        "id": "e_pshy1p13Mm",
        "outputId": "366dd99a-4dd8-4369-f239-d6771c44fb06",
        "colab": {
          "base_uri": "https://localhost:8080/"
        }
      },
      "outputs": [
        {
          "output_type": "execute_result",
          "data": {
            "text/plain": [
              "9.464896036226632"
            ]
          },
          "metadata": {},
          "execution_count": 93
        }
      ],
      "source": [
        "# Solution goes here\n",
        "\n",
        "# Now we can generate a sample of 1000 values from the posterior\n",
        "\n",
        "rates = posterior2.choice(1000)\n",
        "np.mean(rates)"
      ]
    },
    {
      "cell_type": "code",
      "execution_count": 94,
      "metadata": {
        "execution": {
          "iopub.execute_input": "2021-04-16T19:35:53.363099Z",
          "iopub.status.busy": "2021-04-16T19:35:53.362692Z",
          "iopub.status.idle": "2021-04-16T19:35:53.368315Z",
          "shell.execute_reply": "2021-04-16T19:35:53.367822Z"
        },
        "id": "UWtlxS8913Mm",
        "outputId": "e81381bb-88ba-4391-dc8b-ac99ceb73a03",
        "colab": {
          "base_uri": "https://localhost:8080/"
        }
      },
      "outputs": [
        {
          "output_type": "execute_result",
          "data": {
            "text/plain": [
              "array([[12, 13,  9,  5, 10, 11,  5,  7],\n",
              "       [12,  6, 12,  4,  8, 10,  9,  8],\n",
              "       [ 3,  9,  6,  8,  9, 13, 11,  6],\n",
              "       [ 7, 11,  6,  7,  4,  6, 10,  0],\n",
              "       [ 9,  4,  9,  8, 10,  9,  7, 14]])"
            ]
          },
          "metadata": {},
          "execution_count": 94
        }
      ],
      "source": [
        "# Solution goes here\n",
        "\n",
        "# And we can generate a sequence of 8 weeks for each value\n",
        "\n",
        "order_array = np.random.poisson(rates, size=(8, 1000)).transpose()\n",
        "order_array[:5, :]"
      ]
    },
    {
      "cell_type": "code",
      "execution_count": 95,
      "metadata": {
        "execution": {
          "iopub.execute_input": "2021-04-16T19:35:53.428215Z",
          "iopub.status.busy": "2021-04-16T19:35:53.402097Z",
          "iopub.status.idle": "2021-04-16T19:35:54.443135Z",
          "shell.execute_reply": "2021-04-16T19:35:54.444074Z"
        },
        "id": "HimZXuwH13Mm"
      },
      "outputs": [],
      "source": [
        "# Solution goes here\n",
        "\n",
        "# Here are the expected profits for each possible order\n",
        "\n",
        "printed_array = np.arange(70, 110)\n",
        "t = [compute_expected_profits(printed, order_array)\n",
        "                    for printed in printed_array]\n",
        "expected_profits = pd.Series(t, printed_array)"
      ]
    },
    {
      "cell_type": "code",
      "execution_count": 96,
      "metadata": {
        "execution": {
          "iopub.execute_input": "2021-04-16T19:35:54.467573Z",
          "iopub.status.busy": "2021-04-16T19:35:54.463557Z",
          "iopub.status.idle": "2021-04-16T19:35:54.727439Z",
          "shell.execute_reply": "2021-04-16T19:35:54.728002Z"
        },
        "id": "6mrnLW0j13Mm",
        "outputId": "670b1fc2-ac19-48bd-db21-c0914b5b68ca",
        "colab": {
          "base_uri": "https://localhost:8080/",
          "height": 297
        }
      },
      "outputs": [
        {
          "output_type": "display_data",
          "data": {
            "text/plain": [
              "<Figure size 432x288 with 1 Axes>"
            ],
            "image/png": "[encoded data removed]"
          },
          "metadata": {
            "needs_background": "light"
          }
        }
      ],
      "source": [
        "# Solution goes here\n",
        "\n",
        "# And here's what they look like.\n",
        "\n",
        "expected_profits.plot(label='')\n",
        "\n",
        "decorate(xlabel='Number of books printed',\n",
        "         ylabel='Expected profit ($)')"
      ]
    },
    {
      "cell_type": "code",
      "execution_count": 97,
      "metadata": {
        "execution": {
          "iopub.execute_input": "2021-04-16T19:35:54.734792Z",
          "iopub.status.busy": "2021-04-16T19:35:54.733641Z",
          "iopub.status.idle": "2021-04-16T19:35:54.738456Z",
          "shell.execute_reply": "2021-04-16T19:35:54.739144Z"
        },
        "id": "X49wK3yg13Mm",
        "outputId": "969feb09-2d9d-4665-f32d-740d8a8b8a4b",
        "colab": {
          "base_uri": "https://localhost:8080/"
        }
      },
      "outputs": [
        {
          "output_type": "execute_result",
          "data": {
            "text/plain": [
              "80"
            ]
          },
          "metadata": {},
          "execution_count": 97
        }
      ],
      "source": [
        "# Solution goes here\n",
        "\n",
        "# Here's the optimal order.\n",
        "\n",
        "expected_profits.idxmax()"
      ]
    },
    {
      "cell_type": "code",
      "execution_count": 97,
      "metadata": {
        "id": "bgjyIJLZ13Mm"
      },
      "outputs": [],
      "source": []
    }
  ],
  "metadata": {
    "celltoolbar": "Tags",
    "kernelspec": {
      "display_name": "Python 3",
      "language": "python",
      "name": "python3"
    },
    "language_info": {
      "codemirror_mode": {
        "name": "ipython",
        "version": 3
      },
      "file_extension": ".py",
      "mimetype": "text/x-python",
      "name": "python",
      "nbconvert_exporter": "python",
      "pygments_lexer": "ipython3",
      "version": "3.8.8"
    },
    "colab": {
      "provenance": []
    }
  },
  "nbformat": 4,
  "nbformat_minor": 0
}