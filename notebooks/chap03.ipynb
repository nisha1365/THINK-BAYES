{
  "cells": [
    {
      "cell_type": "markdown",
      "metadata": {
        "id": "zFi5dTBM7AmC"
      },
      "source": [
        "# Distributions"
      ]
    },
    {
      "cell_type": "code",
      "execution_count": 1,
      "metadata": {
        "execution": {
          "iopub.execute_input": "2021-04-16T19:35:12.094262Z",
          "iopub.status.busy": "2021-04-16T19:35:12.093730Z",
          "iopub.status.idle": "2021-04-16T19:35:12.095822Z",
          "shell.execute_reply": "2021-04-16T19:35:12.095402Z"
        },
        "tags": [],
        "id": "7NA4ZP2q7AmG",
        "outputId": "4686cde2-119c-42fe-8c66-a9e31a3af919",
        "colab": {
          "base_uri": "https://localhost:8080/"
        }
      },
      "outputs": [
        {
          "output_type": "stream",
          "name": "stdout",
          "text": [
            "Looking in indexes: https://pypi.org/simple, https://us-python.pkg.dev/colab-wheels/public/simple/\n",
            "Collecting empiricaldist\n",
            "  Downloading empiricaldist-0.6.8.tar.gz (12 kB)\n",
            "  Installing build dependencies ... \u001b[?25l\u001b[?25hdone\n",
            "  Getting requirements to build wheel ... \u001b[?25l\u001b[?25hdone\n",
            "  Preparing metadata (pyproject.toml) ... \u001b[?25l\u001b[?25hdone\n",
            "Building wheels for collected packages: empiricaldist\n",
            "  Building wheel for empiricaldist (pyproject.toml) ... \u001b[?25l\u001b[?25hdone\n",
            "  Created wheel for empiricaldist: filename=empiricaldist-0.6.8-py3-none-any.whl size=12125 sha256=8100dddcf274e94b800824db2671a96efbea3117f16b9190b0c1f3b1d06a8131\n",
            "  Stored in directory: /root/.cache/pip/wheels/c2/3f/cf/74b5adbcea4efaae43ce168e622e3eb8dbc1251d5d730dd245\n",
            "Successfully built empiricaldist\n",
            "Installing collected packages: empiricaldist\n",
            "Successfully installed empiricaldist-0.6.8\n"
          ]
        }
      ],
      "source": [
        "# If we're running on Colab, install empiricaldist\n",
        "# https://pypi.org/project/empiricaldist/\n",
        "\n",
        "import sys\n",
        "IN_COLAB = 'google.colab' in sys.modules\n",
        "\n",
        "if IN_COLAB:\n",
        "    !pip install empiricaldist"
      ]
    },
    {
      "cell_type": "code",
      "execution_count": 2,
      "metadata": {
        "execution": {
          "iopub.execute_input": "2021-04-16T19:35:12.099615Z",
          "iopub.status.busy": "2021-04-16T19:35:12.098997Z",
          "iopub.status.idle": "2021-04-16T19:35:12.100895Z",
          "shell.execute_reply": "2021-04-16T19:35:12.101335Z"
        },
        "tags": [],
        "id": "kQgkj4fl7AmI",
        "outputId": "bae72ac9-fe99-43df-b1c7-c4d56939e901",
        "colab": {
          "base_uri": "https://localhost:8080/"
        }
      },
      "outputs": [
        {
          "output_type": "stream",
          "name": "stdout",
          "text": [
            "Downloaded utils.py\n"
          ]
        }
      ],
      "source": [
        "# Get utils.py\n",
        "\n",
        "from os.path import basename, exists\n",
        "\n",
        "def download(url):\n",
        "    filename = basename(url)\n",
        "    if not exists(filename):\n",
        "        from urllib.request import urlretrieve\n",
        "        local, _ = urlretrieve(url, filename)\n",
        "        print('Downloaded ' + local)\n",
        "    \n",
        "download('https://github.com/AllenDowney/ThinkBayes2/raw/master/soln/utils.py')"
      ]
    },
    {
      "cell_type": "code",
      "execution_count": 3,
      "metadata": {
        "execution": {
          "iopub.execute_input": "2021-04-16T19:35:12.104987Z",
          "iopub.status.busy": "2021-04-16T19:35:12.104287Z",
          "iopub.status.idle": "2021-04-16T19:35:13.067675Z",
          "shell.execute_reply": "2021-04-16T19:35:13.068108Z"
        },
        "tags": [],
        "id": "LMgCouLh7AmI"
      },
      "outputs": [],
      "source": [
        "from utils import set_pyplot_params\n",
        "set_pyplot_params()"
      ]
    },
    {
      "cell_type": "markdown",
      "metadata": {
        "id": "GN_f6_Ke7AmJ"
      },
      "source": [
        "In the previous chapter we used Bayes's Theorem to solve a cookie problem; then we solved it again using a Bayes table.\n",
        "In this chapter, at the risk of testing your patience, we will solve it one more time using a `Pmf` object, which represents a \"probability mass function\".\n",
        "I'll explain what that means, and why it is useful for Bayesian statistics.\n",
        "\n",
        "We'll use `Pmf` objects to solve some more challenging problems and take one more step toward Bayesian statistics.\n",
        "But we'll start with distributions."
      ]
    },
    {
      "cell_type": "markdown",
      "metadata": {
        "id": "l7K7ge3x7AmJ"
      },
      "source": [
        "## Distributions\n",
        "\n",
        "In statistics a **distribution** is a set of possible outcomes and their corresponding probabilities.\n",
        "For example, if you toss a coin, there are two possible outcomes with\n",
        "approximately equal probability.\n",
        "If you roll a six-sided die, the set of possible outcomes is the numbers 1 to 6, and the probability associated with each outcome is 1/6.\n",
        "\n",
        "To represent distributions, we'll use a library called `empiricaldist`.\n",
        "An \"empirical\" distribution is based on data, as opposed to a\n",
        "theoretical distribution.\n",
        "We'll use this library throughout the book.  I'll introduce the basic features in this chapter and we'll see additional features later."
      ]
    },
    {
      "cell_type": "markdown",
      "metadata": {
        "id": "qjh4obGt7AmK"
      },
      "source": [
        "## Probability Mass Functions\n",
        "\n",
        "If the outcomes in a distribution are discrete, we can describe the distribution with a **probability mass function**, or PMF, which is a function that maps from each possible outcome to its probability.\n",
        "\n",
        "`empiricaldist` provides a class called `Pmf` that represents a\n",
        "probability mass function.\n",
        "To use `Pmf` you can import it like this:"
      ]
    },
    {
      "cell_type": "code",
      "execution_count": 4,
      "metadata": {
        "execution": {
          "iopub.execute_input": "2021-04-16T19:35:13.071512Z",
          "iopub.status.busy": "2021-04-16T19:35:13.071040Z",
          "iopub.status.idle": "2021-04-16T19:35:13.073278Z",
          "shell.execute_reply": "2021-04-16T19:35:13.072869Z"
        },
        "id": "vHEkpoGr7AmL"
      },
      "outputs": [],
      "source": [
        "from empiricaldist import Pmf"
      ]
    },
    {
      "cell_type": "markdown",
      "metadata": {
        "tags": [],
        "id": "vJX1A8LE7AmL"
      },
      "source": [
        "If that doesn't work, you might have to install `empiricaldist`; try running\n",
        "\n",
        "```\n",
        "!pip install empiricaldist\n",
        "```\n",
        "\n",
        "in a code cell or\n",
        "\n",
        "```\n",
        "pip install empiricaldist\n",
        "```\n",
        "\n",
        "in a terminal window."
      ]
    },
    {
      "cell_type": "markdown",
      "metadata": {
        "id": "uldfQ4bI7AmM"
      },
      "source": [
        "The following example makes a `Pmf` that represents the outcome of a\n",
        "coin toss."
      ]
    },
    {
      "cell_type": "code",
      "execution_count": 5,
      "metadata": {
        "execution": {
          "iopub.execute_input": "2021-04-16T19:35:13.085000Z",
          "iopub.status.busy": "2021-04-16T19:35:13.081870Z",
          "iopub.status.idle": "2021-04-16T19:35:13.088193Z",
          "shell.execute_reply": "2021-04-16T19:35:13.087667Z"
        },
        "id": "5IvEg0EB7AmM",
        "outputId": "5d3de5f2-52f8-4a3c-fe27-177d2f2ee2bd",
        "colab": {
          "base_uri": "https://localhost:8080/",
          "height": 112
        }
      },
      "outputs": [
        {
          "output_type": "execute_result",
          "data": {
            "text/plain": [
              "heads    0.5\n",
              "tails    0.5\n",
              "Name: , dtype: float64"
            ],
            "text/html": [
              "<div>\n",
              "<style scoped>\n",
              "    .dataframe tbody tr th:only-of-type {\n",
              "        vertical-align: middle;\n",
              "    }\n",
              "\n",
              "    .dataframe tbody tr th {\n",
              "        vertical-align: top;\n",
              "    }\n",
              "\n",
              "    .dataframe thead th {\n",
              "        text-align: right;\n",
              "    }\n",
              "</style>\n",
              "<table border=\"1\" class=\"dataframe\">\n",
              "  <thead>\n",
              "    <tr style=\"text-align: right;\">\n",
              "      <th></th>\n",
              "      <th>probs</th>\n",
              "    </tr>\n",
              "  </thead>\n",
              "  <tbody>\n",
              "    <tr>\n",
              "      <th>heads</th>\n",
              "      <td>0.5</td>\n",
              "    </tr>\n",
              "    <tr>\n",
              "      <th>tails</th>\n",
              "      <td>0.5</td>\n",
              "    </tr>\n",
              "  </tbody>\n",
              "</table>\n",
              "</div>"
            ]
          },
          "metadata": {},
          "execution_count": 5
        }
      ],
      "source": [
        "coin = Pmf()\n",
        "coin['heads'] = 1/2\n",
        "coin['tails'] = 1/2\n",
        "coin"
      ]
    },
    {
      "cell_type": "markdown",
      "metadata": {
        "id": "lc23hJME7AmN"
      },
      "source": [
        "`Pmf` creates an empty `Pmf` with no outcomes.\n",
        "Then we can add new outcomes using the bracket operator.\n",
        "In this example, the two outcomes are represented with strings, and they have the same probability, 0.5."
      ]
    },
    {
      "cell_type": "markdown",
      "metadata": {
        "id": "tnqoCh8K7AmN"
      },
      "source": [
        "You can also make a `Pmf` from a sequence of possible outcomes.\n",
        "\n",
        "The following example uses `Pmf.from_seq` to make a `Pmf` that represents a six-sided die."
      ]
    },
    {
      "cell_type": "code",
      "execution_count": 6,
      "metadata": {
        "execution": {
          "iopub.execute_input": "2021-04-16T19:35:13.092152Z",
          "iopub.status.busy": "2021-04-16T19:35:13.091700Z",
          "iopub.status.idle": "2021-04-16T19:35:13.101915Z",
          "shell.execute_reply": "2021-04-16T19:35:13.102297Z"
        },
        "id": "k3K6FQg27AmN",
        "outputId": "9f023556-469f-4d27-a31a-dfce6ecf6201",
        "colab": {
          "base_uri": "https://localhost:8080/",
          "height": 237
        }
      },
      "outputs": [
        {
          "output_type": "execute_result",
          "data": {
            "text/plain": [
              "1    0.166667\n",
              "2    0.166667\n",
              "3    0.166667\n",
              "4    0.166667\n",
              "5    0.166667\n",
              "6    0.166667\n",
              "Name: , dtype: float64"
            ],
            "text/html": [
              "<div>\n",
              "<style scoped>\n",
              "    .dataframe tbody tr th:only-of-type {\n",
              "        vertical-align: middle;\n",
              "    }\n",
              "\n",
              "    .dataframe tbody tr th {\n",
              "        vertical-align: top;\n",
              "    }\n",
              "\n",
              "    .dataframe thead th {\n",
              "        text-align: right;\n",
              "    }\n",
              "</style>\n",
              "<table border=\"1\" class=\"dataframe\">\n",
              "  <thead>\n",
              "    <tr style=\"text-align: right;\">\n",
              "      <th></th>\n",
              "      <th>probs</th>\n",
              "    </tr>\n",
              "  </thead>\n",
              "  <tbody>\n",
              "    <tr>\n",
              "      <th>1</th>\n",
              "      <td>0.166667</td>\n",
              "    </tr>\n",
              "    <tr>\n",
              "      <th>2</th>\n",
              "      <td>0.166667</td>\n",
              "    </tr>\n",
              "    <tr>\n",
              "      <th>3</th>\n",
              "      <td>0.166667</td>\n",
              "    </tr>\n",
              "    <tr>\n",
              "      <th>4</th>\n",
              "      <td>0.166667</td>\n",
              "    </tr>\n",
              "    <tr>\n",
              "      <th>5</th>\n",
              "      <td>0.166667</td>\n",
              "    </tr>\n",
              "    <tr>\n",
              "      <th>6</th>\n",
              "      <td>0.166667</td>\n",
              "    </tr>\n",
              "  </tbody>\n",
              "</table>\n",
              "</div>"
            ]
          },
          "metadata": {},
          "execution_count": 6
        }
      ],
      "source": [
        "die = Pmf.from_seq([1,2,3,4,5,6])\n",
        "die"
      ]
    },
    {
      "cell_type": "markdown",
      "metadata": {
        "id": "xDIsGka47AmO"
      },
      "source": [
        "In this example, all outcomes in the sequence appear once, so they all have the same probability, $1/6$.\n",
        "\n",
        "More generally, outcomes can appear more than once, as in the following example:"
      ]
    },
    {
      "cell_type": "code",
      "execution_count": 7,
      "metadata": {
        "execution": {
          "iopub.execute_input": "2021-04-16T19:35:13.109370Z",
          "iopub.status.busy": "2021-04-16T19:35:13.108697Z",
          "iopub.status.idle": "2021-04-16T19:35:13.111096Z",
          "shell.execute_reply": "2021-04-16T19:35:13.111446Z"
        },
        "id": "eMX057Z27AmO",
        "outputId": "1bcfee1a-6f13-4afd-aff8-4c5d3b171880",
        "colab": {
          "base_uri": "https://localhost:8080/",
          "height": 175
        }
      },
      "outputs": [
        {
          "output_type": "execute_result",
          "data": {
            "text/plain": [
              "M    0.090909\n",
              "i    0.363636\n",
              "p    0.181818\n",
              "s    0.363636\n",
              "Name: , dtype: float64"
            ],
            "text/html": [
              "<div>\n",
              "<style scoped>\n",
              "    .dataframe tbody tr th:only-of-type {\n",
              "        vertical-align: middle;\n",
              "    }\n",
              "\n",
              "    .dataframe tbody tr th {\n",
              "        vertical-align: top;\n",
              "    }\n",
              "\n",
              "    .dataframe thead th {\n",
              "        text-align: right;\n",
              "    }\n",
              "</style>\n",
              "<table border=\"1\" class=\"dataframe\">\n",
              "  <thead>\n",
              "    <tr style=\"text-align: right;\">\n",
              "      <th></th>\n",
              "      <th>probs</th>\n",
              "    </tr>\n",
              "  </thead>\n",
              "  <tbody>\n",
              "    <tr>\n",
              "      <th>M</th>\n",
              "      <td>0.090909</td>\n",
              "    </tr>\n",
              "    <tr>\n",
              "      <th>i</th>\n",
              "      <td>0.363636</td>\n",
              "    </tr>\n",
              "    <tr>\n",
              "      <th>p</th>\n",
              "      <td>0.181818</td>\n",
              "    </tr>\n",
              "    <tr>\n",
              "      <th>s</th>\n",
              "      <td>0.363636</td>\n",
              "    </tr>\n",
              "  </tbody>\n",
              "</table>\n",
              "</div>"
            ]
          },
          "metadata": {},
          "execution_count": 7
        }
      ],
      "source": [
        "letters = Pmf.from_seq(list('Mississippi'))\n",
        "letters"
      ]
    },
    {
      "cell_type": "markdown",
      "metadata": {
        "id": "eHvNwPgO7AmO"
      },
      "source": [
        "The letter `M` appears once out of 11 characters, so its probability is $1/11$.\n",
        "The letter `i` appears 4 times, so its probability is $4/11$.\n",
        "\n",
        "Since the letters in a string are not outcomes of a random process, I'll use the more general term \"quantities\" for the letters in the `Pmf`.\n",
        "\n",
        "The `Pmf` class inherits from a Pandas `Series`, so anything you can do with a `Series`, you can also do with a `Pmf`.\n",
        "\n",
        "For example, you can use the bracket operator to look up a quantity and get the corresponding probability."
      ]
    },
    {
      "cell_type": "code",
      "execution_count": 8,
      "metadata": {
        "execution": {
          "iopub.execute_input": "2021-04-16T19:35:13.116296Z",
          "iopub.status.busy": "2021-04-16T19:35:13.115451Z",
          "iopub.status.idle": "2021-04-16T19:35:13.118339Z",
          "shell.execute_reply": "2021-04-16T19:35:13.118724Z"
        },
        "id": "aR8UI2RF7AmO",
        "outputId": "7035d1bd-0d83-44a9-9cbc-8b744c6a4ceb",
        "colab": {
          "base_uri": "https://localhost:8080/"
        }
      },
      "outputs": [
        {
          "output_type": "execute_result",
          "data": {
            "text/plain": [
              "0.36363636363636365"
            ]
          },
          "metadata": {},
          "execution_count": 8
        }
      ],
      "source": [
        "letters['s']"
      ]
    },
    {
      "cell_type": "markdown",
      "metadata": {
        "id": "20yj8sJW7AmP"
      },
      "source": [
        "In the word \"Mississippi\", about 36% of the letters are \"s\".\n",
        "\n",
        "However, if you ask for the probability of a quantity that's not in the distribution, you get a `KeyError`.\n",
        "\n"
      ]
    },
    {
      "cell_type": "code",
      "execution_count": 9,
      "metadata": {
        "execution": {
          "iopub.execute_input": "2021-04-16T19:35:13.122337Z",
          "iopub.status.busy": "2021-04-16T19:35:13.121841Z",
          "iopub.status.idle": "2021-04-16T19:35:13.124479Z",
          "shell.execute_reply": "2021-04-16T19:35:13.124086Z"
        },
        "tags": [],
        "id": "trBIZMv37AmP",
        "outputId": "79ba8f5b-e2b5-4f8f-e722-b48f8f259f22",
        "colab": {
          "base_uri": "https://localhost:8080/"
        }
      },
      "outputs": [
        {
          "output_type": "stream",
          "name": "stdout",
          "text": [
            "<class 'KeyError'>\n"
          ]
        }
      ],
      "source": [
        "try:\n",
        "    letters['t']\n",
        "except KeyError as e:\n",
        "    print(type(e))"
      ]
    },
    {
      "cell_type": "markdown",
      "metadata": {
        "id": "gJY2cSku7AmP"
      },
      "source": [
        "You can also call a `Pmf` as if it were a function, with a letter in parentheses."
      ]
    },
    {
      "cell_type": "code",
      "execution_count": 10,
      "metadata": {
        "execution": {
          "iopub.execute_input": "2021-04-16T19:35:13.128416Z",
          "iopub.status.busy": "2021-04-16T19:35:13.127840Z",
          "iopub.status.idle": "2021-04-16T19:35:13.130899Z",
          "shell.execute_reply": "2021-04-16T19:35:13.130488Z"
        },
        "id": "IbqWdI7f7AmP",
        "outputId": "044b9a30-2510-42e3-a7b9-f9711506ffd0",
        "colab": {
          "base_uri": "https://localhost:8080/"
        }
      },
      "outputs": [
        {
          "output_type": "execute_result",
          "data": {
            "text/plain": [
              "0.36363636363636365"
            ]
          },
          "metadata": {},
          "execution_count": 10
        }
      ],
      "source": [
        "letters('s')"
      ]
    },
    {
      "cell_type": "markdown",
      "metadata": {
        "id": "sW7vbqFN7AmP"
      },
      "source": [
        "If the quantity is in the distribution the results are the same. \n",
        "But if it is not in the distribution, the result is `0`, not an error."
      ]
    },
    {
      "cell_type": "code",
      "execution_count": 11,
      "metadata": {
        "execution": {
          "iopub.execute_input": "2021-04-16T19:35:13.134469Z",
          "iopub.status.busy": "2021-04-16T19:35:13.133893Z",
          "iopub.status.idle": "2021-04-16T19:35:13.136395Z",
          "shell.execute_reply": "2021-04-16T19:35:13.136752Z"
        },
        "id": "duSOn4it7AmP",
        "outputId": "7917f002-1cc0-444a-ffc2-698bed84e016",
        "colab": {
          "base_uri": "https://localhost:8080/"
        }
      },
      "outputs": [
        {
          "output_type": "execute_result",
          "data": {
            "text/plain": [
              "0"
            ]
          },
          "metadata": {},
          "execution_count": 11
        }
      ],
      "source": [
        "letters('t')"
      ]
    },
    {
      "cell_type": "markdown",
      "metadata": {
        "id": "fucdbSWf7AmQ"
      },
      "source": [
        "With parentheses, you can also provide a sequence of quantities and get a sequence of probabilities."
      ]
    },
    {
      "cell_type": "code",
      "execution_count": 12,
      "metadata": {
        "execution": {
          "iopub.execute_input": "2021-04-16T19:35:13.140773Z",
          "iopub.status.busy": "2021-04-16T19:35:13.140250Z",
          "iopub.status.idle": "2021-04-16T19:35:13.142982Z",
          "shell.execute_reply": "2021-04-16T19:35:13.142616Z"
        },
        "id": "Nw7YAbVs7AmQ",
        "outputId": "b380a750-b57a-44a8-bff7-d593d1202597",
        "colab": {
          "base_uri": "https://localhost:8080/"
        }
      },
      "outputs": [
        {
          "output_type": "execute_result",
          "data": {
            "text/plain": [
              "array([0.16666667, 0.16666667, 0.        ])"
            ]
          },
          "metadata": {},
          "execution_count": 12
        }
      ],
      "source": [
        "die([1,4,7])"
      ]
    },
    {
      "cell_type": "markdown",
      "metadata": {
        "id": "2VKo94mf7AmQ"
      },
      "source": [
        "The quantities in a `Pmf` can be strings, numbers, or any other type that can be stored in the index of a Pandas `Series`.\n",
        "If you are familiar with Pandas, that will help you work with `Pmf` objects. \n",
        "But I will explain what you need to know as we go along."
      ]
    },
    {
      "cell_type": "markdown",
      "metadata": {
        "id": "LuDlIWtH7AmQ"
      },
      "source": [
        "## The Cookie Problem Revisited\n",
        "\n",
        "In this section I'll use a `Pmf` to solve the cookie problem from <<_TheCookieProblem>>.\n",
        "Here's the statement of the problem again:\n",
        "\n",
        "> Suppose there are two bowls of cookies.\n",
        ">\n",
        "> * Bowl 1 contains 30 vanilla cookies and 10 chocolate cookies. \n",
        ">\n",
        "> * Bowl 2 contains 20 vanilla cookies and 20 chocolate cookies.\n",
        ">\n",
        "> Now suppose you choose one of the bowls at random and, without looking, choose a cookie at random. If the cookie is vanilla, what is the probability that it came from Bowl 1?\n",
        "\n",
        "Here's a `Pmf` that represents the two hypotheses and their prior probabilities:"
      ]
    },
    {
      "cell_type": "code",
      "execution_count": 13,
      "metadata": {
        "execution": {
          "iopub.execute_input": "2021-04-16T19:35:13.149760Z",
          "iopub.status.busy": "2021-04-16T19:35:13.149078Z",
          "iopub.status.idle": "2021-04-16T19:35:13.152305Z",
          "shell.execute_reply": "2021-04-16T19:35:13.151707Z"
        },
        "id": "ol7IUYE17AmQ",
        "outputId": "532d4d98-5c5c-4863-c005-cd8cd7ccc66c",
        "colab": {
          "base_uri": "https://localhost:8080/",
          "height": 112
        }
      },
      "outputs": [
        {
          "output_type": "execute_result",
          "data": {
            "text/plain": [
              "Bowl 1    0.5\n",
              "Bowl 2    0.5\n",
              "Name: , dtype: float64"
            ],
            "text/html": [
              "<div>\n",
              "<style scoped>\n",
              "    .dataframe tbody tr th:only-of-type {\n",
              "        vertical-align: middle;\n",
              "    }\n",
              "\n",
              "    .dataframe tbody tr th {\n",
              "        vertical-align: top;\n",
              "    }\n",
              "\n",
              "    .dataframe thead th {\n",
              "        text-align: right;\n",
              "    }\n",
              "</style>\n",
              "<table border=\"1\" class=\"dataframe\">\n",
              "  <thead>\n",
              "    <tr style=\"text-align: right;\">\n",
              "      <th></th>\n",
              "      <th>probs</th>\n",
              "    </tr>\n",
              "  </thead>\n",
              "  <tbody>\n",
              "    <tr>\n",
              "      <th>Bowl 1</th>\n",
              "      <td>0.5</td>\n",
              "    </tr>\n",
              "    <tr>\n",
              "      <th>Bowl 2</th>\n",
              "      <td>0.5</td>\n",
              "    </tr>\n",
              "  </tbody>\n",
              "</table>\n",
              "</div>"
            ]
          },
          "metadata": {},
          "execution_count": 13
        }
      ],
      "source": [
        "prior = Pmf.from_seq(['Bowl 1', 'Bowl 2'])\n",
        "prior"
      ]
    },
    {
      "cell_type": "markdown",
      "metadata": {
        "id": "Iel7QDlx7AmQ"
      },
      "source": [
        "This distribution, which contains the prior probability for each hypothesis, is called (wait for it) the **prior distribution**.\n",
        "\n",
        "To update the distribution based on new data (the vanilla cookie),\n",
        "we multiply the priors by the likelihoods. The likelihood\n",
        "of drawing a vanilla cookie from Bowl 1 is `3/4`. The likelihood\n",
        "for Bowl 2 is `1/2`."
      ]
    },
    {
      "cell_type": "code",
      "execution_count": 14,
      "metadata": {
        "execution": {
          "iopub.execute_input": "2021-04-16T19:35:13.158260Z",
          "iopub.status.busy": "2021-04-16T19:35:13.157620Z",
          "iopub.status.idle": "2021-04-16T19:35:13.160416Z",
          "shell.execute_reply": "2021-04-16T19:35:13.160045Z"
        },
        "id": "dleTj1Od7AmQ",
        "outputId": "41e849f7-9ef2-4f44-a78e-d1c09c0f54f5",
        "colab": {
          "base_uri": "https://localhost:8080/",
          "height": 112
        }
      },
      "outputs": [
        {
          "output_type": "execute_result",
          "data": {
            "text/plain": [
              "Bowl 1    0.375\n",
              "Bowl 2    0.250\n",
              "Name: , dtype: float64"
            ],
            "text/html": [
              "<div>\n",
              "<style scoped>\n",
              "    .dataframe tbody tr th:only-of-type {\n",
              "        vertical-align: middle;\n",
              "    }\n",
              "\n",
              "    .dataframe tbody tr th {\n",
              "        vertical-align: top;\n",
              "    }\n",
              "\n",
              "    .dataframe thead th {\n",
              "        text-align: right;\n",
              "    }\n",
              "</style>\n",
              "<table border=\"1\" class=\"dataframe\">\n",
              "  <thead>\n",
              "    <tr style=\"text-align: right;\">\n",
              "      <th></th>\n",
              "      <th>probs</th>\n",
              "    </tr>\n",
              "  </thead>\n",
              "  <tbody>\n",
              "    <tr>\n",
              "      <th>Bowl 1</th>\n",
              "      <td>0.375</td>\n",
              "    </tr>\n",
              "    <tr>\n",
              "      <th>Bowl 2</th>\n",
              "      <td>0.250</td>\n",
              "    </tr>\n",
              "  </tbody>\n",
              "</table>\n",
              "</div>"
            ]
          },
          "metadata": {},
          "execution_count": 14
        }
      ],
      "source": [
        "likelihood_vanilla = [0.75, 0.5]\n",
        "posterior = prior * likelihood_vanilla\n",
        "posterior"
      ]
    },
    {
      "cell_type": "markdown",
      "metadata": {
        "id": "rGAVQZNl7AmQ"
      },
      "source": [
        "The result is the unnormalized posteriors; that is, they don't add up to 1.\n",
        "To make them add up to 1, we can use `normalize`, which is a method provided by `Pmf`."
      ]
    },
    {
      "cell_type": "code",
      "execution_count": 15,
      "metadata": {
        "execution": {
          "iopub.execute_input": "2021-04-16T19:35:13.164762Z",
          "iopub.status.busy": "2021-04-16T19:35:13.164137Z",
          "iopub.status.idle": "2021-04-16T19:35:13.167103Z",
          "shell.execute_reply": "2021-04-16T19:35:13.166662Z"
        },
        "id": "ZSzaQ2pF7AmR",
        "outputId": "1c72902a-c7e6-4e96-8b15-c459c226afd7",
        "colab": {
          "base_uri": "https://localhost:8080/"
        }
      },
      "outputs": [
        {
          "output_type": "execute_result",
          "data": {
            "text/plain": [
              "0.625"
            ]
          },
          "metadata": {},
          "execution_count": 15
        }
      ],
      "source": [
        "posterior.normalize()"
      ]
    },
    {
      "cell_type": "markdown",
      "metadata": {
        "id": "bUIHq86r7AmR"
      },
      "source": [
        "The return value from `normalize` is the total probability of the data, which is $5/8$.\n",
        "\n",
        "`posterior`, which contains the posterior probability for each hypothesis, is called (wait now) the **posterior distribution**."
      ]
    },
    {
      "cell_type": "code",
      "execution_count": 16,
      "metadata": {
        "execution": {
          "iopub.execute_input": "2021-04-16T19:35:13.172660Z",
          "iopub.status.busy": "2021-04-16T19:35:13.171984Z",
          "iopub.status.idle": "2021-04-16T19:35:13.174476Z",
          "shell.execute_reply": "2021-04-16T19:35:13.174842Z"
        },
        "id": "w3dI2-697AmR",
        "outputId": "5a2a4ef5-2d6f-42f8-d607-937df38ce848",
        "colab": {
          "base_uri": "https://localhost:8080/",
          "height": 112
        }
      },
      "outputs": [
        {
          "output_type": "execute_result",
          "data": {
            "text/plain": [
              "Bowl 1    0.6\n",
              "Bowl 2    0.4\n",
              "Name: , dtype: float64"
            ],
            "text/html": [
              "<div>\n",
              "<style scoped>\n",
              "    .dataframe tbody tr th:only-of-type {\n",
              "        vertical-align: middle;\n",
              "    }\n",
              "\n",
              "    .dataframe tbody tr th {\n",
              "        vertical-align: top;\n",
              "    }\n",
              "\n",
              "    .dataframe thead th {\n",
              "        text-align: right;\n",
              "    }\n",
              "</style>\n",
              "<table border=\"1\" class=\"dataframe\">\n",
              "  <thead>\n",
              "    <tr style=\"text-align: right;\">\n",
              "      <th></th>\n",
              "      <th>probs</th>\n",
              "    </tr>\n",
              "  </thead>\n",
              "  <tbody>\n",
              "    <tr>\n",
              "      <th>Bowl 1</th>\n",
              "      <td>0.6</td>\n",
              "    </tr>\n",
              "    <tr>\n",
              "      <th>Bowl 2</th>\n",
              "      <td>0.4</td>\n",
              "    </tr>\n",
              "  </tbody>\n",
              "</table>\n",
              "</div>"
            ]
          },
          "metadata": {},
          "execution_count": 16
        }
      ],
      "source": [
        "posterior"
      ]
    },
    {
      "cell_type": "markdown",
      "metadata": {
        "id": "fQVphwi_7AmR"
      },
      "source": [
        "From the posterior distribution we can select the posterior probability for Bowl 1:"
      ]
    },
    {
      "cell_type": "code",
      "execution_count": 17,
      "metadata": {
        "execution": {
          "iopub.execute_input": "2021-04-16T19:35:13.178618Z",
          "iopub.status.busy": "2021-04-16T19:35:13.177927Z",
          "iopub.status.idle": "2021-04-16T19:35:13.180255Z",
          "shell.execute_reply": "2021-04-16T19:35:13.180610Z"
        },
        "id": "0VKyYYTC7AmR",
        "outputId": "8484d163-716f-435b-f1cd-6ad0423554f2",
        "colab": {
          "base_uri": "https://localhost:8080/"
        }
      },
      "outputs": [
        {
          "output_type": "execute_result",
          "data": {
            "text/plain": [
              "0.6"
            ]
          },
          "metadata": {},
          "execution_count": 17
        }
      ],
      "source": [
        "posterior('Bowl 1')"
      ]
    },
    {
      "cell_type": "markdown",
      "metadata": {
        "id": "oZUyiVGZ7AmR"
      },
      "source": [
        "And the answer is 0.6.\n",
        "\n",
        "One benefit of using `Pmf` objects is that it is easy to do successive updates with more data.\n",
        "For example, suppose you put the first cookie back (so the contents of the bowls don't change) and draw again from the same bowl.\n",
        "If the second cookie is also vanilla, we can do a second update like this:"
      ]
    },
    {
      "cell_type": "code",
      "execution_count": 18,
      "metadata": {
        "execution": {
          "iopub.execute_input": "2021-04-16T19:35:13.187902Z",
          "iopub.status.busy": "2021-04-16T19:35:13.187276Z",
          "iopub.status.idle": "2021-04-16T19:35:13.189938Z",
          "shell.execute_reply": "2021-04-16T19:35:13.190290Z"
        },
        "id": "NHQF1m2t7AmR",
        "outputId": "9f9beb89-b3aa-490d-c35d-0f71ca649100",
        "colab": {
          "base_uri": "https://localhost:8080/",
          "height": 112
        }
      },
      "outputs": [
        {
          "output_type": "execute_result",
          "data": {
            "text/plain": [
              "Bowl 1    0.692308\n",
              "Bowl 2    0.307692\n",
              "Name: , dtype: float64"
            ],
            "text/html": [
              "<div>\n",
              "<style scoped>\n",
              "    .dataframe tbody tr th:only-of-type {\n",
              "        vertical-align: middle;\n",
              "    }\n",
              "\n",
              "    .dataframe tbody tr th {\n",
              "        vertical-align: top;\n",
              "    }\n",
              "\n",
              "    .dataframe thead th {\n",
              "        text-align: right;\n",
              "    }\n",
              "</style>\n",
              "<table border=\"1\" class=\"dataframe\">\n",
              "  <thead>\n",
              "    <tr style=\"text-align: right;\">\n",
              "      <th></th>\n",
              "      <th>probs</th>\n",
              "    </tr>\n",
              "  </thead>\n",
              "  <tbody>\n",
              "    <tr>\n",
              "      <th>Bowl 1</th>\n",
              "      <td>0.692308</td>\n",
              "    </tr>\n",
              "    <tr>\n",
              "      <th>Bowl 2</th>\n",
              "      <td>0.307692</td>\n",
              "    </tr>\n",
              "  </tbody>\n",
              "</table>\n",
              "</div>"
            ]
          },
          "metadata": {},
          "execution_count": 18
        }
      ],
      "source": [
        "posterior *= likelihood_vanilla\n",
        "posterior.normalize()\n",
        "posterior"
      ]
    },
    {
      "cell_type": "markdown",
      "metadata": {
        "id": "KIA1Lbo97AmR"
      },
      "source": [
        "Now the posterior probability for Bowl 1 is almost 70%.\n",
        "But suppose we do the same thing again and get a chocolate cookie.\n",
        "\n",
        "Here are the likelihoods for the new data:"
      ]
    },
    {
      "cell_type": "code",
      "execution_count": 19,
      "metadata": {
        "execution": {
          "iopub.execute_input": "2021-04-16T19:35:13.193226Z",
          "iopub.status.busy": "2021-04-16T19:35:13.192782Z",
          "iopub.status.idle": "2021-04-16T19:35:13.194564Z",
          "shell.execute_reply": "2021-04-16T19:35:13.194987Z"
        },
        "id": "qhNBtFhM7AmS"
      },
      "outputs": [],
      "source": [
        "likelihood_chocolate = [0.25, 0.5]"
      ]
    },
    {
      "cell_type": "markdown",
      "metadata": {
        "id": "A5jz4mEM7AmS"
      },
      "source": [
        "And here's the update."
      ]
    },
    {
      "cell_type": "code",
      "execution_count": 20,
      "metadata": {
        "execution": {
          "iopub.execute_input": "2021-04-16T19:35:13.202639Z",
          "iopub.status.busy": "2021-04-16T19:35:13.202008Z",
          "iopub.status.idle": "2021-04-16T19:35:13.204858Z",
          "shell.execute_reply": "2021-04-16T19:35:13.205318Z"
        },
        "id": "EC9fpL_Q7AmS",
        "outputId": "4d44406c-26c2-4882-f2fc-bfd45d94ebdf",
        "colab": {
          "base_uri": "https://localhost:8080/",
          "height": 112
        }
      },
      "outputs": [
        {
          "output_type": "execute_result",
          "data": {
            "text/plain": [
              "Bowl 1    0.529412\n",
              "Bowl 2    0.470588\n",
              "Name: , dtype: float64"
            ],
            "text/html": [
              "<div>\n",
              "<style scoped>\n",
              "    .dataframe tbody tr th:only-of-type {\n",
              "        vertical-align: middle;\n",
              "    }\n",
              "\n",
              "    .dataframe tbody tr th {\n",
              "        vertical-align: top;\n",
              "    }\n",
              "\n",
              "    .dataframe thead th {\n",
              "        text-align: right;\n",
              "    }\n",
              "</style>\n",
              "<table border=\"1\" class=\"dataframe\">\n",
              "  <thead>\n",
              "    <tr style=\"text-align: right;\">\n",
              "      <th></th>\n",
              "      <th>probs</th>\n",
              "    </tr>\n",
              "  </thead>\n",
              "  <tbody>\n",
              "    <tr>\n",
              "      <th>Bowl 1</th>\n",
              "      <td>0.529412</td>\n",
              "    </tr>\n",
              "    <tr>\n",
              "      <th>Bowl 2</th>\n",
              "      <td>0.470588</td>\n",
              "    </tr>\n",
              "  </tbody>\n",
              "</table>\n",
              "</div>"
            ]
          },
          "metadata": {},
          "execution_count": 20
        }
      ],
      "source": [
        "posterior *= likelihood_chocolate\n",
        "posterior.normalize()\n",
        "posterior"
      ]
    },
    {
      "cell_type": "markdown",
      "metadata": {
        "id": "S3ssSQ9u7AmS"
      },
      "source": [
        "Now the posterior probability for Bowl 1 is about 53%.\n",
        "After two vanilla cookies and one chocolate, the posterior probabilities are close to 50/50."
      ]
    },
    {
      "cell_type": "markdown",
      "metadata": {
        "id": "Su-sqov87AmS"
      },
      "source": [
        "## 101 Bowls\n",
        "\n",
        "Next let's solve a cookie problem with 101 bowls:\n",
        "\n",
        "* Bowl 0 contains 0% vanilla cookies,\n",
        "\n",
        "* Bowl 1 contains 1% vanilla cookies,\n",
        "\n",
        "* Bowl 2 contains 2% vanilla cookies,\n",
        "\n",
        "and so on, up to\n",
        "\n",
        "* Bowl 99 contains 99% vanilla cookies, and\n",
        "\n",
        "* Bowl 100 contains all vanilla cookies.\n",
        "\n",
        "As in the previous version, there are only two kinds of cookies, vanilla and chocolate.  So Bowl 0 is all chocolate cookies, Bowl 1 is 99% chocolate, and so on.\n",
        "\n",
        "Suppose we choose a bowl at random, choose a cookie at random, and it turns out to be vanilla.  What is the probability that the cookie came from Bowl $x$, for each value of $x$?\n",
        "\n",
        "To solve this problem, I'll use `np.arange` to make an array that represents 101 hypotheses, numbered from 0 to 100."
      ]
    },
    {
      "cell_type": "code",
      "execution_count": 21,
      "metadata": {
        "execution": {
          "iopub.execute_input": "2021-04-16T19:35:13.209286Z",
          "iopub.status.busy": "2021-04-16T19:35:13.208453Z",
          "iopub.status.idle": "2021-04-16T19:35:13.210850Z",
          "shell.execute_reply": "2021-04-16T19:35:13.211365Z"
        },
        "id": "kTXyIpfc7AmS"
      },
      "outputs": [],
      "source": [
        "import numpy as np\n",
        "\n",
        "hypos = np.arange(101)"
      ]
    },
    {
      "cell_type": "markdown",
      "metadata": {
        "id": "p7NVWhsN7AmS"
      },
      "source": [
        "We can use this array to make the prior distribution:"
      ]
    },
    {
      "cell_type": "code",
      "execution_count": 22,
      "metadata": {
        "execution": {
          "iopub.execute_input": "2021-04-16T19:35:13.217907Z",
          "iopub.status.busy": "2021-04-16T19:35:13.217166Z",
          "iopub.status.idle": "2021-04-16T19:35:13.220630Z",
          "shell.execute_reply": "2021-04-16T19:35:13.219991Z"
        },
        "id": "6p6xDO0X7AmS",
        "outputId": "6c8a263a-4ef0-43df-a462-730d0a317616",
        "colab": {
          "base_uri": "https://localhost:8080/"
        }
      },
      "outputs": [
        {
          "output_type": "execute_result",
          "data": {
            "text/plain": [
              "101"
            ]
          },
          "metadata": {},
          "execution_count": 22
        }
      ],
      "source": [
        "prior = Pmf(1, hypos)\n",
        "prior.normalize()"
      ]
    },
    {
      "cell_type": "markdown",
      "metadata": {
        "id": "nVHBA6Vi7AmT"
      },
      "source": [
        "As this example shows, we can initialize a `Pmf` with two parameters.\n",
        "The first parameter is the prior probability; the second parameter is a sequence of quantities.\n",
        "\n",
        "In this example, the probabilities are all the same, so we only have to provide one of them; it gets \"broadcast\" across the hypotheses.\n",
        "Since all hypotheses have the same prior probability, this distribution is **uniform**.\n",
        "\n",
        "Here are the first few hypotheses and their probabilities."
      ]
    },
    {
      "cell_type": "code",
      "execution_count": 23,
      "metadata": {
        "execution": {
          "iopub.execute_input": "2021-04-16T19:35:13.228558Z",
          "iopub.status.busy": "2021-04-16T19:35:13.227628Z",
          "iopub.status.idle": "2021-04-16T19:35:13.232003Z",
          "shell.execute_reply": "2021-04-16T19:35:13.231443Z"
        },
        "id": "cGQJcR1E7AmT",
        "outputId": "41f02ebd-cf83-4ff1-adc8-01b9fee83304",
        "colab": {
          "base_uri": "https://localhost:8080/",
          "height": 143
        }
      },
      "outputs": [
        {
          "output_type": "execute_result",
          "data": {
            "text/plain": [
              "0    0.009901\n",
              "1    0.009901\n",
              "2    0.009901\n",
              "Name: , dtype: float64"
            ],
            "text/html": [
              "<div>\n",
              "<style scoped>\n",
              "    .dataframe tbody tr th:only-of-type {\n",
              "        vertical-align: middle;\n",
              "    }\n",
              "\n",
              "    .dataframe tbody tr th {\n",
              "        vertical-align: top;\n",
              "    }\n",
              "\n",
              "    .dataframe thead th {\n",
              "        text-align: right;\n",
              "    }\n",
              "</style>\n",
              "<table border=\"1\" class=\"dataframe\">\n",
              "  <thead>\n",
              "    <tr style=\"text-align: right;\">\n",
              "      <th></th>\n",
              "      <th>probs</th>\n",
              "    </tr>\n",
              "  </thead>\n",
              "  <tbody>\n",
              "    <tr>\n",
              "      <th>0</th>\n",
              "      <td>0.009901</td>\n",
              "    </tr>\n",
              "    <tr>\n",
              "      <th>1</th>\n",
              "      <td>0.009901</td>\n",
              "    </tr>\n",
              "    <tr>\n",
              "      <th>2</th>\n",
              "      <td>0.009901</td>\n",
              "    </tr>\n",
              "  </tbody>\n",
              "</table>\n",
              "</div>"
            ]
          },
          "metadata": {},
          "execution_count": 23
        }
      ],
      "source": [
        "prior.head()"
      ]
    },
    {
      "cell_type": "markdown",
      "metadata": {
        "id": "nuv1U8nz7AmT"
      },
      "source": [
        "The likelihood of the data is the fraction of vanilla cookies in each bowl, which we can calculate using `hypos`:"
      ]
    },
    {
      "cell_type": "code",
      "execution_count": 24,
      "metadata": {
        "execution": {
          "iopub.execute_input": "2021-04-16T19:35:13.237433Z",
          "iopub.status.busy": "2021-04-16T19:35:13.236599Z",
          "iopub.status.idle": "2021-04-16T19:35:13.239986Z",
          "shell.execute_reply": "2021-04-16T19:35:13.240390Z"
        },
        "id": "TdB9nKtj7AmT",
        "outputId": "88895fb4-699f-4b9f-ffe5-bdbf0f4f4b94",
        "colab": {
          "base_uri": "https://localhost:8080/"
        }
      },
      "outputs": [
        {
          "output_type": "execute_result",
          "data": {
            "text/plain": [
              "array([0.  , 0.01, 0.02, 0.03, 0.04])"
            ]
          },
          "metadata": {},
          "execution_count": 24
        }
      ],
      "source": [
        "likelihood_vanilla = hypos/100\n",
        "likelihood_vanilla[:5]"
      ]
    },
    {
      "cell_type": "markdown",
      "metadata": {
        "id": "Ou46L0a67AmU"
      },
      "source": [
        "Now we can compute the posterior distribution in the usual way:\n"
      ]
    },
    {
      "cell_type": "code",
      "execution_count": 25,
      "metadata": {
        "execution": {
          "iopub.execute_input": "2021-04-16T19:35:13.247286Z",
          "iopub.status.busy": "2021-04-16T19:35:13.246696Z",
          "iopub.status.idle": "2021-04-16T19:35:13.249668Z",
          "shell.execute_reply": "2021-04-16T19:35:13.249258Z"
        },
        "id": "x_Sr-dSb7AmU",
        "outputId": "f08c8774-d6e2-400b-8254-5263be1cd6fc",
        "colab": {
          "base_uri": "https://localhost:8080/",
          "height": 143
        }
      },
      "outputs": [
        {
          "output_type": "execute_result",
          "data": {
            "text/plain": [
              "0    0.000000\n",
              "1    0.000198\n",
              "2    0.000396\n",
              "Name: , dtype: float64"
            ],
            "text/html": [
              "<div>\n",
              "<style scoped>\n",
              "    .dataframe tbody tr th:only-of-type {\n",
              "        vertical-align: middle;\n",
              "    }\n",
              "\n",
              "    .dataframe tbody tr th {\n",
              "        vertical-align: top;\n",
              "    }\n",
              "\n",
              "    .dataframe thead th {\n",
              "        text-align: right;\n",
              "    }\n",
              "</style>\n",
              "<table border=\"1\" class=\"dataframe\">\n",
              "  <thead>\n",
              "    <tr style=\"text-align: right;\">\n",
              "      <th></th>\n",
              "      <th>probs</th>\n",
              "    </tr>\n",
              "  </thead>\n",
              "  <tbody>\n",
              "    <tr>\n",
              "      <th>0</th>\n",
              "      <td>0.000000</td>\n",
              "    </tr>\n",
              "    <tr>\n",
              "      <th>1</th>\n",
              "      <td>0.000198</td>\n",
              "    </tr>\n",
              "    <tr>\n",
              "      <th>2</th>\n",
              "      <td>0.000396</td>\n",
              "    </tr>\n",
              "  </tbody>\n",
              "</table>\n",
              "</div>"
            ]
          },
          "metadata": {},
          "execution_count": 25
        }
      ],
      "source": [
        "posterior1 = prior * likelihood_vanilla\n",
        "posterior1.normalize()\n",
        "posterior1.head()"
      ]
    },
    {
      "cell_type": "markdown",
      "metadata": {
        "id": "GXUtkdPH7AmU"
      },
      "source": [
        "The following figure shows the prior distribution and the posterior distribution after one vanilla cookie."
      ]
    },
    {
      "cell_type": "code",
      "execution_count": 26,
      "metadata": {
        "execution": {
          "iopub.execute_input": "2021-04-16T19:35:13.253344Z",
          "iopub.status.busy": "2021-04-16T19:35:13.252850Z",
          "iopub.status.idle": "2021-04-16T19:35:13.254442Z",
          "shell.execute_reply": "2021-04-16T19:35:13.254791Z"
        },
        "tags": [],
        "id": "9g9s2Fl47AmU"
      },
      "outputs": [],
      "source": [
        "from utils import decorate\n",
        "\n",
        "def decorate_bowls(title):\n",
        "    decorate(xlabel='Bowl #',\n",
        "             ylabel='PMF',\n",
        "             title=title)"
      ]
    },
    {
      "cell_type": "code",
      "execution_count": 27,
      "metadata": {
        "execution": {
          "iopub.execute_input": "2021-04-16T19:35:13.258248Z",
          "iopub.status.busy": "2021-04-16T19:35:13.257658Z",
          "iopub.status.idle": "2021-04-16T19:35:13.489195Z",
          "shell.execute_reply": "2021-04-16T19:35:13.488684Z"
        },
        "tags": [],
        "id": "apTJDOvg7AmU",
        "outputId": "9df79e1c-3251-4d4e-e159-500282ee60a7",
        "colab": {
          "base_uri": "https://localhost:8080/",
          "height": 297
        }
      },
      "outputs": [
        {
          "output_type": "display_data",
          "data": {
            "text/plain": [
              "<Figure size 432x288 with 1 Axes>"
            ],
            "image/png": "[encoded data removed]"
          },
          "metadata": {
            "needs_background": "light"
          }
        }
      ],
      "source": [
        "prior.plot(label='prior', color='C5')\n",
        "posterior1.plot(label='posterior', color='C4')\n",
        "decorate_bowls('Posterior after one vanilla cookie')"
      ]
    },
    {
      "cell_type": "markdown",
      "metadata": {
        "id": "wCP2CSC57AmU"
      },
      "source": [
        "The posterior probability of Bowl 0 is 0 because it contains no vanilla cookies.\n",
        "The posterior probability of Bowl 100 is the highest because it contains the most vanilla cookies.\n",
        "In between, the shape of the posterior distribution is a line because the likelihoods are proportional to the bowl numbers.\n",
        "\n",
        "Now suppose we put the cookie back, draw again from the same bowl, and get another vanilla cookie.\n",
        "Here's the update after the second cookie:"
      ]
    },
    {
      "cell_type": "code",
      "execution_count": 28,
      "metadata": {
        "execution": {
          "iopub.execute_input": "2021-04-16T19:35:13.493905Z",
          "iopub.status.busy": "2021-04-16T19:35:13.493399Z",
          "iopub.status.idle": "2021-04-16T19:35:13.497012Z",
          "shell.execute_reply": "2021-04-16T19:35:13.497425Z"
        },
        "tags": [],
        "id": "Y6_-K8rW7AmV",
        "outputId": "78541b17-c811-4481-c2d7-7d9a81b6cc37",
        "colab": {
          "base_uri": "https://localhost:8080/"
        }
      },
      "outputs": [
        {
          "output_type": "execute_result",
          "data": {
            "text/plain": [
              "0.6699999999999999"
            ]
          },
          "metadata": {},
          "execution_count": 28
        }
      ],
      "source": [
        "posterior2 = posterior1 * likelihood_vanilla\n",
        "posterior2.normalize()"
      ]
    },
    {
      "cell_type": "markdown",
      "metadata": {
        "id": "eeR0IexG7AmV"
      },
      "source": [
        "And here's what the posterior distribution looks like."
      ]
    },
    {
      "cell_type": "code",
      "execution_count": 29,
      "metadata": {
        "execution": {
          "iopub.execute_input": "2021-04-16T19:35:13.520648Z",
          "iopub.status.busy": "2021-04-16T19:35:13.513566Z",
          "iopub.status.idle": "2021-04-16T19:35:13.640728Z",
          "shell.execute_reply": "2021-04-16T19:35:13.640354Z"
        },
        "tags": [],
        "id": "pApxwMAo7AmV",
        "outputId": "0b9f8b8b-3244-41de-d8a9-fb175b0c6c46",
        "colab": {
          "base_uri": "https://localhost:8080/",
          "height": 297
        }
      },
      "outputs": [
        {
          "output_type": "display_data",
          "data": {
            "text/plain": [
              "<Figure size 432x288 with 1 Axes>"
            ],
            "image/png": "[encoded data removed]"
          },
          "metadata": {
            "needs_background": "light"
          }
        }
      ],
      "source": [
        "posterior2.plot(label='posterior', color='C4')\n",
        "decorate_bowls('Posterior after two vanilla cookies')"
      ]
    },
    {
      "cell_type": "markdown",
      "metadata": {
        "id": "LyAfBXr07AmV"
      },
      "source": [
        "After two vanilla cookies, the high-numbered bowls have the highest posterior probabilities because they contain the most vanilla cookies; the low-numbered bowls have the lowest probabilities.\n",
        "\n",
        "But suppose we draw again and get a chocolate cookie.\n",
        "Here's the update:"
      ]
    },
    {
      "cell_type": "code",
      "execution_count": 30,
      "metadata": {
        "execution": {
          "iopub.execute_input": "2021-04-16T19:35:13.645875Z",
          "iopub.status.busy": "2021-04-16T19:35:13.645126Z",
          "iopub.status.idle": "2021-04-16T19:35:13.650340Z",
          "shell.execute_reply": "2021-04-16T19:35:13.649962Z"
        },
        "tags": [],
        "id": "vVco7XCX7AmV",
        "outputId": "06403c21-f08f-4d29-9223-2be3ab5d49e1",
        "colab": {
          "base_uri": "https://localhost:8080/"
        }
      },
      "outputs": [
        {
          "output_type": "execute_result",
          "data": {
            "text/plain": [
              "0.2462686567164179"
            ]
          },
          "metadata": {},
          "execution_count": 30
        }
      ],
      "source": [
        "likelihood_chocolate = 1 - hypos/100\n",
        "\n",
        "posterior3 = posterior2 * likelihood_chocolate\n",
        "posterior3.normalize()"
      ]
    },
    {
      "cell_type": "markdown",
      "metadata": {
        "id": "e7TMkKOF7AmV"
      },
      "source": [
        "And here's the posterior distribution."
      ]
    },
    {
      "cell_type": "code",
      "execution_count": 31,
      "metadata": {
        "execution": {
          "iopub.execute_input": "2021-04-16T19:35:13.684232Z",
          "iopub.status.busy": "2021-04-16T19:35:13.671117Z",
          "iopub.status.idle": "2021-04-16T19:35:13.798448Z",
          "shell.execute_reply": "2021-04-16T19:35:13.797816Z"
        },
        "tags": [],
        "id": "w4gtn81Y7AmV",
        "outputId": "4cb2ad42-a89a-4902-a253-cc27dd41f692",
        "colab": {
          "base_uri": "https://localhost:8080/",
          "height": 297
        }
      },
      "outputs": [
        {
          "output_type": "display_data",
          "data": {
            "text/plain": [
              "<Figure size 432x288 with 1 Axes>"
            ],
            "image/png": "[encoded data removed]"
          },
          "metadata": {
            "needs_background": "light"
          }
        }
      ],
      "source": [
        "posterior3.plot(label='posterior', color='C4')\n",
        "decorate_bowls('Posterior after 2 vanilla, 1 chocolate')"
      ]
    },
    {
      "cell_type": "markdown",
      "metadata": {
        "id": "OtMcnTux7AmV"
      },
      "source": [
        "Now Bowl 100 has been eliminated because it contains no chocolate cookies.\n",
        "But the high-numbered bowls are still more likely than the low-numbered bowls, because we have seen more vanilla cookies than chocolate.\n",
        "\n",
        "In fact, the peak of the posterior distribution is at Bowl 67, which corresponds to the fraction of vanilla cookies in the data we've observed, $2/3$.\n",
        "\n",
        "The quantity with the highest posterior probability is called the **MAP**, which stands for \"maximum a posteriori probability\", where \"a posteriori\" is unnecessary Latin for \"posterior\".\n",
        "\n",
        "To compute the MAP, we can use the `Series` method `idxmax`:"
      ]
    },
    {
      "cell_type": "code",
      "execution_count": 32,
      "metadata": {
        "execution": {
          "iopub.execute_input": "2021-04-16T19:35:13.802724Z",
          "iopub.status.busy": "2021-04-16T19:35:13.802249Z",
          "iopub.status.idle": "2021-04-16T19:35:13.806979Z",
          "shell.execute_reply": "2021-04-16T19:35:13.806610Z"
        },
        "id": "wuR94dMp7AmW",
        "outputId": "76371b66-2f97-42a3-bab3-9f3064af984d",
        "colab": {
          "base_uri": "https://localhost:8080/"
        }
      },
      "outputs": [
        {
          "output_type": "execute_result",
          "data": {
            "text/plain": [
              "67"
            ]
          },
          "metadata": {},
          "execution_count": 32
        }
      ],
      "source": [
        "posterior3.idxmax()"
      ]
    },
    {
      "cell_type": "markdown",
      "metadata": {
        "id": "3tIVNVt77AmW"
      },
      "source": [
        "Or `Pmf` provides a more memorable name for the same thing:"
      ]
    },
    {
      "cell_type": "code",
      "execution_count": 33,
      "metadata": {
        "execution": {
          "iopub.execute_input": "2021-04-16T19:35:13.811076Z",
          "iopub.status.busy": "2021-04-16T19:35:13.810496Z",
          "iopub.status.idle": "2021-04-16T19:35:13.815123Z",
          "shell.execute_reply": "2021-04-16T19:35:13.815492Z"
        },
        "id": "7AH5wJrH7AmW",
        "outputId": "45e9985c-1835-4ae9-92d1-67cbfbc1e43a",
        "colab": {
          "base_uri": "https://localhost:8080/"
        }
      },
      "outputs": [
        {
          "output_type": "execute_result",
          "data": {
            "text/plain": [
              "67"
            ]
          },
          "metadata": {},
          "execution_count": 33
        }
      ],
      "source": [
        "posterior3.max_prob()"
      ]
    },
    {
      "cell_type": "markdown",
      "metadata": {
        "id": "GBX4-6ck7AmW"
      },
      "source": [
        "As you might suspect, this example isn't really about bowls; it's about estimating proportions.\n",
        "Imagine that you have one bowl of cookies.\n",
        "You don't know what fraction of cookies are vanilla, but you think it is equally likely to be any fraction from 0 to 1.\n",
        "If you draw three cookies and two are vanilla, what proportion of cookies in the bowl do you think are vanilla?\n",
        "The posterior distribution we just computed is the answer to that question.\n",
        "\n",
        "We'll come back to estimating proportions in the next chapter.\n",
        "But first let's use a `Pmf` to solve the dice problem."
      ]
    },
    {
      "cell_type": "markdown",
      "metadata": {
        "id": "e1-Zr-Lx7AmW"
      },
      "source": [
        "## The Dice Problem\n",
        "\n",
        "In the previous chapter we solved the dice problem using a Bayes table.\n",
        "Here's the statement of the problem:\n",
        "\n",
        "> Suppose I have a box with a 6-sided die, an 8-sided die, and a 12-sided die.\n",
        "> I choose one of the dice at random, roll it, and report that the outcome is a 1.\n",
        "> What is the probability that I chose the 6-sided die?\n",
        "\n",
        "Let's solve it using a `Pmf`.\n",
        "I'll use integers to represent the hypotheses:"
      ]
    },
    {
      "cell_type": "code",
      "execution_count": 34,
      "metadata": {
        "execution": {
          "iopub.execute_input": "2021-04-16T19:35:13.818821Z",
          "iopub.status.busy": "2021-04-16T19:35:13.818241Z",
          "iopub.status.idle": "2021-04-16T19:35:13.820082Z",
          "shell.execute_reply": "2021-04-16T19:35:13.820472Z"
        },
        "id": "kekIEVZF7AmW"
      },
      "outputs": [],
      "source": [
        "hypos = [6, 8, 12]"
      ]
    },
    {
      "cell_type": "markdown",
      "metadata": {
        "id": "1onMXXiM7AmW"
      },
      "source": [
        "We can make the prior distribution like this:\n"
      ]
    },
    {
      "cell_type": "code",
      "execution_count": 35,
      "metadata": {
        "execution": {
          "iopub.execute_input": "2021-04-16T19:35:13.826805Z",
          "iopub.status.busy": "2021-04-16T19:35:13.826279Z",
          "iopub.status.idle": "2021-04-16T19:35:13.828958Z",
          "shell.execute_reply": "2021-04-16T19:35:13.828592Z"
        },
        "id": "2SXliUGo7AmX",
        "outputId": "4793b108-5ab2-4559-e9be-a00a13b57cde",
        "colab": {
          "base_uri": "https://localhost:8080/",
          "height": 143
        }
      },
      "outputs": [
        {
          "output_type": "execute_result",
          "data": {
            "text/plain": [
              "6     0.333333\n",
              "8     0.333333\n",
              "12    0.333333\n",
              "Name: , dtype: float64"
            ],
            "text/html": [
              "<div>\n",
              "<style scoped>\n",
              "    .dataframe tbody tr th:only-of-type {\n",
              "        vertical-align: middle;\n",
              "    }\n",
              "\n",
              "    .dataframe tbody tr th {\n",
              "        vertical-align: top;\n",
              "    }\n",
              "\n",
              "    .dataframe thead th {\n",
              "        text-align: right;\n",
              "    }\n",
              "</style>\n",
              "<table border=\"1\" class=\"dataframe\">\n",
              "  <thead>\n",
              "    <tr style=\"text-align: right;\">\n",
              "      <th></th>\n",
              "      <th>probs</th>\n",
              "    </tr>\n",
              "  </thead>\n",
              "  <tbody>\n",
              "    <tr>\n",
              "      <th>6</th>\n",
              "      <td>0.333333</td>\n",
              "    </tr>\n",
              "    <tr>\n",
              "      <th>8</th>\n",
              "      <td>0.333333</td>\n",
              "    </tr>\n",
              "    <tr>\n",
              "      <th>12</th>\n",
              "      <td>0.333333</td>\n",
              "    </tr>\n",
              "  </tbody>\n",
              "</table>\n",
              "</div>"
            ]
          },
          "metadata": {},
          "execution_count": 35
        }
      ],
      "source": [
        "prior = Pmf(1/3, hypos)\n",
        "prior"
      ]
    },
    {
      "cell_type": "markdown",
      "metadata": {
        "id": "2de2J5VI7AmX"
      },
      "source": [
        "As in the previous example, the prior probability gets broadcast across the hypotheses.\n",
        "The `Pmf` object has two attributes:\n",
        "\n",
        "* `qs` contains the quantities in the distribution;\n",
        "\n",
        "* `ps` contains the corresponding probabilities."
      ]
    },
    {
      "cell_type": "code",
      "execution_count": 36,
      "metadata": {
        "execution": {
          "iopub.execute_input": "2021-04-16T19:35:13.832345Z",
          "iopub.status.busy": "2021-04-16T19:35:13.831824Z",
          "iopub.status.idle": "2021-04-16T19:35:13.834159Z",
          "shell.execute_reply": "2021-04-16T19:35:13.834524Z"
        },
        "id": "rZ9peY9R7AmX",
        "outputId": "ece74ae8-4292-48f5-d129-0c6cb77a91a1",
        "colab": {
          "base_uri": "https://localhost:8080/"
        }
      },
      "outputs": [
        {
          "output_type": "execute_result",
          "data": {
            "text/plain": [
              "array([ 6,  8, 12])"
            ]
          },
          "metadata": {},
          "execution_count": 36
        }
      ],
      "source": [
        "prior.qs"
      ]
    },
    {
      "cell_type": "code",
      "execution_count": 37,
      "metadata": {
        "execution": {
          "iopub.execute_input": "2021-04-16T19:35:13.838296Z",
          "iopub.status.busy": "2021-04-16T19:35:13.837729Z",
          "iopub.status.idle": "2021-04-16T19:35:13.840670Z",
          "shell.execute_reply": "2021-04-16T19:35:13.840286Z"
        },
        "id": "hRx_hK6E7AmX",
        "outputId": "6b995855-d1fe-4b36-8e84-756921c79d1a",
        "colab": {
          "base_uri": "https://localhost:8080/"
        }
      },
      "outputs": [
        {
          "output_type": "execute_result",
          "data": {
            "text/plain": [
              "array([0.33333333, 0.33333333, 0.33333333])"
            ]
          },
          "metadata": {},
          "execution_count": 37
        }
      ],
      "source": [
        "prior.ps"
      ]
    },
    {
      "cell_type": "markdown",
      "metadata": {
        "id": "W8XJEi9U7AmX"
      },
      "source": [
        "Now we're ready to do the update.\n",
        "Here's the likelihood of the data for each hypothesis."
      ]
    },
    {
      "cell_type": "code",
      "execution_count": 38,
      "metadata": {
        "execution": {
          "iopub.execute_input": "2021-04-16T19:35:13.844228Z",
          "iopub.status.busy": "2021-04-16T19:35:13.843723Z",
          "iopub.status.idle": "2021-04-16T19:35:13.845825Z",
          "shell.execute_reply": "2021-04-16T19:35:13.845372Z"
        },
        "id": "hdcAFkgW7AmY"
      },
      "outputs": [],
      "source": [
        "likelihood1 = 1/6, 1/8, 1/12"
      ]
    },
    {
      "cell_type": "markdown",
      "metadata": {
        "id": "g4Da_AYG7AmY"
      },
      "source": [
        "And here's the update."
      ]
    },
    {
      "cell_type": "code",
      "execution_count": 39,
      "metadata": {
        "execution": {
          "iopub.execute_input": "2021-04-16T19:35:13.852365Z",
          "iopub.status.busy": "2021-04-16T19:35:13.851589Z",
          "iopub.status.idle": "2021-04-16T19:35:13.855212Z",
          "shell.execute_reply": "2021-04-16T19:35:13.854647Z"
        },
        "id": "Iz5JKvhN7AmY",
        "outputId": "ff9a7858-ecc7-4b93-f5fb-d5ea03b76793",
        "colab": {
          "base_uri": "https://localhost:8080/",
          "height": 143
        }
      },
      "outputs": [
        {
          "output_type": "execute_result",
          "data": {
            "text/plain": [
              "6     0.444444\n",
              "8     0.333333\n",
              "12    0.222222\n",
              "Name: , dtype: float64"
            ],
            "text/html": [
              "<div>\n",
              "<style scoped>\n",
              "    .dataframe tbody tr th:only-of-type {\n",
              "        vertical-align: middle;\n",
              "    }\n",
              "\n",
              "    .dataframe tbody tr th {\n",
              "        vertical-align: top;\n",
              "    }\n",
              "\n",
              "    .dataframe thead th {\n",
              "        text-align: right;\n",
              "    }\n",
              "</style>\n",
              "<table border=\"1\" class=\"dataframe\">\n",
              "  <thead>\n",
              "    <tr style=\"text-align: right;\">\n",
              "      <th></th>\n",
              "      <th>probs</th>\n",
              "    </tr>\n",
              "  </thead>\n",
              "  <tbody>\n",
              "    <tr>\n",
              "      <th>6</th>\n",
              "      <td>0.444444</td>\n",
              "    </tr>\n",
              "    <tr>\n",
              "      <th>8</th>\n",
              "      <td>0.333333</td>\n",
              "    </tr>\n",
              "    <tr>\n",
              "      <th>12</th>\n",
              "      <td>0.222222</td>\n",
              "    </tr>\n",
              "  </tbody>\n",
              "</table>\n",
              "</div>"
            ]
          },
          "metadata": {},
          "execution_count": 39
        }
      ],
      "source": [
        "posterior = prior * likelihood1\n",
        "posterior.normalize()\n",
        "posterior"
      ]
    },
    {
      "cell_type": "markdown",
      "metadata": {
        "id": "fqsDe2c37AmY"
      },
      "source": [
        "The posterior probability for the 6-sided die is $4/9$.\n",
        "\n",
        "Now suppose I roll the same die again and get a 7.\n",
        "Here are the likelihoods:"
      ]
    },
    {
      "cell_type": "code",
      "execution_count": 40,
      "metadata": {
        "execution": {
          "iopub.execute_input": "2021-04-16T19:35:13.859245Z",
          "iopub.status.busy": "2021-04-16T19:35:13.858594Z",
          "iopub.status.idle": "2021-04-16T19:35:13.860853Z",
          "shell.execute_reply": "2021-04-16T19:35:13.860402Z"
        },
        "id": "tE4NctnF7AmY"
      },
      "outputs": [],
      "source": [
        "likelihood2 = 0, 1/8, 1/12"
      ]
    },
    {
      "cell_type": "markdown",
      "metadata": {
        "id": "AqrNNA3W7AmY"
      },
      "source": [
        "The likelihood for the 6-sided die is 0 because it is not possible to get a 7 on a 6-sided die.\n",
        "The other two likelihoods are the same as in the previous update.\n",
        "\n",
        "Here's the update:"
      ]
    },
    {
      "cell_type": "code",
      "execution_count": 41,
      "metadata": {
        "execution": {
          "iopub.execute_input": "2021-04-16T19:35:13.867636Z",
          "iopub.status.busy": "2021-04-16T19:35:13.867119Z",
          "iopub.status.idle": "2021-04-16T19:35:13.870075Z",
          "shell.execute_reply": "2021-04-16T19:35:13.869606Z"
        },
        "id": "2n22EgAX7AmY",
        "outputId": "04401063-ff4a-49f8-ec5e-d0622e614218",
        "colab": {
          "base_uri": "https://localhost:8080/",
          "height": 143
        }
      },
      "outputs": [
        {
          "output_type": "execute_result",
          "data": {
            "text/plain": [
              "6     0.000000\n",
              "8     0.692308\n",
              "12    0.307692\n",
              "Name: , dtype: float64"
            ],
            "text/html": [
              "<div>\n",
              "<style scoped>\n",
              "    .dataframe tbody tr th:only-of-type {\n",
              "        vertical-align: middle;\n",
              "    }\n",
              "\n",
              "    .dataframe tbody tr th {\n",
              "        vertical-align: top;\n",
              "    }\n",
              "\n",
              "    .dataframe thead th {\n",
              "        text-align: right;\n",
              "    }\n",
              "</style>\n",
              "<table border=\"1\" class=\"dataframe\">\n",
              "  <thead>\n",
              "    <tr style=\"text-align: right;\">\n",
              "      <th></th>\n",
              "      <th>probs</th>\n",
              "    </tr>\n",
              "  </thead>\n",
              "  <tbody>\n",
              "    <tr>\n",
              "      <th>6</th>\n",
              "      <td>0.000000</td>\n",
              "    </tr>\n",
              "    <tr>\n",
              "      <th>8</th>\n",
              "      <td>0.692308</td>\n",
              "    </tr>\n",
              "    <tr>\n",
              "      <th>12</th>\n",
              "      <td>0.307692</td>\n",
              "    </tr>\n",
              "  </tbody>\n",
              "</table>\n",
              "</div>"
            ]
          },
          "metadata": {},
          "execution_count": 41
        }
      ],
      "source": [
        "posterior *= likelihood2\n",
        "posterior.normalize()\n",
        "posterior"
      ]
    },
    {
      "cell_type": "markdown",
      "metadata": {
        "id": "SvLCkhRq7AmZ"
      },
      "source": [
        "After rolling a 1 and a 7, the posterior probability of the 8-sided die is about 69%."
      ]
    },
    {
      "cell_type": "markdown",
      "metadata": {
        "id": "eiXyo5R17AmZ"
      },
      "source": [
        "## Updating Dice\n",
        "\n",
        "The following function is a more general version of the update in the previous section:"
      ]
    },
    {
      "cell_type": "code",
      "execution_count": 42,
      "metadata": {
        "execution": {
          "iopub.execute_input": "2021-04-16T19:35:13.874004Z",
          "iopub.status.busy": "2021-04-16T19:35:13.873571Z",
          "iopub.status.idle": "2021-04-16T19:35:13.875415Z",
          "shell.execute_reply": "2021-04-16T19:35:13.875784Z"
        },
        "id": "fGivp0VV7AmZ"
      },
      "outputs": [],
      "source": [
        "def update_dice(pmf, data):\n",
        "    \"\"\"Update pmf based on new data.\"\"\"\n",
        "    hypos = pmf.qs\n",
        "    likelihood = 1 / hypos\n",
        "    impossible = (data > hypos)\n",
        "    likelihood[impossible] = 0\n",
        "    pmf *= likelihood\n",
        "    pmf.normalize()"
      ]
    },
    {
      "cell_type": "markdown",
      "metadata": {
        "id": "Ro0GNzqi7AmZ"
      },
      "source": [
        "The first parameter is a `Pmf` that represents the possible dice and their probabilities.\n",
        "The second parameter is the outcome of rolling a die.\n",
        "\n",
        "The first line selects quantities from the `Pmf` which represent the hypotheses.\n",
        "Since the hypotheses are integers, we can use them to compute the likelihoods.\n",
        "In general, if there are `n` sides on the die, the probability of any possible outcome is `1/n`.\n",
        "\n",
        "However, we have to check for impossible outcomes!\n",
        "If the outcome exceeds the hypothetical number of sides on the die, the probability of that outcome is 0.\n",
        "\n",
        "`impossible` is a Boolean `Series` that is `True` for each impossible outcome.\n",
        "I use it as an index into `likelihood` to set the corresponding probabilities to 0.\n",
        "\n",
        "Finally, I multiply `pmf` by the likelihoods and normalize.\n",
        "\n",
        "Here's how we can use this function to compute the updates in the previous section.\n",
        "I start with a fresh copy of the prior distribution:\n"
      ]
    },
    {
      "cell_type": "code",
      "execution_count": 43,
      "metadata": {
        "execution": {
          "iopub.execute_input": "2021-04-16T19:35:13.881390Z",
          "iopub.status.busy": "2021-04-16T19:35:13.880863Z",
          "iopub.status.idle": "2021-04-16T19:35:13.883304Z",
          "shell.execute_reply": "2021-04-16T19:35:13.883671Z"
        },
        "id": "h0II4eHh7AmZ",
        "outputId": "ae9324b3-7354-47e5-9f8b-3c6f898a7f2a",
        "colab": {
          "base_uri": "https://localhost:8080/",
          "height": 143
        }
      },
      "outputs": [
        {
          "output_type": "execute_result",
          "data": {
            "text/plain": [
              "6     0.333333\n",
              "8     0.333333\n",
              "12    0.333333\n",
              "Name: , dtype: float64"
            ],
            "text/html": [
              "<div>\n",
              "<style scoped>\n",
              "    .dataframe tbody tr th:only-of-type {\n",
              "        vertical-align: middle;\n",
              "    }\n",
              "\n",
              "    .dataframe tbody tr th {\n",
              "        vertical-align: top;\n",
              "    }\n",
              "\n",
              "    .dataframe thead th {\n",
              "        text-align: right;\n",
              "    }\n",
              "</style>\n",
              "<table border=\"1\" class=\"dataframe\">\n",
              "  <thead>\n",
              "    <tr style=\"text-align: right;\">\n",
              "      <th></th>\n",
              "      <th>probs</th>\n",
              "    </tr>\n",
              "  </thead>\n",
              "  <tbody>\n",
              "    <tr>\n",
              "      <th>6</th>\n",
              "      <td>0.333333</td>\n",
              "    </tr>\n",
              "    <tr>\n",
              "      <th>8</th>\n",
              "      <td>0.333333</td>\n",
              "    </tr>\n",
              "    <tr>\n",
              "      <th>12</th>\n",
              "      <td>0.333333</td>\n",
              "    </tr>\n",
              "  </tbody>\n",
              "</table>\n",
              "</div>"
            ]
          },
          "metadata": {},
          "execution_count": 43
        }
      ],
      "source": [
        "pmf = prior.copy()\n",
        "pmf"
      ]
    },
    {
      "cell_type": "markdown",
      "metadata": {
        "id": "ovdlXNSX7AmZ"
      },
      "source": [
        "And use `update_dice` to do the updates."
      ]
    },
    {
      "cell_type": "code",
      "execution_count": 44,
      "metadata": {
        "execution": {
          "iopub.execute_input": "2021-04-16T19:35:13.890748Z",
          "iopub.status.busy": "2021-04-16T19:35:13.890070Z",
          "iopub.status.idle": "2021-04-16T19:35:13.893912Z",
          "shell.execute_reply": "2021-04-16T19:35:13.893421Z"
        },
        "id": "zJxFlF147AmZ",
        "outputId": "4ee040ba-abf5-48bb-f9a9-3fe9cf9029fa",
        "colab": {
          "base_uri": "https://localhost:8080/",
          "height": 143
        }
      },
      "outputs": [
        {
          "output_type": "execute_result",
          "data": {
            "text/plain": [
              "6     0.000000\n",
              "8     0.692308\n",
              "12    0.307692\n",
              "Name: , dtype: float64"
            ],
            "text/html": [
              "<div>\n",
              "<style scoped>\n",
              "    .dataframe tbody tr th:only-of-type {\n",
              "        vertical-align: middle;\n",
              "    }\n",
              "\n",
              "    .dataframe tbody tr th {\n",
              "        vertical-align: top;\n",
              "    }\n",
              "\n",
              "    .dataframe thead th {\n",
              "        text-align: right;\n",
              "    }\n",
              "</style>\n",
              "<table border=\"1\" class=\"dataframe\">\n",
              "  <thead>\n",
              "    <tr style=\"text-align: right;\">\n",
              "      <th></th>\n",
              "      <th>probs</th>\n",
              "    </tr>\n",
              "  </thead>\n",
              "  <tbody>\n",
              "    <tr>\n",
              "      <th>6</th>\n",
              "      <td>0.000000</td>\n",
              "    </tr>\n",
              "    <tr>\n",
              "      <th>8</th>\n",
              "      <td>0.692308</td>\n",
              "    </tr>\n",
              "    <tr>\n",
              "      <th>12</th>\n",
              "      <td>0.307692</td>\n",
              "    </tr>\n",
              "  </tbody>\n",
              "</table>\n",
              "</div>"
            ]
          },
          "metadata": {},
          "execution_count": 44
        }
      ],
      "source": [
        "update_dice(pmf, 1)\n",
        "update_dice(pmf, 7)\n",
        "pmf"
      ]
    },
    {
      "cell_type": "markdown",
      "metadata": {
        "id": "SW4XrNf37AmZ"
      },
      "source": [
        "The result is the same.  We will see a version of this function in the next chapter."
      ]
    },
    {
      "cell_type": "markdown",
      "metadata": {
        "id": "cC73kYgn7AmZ"
      },
      "source": [
        "## Summary\n",
        "\n",
        "This chapter introduces the `empiricaldist` module, which provides `Pmf`, which we use to represent a set of hypotheses and their probabilities.\n",
        "\n",
        "`empiricaldist` is based on Pandas; the `Pmf` class inherits from the Pandas `Series` class and provides additional features specific to probability mass functions.\n",
        "We'll use `Pmf` and other classes from `empiricaldist` throughout the book because they simplify the code and make it more readable.\n",
        "But we could do the same things directly with Pandas.\n",
        "\n",
        "We use a `Pmf` to solve the cookie problem and the dice problem, which we saw in the previous chapter.\n",
        "With a `Pmf` it is easy to perform sequential updates with multiple pieces of data.\n",
        "\n",
        "We also solved a more general version of the cookie problem, with 101 bowls rather than two.\n",
        "Then we computed the MAP, which is the quantity with the highest posterior probability.\n",
        "\n",
        "In the next chapter, I'll introduce the Euro problem, and we will use the binomial distribution.\n",
        "And, at last, we will make the leap from using Bayes's Theorem to doing Bayesian statistics.\n",
        "\n",
        "But first you might want to work on the exercises."
      ]
    },
    {
      "cell_type": "markdown",
      "metadata": {
        "id": "IP6pkSZs7Ama"
      },
      "source": [
        "## Exercises"
      ]
    },
    {
      "cell_type": "markdown",
      "metadata": {
        "id": "t8rIsgYx7Ama"
      },
      "source": [
        "**Exercise:** Suppose I have a box with a 6-sided die, an 8-sided die, and a 12-sided die.\n",
        "I choose one of the dice at random, roll it four times, and get 1, 3, 5, and 7.\n",
        "What is the probability that I chose the 8-sided die?\n",
        "\n",
        "You can use the `update_dice` function or do the update yourself."
      ]
    },
    {
      "cell_type": "code",
      "execution_count": 45,
      "metadata": {
        "execution": {
          "iopub.execute_input": "2021-04-16T19:35:13.904691Z",
          "iopub.status.busy": "2021-04-16T19:35:13.904111Z",
          "iopub.status.idle": "2021-04-16T19:35:13.907043Z",
          "shell.execute_reply": "2021-04-16T19:35:13.906676Z"
        },
        "id": "f7a3lVaC7Ama",
        "outputId": "fa179ad8-05c9-4a41-d42f-fbf576adddd3",
        "colab": {
          "base_uri": "https://localhost:8080/",
          "height": 143
        }
      },
      "outputs": [
        {
          "output_type": "execute_result",
          "data": {
            "text/plain": [
              "6     0.000000\n",
              "8     0.835052\n",
              "12    0.164948\n",
              "Name: , dtype: float64"
            ],
            "text/html": [
              "<div>\n",
              "<style scoped>\n",
              "    .dataframe tbody tr th:only-of-type {\n",
              "        vertical-align: middle;\n",
              "    }\n",
              "\n",
              "    .dataframe tbody tr th {\n",
              "        vertical-align: top;\n",
              "    }\n",
              "\n",
              "    .dataframe thead th {\n",
              "        text-align: right;\n",
              "    }\n",
              "</style>\n",
              "<table border=\"1\" class=\"dataframe\">\n",
              "  <thead>\n",
              "    <tr style=\"text-align: right;\">\n",
              "      <th></th>\n",
              "      <th>probs</th>\n",
              "    </tr>\n",
              "  </thead>\n",
              "  <tbody>\n",
              "    <tr>\n",
              "      <th>6</th>\n",
              "      <td>0.000000</td>\n",
              "    </tr>\n",
              "    <tr>\n",
              "      <th>8</th>\n",
              "      <td>0.835052</td>\n",
              "    </tr>\n",
              "    <tr>\n",
              "      <th>12</th>\n",
              "      <td>0.164948</td>\n",
              "    </tr>\n",
              "  </tbody>\n",
              "</table>\n",
              "</div>"
            ]
          },
          "metadata": {},
          "execution_count": 45
        }
      ],
      "source": [
        "# Solution goes here\n",
        "\n",
        "\n",
        "pmf = prior.copy()\n",
        "for data in [1, 3, 5, 7]:\n",
        "    update_dice(pmf, data)\n",
        "    \n",
        "pmf"
      ]
    },
    {
      "cell_type": "markdown",
      "metadata": {
        "id": "lUtPX3U47Ama"
      },
      "source": [
        "**Exercise:** In the previous version of the dice problem, the prior probabilities are the same because the box contains one of each die.\n",
        "But suppose the box contains 1 die that is 4-sided, 2 dice that are 6-sided, 3 dice that are 8-sided, 4 dice that are 12-sided, and 5 dice that are 20-sided.\n",
        "I choose a die, roll it, and get a 7.\n",
        "What is the probability that I chose an 8-sided die?\n",
        "\n",
        "Hint: To make the prior distribution, call `Pmf` with two parameters."
      ]
    },
    {
      "cell_type": "code",
      "execution_count": 46,
      "metadata": {
        "execution": {
          "iopub.execute_input": "2021-04-16T19:35:13.914938Z",
          "iopub.status.busy": "2021-04-16T19:35:13.914323Z",
          "iopub.status.idle": "2021-04-16T19:35:13.916995Z",
          "shell.execute_reply": "2021-04-16T19:35:13.917367Z"
        },
        "id": "gjMDGTRE7Ama",
        "outputId": "ce6d3241-ec5a-40af-e67c-2f6e947a548f",
        "colab": {
          "base_uri": "https://localhost:8080/",
          "height": 206
        }
      },
      "outputs": [
        {
          "output_type": "execute_result",
          "data": {
            "text/plain": [
              "4     0.000000\n",
              "6     0.000000\n",
              "8     0.391304\n",
              "12    0.347826\n",
              "20    0.260870\n",
              "Name: , dtype: float64"
            ],
            "text/html": [
              "<div>\n",
              "<style scoped>\n",
              "    .dataframe tbody tr th:only-of-type {\n",
              "        vertical-align: middle;\n",
              "    }\n",
              "\n",
              "    .dataframe tbody tr th {\n",
              "        vertical-align: top;\n",
              "    }\n",
              "\n",
              "    .dataframe thead th {\n",
              "        text-align: right;\n",
              "    }\n",
              "</style>\n",
              "<table border=\"1\" class=\"dataframe\">\n",
              "  <thead>\n",
              "    <tr style=\"text-align: right;\">\n",
              "      <th></th>\n",
              "      <th>probs</th>\n",
              "    </tr>\n",
              "  </thead>\n",
              "  <tbody>\n",
              "    <tr>\n",
              "      <th>4</th>\n",
              "      <td>0.000000</td>\n",
              "    </tr>\n",
              "    <tr>\n",
              "      <th>6</th>\n",
              "      <td>0.000000</td>\n",
              "    </tr>\n",
              "    <tr>\n",
              "      <th>8</th>\n",
              "      <td>0.391304</td>\n",
              "    </tr>\n",
              "    <tr>\n",
              "      <th>12</th>\n",
              "      <td>0.347826</td>\n",
              "    </tr>\n",
              "    <tr>\n",
              "      <th>20</th>\n",
              "      <td>0.260870</td>\n",
              "    </tr>\n",
              "  </tbody>\n",
              "</table>\n",
              "</div>"
            ]
          },
          "metadata": {},
          "execution_count": 46
        }
      ],
      "source": [
        "# Solution goes here\n",
        "\n",
        "# Notice that I don't bother to normalize the prior.\n",
        "# The `Pmf` gets normalized during the update, so we\n",
        "# don't have to normalize it before.\n",
        "\n",
        "ps = [1,2,3,4,5]\n",
        "qs = [4,6,8,12,20]\n",
        "pmf = Pmf(ps, qs)\n",
        "update_dice(pmf, 7)\n",
        "pmf"
      ]
    },
    {
      "cell_type": "markdown",
      "metadata": {
        "id": "JrrJcAya7Ama"
      },
      "source": [
        "**Exercise:** Suppose I have two sock drawers.\n",
        "One contains equal numbers of black and white socks.\n",
        "The other contains equal numbers of red, green, and blue socks.\n",
        "Suppose I choose a drawer at random, choose two socks at random, and I tell you that I got a matching pair.\n",
        "What is the probability that the socks are white?\n",
        "\n",
        "For simplicity, let's assume that there are so many socks in both drawers that removing one sock makes a negligible change to the proportions."
      ]
    },
    {
      "cell_type": "code",
      "execution_count": 47,
      "metadata": {
        "execution": {
          "iopub.execute_input": "2021-04-16T19:35:13.925514Z",
          "iopub.status.busy": "2021-04-16T19:35:13.924848Z",
          "iopub.status.idle": "2021-04-16T19:35:13.927865Z",
          "shell.execute_reply": "2021-04-16T19:35:13.927501Z"
        },
        "id": "vUpTlYgT7Ama",
        "outputId": "0220d5a2-027f-4e3a-decb-dde5c4259e5a",
        "colab": {
          "base_uri": "https://localhost:8080/",
          "height": 112
        }
      },
      "outputs": [
        {
          "output_type": "execute_result",
          "data": {
            "text/plain": [
              "BlackWhite      0.6\n",
              "RedGreenBlue    0.4\n",
              "Name: , dtype: float64"
            ],
            "text/html": [
              "<div>\n",
              "<style scoped>\n",
              "    .dataframe tbody tr th:only-of-type {\n",
              "        vertical-align: middle;\n",
              "    }\n",
              "\n",
              "    .dataframe tbody tr th {\n",
              "        vertical-align: top;\n",
              "    }\n",
              "\n",
              "    .dataframe thead th {\n",
              "        text-align: right;\n",
              "    }\n",
              "</style>\n",
              "<table border=\"1\" class=\"dataframe\">\n",
              "  <thead>\n",
              "    <tr style=\"text-align: right;\">\n",
              "      <th></th>\n",
              "      <th>probs</th>\n",
              "    </tr>\n",
              "  </thead>\n",
              "  <tbody>\n",
              "    <tr>\n",
              "      <th>BlackWhite</th>\n",
              "      <td>0.6</td>\n",
              "    </tr>\n",
              "    <tr>\n",
              "      <th>RedGreenBlue</th>\n",
              "      <td>0.4</td>\n",
              "    </tr>\n",
              "  </tbody>\n",
              "</table>\n",
              "</div>"
            ]
          },
          "metadata": {},
          "execution_count": 47
        }
      ],
      "source": [
        "# Solution goes here\n",
        "\n",
        "\n",
        "# In the BlackWhite drawer, the probability of getting a match is 1/2\n",
        "# In the RedGreenBlue drawer, the probability of a match is 1/3\n",
        "\n",
        "hypos = ['BlackWhite', 'RedGreenBlue']\n",
        "prior = Pmf(1/2, hypos)\n",
        "likelihood = 1/2, 1/3\n",
        "posterior = prior * likelihood\n",
        "posterior.normalize()\n",
        "posterior"
      ]
    },
    {
      "cell_type": "code",
      "execution_count": 48,
      "metadata": {
        "execution": {
          "iopub.execute_input": "2021-04-16T19:35:13.931373Z",
          "iopub.status.busy": "2021-04-16T19:35:13.930918Z",
          "iopub.status.idle": "2021-04-16T19:35:13.933340Z",
          "shell.execute_reply": "2021-04-16T19:35:13.933685Z"
        },
        "id": "4NRSvivW7Ama",
        "outputId": "c1da52fe-a026-418b-dedd-7926bddaf679",
        "colab": {
          "base_uri": "https://localhost:8080/"
        }
      },
      "outputs": [
        {
          "output_type": "execute_result",
          "data": {
            "text/plain": [
              "0.30000000000000004"
            ]
          },
          "metadata": {},
          "execution_count": 48
        }
      ],
      "source": [
        "# Solution goes here\n",
        "\n",
        "# If I drew from the BlackWhite drawer, the probability the\n",
        "# socks are white is 1/2\n",
        "\n",
        "posterior['BlackWhite'] / 2"
      ]
    },
    {
      "cell_type": "markdown",
      "metadata": {
        "id": "HDIe2Q6D7Ama"
      },
      "source": [
        "**Exercise:** Here's a problem from [Bayesian Data Analysis](http://www.stat.columbia.edu/~gelman/book/):\n",
        "\n",
        "> Elvis Presley had a twin brother (who died at birth). What is the probability that Elvis was an identical twin?\n",
        "\n",
        "Hint: In 1935, about 2/3 of twins were fraternal and 1/3 were identical."
      ]
    },
    {
      "cell_type": "code",
      "execution_count": 49,
      "metadata": {
        "execution": {
          "iopub.execute_input": "2021-04-16T19:35:13.942870Z",
          "iopub.status.busy": "2021-04-16T19:35:13.942005Z",
          "iopub.status.idle": "2021-04-16T19:35:13.950507Z",
          "shell.execute_reply": "2021-04-16T19:35:13.950906Z"
        },
        "id": "-ZUpwjVf7Amb",
        "outputId": "187c59b6-7246-4bc5-99d7-5ab1ab66c776",
        "colab": {
          "base_uri": "https://localhost:8080/",
          "height": 112
        }
      },
      "outputs": [
        {
          "output_type": "execute_result",
          "data": {
            "text/plain": [
              "              prior  likelihood    unnorm  posterior\n",
              "identical  0.333333         1.0  0.333333        0.5\n",
              "fraternal  0.666667         0.5  0.333333        0.5"
            ],
            "text/html": [
              "\n",
              "  <div id=\"df-65f23f69-f3db-4ca2-a7cc-5414d9b6b0c3\">\n",
              "    <div class=\"colab-df-container\">\n",
              "      <div>\n",
              "<style scoped>\n",
              "    .dataframe tbody tr th:only-of-type {\n",
              "        vertical-align: middle;\n",
              "    }\n",
              "\n",
              "    .dataframe tbody tr th {\n",
              "        vertical-align: top;\n",
              "    }\n",
              "\n",
              "    .dataframe thead th {\n",
              "        text-align: right;\n",
              "    }\n",
              "</style>\n",
              "<table border=\"1\" class=\"dataframe\">\n",
              "  <thead>\n",
              "    <tr style=\"text-align: right;\">\n",
              "      <th></th>\n",
              "      <th>prior</th>\n",
              "      <th>likelihood</th>\n",
              "      <th>unnorm</th>\n",
              "      <th>posterior</th>\n",
              "    </tr>\n",
              "  </thead>\n",
              "  <tbody>\n",
              "    <tr>\n",
              "      <th>identical</th>\n",
              "      <td>0.333333</td>\n",
              "      <td>1.0</td>\n",
              "      <td>0.333333</td>\n",
              "      <td>0.5</td>\n",
              "    </tr>\n",
              "    <tr>\n",
              "      <th>fraternal</th>\n",
              "      <td>0.666667</td>\n",
              "      <td>0.5</td>\n",
              "      <td>0.333333</td>\n",
              "      <td>0.5</td>\n",
              "    </tr>\n",
              "  </tbody>\n",
              "</table>\n",
              "</div>\n",
              "      <button class=\"colab-df-convert\" onclick=\"convertToInteractive('df-65f23f69-f3db-4ca2-a7cc-5414d9b6b0c3')\"\n",
              "              title=\"Convert this dataframe to an interactive table.\"\n",
              "              style=\"display:none;\">\n",
              "        \n",
              "  <svg xmlns=\"http://www.w3.org/2000/svg\" height=\"24px\"viewBox=\"0 0 24 24\"\n",
              "       width=\"24px\">\n",
              "    <path d=\"M0 0h24v24H0V0z\" fill=\"none\"/>\n",
              "    <path d=\"M18.56 5.44l.94 2.06.94-2.06 2.06-.94-2.06-.94-.94-2.06-.94 2.06-2.06.94zm-11 1L8.5 8.5l.94-2.06 2.06-.94-2.06-.94L8.5 2.5l-.94 2.06-2.06.94zm10 10l.94 2.06.94-2.06 2.06-.94-2.06-.94-.94-2.06-.94 2.06-2.06.94z\"/><path d=\"M17.41 7.96l-1.37-1.37c-.4-.4-.92-.59-1.43-.59-.52 0-1.04.2-1.43.59L10.3 9.45l-7.72 7.72c-.78.78-.78 2.05 0 2.83L4 21.41c.39.39.9.59 1.41.59.51 0 1.02-.2 1.41-.59l7.78-7.78 2.81-2.81c.8-.78.8-2.07 0-2.86zM5.41 20L4 18.59l7.72-7.72 1.47 1.35L5.41 20z\"/>\n",
              "  </svg>\n",
              "      </button>\n",
              "      \n",
              "  <style>\n",
              "    .colab-df-container {\n",
              "      display:flex;\n",
              "      flex-wrap:wrap;\n",
              "      gap: 12px;\n",
              "    }\n",
              "\n",
              "    .colab-df-convert {\n",
              "      background-color: #E8F0FE;\n",
              "      border: none;\n",
              "      border-radius: 50%;\n",
              "      cursor: pointer;\n",
              "      display: none;\n",
              "      fill: #1967D2;\n",
              "      height: 32px;\n",
              "      padding: 0 0 0 0;\n",
              "      width: 32px;\n",
              "    }\n",
              "\n",
              "    .colab-df-convert:hover {\n",
              "      background-color: #E2EBFA;\n",
              "      box-shadow: 0px 1px 2px rgba(60, 64, 67, 0.3), 0px 1px 3px 1px rgba(60, 64, 67, 0.15);\n",
              "      fill: #174EA6;\n",
              "    }\n",
              "\n",
              "    [theme=dark] .colab-df-convert {\n",
              "      background-color: #3B4455;\n",
              "      fill: #D2E3FC;\n",
              "    }\n",
              "\n",
              "    [theme=dark] .colab-df-convert:hover {\n",
              "      background-color: #434B5C;\n",
              "      box-shadow: 0px 1px 3px 1px rgba(0, 0, 0, 0.15);\n",
              "      filter: drop-shadow(0px 1px 2px rgba(0, 0, 0, 0.3));\n",
              "      fill: #FFFFFF;\n",
              "    }\n",
              "  </style>\n",
              "\n",
              "      <script>\n",
              "        const buttonEl =\n",
              "          document.querySelector('#df-65f23f69-f3db-4ca2-a7cc-5414d9b6b0c3 button.colab-df-convert');\n",
              "        buttonEl.style.display =\n",
              "          google.colab.kernel.accessAllowed ? 'block' : 'none';\n",
              "\n",
              "        async function convertToInteractive(key) {\n",
              "          const element = document.querySelector('#df-65f23f69-f3db-4ca2-a7cc-5414d9b6b0c3');\n",
              "          const dataTable =\n",
              "            await google.colab.kernel.invokeFunction('convertToInteractive',\n",
              "                                                     [key], {});\n",
              "          if (!dataTable) return;\n",
              "\n",
              "          const docLinkHtml = 'Like what you see? Visit the ' +\n",
              "            '<a target=\"_blank\" href=https://colab.research.google.com/notebooks/data_table.ipynb>data table notebook</a>'\n",
              "            + ' to learn more about interactive tables.';\n",
              "          element.innerHTML = '';\n",
              "          dataTable['output_type'] = 'display_data';\n",
              "          await google.colab.output.renderOutput(dataTable, element);\n",
              "          const docLink = document.createElement('div');\n",
              "          docLink.innerHTML = docLinkHtml;\n",
              "          element.appendChild(docLink);\n",
              "        }\n",
              "      </script>\n",
              "    </div>\n",
              "  </div>\n",
              "  "
            ]
          },
          "metadata": {},
          "execution_count": 49
        }
      ],
      "source": [
        "# Solution goes here\n",
        "\n",
        "\n",
        "# The trick to this question is to notice that Elvis's twin was a brother.\n",
        "# If they were identical twins, it is certain they would be the same sex.\n",
        "# If they were fraternal twins, the likelihood is only 50%.\n",
        "\n",
        "# Here's a solution using a Bayes table\n",
        "\n",
        "import pandas as pd\n",
        "\n",
        "table = pd.DataFrame(index=['identical', 'fraternal'])\n",
        "table['prior'] = 1/3, 2/3\n",
        "table['likelihood'] = 1, 1/2\n",
        "\n",
        "table['unnorm'] = table['prior'] * table['likelihood']\n",
        "prob_data = table['unnorm'].sum()\n",
        "\n",
        "table['posterior'] = table['unnorm'] / prob_data\n",
        "table"
      ]
    },
    {
      "cell_type": "code",
      "execution_count": 50,
      "metadata": {
        "execution": {
          "iopub.execute_input": "2021-04-16T19:35:13.957464Z",
          "iopub.status.busy": "2021-04-16T19:35:13.956748Z",
          "iopub.status.idle": "2021-04-16T19:35:13.959501Z",
          "shell.execute_reply": "2021-04-16T19:35:13.959878Z"
        },
        "id": "ND82fKQc7Amb",
        "outputId": "f62d66c4-8fe7-4639-f8fb-48a30c50a7ca",
        "colab": {
          "base_uri": "https://localhost:8080/",
          "height": 112
        }
      },
      "outputs": [
        {
          "output_type": "execute_result",
          "data": {
            "text/plain": [
              "identical    0.333333\n",
              "fraternal    0.666667\n",
              "Name: , dtype: float64"
            ],
            "text/html": [
              "<div>\n",
              "<style scoped>\n",
              "    .dataframe tbody tr th:only-of-type {\n",
              "        vertical-align: middle;\n",
              "    }\n",
              "\n",
              "    .dataframe tbody tr th {\n",
              "        vertical-align: top;\n",
              "    }\n",
              "\n",
              "    .dataframe thead th {\n",
              "        text-align: right;\n",
              "    }\n",
              "</style>\n",
              "<table border=\"1\" class=\"dataframe\">\n",
              "  <thead>\n",
              "    <tr style=\"text-align: right;\">\n",
              "      <th></th>\n",
              "      <th>probs</th>\n",
              "    </tr>\n",
              "  </thead>\n",
              "  <tbody>\n",
              "    <tr>\n",
              "      <th>identical</th>\n",
              "      <td>0.333333</td>\n",
              "    </tr>\n",
              "    <tr>\n",
              "      <th>fraternal</th>\n",
              "      <td>0.666667</td>\n",
              "    </tr>\n",
              "  </tbody>\n",
              "</table>\n",
              "</div>"
            ]
          },
          "metadata": {},
          "execution_count": 50
        }
      ],
      "source": [
        "# Solution goes here\n",
        "\n",
        "\n",
        "# Here's a solution using a Pmf\n",
        "\n",
        "hypos = ['identical', 'fraternal']\n",
        "prior = Pmf([1/3, 2/3], hypos)\n",
        "prior"
      ]
    },
    {
      "cell_type": "code",
      "execution_count": 51,
      "metadata": {
        "execution": {
          "iopub.execute_input": "2021-04-16T19:35:13.967573Z",
          "iopub.status.busy": "2021-04-16T19:35:13.966835Z",
          "iopub.status.idle": "2021-04-16T19:35:13.970002Z",
          "shell.execute_reply": "2021-04-16T19:35:13.969457Z"
        },
        "id": "F8-xhmeK7Amb",
        "outputId": "308a537a-8003-4069-8046-7bbc9ce1c85f",
        "colab": {
          "base_uri": "https://localhost:8080/",
          "height": 112
        }
      },
      "outputs": [
        {
          "output_type": "execute_result",
          "data": {
            "text/plain": [
              "identical    0.5\n",
              "fraternal    0.5\n",
              "Name: , dtype: float64"
            ],
            "text/html": [
              "<div>\n",
              "<style scoped>\n",
              "    .dataframe tbody tr th:only-of-type {\n",
              "        vertical-align: middle;\n",
              "    }\n",
              "\n",
              "    .dataframe tbody tr th {\n",
              "        vertical-align: top;\n",
              "    }\n",
              "\n",
              "    .dataframe thead th {\n",
              "        text-align: right;\n",
              "    }\n",
              "</style>\n",
              "<table border=\"1\" class=\"dataframe\">\n",
              "  <thead>\n",
              "    <tr style=\"text-align: right;\">\n",
              "      <th></th>\n",
              "      <th>probs</th>\n",
              "    </tr>\n",
              "  </thead>\n",
              "  <tbody>\n",
              "    <tr>\n",
              "      <th>identical</th>\n",
              "      <td>0.5</td>\n",
              "    </tr>\n",
              "    <tr>\n",
              "      <th>fraternal</th>\n",
              "      <td>0.5</td>\n",
              "    </tr>\n",
              "  </tbody>\n",
              "</table>\n",
              "</div>"
            ]
          },
          "metadata": {},
          "execution_count": 51
        }
      ],
      "source": [
        "# Solution goes here\n",
        "\n",
        "\n",
        "likelihood = 1, 1/2\n",
        "posterior = prior * likelihood\n",
        "posterior.normalize()\n",
        "posterior"
      ]
    }
  ],
  "metadata": {
    "celltoolbar": "Tags",
    "kernelspec": {
      "display_name": "Python 3 (ipykernel)",
      "language": "python",
      "name": "python3"
    },
    "language_info": {
      "codemirror_mode": {
        "name": "ipython",
        "version": 3
      },
      "file_extension": ".py",
      "mimetype": "text/x-python",
      "name": "python",
      "nbconvert_exporter": "python",
      "pygments_lexer": "ipython3",
      "version": "3.9.12"
    },
    "colab": {
      "provenance": []
    }
  },
  "nbformat": 4,
  "nbformat_minor": 0
}